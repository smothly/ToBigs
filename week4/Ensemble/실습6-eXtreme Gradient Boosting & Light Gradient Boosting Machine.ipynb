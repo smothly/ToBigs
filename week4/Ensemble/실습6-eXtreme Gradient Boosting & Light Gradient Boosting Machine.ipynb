{
 "cells": [
  {
   "cell_type": "code",
   "execution_count": 1,
   "metadata": {},
   "outputs": [],
   "source": [
    "import warnings\n",
    "warnings.filterwarnings('ignore')\n",
    "import numpy as np\n",
    "import numpy as np\n",
    "import xgboost as xgb"
   ]
  },
  {
   "cell_type": "code",
   "execution_count": 2,
   "metadata": {},
   "outputs": [],
   "source": [
    "X = np.load(\"./tatanic_X_train.npy\")\n",
    "y = np.load(\"./tatanic_y_train.npy\")"
   ]
  },
  {
   "cell_type": "code",
   "execution_count": 3,
   "metadata": {},
   "outputs": [],
   "source": [
    "from sklearn.model_selection import train_test_split"
   ]
  },
  {
   "cell_type": "code",
   "execution_count": 4,
   "metadata": {},
   "outputs": [],
   "source": [
    "X_train, X_test, y_train, y_test = train_test_split(X, y, test_size =0.3)"
   ]
  },
  {
   "cell_type": "code",
   "execution_count": 5,
   "metadata": {},
   "outputs": [],
   "source": [
    "from xgboost import XGBClassifier\n",
    "\n",
    "model = XGBClassifier(n_estimators=1000, max_depth=2, learning_rate=0.5, nthread=7)\n",
    "model.fit(X_train, y_train)\n",
    "y_pred = model.predict(X_test)"
   ]
  },
  {
   "cell_type": "code",
   "execution_count": 6,
   "metadata": {},
   "outputs": [
    {
     "data": {
      "text/plain": [
       "0.8127340823970037"
      ]
     },
     "execution_count": 6,
     "metadata": {},
     "output_type": "execute_result"
    }
   ],
   "source": [
    "from sklearn.metrics import accuracy_score\n",
    "\n",
    "accuracy_score(y_test, y_pred)"
   ]
  },
  {
   "cell_type": "code",
   "execution_count": 7,
   "metadata": {},
   "outputs": [],
   "source": [
    "dtrain = xgb.DMatrix(X_train, label=y_train)\n",
    "dtest = xgb.DMatrix(X_test, label=y_test)"
   ]
  },
  {
   "cell_type": "code",
   "execution_count": 8,
   "metadata": {},
   "outputs": [],
   "source": [
    "param = {'max_depth': 2, 'eta': 0.5, 'silent': 1, 'objective': 'binary:logistic'}\n",
    "param['nthread'] = 7\n",
    "param['eval_metric'] = 'auc'\n",
    "evallist = [(dtest, 'eval'), (dtrain, 'train')]\n",
    "plst = param.items()"
   ]
  },
  {
   "cell_type": "code",
   "execution_count": 9,
   "metadata": {},
   "outputs": [
    {
     "name": "stdout",
     "output_type": "stream",
     "text": [
      "[0]\teval-auc:0.842115\ttrain-auc:0.845553\n",
      "[1]\teval-auc:0.855109\ttrain-auc:0.856217\n",
      "[2]\teval-auc:0.859963\ttrain-auc:0.863565\n",
      "[3]\teval-auc:0.864018\ttrain-auc:0.871598\n",
      "[4]\teval-auc:0.862923\ttrain-auc:0.870196\n",
      "[5]\teval-auc:0.872543\ttrain-auc:0.878065\n",
      "[6]\teval-auc:0.878582\ttrain-auc:0.884701\n",
      "[7]\teval-auc:0.881216\ttrain-auc:0.88881\n",
      "[8]\teval-auc:0.869228\ttrain-auc:0.893391\n",
      "[9]\teval-auc:0.861858\ttrain-auc:0.900532\n",
      "[10]\teval-auc:0.86683\ttrain-auc:0.902471\n",
      "[11]\teval-auc:0.866801\ttrain-auc:0.903118\n",
      "[12]\teval-auc:0.869228\ttrain-auc:0.904077\n",
      "[13]\teval-auc:0.867511\ttrain-auc:0.905989\n",
      "[14]\teval-auc:0.869998\ttrain-auc:0.90937\n",
      "[15]\teval-auc:0.872602\ttrain-auc:0.911327\n",
      "[16]\teval-auc:0.872662\ttrain-auc:0.912417\n",
      "[17]\teval-auc:0.873431\ttrain-auc:0.912801\n",
      "[18]\teval-auc:0.874556\ttrain-auc:0.914039\n",
      "[19]\teval-auc:0.874023\ttrain-auc:0.914823\n",
      "[20]\teval-auc:0.878286\ttrain-auc:0.915393\n",
      "[21]\teval-auc:0.878789\ttrain-auc:0.916801\n",
      "[22]\teval-auc:0.879262\ttrain-auc:0.917458\n",
      "[23]\teval-auc:0.881423\ttrain-auc:0.920565\n",
      "[24]\teval-auc:0.882282\ttrain-auc:0.921256\n",
      "[25]\teval-auc:0.87867\ttrain-auc:0.922604\n",
      "[26]\teval-auc:0.876954\ttrain-auc:0.922577\n",
      "[27]\teval-auc:0.878878\ttrain-auc:0.924703\n",
      "[28]\teval-auc:0.880091\ttrain-auc:0.925832\n",
      "[29]\teval-auc:0.878848\ttrain-auc:0.92616\n",
      "[30]\teval-auc:0.879854\ttrain-auc:0.927333\n",
      "[31]\teval-auc:0.877486\ttrain-auc:0.926248\n",
      "[32]\teval-auc:0.877072\ttrain-auc:0.927333\n",
      "[33]\teval-auc:0.876628\ttrain-auc:0.928319\n",
      "[34]\teval-auc:0.876154\ttrain-auc:0.929361\n",
      "[35]\teval-auc:0.875326\ttrain-auc:0.930193\n",
      "[36]\teval-auc:0.875385\ttrain-auc:0.930292\n",
      "[37]\teval-auc:0.877694\ttrain-auc:0.93187\n",
      "[38]\teval-auc:0.877753\ttrain-auc:0.932287\n",
      "[39]\teval-auc:0.876214\ttrain-auc:0.933054\n",
      "[40]\teval-auc:0.878167\ttrain-auc:0.93495\n",
      "[41]\teval-auc:0.877901\ttrain-auc:0.936418\n",
      "[42]\teval-auc:0.877546\ttrain-auc:0.936923\n",
      "[43]\teval-auc:0.877427\ttrain-auc:0.937251\n",
      "[44]\teval-auc:0.877842\ttrain-auc:0.938314\n",
      "[45]\teval-auc:0.877901\ttrain-auc:0.938238\n",
      "[46]\teval-auc:0.87648\ttrain-auc:0.93849\n",
      "[47]\teval-auc:0.877013\ttrain-auc:0.938961\n",
      "[48]\teval-auc:0.878256\ttrain-auc:0.939345\n",
      "[49]\teval-auc:0.881275\ttrain-auc:0.941252\n"
     ]
    }
   ],
   "source": [
    "num_round = 50\n",
    "bst = xgb.train(plst, dtrain, num_round, evallist)"
   ]
  },
  {
   "cell_type": "code",
   "execution_count": 10,
   "metadata": {},
   "outputs": [],
   "source": [
    "ypred = bst.predict(dtest, ntree_limit=bst.best_ntree_limit)"
   ]
  },
  {
   "cell_type": "code",
   "execution_count": 11,
   "metadata": {},
   "outputs": [
    {
     "data": {
      "text/plain": [
       "0.8239700374531835"
      ]
     },
     "execution_count": 11,
     "metadata": {},
     "output_type": "execute_result"
    }
   ],
   "source": [
    "(sum((ypred>0.5) == y_test)) / 267.0"
   ]
  },
  {
   "cell_type": "code",
   "execution_count": 12,
   "metadata": {},
   "outputs": [],
   "source": [
    "from sklearn.metrics import mean_squared_error\n",
    "from sklearn.model_selection import GridSearchCV\n",
    "import numpy as np"
   ]
  },
  {
   "cell_type": "code",
   "execution_count": 13,
   "metadata": {},
   "outputs": [],
   "source": [
    "X = np.load(\"./tatanic_X_train.npy\")\n",
    "y = np.load(\"./tatanic_y_train.npy\")"
   ]
  },
  {
   "cell_type": "code",
   "execution_count": 14,
   "metadata": {},
   "outputs": [],
   "source": [
    "X_train, X_test, y_train, y_test = train_test_split(X, y, test_size=0.3)"
   ]
  },
  {
   "cell_type": "code",
   "execution_count": 15,
   "metadata": {},
   "outputs": [
    {
     "name": "stdout",
     "output_type": "stream",
     "text": [
      "Best parameters found by grid search are: {'learning_rate': 0.5, 'n_estimators': 80}\n"
     ]
    }
   ],
   "source": [
    "import lightgbm as lgb\n",
    "\n",
    "estimator = lgb.LGBMClassifier(num_leaves=2)\n",
    "\n",
    "param_grid = {\n",
    "    'learning_rate': [0.01, 0.1, 0.05, 0.5, 1],\n",
    "    'n_estimators': [20, 40, 60, 80, 100, 120]\n",
    "}\n",
    "\n",
    "gbm = GridSearchCV(estimator, param_grid, cv=5, scoring='roc_auc')\n",
    "\n",
    "gbm.fit(X, y)\n",
    "\n",
    "print('Best parameters found by grid search are:', gbm.best_params_)"
   ]
  },
  {
   "cell_type": "code",
   "execution_count": 16,
   "metadata": {},
   "outputs": [
    {
     "data": {
      "text/plain": [
       "0.8539325842696629"
      ]
     },
     "execution_count": 16,
     "metadata": {},
     "output_type": "execute_result"
    }
   ],
   "source": [
    "sum(gbm.best_estimator_.predict(X_test) == y_test) / (len(y_test)*1.0)"
   ]
  },
  {
   "cell_type": "code",
   "execution_count": 17,
   "metadata": {},
   "outputs": [
    {
     "data": {
      "text/plain": [
       "0.8539325842696629"
      ]
     },
     "execution_count": 17,
     "metadata": {},
     "output_type": "execute_result"
    }
   ],
   "source": [
    "sum(\n",
    "    (gbm.best_estimator_.predict_proba(X_test)[:,1]> 0.51 ) == y_test) / (len(y_test)*1.0)"
   ]
  },
  {
   "cell_type": "code",
   "execution_count": 18,
   "metadata": {},
   "outputs": [],
   "source": [
    "\n",
    "from xgboost.sklearn import XGBClassifier\n",
    "estimator = XGBClassifier()"
   ]
  },
  {
   "cell_type": "code",
   "execution_count": 19,
   "metadata": {},
   "outputs": [],
   "source": [
    "parameters = {'nthread':[4], #when use hyperthread, xgboost may become slower\n",
    "              'objective':['binary:logistic'],\n",
    "              'learning_rate': [0.05], #so called `eta` value\n",
    "              'max_depth': [6],\n",
    "              'min_child_weight': [11],\n",
    "              'silent': [1],\n",
    "              'subsample': [0.8],\n",
    "              'colsample_bytree': [0.7],\n",
    "              'n_estimators': [5], #number of trees, change it to 1000 for better results\n",
    "              'missing':[-999],\n",
    "              'seed': [1337]}"
   ]
  },
  {
   "cell_type": "code",
   "execution_count": 20,
   "metadata": {},
   "outputs": [
    {
     "name": "stdout",
     "output_type": "stream",
     "text": [
      "Fitting 5 folds for each of 1 candidates, totalling 5 fits\n"
     ]
    },
    {
     "name": "stderr",
     "output_type": "stream",
     "text": [
      "[Parallel(n_jobs=5)]: Using backend LokyBackend with 5 concurrent workers.\n",
      "[Parallel(n_jobs=5)]: Done   2 out of   5 | elapsed:   10.8s remaining:   16.3s\n"
     ]
    },
    {
     "name": "stdout",
     "output_type": "stream",
     "text": [
      "Best parameters found by grid search are: {'learning_rate': 0.5, 'n_estimators': 80}\n"
     ]
    },
    {
     "name": "stderr",
     "output_type": "stream",
     "text": [
      "[Parallel(n_jobs=5)]: Done   5 out of   5 | elapsed:   11.3s remaining:    0.0s\n",
      "[Parallel(n_jobs=5)]: Done   5 out of   5 | elapsed:   11.3s finished\n"
     ]
    }
   ],
   "source": [
    "\n",
    "clf = GridSearchCV(estimator, parameters, n_jobs=5, \n",
    "                   cv=5, \n",
    "                   scoring='roc_auc',\n",
    "                   verbose=2, refit=True)\n",
    "\n",
    "clf.fit(X, y)\n",
    "print('Best parameters found by grid search are:', gbm.best_params_)"
   ]
  },
  {
   "cell_type": "code",
   "execution_count": 21,
   "metadata": {},
   "outputs": [
    {
     "data": {
      "text/plain": [
       "0.8052434456928839"
      ]
     },
     "execution_count": 21,
     "metadata": {},
     "output_type": "execute_result"
    }
   ],
   "source": [
    "sum(clf.best_estimator_.predict(X_test) == y_test) / (len(y_test)*1.0)"
   ]
  },
  {
   "cell_type": "code",
   "execution_count": 22,
   "metadata": {},
   "outputs": [
    {
     "data": {
      "text/plain": [
       "0.8164794007490637"
      ]
     },
     "execution_count": 22,
     "metadata": {},
     "output_type": "execute_result"
    }
   ],
   "source": [
    "sum(\n",
    "    (clf.best_estimator_.predict_proba(X_test)[:,1]> 0.51 ) == y_test) / (len(y_test)*1.0)"
   ]
  },
  {
   "cell_type": "code",
   "execution_count": null,
   "metadata": {},
   "outputs": [],
   "source": []
  }
 ],
 "metadata": {
  "kernelspec": {
   "display_name": "Python 3",
   "language": "python",
   "name": "python3"
  },
  "language_info": {
   "codemirror_mode": {
    "name": "ipython",
    "version": 3
   },
   "file_extension": ".py",
   "mimetype": "text/x-python",
   "name": "python",
   "nbconvert_exporter": "python",
   "pygments_lexer": "ipython3",
   "version": "3.6.6"
  }
 },
 "nbformat": 4,
 "nbformat_minor": 2
}
