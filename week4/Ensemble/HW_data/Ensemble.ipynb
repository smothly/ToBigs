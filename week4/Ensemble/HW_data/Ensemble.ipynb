{
 "cells": [
  {
   "cell_type": "code",
   "execution_count": 1,
   "metadata": {},
   "outputs": [],
   "source": [
    "import warnings\n",
    "warnings.filterwarnings('ignore')\n",
    "import numpy as np\n",
    "import pandas as pd\n",
    "import xgboost as xgb"
   ]
  },
  {
   "cell_type": "code",
   "execution_count": 3,
   "metadata": {},
   "outputs": [
    {
     "data": {
      "text/html": [
       "<div>\n",
       "<style scoped>\n",
       "    .dataframe tbody tr th:only-of-type {\n",
       "        vertical-align: middle;\n",
       "    }\n",
       "\n",
       "    .dataframe tbody tr th {\n",
       "        vertical-align: top;\n",
       "    }\n",
       "\n",
       "    .dataframe thead th {\n",
       "        text-align: right;\n",
       "    }\n",
       "</style>\n",
       "<table border=\"1\" class=\"dataframe\">\n",
       "  <thead>\n",
       "    <tr style=\"text-align: right;\">\n",
       "      <th></th>\n",
       "      <th>inst_id</th>\n",
       "      <th>OC</th>\n",
       "      <th>sido</th>\n",
       "      <th>sgg</th>\n",
       "      <th>openDate</th>\n",
       "      <th>bedCount</th>\n",
       "      <th>instkind</th>\n",
       "      <th>revenue1</th>\n",
       "      <th>salescost1</th>\n",
       "      <th>sga1</th>\n",
       "      <th>...</th>\n",
       "      <th>debt2</th>\n",
       "      <th>liquidLiabilities2</th>\n",
       "      <th>shortLoan2</th>\n",
       "      <th>NCLiabilities2</th>\n",
       "      <th>longLoan2</th>\n",
       "      <th>netAsset2</th>\n",
       "      <th>surplus2</th>\n",
       "      <th>employee1</th>\n",
       "      <th>employee2</th>\n",
       "      <th>ownerChange</th>\n",
       "    </tr>\n",
       "  </thead>\n",
       "  <tbody>\n",
       "    <tr>\n",
       "      <th>0</th>\n",
       "      <td>1</td>\n",
       "      <td>1</td>\n",
       "      <td>2</td>\n",
       "      <td>73</td>\n",
       "      <td>20071228.0</td>\n",
       "      <td>175.0</td>\n",
       "      <td>5</td>\n",
       "      <td>4.217530e+09</td>\n",
       "      <td>0.0</td>\n",
       "      <td>3.961135e+09</td>\n",
       "      <td>...</td>\n",
       "      <td>7.589937e+08</td>\n",
       "      <td>2.228769e+08</td>\n",
       "      <td>0.000000e+00</td>\n",
       "      <td>5.361169e+08</td>\n",
       "      <td>3.900000e+08</td>\n",
       "      <td>2.619290e+09</td>\n",
       "      <td>1.271224e+09</td>\n",
       "      <td>62.0</td>\n",
       "      <td>64.0</td>\n",
       "      <td>2</td>\n",
       "    </tr>\n",
       "    <tr>\n",
       "      <th>1</th>\n",
       "      <td>3</td>\n",
       "      <td>1</td>\n",
       "      <td>9</td>\n",
       "      <td>32</td>\n",
       "      <td>19970401.0</td>\n",
       "      <td>410.0</td>\n",
       "      <td>3</td>\n",
       "      <td>-9.990000e+02</td>\n",
       "      <td>-999.0</td>\n",
       "      <td>-9.990000e+02</td>\n",
       "      <td>...</td>\n",
       "      <td>-9.990000e+02</td>\n",
       "      <td>-9.990000e+02</td>\n",
       "      <td>-9.990000e+02</td>\n",
       "      <td>-9.990000e+02</td>\n",
       "      <td>-9.990000e+02</td>\n",
       "      <td>-9.990000e+02</td>\n",
       "      <td>-9.990000e+02</td>\n",
       "      <td>801.0</td>\n",
       "      <td>813.0</td>\n",
       "      <td>2</td>\n",
       "    </tr>\n",
       "    <tr>\n",
       "      <th>2</th>\n",
       "      <td>4</td>\n",
       "      <td>1</td>\n",
       "      <td>8</td>\n",
       "      <td>89</td>\n",
       "      <td>20161228.0</td>\n",
       "      <td>468.0</td>\n",
       "      <td>5</td>\n",
       "      <td>1.004522e+09</td>\n",
       "      <td>515483669.0</td>\n",
       "      <td>4.472197e+08</td>\n",
       "      <td>...</td>\n",
       "      <td>0.000000e+00</td>\n",
       "      <td>0.000000e+00</td>\n",
       "      <td>0.000000e+00</td>\n",
       "      <td>0.000000e+00</td>\n",
       "      <td>0.000000e+00</td>\n",
       "      <td>0.000000e+00</td>\n",
       "      <td>0.000000e+00</td>\n",
       "      <td>234.0</td>\n",
       "      <td>1.0</td>\n",
       "      <td>2</td>\n",
       "    </tr>\n",
       "    <tr>\n",
       "      <th>3</th>\n",
       "      <td>7</td>\n",
       "      <td>1</td>\n",
       "      <td>10</td>\n",
       "      <td>141</td>\n",
       "      <td>20000814.0</td>\n",
       "      <td>353.0</td>\n",
       "      <td>3</td>\n",
       "      <td>7.250734e+10</td>\n",
       "      <td>0.0</td>\n",
       "      <td>7.067740e+10</td>\n",
       "      <td>...</td>\n",
       "      <td>3.775501e+10</td>\n",
       "      <td>1.701860e+10</td>\n",
       "      <td>9.219427e+09</td>\n",
       "      <td>2.073641e+10</td>\n",
       "      <td>1.510000e+10</td>\n",
       "      <td>1.295427e+10</td>\n",
       "      <td>7.740829e+09</td>\n",
       "      <td>663.0</td>\n",
       "      <td>663.0</td>\n",
       "      <td>2</td>\n",
       "    </tr>\n",
       "    <tr>\n",
       "      <th>4</th>\n",
       "      <td>9</td>\n",
       "      <td>1</td>\n",
       "      <td>9</td>\n",
       "      <td>32</td>\n",
       "      <td>20050901.0</td>\n",
       "      <td>196.0</td>\n",
       "      <td>3</td>\n",
       "      <td>4.904354e+10</td>\n",
       "      <td>0.0</td>\n",
       "      <td>4.765605e+10</td>\n",
       "      <td>...</td>\n",
       "      <td>5.143259e+10</td>\n",
       "      <td>3.007259e+10</td>\n",
       "      <td>1.759375e+10</td>\n",
       "      <td>2.136001e+10</td>\n",
       "      <td>1.410803e+10</td>\n",
       "      <td>5.561941e+06</td>\n",
       "      <td>9.025550e+09</td>\n",
       "      <td>206.0</td>\n",
       "      <td>197.0</td>\n",
       "      <td>2</td>\n",
       "    </tr>\n",
       "  </tbody>\n",
       "</table>\n",
       "<p>5 rows × 58 columns</p>\n",
       "</div>"
      ],
      "text/plain": [
       "   inst_id  OC  sido  sgg    openDate  bedCount  instkind      revenue1  \\\n",
       "0        1   1     2   73  20071228.0     175.0         5  4.217530e+09   \n",
       "1        3   1     9   32  19970401.0     410.0         3 -9.990000e+02   \n",
       "2        4   1     8   89  20161228.0     468.0         5  1.004522e+09   \n",
       "3        7   1    10  141  20000814.0     353.0         3  7.250734e+10   \n",
       "4        9   1     9   32  20050901.0     196.0         3  4.904354e+10   \n",
       "\n",
       "    salescost1          sga1  ...         debt2  liquidLiabilities2  \\\n",
       "0          0.0  3.961135e+09  ...  7.589937e+08        2.228769e+08   \n",
       "1       -999.0 -9.990000e+02  ... -9.990000e+02       -9.990000e+02   \n",
       "2  515483669.0  4.472197e+08  ...  0.000000e+00        0.000000e+00   \n",
       "3          0.0  7.067740e+10  ...  3.775501e+10        1.701860e+10   \n",
       "4          0.0  4.765605e+10  ...  5.143259e+10        3.007259e+10   \n",
       "\n",
       "     shortLoan2  NCLiabilities2     longLoan2     netAsset2      surplus2  \\\n",
       "0  0.000000e+00    5.361169e+08  3.900000e+08  2.619290e+09  1.271224e+09   \n",
       "1 -9.990000e+02   -9.990000e+02 -9.990000e+02 -9.990000e+02 -9.990000e+02   \n",
       "2  0.000000e+00    0.000000e+00  0.000000e+00  0.000000e+00  0.000000e+00   \n",
       "3  9.219427e+09    2.073641e+10  1.510000e+10  1.295427e+10  7.740829e+09   \n",
       "4  1.759375e+10    2.136001e+10  1.410803e+10  5.561941e+06  9.025550e+09   \n",
       "\n",
       "   employee1  employee2  ownerChange  \n",
       "0       62.0       64.0            2  \n",
       "1      801.0      813.0            2  \n",
       "2      234.0        1.0            2  \n",
       "3      663.0      663.0            2  \n",
       "4      206.0      197.0            2  \n",
       "\n",
       "[5 rows x 58 columns]"
      ]
     },
     "execution_count": 3,
     "metadata": {},
     "output_type": "execute_result"
    }
   ],
   "source": [
    "data = pd.read_pickle(\"./train_data.pkl\")\n",
    "data.head()"
   ]
  },
  {
   "cell_type": "markdown",
   "metadata": {},
   "source": [
    "# 랜덤포레스트로 feature importance 찾기"
   ]
  },
  {
   "cell_type": "code",
   "execution_count": 4,
   "metadata": {},
   "outputs": [],
   "source": [
    "trainY = data.pop(\"OC\")\n",
    "trainX = data"
   ]
  },
  {
   "cell_type": "code",
   "execution_count": 5,
   "metadata": {},
   "outputs": [
    {
     "data": {
      "text/plain": [
       "0.9468306010928963"
      ]
     },
     "execution_count": 5,
     "metadata": {},
     "output_type": "execute_result"
    }
   ],
   "source": [
    "# 랜던포레스트로 피쳐\n",
    "from sklearn.ensemble import RandomForestClassifier\n",
    "eclf = RandomForestClassifier(n_estimators=100,\n",
    "                              max_features=2,\n",
    "                              n_jobs=-1, oob_score=True)\n",
    "\n",
    "from sklearn.model_selection import cross_val_score\n",
    "cross_val_score(eclf, trainX, trainY, cv=5).mean()"
   ]
  },
  {
   "cell_type": "code",
   "execution_count": 6,
   "metadata": {},
   "outputs": [
    {
     "data": {
      "text/plain": [
       "RandomForestClassifier(bootstrap=True, class_weight=None, criterion='gini',\n",
       "            max_depth=None, max_features=2, max_leaf_nodes=None,\n",
       "            min_impurity_decrease=0.0, min_impurity_split=None,\n",
       "            min_samples_leaf=1, min_samples_split=2,\n",
       "            min_weight_fraction_leaf=0.0, n_estimators=100, n_jobs=-1,\n",
       "            oob_score=True, random_state=None, verbose=0, warm_start=False)"
      ]
     },
     "execution_count": 6,
     "metadata": {},
     "output_type": "execute_result"
    }
   ],
   "source": [
    "eclf.fit(trainX, trainY)"
   ]
  },
  {
   "cell_type": "code",
   "execution_count": 7,
   "metadata": {},
   "outputs": [],
   "source": [
    "params ={\n",
    "    \"n_estimators\" : [10, 20, 30, 50, 100],\n",
    "    \"max_features\" : [1,2,3,4,5,6,7, 10, 15, 20, 25, len(trainX.loc[0])]\n",
    "    }"
   ]
  },
  {
   "cell_type": "code",
   "execution_count": 8,
   "metadata": {},
   "outputs": [
    {
     "name": "stderr",
     "output_type": "stream",
     "text": [
      "C:\\Users\\USER\\Anaconda3\\lib\\site-packages\\sklearn\\model_selection\\_search.py:841: DeprecationWarning: The default of the `iid` parameter will change from True to False in version 0.22 and will be removed in 0.24. This will change numeric results when test-set sizes are unequal.\n",
      "  DeprecationWarning)\n"
     ]
    }
   ],
   "source": [
    "from sklearn.model_selection import GridSearchCV\n",
    "grid = GridSearchCV(estimator=eclf, param_grid=params, cv=5, n_jobs=-1)\n",
    "grid = grid.fit(trainX, trainY)"
   ]
  },
  {
   "cell_type": "code",
   "execution_count": 9,
   "metadata": {},
   "outputs": [
    {
     "data": {
      "text/plain": [
       "0.9601328903654485"
      ]
     },
     "execution_count": 9,
     "metadata": {},
     "output_type": "execute_result"
    }
   ],
   "source": [
    "grid.best_score_"
   ]
  },
  {
   "cell_type": "code",
   "execution_count": 10,
   "metadata": {},
   "outputs": [
    {
     "data": {
      "text/plain": [
       "{'max_features': 7, 'n_estimators': 50}"
      ]
     },
     "execution_count": 10,
     "metadata": {},
     "output_type": "execute_result"
    }
   ],
   "source": [
    "grid.best_params_"
   ]
  },
  {
   "cell_type": "code",
   "execution_count": 11,
   "metadata": {},
   "outputs": [
    {
     "data": {
      "text/plain": [
       "array([0.05674663, 0.00678762, 0.0271503 , 0.05313492, 0.08764203,\n",
       "       0.0362492 , 0.02049844, 0.01573112, 0.01121321, 0.01889239,\n",
       "       0.01691469, 0.01894676, 0.01816665, 0.00305382, 0.04131769,\n",
       "       0.00662873, 0.01473444, 0.00853912, 0.00440542, 0.01924206,\n",
       "       0.00761856, 0.01041237, 0.01704838, 0.01070481, 0.01424833,\n",
       "       0.00974278, 0.01925655, 0.01358224, 0.00589764, 0.01557546,\n",
       "       0.0181724 , 0.00849814, 0.01479783, 0.01476081, 0.00494923,\n",
       "       0.01011496, 0.02508577, 0.0060361 , 0.04359061, 0.01967787,\n",
       "       0.01197642, 0.01273515, 0.00654583, 0.0101983 , 0.01547476,\n",
       "       0.00763705, 0.00305862, 0.00807058, 0.00435129, 0.00538382,\n",
       "       0.00787344, 0.00208812, 0.00941282, 0.00167368, 0.02833398,\n",
       "       0.03542104, 0.05399902])"
      ]
     },
     "execution_count": 11,
     "metadata": {},
     "output_type": "execute_result"
    }
   ],
   "source": [
    "grid.best_estimator_.feature_importances_"
   ]
  },
  {
   "cell_type": "code",
   "execution_count": 12,
   "metadata": {},
   "outputs": [],
   "source": [
    "featureImportances = np.argsort(grid.best_estimator_.feature_importances_)[::-1]"
   ]
  },
  {
   "cell_type": "code",
   "execution_count": 13,
   "metadata": {},
   "outputs": [
    {
     "data": {
      "text/plain": [
       "['bedCount',\n",
       " 'inst_id',\n",
       " 'ownerChange',\n",
       " 'openDate',\n",
       " 'profit2',\n",
       " 'profit1',\n",
       " 'instkind',\n",
       " 'employee2',\n",
       " 'employee1',\n",
       " 'sgg',\n",
       " 'interest2',\n",
       " 'revenue1',\n",
       " 'liquidAsset2',\n",
       " 'NCLiabilities1',\n",
       " 'nonCAsset1',\n",
       " 'noe1',\n",
       " 'salary1',\n",
       " 'revenue2',\n",
       " 'interest1',\n",
       " 'receivableL1',\n",
       " 'noi1',\n",
       " 'salescost1',\n",
       " 'surplus1',\n",
       " 'tanAsset2',\n",
       " 'sga2',\n",
       " 'salary2',\n",
       " 'quickAsset1',\n",
       " 'liquidLiabilities1',\n",
       " 'longLoan1',\n",
       " 'receivableS2',\n",
       " 'quickAsset2',\n",
       " 'sga1',\n",
       " 'debt1',\n",
       " 'OnonCAsset1',\n",
       " 'nonCAsset2',\n",
       " 'noe2',\n",
       " 'shortLoan1',\n",
       " 'netAsset2',\n",
       " 'receivableS1',\n",
       " 'salescost2',\n",
       " 'debt2',\n",
       " 'NCLiabilities2',\n",
       " 'OnonCAsset2',\n",
       " 'tanAsset1',\n",
       " 'sido',\n",
       " 'liquidAsset1',\n",
       " 'inventoryAsset2',\n",
       " 'ctax2',\n",
       " 'netAsset1',\n",
       " 'shortLoan2',\n",
       " 'noi2',\n",
       " 'inventoryAsset1',\n",
       " 'liquidLiabilities2',\n",
       " 'receivableL2',\n",
       " 'ctax1',\n",
       " 'longLoan2',\n",
       " 'surplus2']"
      ]
     },
     "execution_count": 13,
     "metadata": {},
     "output_type": "execute_result"
    }
   ],
   "source": [
    "list(data.columns[featureImportances]) #bedCount, inst_i"
   ]
  },
  {
   "cell_type": "code",
   "execution_count": 14,
   "metadata": {},
   "outputs": [
    {
     "data": {
      "text/plain": [
       "RandomForestClassifier(bootstrap=True, class_weight=None, criterion='gini',\n",
       "            max_depth=None, max_features=7, max_leaf_nodes=None,\n",
       "            min_impurity_decrease=0.0, min_impurity_split=None,\n",
       "            min_samples_leaf=1, min_samples_split=2,\n",
       "            min_weight_fraction_leaf=0.0, n_estimators=100, n_jobs=-1,\n",
       "            oob_score=True, random_state=None, verbose=0, warm_start=False)"
      ]
     },
     "execution_count": 14,
     "metadata": {},
     "output_type": "execute_result"
    }
   ],
   "source": [
    "# 베스트 파라미터로 훈련\n",
    "eclf = RandomForestClassifier(n_estimators=100,\n",
    "                              max_features=7,\n",
    "                              n_jobs=-1, oob_score=True)\n",
    "eclf.fit(trainX, trainY)"
   ]
  },
  {
   "cell_type": "code",
   "execution_count": 15,
   "metadata": {},
   "outputs": [],
   "source": [
    "testData = pd.read_pickle(\"./test_data.pkl\")\n",
    "testY = testData.pop(\"OC\")\n",
    "testX = testData"
   ]
  },
  {
   "cell_type": "code",
   "execution_count": 16,
   "metadata": {},
   "outputs": [],
   "source": [
    "y_pred = eclf.predict(testX)"
   ]
  },
  {
   "cell_type": "code",
   "execution_count": 17,
   "metadata": {},
   "outputs": [
    {
     "data": {
      "text/plain": [
       "0.023622047244094488"
      ]
     },
     "execution_count": 17,
     "metadata": {},
     "output_type": "execute_result"
    }
   ],
   "source": [
    "from sklearn.metrics import accuracy_score\n",
    "\n",
    "accuracy_score(testY, y_pred)"
   ]
  },
  {
   "cell_type": "markdown",
   "metadata": {},
   "source": [
    "# 그냥 rf만 쓰면 test accuracy가 엄청 낮게 나옴을 볼 수 있다.... 다른방법을!"
   ]
  },
  {
   "cell_type": "markdown",
   "metadata": {},
   "source": [
    "# Xgboost로 featurImportance보기"
   ]
  },
  {
   "cell_type": "code",
   "execution_count": 18,
   "metadata": {},
   "outputs": [
    {
     "data": {
      "text/plain": [
       "XGBClassifier(base_score=0.5, booster='gbtree', colsample_bylevel=1,\n",
       "       colsample_bynode=1, colsample_bytree=1, gamma=0, learning_rate=0.1,\n",
       "       max_delta_step=0, max_depth=3, min_child_weight=1, missing=None,\n",
       "       n_estimators=100, n_jobs=1, nthread=None,\n",
       "       objective='binary:logistic', random_state=0, reg_alpha=0,\n",
       "       reg_lambda=1, scale_pos_weight=1, seed=None, silent=None,\n",
       "       subsample=1, verbosity=1)"
      ]
     },
     "execution_count": 18,
     "metadata": {},
     "output_type": "execute_result"
    }
   ],
   "source": [
    "from xgboost import XGBClassifier\n",
    "from xgboost import plot_importance\n",
    "from matplotlib import pyplot as plt\n",
    "# fit model no training data\n",
    "model = XGBClassifier()\n",
    "model.fit(trainX, trainY)\n",
    "# plot feature importance"
   ]
  },
  {
   "cell_type": "code",
   "execution_count": 97,
   "metadata": {},
   "outputs": [
    {
     "data": {
      "image/png": "[encoded data removed]",
      "text/plain": [
       "<Figure size 720x648 with 1 Axes>"
      ]
     },
     "metadata": {
      "needs_background": "light"
     },
     "output_type": "display_data"
    }
   ],
   "source": [
    "fig, ax = plt.subplots(figsize=(10, 9))\n",
    "plot_importance(model, ax=ax)\n",
    "fig.savefig(\"feature_importance\")\n",
    "# rf와 비슷하게 bedCount가 제일 높게 나옴을 볼수 있고 나머지는 조금 차이는 있지만 profit2도 높은 중요도를 갖고 있음을 볼 수 있다."
   ]
  },
  {
   "cell_type": "code",
   "execution_count": 20,
   "metadata": {},
   "outputs": [
    {
     "data": {
      "text/plain": [
       "XGBClassifier(base_score=0.5, booster='gbtree', colsample_bylevel=1,\n",
       "       colsample_bynode=1, colsample_bytree=1, gamma=0, learning_rate=0.1,\n",
       "       max_delta_step=0, max_depth=3, min_child_weight=1, missing=None,\n",
       "       n_estimators=100, n_jobs=1, nthread=None,\n",
       "       objective='binary:logistic', random_state=0, reg_alpha=0,\n",
       "       reg_lambda=1, scale_pos_weight=1, seed=None, silent=None,\n",
       "       subsample=1, verbosity=1)"
      ]
     },
     "execution_count": 20,
     "metadata": {},
     "output_type": "execute_result"
    }
   ],
   "source": [
    "model.fit(trainX, trainY)"
   ]
  },
  {
   "cell_type": "code",
   "execution_count": 21,
   "metadata": {},
   "outputs": [
    {
     "data": {
      "text/plain": [
       "0.05511811023622047"
      ]
     },
     "execution_count": 21,
     "metadata": {},
     "output_type": "execute_result"
    }
   ],
   "source": [
    "y_pred = model.predict(testX)\n",
    "\n",
    "accuracy_score(testY, y_pred) # 역시 전처리 eda없이 단일모델 가지고는 한계가 있나보다."
   ]
  },
  {
   "cell_type": "code",
   "execution_count": 22,
   "metadata": {},
   "outputs": [],
   "source": [
    "dtrain = xgb.DMatrix(trainX, label=trainY)\n",
    "dtest = xgb.DMatrix(testX, label=testY)"
   ]
  },
  {
   "cell_type": "code",
   "execution_count": 23,
   "metadata": {},
   "outputs": [],
   "source": [
    "param = {'max_depth': 2, 'eta': 0.5, 'silent': 1, 'objective': 'binary:logistic'}\n",
    "param['nthread'] = 7\n",
    "param['eval_metric'] = \"rmse\"\n",
    "evallist = [(dtest, 'eval'), (dtrain, 'train')]\n",
    "plst = param.items()"
   ]
  },
  {
   "cell_type": "code",
   "execution_count": 24,
   "metadata": {},
   "outputs": [
    {
     "name": "stdout",
     "output_type": "stream",
     "text": [
      "[0]\teval-rmse:0.687562\ttrain-rmse:0.312445\n",
      "[1]\teval-rmse:0.789931\ttrain-rmse:0.234384\n",
      "[2]\teval-rmse:0.845772\ttrain-rmse:0.198823\n",
      "[3]\teval-rmse:0.876671\ttrain-rmse:0.176646\n",
      "[4]\teval-rmse:0.901876\ttrain-rmse:0.164573\n",
      "[5]\teval-rmse:0.913354\ttrain-rmse:0.156327\n",
      "[6]\teval-rmse:0.919241\ttrain-rmse:0.149415\n",
      "[7]\teval-rmse:0.92324\ttrain-rmse:0.14351\n",
      "[8]\teval-rmse:0.926329\ttrain-rmse:0.133187\n",
      "[9]\teval-rmse:0.928393\ttrain-rmse:0.127455\n",
      "[10]\teval-rmse:0.930236\ttrain-rmse:0.123568\n",
      "[11]\teval-rmse:0.933408\ttrain-rmse:0.113401\n",
      "[12]\teval-rmse:0.935993\ttrain-rmse:0.109313\n",
      "[13]\teval-rmse:0.93968\ttrain-rmse:0.104607\n",
      "[14]\teval-rmse:0.940956\ttrain-rmse:0.101414\n",
      "[15]\teval-rmse:0.941515\ttrain-rmse:0.096553\n",
      "[16]\teval-rmse:0.9427\ttrain-rmse:0.092457\n",
      "[17]\teval-rmse:0.945725\ttrain-rmse:0.086706\n",
      "[18]\teval-rmse:0.945848\ttrain-rmse:0.085437\n",
      "[19]\teval-rmse:0.944138\ttrain-rmse:0.083468\n",
      "[20]\teval-rmse:0.94449\ttrain-rmse:0.080966\n",
      "[21]\teval-rmse:0.943991\ttrain-rmse:0.078067\n",
      "[22]\teval-rmse:0.944921\ttrain-rmse:0.075952\n",
      "[23]\teval-rmse:0.946618\ttrain-rmse:0.070228\n",
      "[24]\teval-rmse:0.946422\ttrain-rmse:0.068459\n",
      "[25]\teval-rmse:0.946874\ttrain-rmse:0.066957\n",
      "[26]\teval-rmse:0.946802\ttrain-rmse:0.06594\n",
      "[27]\teval-rmse:0.946849\ttrain-rmse:0.064911\n",
      "[28]\teval-rmse:0.947068\ttrain-rmse:0.063981\n",
      "[29]\teval-rmse:0.948722\ttrain-rmse:0.062767\n",
      "[30]\teval-rmse:0.94968\ttrain-rmse:0.062038\n",
      "[31]\teval-rmse:0.949522\ttrain-rmse:0.061097\n",
      "[32]\teval-rmse:0.950121\ttrain-rmse:0.058599\n",
      "[33]\teval-rmse:0.950505\ttrain-rmse:0.057264\n",
      "[34]\teval-rmse:0.950206\ttrain-rmse:0.056719\n",
      "[35]\teval-rmse:0.950757\ttrain-rmse:0.0559\n",
      "[36]\teval-rmse:0.951134\ttrain-rmse:0.055232\n",
      "[37]\teval-rmse:0.951292\ttrain-rmse:0.05446\n",
      "[38]\teval-rmse:0.951278\ttrain-rmse:0.053921\n",
      "[39]\teval-rmse:0.952597\ttrain-rmse:0.053212\n",
      "[40]\teval-rmse:0.953341\ttrain-rmse:0.052918\n",
      "[41]\teval-rmse:0.953232\ttrain-rmse:0.052584\n",
      "[42]\teval-rmse:0.953322\ttrain-rmse:0.05238\n",
      "[43]\teval-rmse:0.95309\ttrain-rmse:0.051604\n",
      "[44]\teval-rmse:0.953841\ttrain-rmse:0.051538\n",
      "[45]\teval-rmse:0.95381\ttrain-rmse:0.051247\n",
      "[46]\teval-rmse:0.953539\ttrain-rmse:0.050627\n",
      "[47]\teval-rmse:0.953532\ttrain-rmse:0.050352\n",
      "[48]\teval-rmse:0.95417\ttrain-rmse:0.050308\n",
      "[49]\teval-rmse:0.954054\ttrain-rmse:0.050076\n"
     ]
    }
   ],
   "source": [
    "num_round = 50\n",
    "bst = xgb.train(plst, dtrain, num_round, evallist)"
   ]
  },
  {
   "cell_type": "code",
   "execution_count": 25,
   "metadata": {},
   "outputs": [],
   "source": [
    "ypred = bst.predict(dtest, ntree_limit=bst.best_ntree_limit)"
   ]
  },
  {
   "cell_type": "code",
   "execution_count": 26,
   "metadata": {},
   "outputs": [
    {
     "data": {
      "text/plain": [
       "0.05511811023622047"
      ]
     },
     "execution_count": 26,
     "metadata": {},
     "output_type": "execute_result"
    }
   ],
   "source": [
    "accuracy_score(testY, y_pred)  # 허허 왜 에러가 점점 늘어나는 걸까 오버피팅 돼서 그런거 같다..."
   ]
  },
  {
   "cell_type": "code",
   "execution_count": 27,
   "metadata": {},
   "outputs": [],
   "source": [
    "parameters = {'nthread':[4], #when use hyperthread, xgboost may become slower\n",
    "              'objective':['binary:logistic'],\n",
    "              'learning_rate': [0.05], #so called `eta` value\n",
    "              'max_depth': [6],\n",
    "              'min_child_weight': [11],\n",
    "              'silent': [1],\n",
    "              'subsample': [0.8],\n",
    "              'colsample_bytree': [0.7],\n",
    "              'n_estimators': [5], #number of trees, change it to 1000 for better results\n",
    "              'missing':[-999],\n",
    "              'seed': [1337]}"
   ]
  },
  {
   "cell_type": "code",
   "execution_count": 28,
   "metadata": {},
   "outputs": [
    {
     "name": "stdout",
     "output_type": "stream",
     "text": [
      "Fitting 5 folds for each of 1 candidates, totalling 5 fits\n"
     ]
    },
    {
     "name": "stderr",
     "output_type": "stream",
     "text": [
      "[Parallel(n_jobs=-1)]: Using backend LokyBackend with 4 concurrent workers.\n"
     ]
    },
    {
     "name": "stdout",
     "output_type": "stream",
     "text": [
      "Best parameters found by grid search are: {'colsample_bytree': 0.7, 'learning_rate': 0.05, 'max_depth': 6, 'min_child_weight': 11, 'missing': -999, 'n_estimators': 5, 'nthread': 4, 'objective': 'binary:logistic', 'seed': 1337, 'silent': 1, 'subsample': 0.8}\n"
     ]
    },
    {
     "name": "stderr",
     "output_type": "stream",
     "text": [
      "[Parallel(n_jobs=-1)]: Done   5 out of   5 | elapsed:    0.2s finished\n",
      "C:\\Users\\USER\\Anaconda3\\lib\\site-packages\\sklearn\\model_selection\\_search.py:841: DeprecationWarning: The default of the `iid` parameter will change from True to False in version 0.22 and will be removed in 0.24. This will change numeric results when test-set sizes are unequal.\n",
      "  DeprecationWarning)\n"
     ]
    }
   ],
   "source": [
    "clf = GridSearchCV(model, parameters, n_jobs=-1, \n",
    "                   cv=5, \n",
    "                   scoring='roc_auc',\n",
    "                   verbose=2, refit=True)\n",
    "\n",
    "clf.fit(trainX, trainY)\n",
    "print('Best parameters found by grid search are:', clf.best_params_)"
   ]
  },
  {
   "cell_type": "code",
   "execution_count": 29,
   "metadata": {},
   "outputs": [
    {
     "data": {
      "text/plain": [
       "0      False\n",
       "1      False\n",
       "2      False\n",
       "3      False\n",
       "4      False\n",
       "       ...  \n",
       "122    False\n",
       "123    False\n",
       "124    False\n",
       "125    False\n",
       "126    False\n",
       "Name: OC, Length: 127, dtype: bool"
      ]
     },
     "execution_count": 29,
     "metadata": {},
     "output_type": "execute_result"
    }
   ],
   "source": [
    "clf.best_estimator_.predict(testX) == testY"
   ]
  },
  {
   "cell_type": "code",
   "execution_count": 30,
   "metadata": {},
   "outputs": [
    {
     "data": {
      "text/plain": [
       "0.0"
      ]
     },
     "execution_count": 30,
     "metadata": {},
     "output_type": "execute_result"
    }
   ],
   "source": [
    "sum(clf.best_estimator_.predict(testX) == testY) / (len(testY)*1.0)"
   ]
  },
  {
   "cell_type": "code",
   "execution_count": 31,
   "metadata": {},
   "outputs": [],
   "source": [
    "parameters = {'nthread':[4], #when use hyperthread, xgboost may become slower\n",
    "              'objective':['binary:logistic'],\n",
    "              'learning_rate': [0.05], #so called `eta` value\n",
    "              'max_depth': [6],\n",
    "              'min_child_weight': [11],\n",
    "              'silent': [1],\n",
    "              'subsample': [0.8],\n",
    "              'colsample_bytree': [0.7],\n",
    "              'n_estimators': [5], #number of trees, change it to 1000 for better results\n",
    "              'missing':[-999],\n",
    "              'seed': [1337]}"
   ]
  },
  {
   "cell_type": "code",
   "execution_count": 38,
   "metadata": {},
   "outputs": [],
   "source": [
    "from sklearn.model_selection import KFold, StratifiedKFold\n",
    "from sklearn.model_selection import GridSearchCV"
   ]
  },
  {
   "cell_type": "code",
   "execution_count": 40,
   "metadata": {},
   "outputs": [],
   "source": [
    "clf = GridSearchCV(model, parameters, n_jobs=-1, \n",
    "                   cv=StratifiedKFold(n_splits=5, shuffle=True), \n",
    "                   scoring='roc_auc',\n",
    "                   verbose=2, refit=True)"
   ]
  },
  {
   "cell_type": "code",
   "execution_count": 45,
   "metadata": {},
   "outputs": [
    {
     "data": {
      "text/plain": [
       "0.7150333733290726"
      ]
     },
     "execution_count": 45,
     "metadata": {},
     "output_type": "execute_result"
    }
   ],
   "source": [
    "clf.best_score_"
   ]
  },
  {
   "cell_type": "code",
   "execution_count": 44,
   "metadata": {},
   "outputs": [
    {
     "data": {
      "text/plain": [
       "{'colsample_bytree': 0.7,\n",
       " 'learning_rate': 0.05,\n",
       " 'max_depth': 6,\n",
       " 'min_child_weight': 11,\n",
       " 'missing': -999,\n",
       " 'n_estimators': 5,\n",
       " 'nthread': 4,\n",
       " 'objective': 'binary:logistic',\n",
       " 'seed': 1337,\n",
       " 'silent': 1,\n",
       " 'subsample': 0.8}"
      ]
     },
     "execution_count": 44,
     "metadata": {},
     "output_type": "execute_result"
    }
   ],
   "source": [
    "clf.best_params_"
   ]
  },
  {
   "cell_type": "code",
   "execution_count": 46,
   "metadata": {},
   "outputs": [
    {
     "name": "stdout",
     "output_type": "stream",
     "text": [
      "Fitting 5 folds for each of 1 candidates, totalling 5 fits\n"
     ]
    },
    {
     "name": "stderr",
     "output_type": "stream",
     "text": [
      "[Parallel(n_jobs=-1)]: Using backend LokyBackend with 4 concurrent workers.\n",
      "[Parallel(n_jobs=-1)]: Done   5 out of   5 | elapsed:    0.0s finished\n"
     ]
    },
    {
     "data": {
      "text/plain": [
       "GridSearchCV(cv=StratifiedKFold(n_splits=5, random_state=None, shuffle=True),\n",
       "       error_score='raise-deprecating',\n",
       "       estimator=XGBClassifier(base_score=0.5, booster='gbtree', colsample_bylevel=1,\n",
       "       colsample_bynode=1, colsample_bytree=1, gamma=0, learning_rate=0.1,\n",
       "       max_delta_step=0, max_depth=3, min_child_weight=1, missing=None,\n",
       "       n_estimators=100, n_jobs=1, nthread=None,\n",
       "       objective='binary:logistic', random_state=0, reg_alpha=0,\n",
       "       reg_lambda=1, scale_pos_weight=1, seed=None, silent=None,\n",
       "       subsample=1, verbosity=1),\n",
       "       fit_params=None, iid='warn', n_jobs=-1,\n",
       "       param_grid={'nthread': [4], 'objective': ['binary:logistic'], 'learning_rate': [0.05], 'max_depth': [6], 'min_child_weight': [11], 'silent': [1], 'subsample': [0.8], 'colsample_bytree': [0.7], 'n_estimators': [5], 'missing': [-999], 'seed': [1337]},\n",
       "       pre_dispatch='2*n_jobs', refit=True, return_train_score='warn',\n",
       "       scoring='roc_auc', verbose=2)"
      ]
     },
     "execution_count": 46,
     "metadata": {},
     "output_type": "execute_result"
    }
   ],
   "source": [
    "clf.fit(trainX, trainY)"
   ]
  },
  {
   "cell_type": "code",
   "execution_count": 50,
   "metadata": {},
   "outputs": [
    {
     "data": {
      "text/plain": [
       "array([0], dtype=int64)"
      ]
     },
     "execution_count": 50,
     "metadata": {},
     "output_type": "execute_result"
    }
   ],
   "source": [
    "testY.unique()"
   ]
  },
  {
   "cell_type": "code",
   "execution_count": 48,
   "metadata": {},
   "outputs": [
    {
     "data": {
      "text/plain": [
       "array([1, 1, 1, 1, 1, 1, 1, 1, 1, 1, 1, 1, 1, 1, 1, 1, 1, 1, 1, 1, 1, 1,\n",
       "       1, 1, 1, 1, 1, 1, 1, 1, 1, 1, 1, 1, 1, 1, 1, 1, 1, 1, 1, 1, 1, 1,\n",
       "       1, 1, 1, 1, 1, 1, 1, 1, 1, 1, 1, 1, 1, 1, 1, 1, 1, 1, 1, 1, 1, 1,\n",
       "       1, 1, 1, 1, 1, 1, 1, 1, 1, 1, 1, 1, 1, 1, 1, 1, 1, 1, 1, 1, 1, 1,\n",
       "       1, 1, 1, 1, 1, 1, 1, 1, 1, 1, 1, 1, 1, 1, 1, 1, 1, 1, 1, 1, 1, 1,\n",
       "       1, 1, 1, 1, 1, 1, 1, 1, 1, 1, 1, 1, 1, 1, 1, 1, 1])"
      ]
     },
     "execution_count": 48,
     "metadata": {},
     "output_type": "execute_result"
    }
   ],
   "source": [
    "clf.best_estimator_.predict(testX)"
   ]
  },
  {
   "cell_type": "code",
   "execution_count": 47,
   "metadata": {},
   "outputs": [
    {
     "data": {
      "text/plain": [
       "0.0"
      ]
     },
     "execution_count": 47,
     "metadata": {},
     "output_type": "execute_result"
    }
   ],
   "source": [
    "sum(clf.best_estimator_.predict(testX) == testY) / (len(testY)*1.0)"
   ]
  },
  {
   "cell_type": "markdown",
   "metadata": {},
   "source": [
    "# 너무 어려워서 우승자코드보고 따라치면서 리뷰하는식으로 해보았다.\n",
    "### https://dacon.io/code1/60009"
   ]
  },
  {
   "cell_type": "code",
   "execution_count": 82,
   "metadata": {},
   "outputs": [],
   "source": [
    "# 데이터 전처리 아이디 제외\n",
    "#Obtain the submission ID to create the submission file later\n",
    "sub_id = testX.inst_id #서브미션 파일에 맞추기위한 id받기"
   ]
  },
  {
   "cell_type": "code",
   "execution_count": 83,
   "metadata": {},
   "outputs": [],
   "source": [
    "############################################################################\n",
    "############ Random Forest\n",
    "############################################################################\n",
    "estimators = 10\n",
    "np.random.seed(100)\n",
    "RF_prod = RandomForestClassifier(n_estimators = estimators)\n",
    "RF_prod_model = RF_prod.fit(trainX, trainY)\n",
    "RF_prod_prediction = RF_prod.predict_proba(testX)[:,1]\n",
    "\n",
    "sub_RF = pd.DataFrame({'inst_id' : sub_id , 'OC' : RF_prod_prediction })\n",
    "sub_RF = sub_RF[['inst_id', 'OC']]"
   ]
  },
  {
   "cell_type": "code",
   "execution_count": 84,
   "metadata": {},
   "outputs": [
    {
     "data": {
      "text/html": [
       "<div>\n",
       "<style scoped>\n",
       "    .dataframe tbody tr th:only-of-type {\n",
       "        vertical-align: middle;\n",
       "    }\n",
       "\n",
       "    .dataframe tbody tr th {\n",
       "        vertical-align: top;\n",
       "    }\n",
       "\n",
       "    .dataframe thead th {\n",
       "        text-align: right;\n",
       "    }\n",
       "</style>\n",
       "<table border=\"1\" class=\"dataframe\">\n",
       "  <thead>\n",
       "    <tr style=\"text-align: right;\">\n",
       "      <th></th>\n",
       "      <th>inst_id</th>\n",
       "      <th>OC</th>\n",
       "    </tr>\n",
       "  </thead>\n",
       "  <tbody>\n",
       "    <tr>\n",
       "      <th>0</th>\n",
       "      <td>2</td>\n",
       "      <td>1.0</td>\n",
       "    </tr>\n",
       "    <tr>\n",
       "      <th>1</th>\n",
       "      <td>5</td>\n",
       "      <td>0.8</td>\n",
       "    </tr>\n",
       "    <tr>\n",
       "      <th>2</th>\n",
       "      <td>6</td>\n",
       "      <td>0.6</td>\n",
       "    </tr>\n",
       "    <tr>\n",
       "      <th>3</th>\n",
       "      <td>8</td>\n",
       "      <td>0.9</td>\n",
       "    </tr>\n",
       "    <tr>\n",
       "      <th>4</th>\n",
       "      <td>10</td>\n",
       "      <td>0.9</td>\n",
       "    </tr>\n",
       "  </tbody>\n",
       "</table>\n",
       "</div>"
      ],
      "text/plain": [
       "   inst_id   OC\n",
       "0        2  1.0\n",
       "1        5  0.8\n",
       "2        6  0.6\n",
       "3        8  0.9\n",
       "4       10  0.9"
      ]
     },
     "execution_count": 84,
     "metadata": {},
     "output_type": "execute_result"
    }
   ],
   "source": [
    "sub_RF.head() #랜덤포레스트를 써서 확률로 예측함을 볼 수 있다."
   ]
  },
  {
   "cell_type": "code",
   "execution_count": 85,
   "metadata": {},
   "outputs": [],
   "source": [
    "from sklearn.ensemble import GradientBoostingClassifier\n",
    "############################################################################\n",
    "############ GBM\n",
    "############################################################################\n",
    "estimators = 10\n",
    "np.random.seed(100)\n",
    "GBM_prod = GradientBoostingClassifier(n_estimators = estimators)\n",
    "GBM_prod_model = GBM_prod.fit(trainX, trainY)\n",
    "GBM_prod_prediction = GBM_prod.predict_proba(testX)[:,1]\n",
    "\n",
    "sub_GBM = pd.DataFrame({'inst_id' : sub_id , 'OC' : GBM_prod_prediction })\n",
    "sub_GBM = sub_GBM[['inst_id', 'OC']]"
   ]
  },
  {
   "cell_type": "code",
   "execution_count": 86,
   "metadata": {},
   "outputs": [
    {
     "data": {
      "text/html": [
       "<div>\n",
       "<style scoped>\n",
       "    .dataframe tbody tr th:only-of-type {\n",
       "        vertical-align: middle;\n",
       "    }\n",
       "\n",
       "    .dataframe tbody tr th {\n",
       "        vertical-align: top;\n",
       "    }\n",
       "\n",
       "    .dataframe thead th {\n",
       "        text-align: right;\n",
       "    }\n",
       "</style>\n",
       "<table border=\"1\" class=\"dataframe\">\n",
       "  <thead>\n",
       "    <tr style=\"text-align: right;\">\n",
       "      <th></th>\n",
       "      <th>inst_id</th>\n",
       "      <th>OC</th>\n",
       "    </tr>\n",
       "  </thead>\n",
       "  <tbody>\n",
       "    <tr>\n",
       "      <th>0</th>\n",
       "      <td>2</td>\n",
       "      <td>0.966711</td>\n",
       "    </tr>\n",
       "    <tr>\n",
       "      <th>1</th>\n",
       "      <td>5</td>\n",
       "      <td>0.443177</td>\n",
       "    </tr>\n",
       "    <tr>\n",
       "      <th>2</th>\n",
       "      <td>6</td>\n",
       "      <td>0.666447</td>\n",
       "    </tr>\n",
       "    <tr>\n",
       "      <th>3</th>\n",
       "      <td>8</td>\n",
       "      <td>0.976222</td>\n",
       "    </tr>\n",
       "    <tr>\n",
       "      <th>4</th>\n",
       "      <td>10</td>\n",
       "      <td>0.966711</td>\n",
       "    </tr>\n",
       "  </tbody>\n",
       "</table>\n",
       "</div>"
      ],
      "text/plain": [
       "   inst_id        OC\n",
       "0        2  0.966711\n",
       "1        5  0.443177\n",
       "2        6  0.666447\n",
       "3        8  0.976222\n",
       "4       10  0.966711"
      ]
     },
     "execution_count": 86,
     "metadata": {},
     "output_type": "execute_result"
    }
   ],
   "source": [
    "sub_GBM.head() # 그레디언트 부스팅 클래스파이어를 써서 확률로 예축함을 볼 수 있다,"
   ]
  },
  {
   "cell_type": "code",
   "execution_count": 87,
   "metadata": {},
   "outputs": [],
   "source": [
    "############################################################################\n",
    "############ XGBOOST\n",
    "############################################################################\n",
    "dtrain_prod = xgb.DMatrix(data = trainX, label = trainY)\n",
    "dtest_prod = xgb.DMatrix(data = testX)\n",
    "\n",
    "#Custom error function for the XGB model\n",
    "threshold = 0.5\n",
    "def eval_error(preds, dtrain):\n",
    "    labels = dtrain.get_label()\n",
    "    preds = (preds > threshold ).astype('float')\n",
    "    return \"accuracy\", accuracy_score(labels, preds)\n",
    "    \n",
    "\n",
    "param = {'objective' : 'binary:logistic',\n",
    "         'max_depth' : 6,\n",
    "         'eta': 0.3,\n",
    "         'colsample_bytree' : 1,\n",
    "         'subsample' : 1,\n",
    "         'silent' : 0\n",
    "         }\n",
    "\n",
    "nrounds = 2\n",
    "\n",
    "np.random.seed(100)\n",
    "xgb_model = xgb.train(param, \n",
    "                      dtrain_prod, \n",
    "                      num_boost_round = nrounds ,\n",
    "                      feval = eval_error,\n",
    "                      #maximize = True,\n",
    "                      #early_stopping_rounds = 10,\n",
    "                      )\n",
    "\n",
    "XGB_prediction = xgb_model.predict(dtest_prod)\n",
    "\n",
    "sub_XGB= pd.DataFrame({'inst_id' : sub_id , 'OC' : XGB_prediction })\n",
    "sub_XGB= sub_XGB[['inst_id', 'OC']]"
   ]
  },
  {
   "cell_type": "code",
   "execution_count": 88,
   "metadata": {},
   "outputs": [
    {
     "data": {
      "text/html": [
       "<div>\n",
       "<style scoped>\n",
       "    .dataframe tbody tr th:only-of-type {\n",
       "        vertical-align: middle;\n",
       "    }\n",
       "\n",
       "    .dataframe tbody tr th {\n",
       "        vertical-align: top;\n",
       "    }\n",
       "\n",
       "    .dataframe thead th {\n",
       "        text-align: right;\n",
       "    }\n",
       "</style>\n",
       "<table border=\"1\" class=\"dataframe\">\n",
       "  <thead>\n",
       "    <tr style=\"text-align: right;\">\n",
       "      <th></th>\n",
       "      <th>inst_id</th>\n",
       "      <th>OC</th>\n",
       "    </tr>\n",
       "  </thead>\n",
       "  <tbody>\n",
       "    <tr>\n",
       "      <th>0</th>\n",
       "      <td>2</td>\n",
       "      <td>0.637394</td>\n",
       "    </tr>\n",
       "    <tr>\n",
       "      <th>1</th>\n",
       "      <td>5</td>\n",
       "      <td>0.578671</td>\n",
       "    </tr>\n",
       "    <tr>\n",
       "      <th>2</th>\n",
       "      <td>6</td>\n",
       "      <td>0.409096</td>\n",
       "    </tr>\n",
       "    <tr>\n",
       "      <th>3</th>\n",
       "      <td>8</td>\n",
       "      <td>0.645067</td>\n",
       "    </tr>\n",
       "    <tr>\n",
       "      <th>4</th>\n",
       "      <td>10</td>\n",
       "      <td>0.705177</td>\n",
       "    </tr>\n",
       "  </tbody>\n",
       "</table>\n",
       "</div>"
      ],
      "text/plain": [
       "   inst_id        OC\n",
       "0        2  0.637394\n",
       "1        5  0.578671\n",
       "2        6  0.409096\n",
       "3        8  0.645067\n",
       "4       10  0.705177"
      ]
     },
     "execution_count": 88,
     "metadata": {},
     "output_type": "execute_result"
    }
   ],
   "source": [
    "sub_XGB.head() # 이것도 확률로 예측"
   ]
  },
  {
   "cell_type": "code",
   "execution_count": 93,
   "metadata": {},
   "outputs": [
    {
     "data": {
      "image/png": "[encoded data removed]",
      "text/plain": [
       "<Figure size 432x288 with 1 Axes>"
      ]
     },
     "metadata": {
      "needs_background": "light"
     },
     "output_type": "display_data"
    }
   ],
   "source": [
    "import seaborn as sns\n",
    "#PLotting the feature importance\n",
    "xgb_Imp = pd.DataFrame({'Features' : list(xgb_model.get_score().keys()), \n",
    "                        'Importance' : list(xgb_model.get_score().values())}).sort_values(['Importance'])\n",
    "plt.figure()\n",
    "sns.barplot(xgb_Imp.Importance, xgb_Imp.Features)\n",
    "plt.show() # 이전에 내가 했던 것과 결과는 비슷함을 볼 수 있다."
   ]
  },
  {
   "cell_type": "code",
   "execution_count": 95,
   "metadata": {},
   "outputs": [
    {
     "name": "stdout",
     "output_type": "stream",
     "text": [
      "     inst_id       XGB       GBM   RF       ens  OC\n",
      "1          5  0.578671  0.443177  0.8  0.607282   0\n",
      "2          6  0.409096  0.666447  0.6  0.558514   0\n",
      "13        30  0.409096  0.230173  0.5  0.379756   0\n",
      "20        48  0.409096  0.627227  0.8  0.612108   0\n",
      "22        64  0.409096  0.976699  0.7  0.695265   0\n",
      "40       123  0.409096  0.351031  0.8  0.520042   0\n",
      "52       165  0.667920  0.918182  0.5  0.695368   0\n",
      "83       254  0.409096  0.724379  0.6  0.577825   0\n",
      "84       258  0.409096  0.361162  0.8  0.523419   0\n",
      "88       293  0.409096  0.724379  0.8  0.644492   0\n",
      "99       341  0.409096  0.278068  0.6  0.429055   0\n",
      "120      413  0.409096  0.278068  0.6  0.429055   0\n",
      "122      424  0.409096  0.312302  0.5  0.407133   0\n",
      "123      425  0.409096  0.534269  0.5  0.481122   0\n",
      "124      429  0.409096  0.536108  0.7  0.548401   0\n",
      "126      431  0.409096  0.536108  0.8  0.581735   0\n"
     ]
    }
   ],
   "source": [
    "############################################################################\n",
    "#Ensembling the three models\n",
    "############################################################################\n",
    "\n",
    "#Forming the ensemble dataset of the 3 models\n",
    "ensemble = pd.DataFrame()\n",
    "ensemble['inst_id'] = sub_XGB['inst_id']\n",
    "ensemble['XGB'] = sub_XGB['OC']\n",
    "ensemble['GBM'] = sub_GBM['OC']\n",
    "ensemble['RF'] = sub_RF['OC']\n",
    "\n",
    "# Taking the average of all 3 models\n",
    "ensemble['ens'] = (ensemble['XGB'] + ensemble['GBM'] + ensemble['RF'])/3\n",
    "ensemble['OC'] = (ensemble['ens'] > 0.7).astype('int') #0.7 as the threshold and above that the hospital is closed.\n",
    "\n",
    "#Printing to see all the hospitals that are classified as closed \n",
    "print(ensemble.loc[ensemble['OC'] == 0, ])\n",
    "\n",
    "ensemble = ensemble.loc[:, ['inst_id', 'OC']]\n",
    "# 앙상블로 세 모델의 평균을 계산하여 예측하기\n",
    "# threshold는 0.7로 주어 병원의 폐업을 예측\n",
    "\n",
    "ensemble.to_csv('submission.csv', index = False)"
   ]
  },
  {
   "cell_type": "code",
   "execution_count": null,
   "metadata": {},
   "outputs": [],
   "source": []
  }
 ],
 "metadata": {
  "kernelspec": {
   "display_name": "Python 3",
   "language": "python",
   "name": "python3"
  },
  "language_info": {
   "codemirror_mode": {
    "name": "ipython",
    "version": 3
   },
   "file_extension": ".py",
   "mimetype": "text/x-python",
   "name": "python",
   "nbconvert_exporter": "python",
   "pygments_lexer": "ipython3",
   "version": "3.6.6"
  }
 },
 "nbformat": 4,
 "nbformat_minor": 2
}
