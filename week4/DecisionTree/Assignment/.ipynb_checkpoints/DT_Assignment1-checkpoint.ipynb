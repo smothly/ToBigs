{
 "cells": [
  {
   "cell_type": "markdown",
   "metadata": {},
   "source": [
    "# DT Assignment1"
   ]
  },
  {
   "cell_type": "markdown",
   "metadata": {},
   "source": [
    "# Data Loading"
   ]
  },
  {
   "cell_type": "code",
   "execution_count": 1,
   "metadata": {},
   "outputs": [],
   "source": [
    "import pandas as pd \n",
    "import numpy as np"
   ]
  },
  {
   "cell_type": "code",
   "execution_count": 2,
   "metadata": {},
   "outputs": [
    {
     "data": {
      "text/html": [
       "<div>\n",
       "<style scoped>\n",
       "    .dataframe tbody tr th:only-of-type {\n",
       "        vertical-align: middle;\n",
       "    }\n",
       "\n",
       "    .dataframe tbody tr th {\n",
       "        vertical-align: top;\n",
       "    }\n",
       "\n",
       "    .dataframe thead th {\n",
       "        text-align: right;\n",
       "    }\n",
       "</style>\n",
       "<table border=\"1\" class=\"dataframe\">\n",
       "  <thead>\n",
       "    <tr style=\"text-align: right;\">\n",
       "      <th></th>\n",
       "      <th>age</th>\n",
       "      <th>income</th>\n",
       "      <th>student</th>\n",
       "      <th>credit_rating</th>\n",
       "      <th>class_buys_computer</th>\n",
       "    </tr>\n",
       "  </thead>\n",
       "  <tbody>\n",
       "    <tr>\n",
       "      <th>0</th>\n",
       "      <td>youth</td>\n",
       "      <td>high</td>\n",
       "      <td>no</td>\n",
       "      <td>fair</td>\n",
       "      <td>no</td>\n",
       "    </tr>\n",
       "    <tr>\n",
       "      <th>1</th>\n",
       "      <td>youth</td>\n",
       "      <td>high</td>\n",
       "      <td>no</td>\n",
       "      <td>excellent</td>\n",
       "      <td>no</td>\n",
       "    </tr>\n",
       "    <tr>\n",
       "      <th>2</th>\n",
       "      <td>middle_aged</td>\n",
       "      <td>high</td>\n",
       "      <td>no</td>\n",
       "      <td>fair</td>\n",
       "      <td>yes</td>\n",
       "    </tr>\n",
       "    <tr>\n",
       "      <th>3</th>\n",
       "      <td>senior</td>\n",
       "      <td>medium</td>\n",
       "      <td>no</td>\n",
       "      <td>fair</td>\n",
       "      <td>yes</td>\n",
       "    </tr>\n",
       "    <tr>\n",
       "      <th>4</th>\n",
       "      <td>senior</td>\n",
       "      <td>low</td>\n",
       "      <td>yes</td>\n",
       "      <td>fair</td>\n",
       "      <td>yes</td>\n",
       "    </tr>\n",
       "    <tr>\n",
       "      <th>5</th>\n",
       "      <td>senior</td>\n",
       "      <td>low</td>\n",
       "      <td>yes</td>\n",
       "      <td>excellent</td>\n",
       "      <td>no</td>\n",
       "    </tr>\n",
       "    <tr>\n",
       "      <th>6</th>\n",
       "      <td>middle_aged</td>\n",
       "      <td>low</td>\n",
       "      <td>yes</td>\n",
       "      <td>excellent</td>\n",
       "      <td>yes</td>\n",
       "    </tr>\n",
       "    <tr>\n",
       "      <th>7</th>\n",
       "      <td>youth</td>\n",
       "      <td>medium</td>\n",
       "      <td>no</td>\n",
       "      <td>fair</td>\n",
       "      <td>no</td>\n",
       "    </tr>\n",
       "    <tr>\n",
       "      <th>8</th>\n",
       "      <td>youth</td>\n",
       "      <td>low</td>\n",
       "      <td>yes</td>\n",
       "      <td>fair</td>\n",
       "      <td>yes</td>\n",
       "    </tr>\n",
       "    <tr>\n",
       "      <th>9</th>\n",
       "      <td>senior</td>\n",
       "      <td>medium</td>\n",
       "      <td>yes</td>\n",
       "      <td>fair</td>\n",
       "      <td>yes</td>\n",
       "    </tr>\n",
       "    <tr>\n",
       "      <th>10</th>\n",
       "      <td>youth</td>\n",
       "      <td>medium</td>\n",
       "      <td>yes</td>\n",
       "      <td>excellent</td>\n",
       "      <td>yes</td>\n",
       "    </tr>\n",
       "    <tr>\n",
       "      <th>11</th>\n",
       "      <td>middle_aged</td>\n",
       "      <td>medium</td>\n",
       "      <td>no</td>\n",
       "      <td>excellent</td>\n",
       "      <td>yes</td>\n",
       "    </tr>\n",
       "    <tr>\n",
       "      <th>12</th>\n",
       "      <td>middle_aged</td>\n",
       "      <td>high</td>\n",
       "      <td>yes</td>\n",
       "      <td>fair</td>\n",
       "      <td>yes</td>\n",
       "    </tr>\n",
       "    <tr>\n",
       "      <th>13</th>\n",
       "      <td>senior</td>\n",
       "      <td>medium</td>\n",
       "      <td>no</td>\n",
       "      <td>excellent</td>\n",
       "      <td>no</td>\n",
       "    </tr>\n",
       "  </tbody>\n",
       "</table>\n",
       "</div>"
      ],
      "text/plain": [
       "            age  income student credit_rating class_buys_computer\n",
       "0         youth    high      no          fair                  no\n",
       "1         youth    high      no     excellent                  no\n",
       "2   middle_aged    high      no          fair                 yes\n",
       "3        senior  medium      no          fair                 yes\n",
       "4        senior     low     yes          fair                 yes\n",
       "5        senior     low     yes     excellent                  no\n",
       "6   middle_aged     low     yes     excellent                 yes\n",
       "7         youth  medium      no          fair                  no\n",
       "8         youth     low     yes          fair                 yes\n",
       "9        senior  medium     yes          fair                 yes\n",
       "10        youth  medium     yes     excellent                 yes\n",
       "11  middle_aged  medium      no     excellent                 yes\n",
       "12  middle_aged    high     yes          fair                 yes\n",
       "13       senior  medium      no     excellent                  no"
      ]
     },
     "execution_count": 2,
     "metadata": {},
     "output_type": "execute_result"
    }
   ],
   "source": [
    "pd_data = pd.read_csv('https://raw.githubusercontent.com/AugustLONG/ML01/master/01decisiontree/AllElectronics.csv')\n",
    "pd_data.drop(\"RID\",axis=1, inplace = True) #RID는 그냥 순서라서 삭제\n",
    "pd_data"
   ]
  },
  {
   "cell_type": "markdown",
   "metadata": {},
   "source": [
    "# 1. Gini 계수를 구하는 함수 만들기"
   ]
  },
  {
   "cell_type": "markdown",
   "metadata": {},
   "source": [
    "- Input: df(데이터), label(타겟변수명)\n",
    "- 해당 결과는 아래와 같이 나와야 합니다."
   ]
  },
  {
   "cell_type": "code",
   "execution_count": 3,
   "metadata": {},
   "outputs": [
    {
     "data": {
      "text/plain": [
       "yes    9\n",
       "no     5\n",
       "Name: class_buys_computer, dtype: int64"
      ]
     },
     "execution_count": 3,
     "metadata": {},
     "output_type": "execute_result"
    }
   ],
   "source": [
    "pd_data['class_buys_computer'].value_counts()"
   ]
  },
  {
   "cell_type": "code",
   "execution_count": 4,
   "metadata": {},
   "outputs": [],
   "source": [
    "# 분자는 타깃변수의 정답개수\n",
    "# 분모는 Di의 전체갯수\n",
    "\n",
    "def get_gini(df, label):\n",
    "    labelClassCount = df[label].value_counts() # Label의 class별 count\n",
    "    eachClassCount = labelClassCount.values #클래스별 개수 \n",
    "    allCount = len(df[label])  #전체 개수\n",
    "    \n",
    "    # gini계수 구하기\n",
    "    # 1 - sum( (클래스별개수/전체개수)의 제곱 )\n",
    "    gini = 1 - sum([(count/allCount)**2 for count in eachClassCount])\n",
    "    \n",
    "    return gini"
   ]
  },
  {
   "cell_type": "code",
   "execution_count": 5,
   "metadata": {},
   "outputs": [
    {
     "data": {
      "text/plain": [
       "0.4591836734693877"
      ]
     },
     "execution_count": 5,
     "metadata": {},
     "output_type": "execute_result"
    }
   ],
   "source": [
    "get_gini(pd_data,'class_buys_computer') #0.4591836734693877"
   ]
  },
  {
   "cell_type": "markdown",
   "metadata": {},
   "source": [
    "# 2. Feature의 Class를 이진 분류로 만들기\n",
    " ## ex) {A,B,C} -> ({A}, {B,C}), ({B}, {A,C}), ({C}, {A,B})"
   ]
  },
  {
   "cell_type": "markdown",
   "metadata": {},
   "source": [
    "- Input: df(데이터), attribute(Gini index를 구하고자 하는 변수명)\n",
    "- 해당 결과는 아래와 같이 나와야 합니다."
   ]
  },
  {
   "cell_type": "code",
   "execution_count": 6,
   "metadata": {},
   "outputs": [],
   "source": [
    "def get_binary_split(df, attribute):\n",
    "    result = list()\n",
    "    attrList = list(df[attribute].unique()) # 각 attribute구하기\n",
    "    for eachAttribute in attrList: # 각 attribute를 첫번째 set으로 놓기\n",
    "        index = attrList.index(eachAttribute) # set 구분하기 위한 index\n",
    "        result.append([[eachAttribute],\n",
    "                        attrList[:index] + attrList[index+1:]]) # 첫번째 set 제외하고 나머지를 otherset으로 두어 결과에 추가\n",
    "        \n",
    "    return result"
   ]
  },
  {
   "cell_type": "code",
   "execution_count": 7,
   "metadata": {},
   "outputs": [
    {
     "data": {
      "text/plain": [
       "[[['youth'], ['middle_aged', 'senior']],\n",
       " [['middle_aged'], ['youth', 'senior']],\n",
       " [['senior'], ['youth', 'middle_aged']]]"
      ]
     },
     "execution_count": 7,
     "metadata": {},
     "output_type": "execute_result"
    }
   ],
   "source": [
    "get_binary_split(pd_data,\"age\")"
   ]
  },
  {
   "cell_type": "markdown",
   "metadata": {},
   "source": [
    "# 3. 다음은 모든 이진분류의 경우의 Gini index를 구하는 함수 만들기\n",
    "- 위에서 완성한 두 함수를 사용하여 만들어주세요!\n",
    "- 해당 결과는 아래와 같이 나와야 합니다."
   ]
  },
  {
   "cell_type": "code",
   "execution_count": 8,
   "metadata": {},
   "outputs": [],
   "source": [
    "def get_attribute_gini_index(df, attribute, label):\n",
    "\n",
    "    binarySet = get_binary_split(df, attribute)\n",
    "    allCount = len(df) # 전체 레코드 개수 \n",
    "    result = dict()\n",
    "    \n",
    "    for _ in binarySet:\n",
    "        # 나눠진 셋 [['youth'], ['middle_aged', 'senior']]\n",
    "        for eachSet in _:\n",
    "            # 각각의 셋 ex) ['youth'], ['middle_aged', 'senior']\n",
    "\n",
    "            giniDf = pd.DataFrame() # concat할 임시 데이터 프레임\n",
    "            for attrName in eachSet:\n",
    "                tempDf = df[df[attribute] == attrName] # \n",
    "                giniDf = pd.concat([giniDf, tempDf])\n",
    "            \n",
    "            df1 = giniDf # attrName 셋\n",
    "            df2 = pd_data.drop(giniDf.index) # 나머지 셋\n",
    "            \n",
    "            gini1 = get_gini(df1, label) # 첫번째 셋 지니계수 구하기\n",
    "            gini2 = get_gini(df2, label) # 나머지 지니계수 구하기\n",
    "            \n",
    "            key = (' & ').join(eachSet) # key이름 만들기 ex) youth & middle_aged\n",
    "            \n",
    "            # set1의개수/전체개수 * gini(d1) + set2의개수/전체개수 * gini(d2)... \n",
    "            result[key] = (len(df1)/allCount * gini1) + (len(df2)/allCount * gini2)\n",
    "\n",
    "    return result"
   ]
  },
  {
   "cell_type": "code",
   "execution_count": 9,
   "metadata": {},
   "outputs": [
    {
     "data": {
      "text/plain": [
       "{'youth': 0.3936507936507937,\n",
       " 'middle_aged & senior': 0.3936507936507937,\n",
       " 'middle_aged': 0.35714285714285715,\n",
       " 'youth & senior': 0.35714285714285715,\n",
       " 'senior': 0.45714285714285713,\n",
       " 'youth & middle_aged': 0.45714285714285713}"
      ]
     },
     "execution_count": 9,
     "metadata": {},
     "output_type": "execute_result"
    }
   ],
   "source": [
    "get_attribute_gini_index(pd_data, \"age\", \"class_buys_computer\")"
   ]
  },
  {
   "cell_type": "markdown",
   "metadata": {},
   "source": [
    "여기서 가장 작은 Gini index값을 가지는 class를 기준으로 split해야겠죠?"
   ]
  },
  {
   "cell_type": "code",
   "execution_count": 10,
   "metadata": {},
   "outputs": [
    {
     "data": {
      "text/plain": [
       "('middle_aged', 0.35714285714285715)"
      ]
     },
     "execution_count": 10,
     "metadata": {},
     "output_type": "execute_result"
    }
   ],
   "source": [
    "min(get_attribute_gini_index(pd_data, \"age\", \"class_buys_computer\").items())\n",
    "# ('middle_aged', 0.35714285714285715)"
   ]
  },
  {
   "cell_type": "markdown",
   "metadata": {},
   "source": [
    "# 다음의 문제를 위에서 작성한 함수를 통해 구한 값으로 보여주세요!\n",
    "## 문제1) 변수 ‘income’의 이진분류 결과를 보여주세요.\n",
    "\n",
    "## 문제2) 분류를 하는 데 가장 중요한 변수를 선정하고, 해당 변수의 Gini index를 제시해주세요.\n",
    "\n",
    "## 문제3) 문제 2에서 제시한 feature로 DataFrame을 split한 후 나눠진 2개의 DataFrame에서 각각   다음으로 중요한 변수를 선정하고 해당 변수의 Gini index를 제시해주세요."
   ]
  },
  {
   "cell_type": "code",
   "execution_count": 11,
   "metadata": {},
   "outputs": [
    {
     "data": {
      "text/plain": [
       "[[['high'], ['medium', 'low']],\n",
       " [['medium'], ['high', 'low']],\n",
       " [['low'], ['high', 'medium']]]"
      ]
     },
     "execution_count": 11,
     "metadata": {},
     "output_type": "execute_result"
    }
   ],
   "source": [
    "##문제1 답안\n",
    "get_binary_split(pd_data, \"income\")"
   ]
  },
  {
   "cell_type": "code",
   "execution_count": 12,
   "metadata": {},
   "outputs": [
    {
     "name": "stdout",
     "output_type": "stream",
     "text": [
      "('middle_aged', 0.35714285714285715)\n"
     ]
    },
    {
     "data": {
      "text/plain": [
       "{'age': ('middle_aged', 0.35714285714285715),\n",
       " 'income': ('high', 0.4428571428571429),\n",
       " 'student': ('no', 0.3673469387755103),\n",
       " 'credit_rating': ('excellent', 0.42857142857142855)}"
      ]
     },
     "execution_count": 12,
     "metadata": {},
     "output_type": "execute_result"
    }
   ],
   "source": [
    "##문제2 답안\n",
    "\n",
    "# 분류를 하는 데 가장 중요한 변수 : gini index가 가장 낮은 feature\n",
    "featureGini = dict()\n",
    "\n",
    "for column in pd_data.columns[:-1]: #'class_buys_computer'빼고 모든 feature의 지니인덱스 구하기\n",
    "    gini = min(get_attribute_gini_index(pd_data, column, \"class_buys_computer\").items())\n",
    "    featureGini[column] = gini # key = column명, value = ('set', gini_index)\n",
    "    \n",
    "print(sorted(featureGini.values(), key=lambda x:x[1])[0])\n",
    "featureGini"
   ]
  },
  {
   "cell_type": "code",
   "execution_count": 13,
   "metadata": {},
   "outputs": [
    {
     "name": "stdout",
     "output_type": "stream",
     "text": [
      "df1 split feature : income ('high', 1.458333333333333)\n",
      "df2 split feature : age ('no', 0.33777777777777773)\n"
     ]
    }
   ],
   "source": [
    "##문제3 답안\n",
    "splitKey = list(featureGini.keys())[0] # gini_index가 제일 낮은 feature\n",
    "\n",
    "# feature의 set기준으로 dataframe분리\n",
    "df1 = pd_data[pd_data[splitKey] == featureGini[splitKey][0]] \n",
    "df2 = pd_data[pd_data[splitKey] != featureGini[splitKey][0]]\n",
    "\n",
    "# columnList에서 label하고 splitKey 제거\n",
    "columnList = list(pd_data.columns[:-1])\n",
    "columnList.remove(splitKey)\n",
    "\n",
    "featureGini1 = dict()\n",
    "\n",
    "# middle_age로 분리된 df1\n",
    "for column in columnList:\n",
    "    gini = min(get_attribute_gini_index(df1, column, \"class_buys_computer\").items())\n",
    "    featureGini1[column] = gini\n",
    "print(\"df1 split feature :\",\n",
    "      list(featureGini1.keys())[0],\n",
    "      sorted(featureGini1.values(), key=lambda x:x[1])[0])\n",
    "\n",
    "# youth & senior로 분리된 df2\n",
    "# 얘는 age가 2클래스가 남아있기 때문에 age의 gini_index도 구해줘야 한다.\n",
    "featureGini2 = dict()\n",
    "for column in pd_data.columns[:-1]:\n",
    "    gini = min(get_attribute_gini_index(df2, column, \"class_buys_computer\").items())\n",
    "    featureGini2[column] = gini\n",
    "print(\"df2 split feature :\",\n",
    "      list(featureGini2.keys())[0],\n",
    "      sorted(featureGini2.values(), key=lambda x:x[1])[0])"
   ]
  },
  {
   "cell_type": "markdown",
   "metadata": {},
   "source": [
    "# DT Assignment2\n",
    "# ID3 Algorithm"
   ]
  },
  {
   "cell_type": "code",
   "execution_count": 14,
   "metadata": {},
   "outputs": [],
   "source": [
    "from math import log2\n",
    "\n",
    "def get_entropy(df, label):\n",
    "    labelClassCount = df[label].value_counts() # Label의 class별 count\n",
    "    eachClassCount = labelClassCount.values #클래스별 개수 \n",
    "    allCount = len(df[label])  #전체 개수\n",
    "    \n",
    "    # entropy 구하기\n",
    "    # -label개수/전체개수 x log2(label개수/전체개수)의 합이다.\n",
    "    entropy = sum([-(count/allCount) * log2(count/allCount) for count in eachClassCount])\n",
    "    \n",
    "    return entropy"
   ]
  },
  {
   "cell_type": "code",
   "execution_count": 15,
   "metadata": {},
   "outputs": [
    {
     "data": {
      "text/plain": [
       "0.9402859586706311"
      ]
     },
     "execution_count": 15,
     "metadata": {},
     "output_type": "execute_result"
    }
   ],
   "source": [
    "# 전체 Information 구하기\n",
    "# info(D) = entropy(label)\n",
    "infoD = get_entropy(pd_data, 'class_buys_computer')\n",
    "infoD"
   ]
  },
  {
   "cell_type": "code",
   "execution_count": 21,
   "metadata": {},
   "outputs": [
    {
     "data": {
      "text/plain": [
       "0.31610343366405846"
      ]
     },
     "execution_count": 21,
     "metadata": {},
     "output_type": "execute_result"
    }
   ],
   "source": [
    "# 각 feature의 Information Gain 구하기\n",
    "def featureInfo(df, feature, label):\n",
    "    \n",
    "    labelClassCount = df[feature].value_counts() # feature의 class별 count\n",
    "    eachClassCount = labelClassCount.values #클래스별 개수 \n",
    "    allCount = len(df[feature])  #전체 개수\n",
    "    \n",
    "    infoA = 0\n",
    "    for i, element in enumerate(df[feature].unique()):\n",
    "        # class개수/전체개수 * 엔트로피\n",
    "        infoA += eachClassCount[i]/allCount \\\n",
    "                * get_entropy(df[df[feature] == element], label)\n",
    "    \n",
    "    return infoD - infoA #전체IG - featurIG\n",
    "featureInfo(pd_data, 'age', 'class_buys_computer')"
   ]
  },
  {
   "cell_type": "code",
   "execution_count": 22,
   "metadata": {},
   "outputs": [
    {
     "data": {
      "text/plain": [
       "('age', 0.31610343366405846)"
      ]
     },
     "execution_count": 22,
     "metadata": {},
     "output_type": "execute_result"
    }
   ],
   "source": [
    "IG_Dict = dict()\n",
    "for column in pd_data.columns[:-1]:\n",
    "    IG_Dict[column] = featureInfo(pd_data, column, 'class_buys_computer')\n",
    "sorted(IG_Dict.items(), key=lambda x:x[1], reverse=True)[0]"
   ]
  },
  {
   "cell_type": "code",
   "execution_count": null,
   "metadata": {},
   "outputs": [],
   "source": []
  }
 ],
 "metadata": {
  "kernelspec": {
   "display_name": "Python 3",
   "language": "python",
   "name": "python3"
  },
  "language_info": {
   "codemirror_mode": {
    "name": "ipython",
    "version": 3
   },
   "file_extension": ".py",
   "mimetype": "text/x-python",
   "name": "python",
   "nbconvert_exporter": "python",
   "pygments_lexer": "ipython3",
   "version": "3.6.6"
  }
 },
 "nbformat": 4,
 "nbformat_minor": 2
}
