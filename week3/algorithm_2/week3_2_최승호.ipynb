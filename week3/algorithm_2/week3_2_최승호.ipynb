{
 "cells": [
  {
   "cell_type": "markdown",
   "metadata": {},
   "source": [
    "# 이상한 호텔\n",
    "“m층의n호에숙박하려면자신의아래(m-1)층의1호부터n호까지\n",
    "사람들의수의합만큼사람들을데려와투숙해야한다”\n",
    "\n",
    "## ex)\n",
    "#### [1, 2, 3, 4, 5] 0층\n",
    "#### [1, 3, 6, 10, 15] 1층\n",
    "#### [1, 4, 10, 20, 35] 2층\n",
    "#### [1, 5, 15, 35, 70] 3층\n",
    "#### [1, 6, 21, 56, 126] 4층"
   ]
  },
  {
   "cell_type": "code",
   "execution_count": 78,
   "metadata": {},
   "outputs": [
    {
     "name": "stdin",
     "output_type": "stream",
     "text": [
      " 5\n",
      " 6\n"
     ]
    }
   ],
   "source": [
    "m = int(input())\n",
    "n = int(input())"
   ]
  },
  {
   "cell_type": "code",
   "execution_count": 79,
   "metadata": {},
   "outputs": [],
   "source": [
    "t = [list(range(1, n+1))]"
   ]
  },
  {
   "cell_type": "code",
   "execution_count": 80,
   "metadata": {},
   "outputs": [
    {
     "data": {
      "text/plain": [
       "[[1, 2, 3, 4, 5, 6]]"
      ]
     },
     "execution_count": 80,
     "metadata": {},
     "output_type": "execute_result"
    }
   ],
   "source": [
    "t"
   ]
  },
  {
   "cell_type": "code",
   "execution_count": 81,
   "metadata": {},
   "outputs": [
    {
     "name": "stdout",
     "output_type": "stream",
     "text": [
      "462\n"
     ]
    }
   ],
   "source": [
    "for i in range(m):\n",
    "    temp = list()\n",
    "    for j in range(n):\n",
    "        temp.append(sum(t[i][:j+1]))\n",
    "    t.append(temp.copy())\n",
    "print(t[-1][-1])"
   ]
  },
  {
   "cell_type": "code",
   "execution_count": null,
   "metadata": {},
   "outputs": [],
   "source": []
  }
 ],
 "metadata": {
  "kernelspec": {
   "display_name": "Python 3",
   "language": "python",
   "name": "python3"
  },
  "language_info": {
   "codemirror_mode": {
    "name": "ipython",
    "version": 3
   },
   "file_extension": ".py",
   "mimetype": "text/x-python",
   "name": "python",
   "nbconvert_exporter": "python",
   "pygments_lexer": "ipython3",
   "version": "3.6.6"
  }
 },
 "nbformat": 4,
 "nbformat_minor": 2
}
