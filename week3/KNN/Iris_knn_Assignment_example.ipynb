{
 "cells": [
  {
   "cell_type": "code",
   "execution_count": 4,
   "metadata": {},
   "outputs": [],
   "source": [
    "import numpy as np\n",
    "import pandas as pd\n",
    "from sklearn.datasets import load_iris\n",
    "from sklearn.model_selection import train_test_split \n",
    "from sklearn.neighbors import KNeighborsClassifier\n",
    "import math"
   ]
  },
  {
   "cell_type": "code",
   "execution_count": 5,
   "metadata": {},
   "outputs": [],
   "source": [
    "iris = load_iris()"
   ]
  },
  {
   "cell_type": "code",
   "execution_count": 6,
   "metadata": {},
   "outputs": [],
   "source": [
    "#iris.data -> features, iris.target -> labels\n",
    "X = iris.data\n",
    "y = iris.target"
   ]
  },
  {
   "cell_type": "markdown",
   "metadata": {},
   "source": [
    "- About data : https://www.kaggle.com/uciml/iris"
   ]
  },
  {
   "cell_type": "code",
   "execution_count": 7,
   "metadata": {},
   "outputs": [],
   "source": [
    "# split into test and train dataset, and use random_state=48\n",
    "X_train, X_test, y_train, y_test = train_test_split(X, y, test_size = 0.3, random_state=48)"
   ]
  },
  {
   "cell_type": "code",
   "execution_count": 8,
   "metadata": {},
   "outputs": [],
   "source": [
    "from sklearn.preprocessing import StandardScaler"
   ]
  },
  {
   "cell_type": "markdown",
   "metadata": {},
   "source": [
    "- Documentation for \"StandardScaler\" : https://scikit-learn.org/stable/modules/generated/sklearn.preprocessing.StandardScaler.html"
   ]
  },
  {
   "cell_type": "code",
   "execution_count": 9,
   "metadata": {},
   "outputs": [],
   "source": [
    "ss = StandardScaler()\n",
    "\n",
    "X_train=ss.fit_transform(X_train)\n",
    "X_test=ss.transform(X_test)"
   ]
  },
  {
   "cell_type": "code",
   "execution_count": 10,
   "metadata": {},
   "outputs": [],
   "source": [
    "trainSet=np.column_stack((X_train, y_train))\n",
    "testSet=np.column_stack((X_test, y_test))"
   ]
  },
  {
   "cell_type": "markdown",
   "metadata": {},
   "source": [
    "### KNN Classifier Implementation"
   ]
  },
  {
   "cell_type": "code",
   "execution_count": 11,
   "metadata": {},
   "outputs": [
    {
     "data": {
      "text/plain": [
       "array([0, 1, 2], dtype=int64)"
      ]
     },
     "execution_count": 11,
     "metadata": {},
     "output_type": "execute_result"
    }
   ],
   "source": [
    "pd.Series(y).unique() # 3가지 종류가 있음을 알 수 있다."
   ]
  },
  {
   "cell_type": "code",
   "execution_count": 23,
   "metadata": {},
   "outputs": [],
   "source": [
    "from scipy.spatial import distance\n",
    "from numpy.linalg import inv\n",
    "\n",
    "# mahalonobis 거리를 활용하기 위한 공분산행렬이다.\n",
    "cov_matrix = np.cov(X_train.T)\n",
    "\n",
    "def getDistance(p, instance1, instance2):\n",
    "    # p=1 : return Manhattan Distance\n",
    "    # p=2 : return Eucludean Distance\n",
    "    # p=3 : return Mahalonobis Distance\n",
    "    # p=4 : return Correlation Distance\n",
    "    if p == 1:\n",
    "        return distance.cityblock(instance1[:-1], instance2[:-1]) #cityblock이 manhattan거리이다.\n",
    "\n",
    "    elif p == 2:\n",
    "        return distance.euclidean(instance1[:-1], instance2[:-1])\n",
    "\n",
    "    elif p == 3:    \n",
    "        cov_matrix = np.cov(X_train.T)\n",
    "        return distance.mahalanobis(instance1[:-1], instance2[:-1], inv(cov_matrix))\n",
    "    \n",
    "    elif p == 4:\n",
    "        return distance.correlation(instance1[:-1], instance2[:-1])"
   ]
  },
  {
   "cell_type": "code",
   "execution_count": 24,
   "metadata": {},
   "outputs": [],
   "source": [
    "def getNeighbors(p, trainSet, testInstance, k):\n",
    "    \n",
    "    neighbors = list()\n",
    "    for i in range(len(trainSet)):\n",
    "        # trainSet의 index와 거리를 같이 저장한다.\n",
    "        neighbors.append((i, getDistance(p, trainSet[i], testInstance)))\n",
    "    \n",
    "    #이웃중에서 거리가 가장 짧은 k개만 뽑는다\n",
    "    return sorted(neighbors, key=lambda x:x[1])[:k]"
   ]
  },
  {
   "cell_type": "code",
   "execution_count": 25,
   "metadata": {},
   "outputs": [],
   "source": [
    "import operator\n",
    "from collections import Counter\n",
    "\n",
    "def getResponse(neighbors):\n",
    "    # 0은 인덱스 1은 거리값\n",
    "    # 정답(class)값만 담고있는 리스트 생성\n",
    "    result = [trainSet[each[0]][-1] for each in neighbors]\n",
    "\n",
    "    # 가장 많이나온 정답(class)가 무엇인지 알려주기\n",
    "    counter = Counter(result)\n",
    "    vote = max(result, key=counter.get)\n",
    "\n",
    "    return vote"
   ]
  },
  {
   "cell_type": "code",
   "execution_count": 26,
   "metadata": {},
   "outputs": [],
   "source": [
    "def getAccuracy(testSet, predictions):\n",
    "    answer_count = 0\n",
    "    for i in range(len(predictions)):\n",
    "        if predictions[i] == testSet[i][-1]:\n",
    "            answer_count += 1\n",
    "\n",
    "    accuracy_score = answer_count / len(testSet)\n",
    "    return accuracy_score"
   ]
  },
  {
   "cell_type": "code",
   "execution_count": 27,
   "metadata": {},
   "outputs": [
    {
     "name": "stdout",
     "output_type": "stream",
     "text": [
      "Accuracy: 0.8888888888888888%\n"
     ]
    },
    {
     "data": {
      "text/plain": [
       "0.8888888888888888"
      ]
     },
     "execution_count": 27,
     "metadata": {},
     "output_type": "execute_result"
    }
   ],
   "source": [
    "k = 3\n",
    "p = 2 # Euclidean distance\n",
    "\n",
    "def KNN(p, trainSet, testSet, k):\n",
    "    predictions=[]    \n",
    "    for i in range(len(testSet)):\n",
    "        neighbors = getNeighbors(p, trainSet, testSet[i], k)\n",
    "        result = getResponse(neighbors)\n",
    "        predictions.append(result)\n",
    "#         print(str(i) + ' > predicted : ' + str(result) + ', actual : ' + str(testSet[i][-1]))\n",
    "    accuracy = getAccuracy(testSet, predictions)\n",
    "    print('Accuracy: ' + str(accuracy) + '%')\n",
    "    \n",
    "    return accuracy\n",
    "\n",
    "KNN(p, trainSet, testSet, k)"
   ]
  },
  {
   "cell_type": "markdown",
   "metadata": {},
   "source": [
    "# 거리를 4가지 방법으로 해서 accuracy비교!\n",
    "### manhatan거리가 정확률이 제일 좋게 나온다."
   ]
  },
  {
   "cell_type": "code",
   "execution_count": 28,
   "metadata": {},
   "outputs": [
    {
     "name": "stdout",
     "output_type": "stream",
     "text": [
      "Accuracy: 0.9111111111111111%\n",
      "Accuracy: 0.8888888888888888%\n",
      "Accuracy: 0.8444444444444444%\n",
      "Accuracy: 0.7111111111111111%\n"
     ]
    }
   ],
   "source": [
    "for p in range(1, 5):\n",
    "    KNN(p, trainSet, testSet, k)"
   ]
  },
  {
   "cell_type": "markdown",
   "metadata": {},
   "source": [
    "# 적절한 k 값 찾기\n",
    "### accuracy가 높았던 manhatan거리와 euclidean거리를 사용하도록 한다."
   ]
  },
  {
   "cell_type": "code",
   "execution_count": 30,
   "metadata": {},
   "outputs": [
    {
     "name": "stdout",
     "output_type": "stream",
     "text": [
      "manhatan\n",
      "Accuracy: 0.8888888888888888%\n",
      "Accuracy: 0.8888888888888888%\n",
      "Accuracy: 0.9111111111111111%\n",
      "Accuracy: 0.8888888888888888%\n",
      "Accuracy: 0.8888888888888888%\n",
      "Accuracy: 0.8888888888888888%\n",
      "Accuracy: 0.8888888888888888%\n",
      "Accuracy: 0.8888888888888888%\n",
      "Accuracy: 0.9111111111111111%\n",
      "Accuracy: 0.9111111111111111%\n",
      "Accuracy: 0.9333333333333333%\n",
      "Accuracy: 0.9111111111111111%\n",
      "Accuracy: 0.9555555555555556%\n",
      "Accuracy: 0.9111111111111111%\n",
      "Accuracy: 0.8888888888888888%\n",
      "Accuracy: 0.9111111111111111%\n",
      "Accuracy: 0.9111111111111111%\n",
      "Accuracy: 0.8888888888888888%\n",
      "Accuracy: 0.9111111111111111%\n",
      "k : 13\n",
      "euclidean\n",
      "Accuracy: 0.8666666666666667%\n",
      "Accuracy: 0.8666666666666667%\n",
      "Accuracy: 0.8888888888888888%\n",
      "Accuracy: 0.8888888888888888%\n",
      "Accuracy: 0.8888888888888888%\n",
      "Accuracy: 0.8888888888888888%\n",
      "Accuracy: 0.9111111111111111%\n",
      "Accuracy: 0.9111111111111111%\n",
      "Accuracy: 0.9111111111111111%\n",
      "Accuracy: 0.9111111111111111%\n",
      "Accuracy: 0.9333333333333333%\n",
      "Accuracy: 0.9111111111111111%\n",
      "Accuracy: 0.9111111111111111%\n",
      "Accuracy: 0.9111111111111111%\n",
      "Accuracy: 0.8888888888888888%\n",
      "Accuracy: 0.8666666666666667%\n",
      "Accuracy: 0.8888888888888888%\n",
      "Accuracy: 0.8888888888888888%\n",
      "Accuracy: 0.8888888888888888%\n",
      "k : 11\n"
     ]
    }
   ],
   "source": [
    "p = 1\n",
    "print(\"manhatan\")\n",
    "# for k in range(1, 10):\n",
    "k_value = [KNN(p, trainSet, testSet, k) for k in range(1, 20)]\n",
    "print(\"k :\", k_value.index(max(k_value)) + 1)\n",
    "p = 2\n",
    "print(\"euclidean\")\n",
    "k_value = [KNN(p, trainSet, testSet, k) for k in range(1, 20)]\n",
    "print(\"k :\", k_value.index(max(k_value)) + 1)"
   ]
  },
  {
   "cell_type": "markdown",
   "metadata": {},
   "source": [
    "#### 3개의 클래스라 3개가 제일 높을 줄 알았는데 훈련데이터에 따라 달라 k가 다른숫자일 때도 높게 나오기도 함을 볼 수 있다."
   ]
  },
  {
   "cell_type": "code",
   "execution_count": null,
   "metadata": {},
   "outputs": [],
   "source": []
  }
 ],
 "metadata": {
  "kernelspec": {
   "display_name": "Python 3",
   "language": "python",
   "name": "python3"
  },
  "language_info": {
   "codemirror_mode": {
    "name": "ipython",
    "version": 3
   },
   "file_extension": ".py",
   "mimetype": "text/x-python",
   "name": "python",
   "nbconvert_exporter": "python",
   "pygments_lexer": "ipython3",
   "version": "3.6.6"
  }
 },
 "nbformat": 4,
 "nbformat_minor": 2
}
