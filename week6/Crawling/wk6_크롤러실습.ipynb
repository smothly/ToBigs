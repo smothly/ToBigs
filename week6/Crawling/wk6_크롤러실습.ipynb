{
 "cells": [
  {
   "cell_type": "code",
   "execution_count": 1,
   "metadata": {},
   "outputs": [],
   "source": [
    "import time\n",
    "from time import sleep\n",
    "import re\n",
    "from tqdm import tqdm\n",
    "from random import randint\n",
    "\n",
    "# Import BeautifulSoup and requests module\n",
    "from bs4 import BeautifulSoup as bs\n",
    "import requests"
   ]
  },
  {
   "cell_type": "code",
   "execution_count": 2,
   "metadata": {
    "scrolled": true
   },
   "outputs": [
    {
     "data": {
      "text/plain": [
       "200"
      ]
     },
     "execution_count": 2,
     "metadata": {},
     "output_type": "execute_result"
    }
   ],
   "source": [
    "headers = {'User-Agent': 'Mozilla/5.0 (Macintosh; InteSl Mac O X 10_10_1) AppleWebKit/537.36 (KHTML, like Gecko) Chrome/39.0.2171.95 Safari/537.36'}\n",
    "my_url = \"http://www.pythonscraping.com/exercises/exercise1.html\"\n",
    "\n",
    "# 사이트 요청 \n",
    "response = requests.get(my_url, headers=headers)\n",
    "# 요청의 status code 보기 \n",
    "response.status_code"
   ]
  },
  {
   "cell_type": "code",
   "execution_count": 3,
   "metadata": {},
   "outputs": [
    {
     "name": "stdout",
     "output_type": "stream",
     "text": [
      "<html>\n",
      "<head>\n",
      "<title>A Useful Page</title>\n",
      "</head>\n",
      "<body>\n",
      "<h1>An Interesting Title</h1>\n",
      "<div>\n",
      "Lorem ipsum dolor sit amet, consectetur adipisicing elit, sed do eiusmod tempor incididunt ut labore et dolore magna aliqua. Ut enim ad minim veniam, quis nostrud exercitation ullamco laboris nisi ut aliquip ex ea commodo consequat. Duis aute irure dolor in reprehenderit in voluptate velit esse cillum dolore eu fugiat nulla pariatur. Excepteur sint occaecat cupidatat non proident, sunt in culpa qui officia deserunt mollit anim id est laborum.\n",
      "</div>\n",
      "</body>\n",
      "</html>\n",
      "\n"
     ]
    }
   ],
   "source": [
    "# HTML 보기\n",
    "print(response.text)"
   ]
  },
  {
   "cell_type": "markdown",
   "metadata": {},
   "source": [
    "# BeautifulSoup "
   ]
  },
  {
   "cell_type": "markdown",
   "metadata": {},
   "source": [
    "### Find & FindAll"
   ]
  },
  {
   "cell_type": "code",
   "execution_count": 6,
   "metadata": {},
   "outputs": [
    {
     "data": {
      "text/plain": [
       "<title>A Useful Page</title>"
      ]
     },
     "execution_count": 6,
     "metadata": {},
     "output_type": "execute_result"
    }
   ],
   "source": [
    "soup = bs(response.text)\n",
    "# Title tag 찾기 \n",
    "soup.find('title')"
   ]
  },
  {
   "cell_type": "code",
   "execution_count": 8,
   "metadata": {},
   "outputs": [
    {
     "data": {
      "text/plain": [
       "'A Useful Page'"
      ]
     },
     "execution_count": 8,
     "metadata": {},
     "output_type": "execute_result"
    }
   ],
   "source": [
    "# Title tag 내용 \n",
    "soup.find('title').text"
   ]
  },
  {
   "cell_type": "markdown",
   "metadata": {},
   "source": [
    "#### CSS Selector"
   ]
  },
  {
   "cell_type": "code",
   "execution_count": 9,
   "metadata": {},
   "outputs": [
    {
     "data": {
      "text/plain": [
       "200"
      ]
     },
     "execution_count": 9,
     "metadata": {},
     "output_type": "execute_result"
    }
   ],
   "source": [
    "url = \"http://www.pythonscraping.com/pages/warandpeace.html\"\n",
    "response = requests.get(url, headers=headers)\n",
    "response.status_code"
   ]
  },
  {
   "cell_type": "code",
   "execution_count": 10,
   "metadata": {},
   "outputs": [
    {
     "name": "stdout",
     "output_type": "stream",
     "text": [
      "Anna\n",
      "Pavlovna Scherer\n"
     ]
    }
   ],
   "source": [
    "# 초록색 단어 찾기\n",
    "soup = bs(response.text, 'html.parser')\n",
    "green_text = soup.find('span', {\"class\":\"green\"}).text\n",
    "print(green_text)"
   ]
  },
  {
   "cell_type": "code",
   "execution_count": 11,
   "metadata": {
    "scrolled": true
   },
   "outputs": [
    {
     "name": "stdout",
     "output_type": "stream",
     "text": [
      "Anna\n",
      "Pavlovna Scherer\n",
      "Empress Marya\n",
      "Fedorovna\n",
      "Prince Vasili Kuragin\n",
      "Anna Pavlovna\n",
      "St. Petersburg\n",
      "the prince\n",
      "Anna Pavlovna\n",
      "Anna Pavlovna\n",
      "the prince\n",
      "the prince\n",
      "the prince\n",
      "Prince Vasili\n",
      "Anna Pavlovna\n",
      "Anna Pavlovna\n",
      "the prince\n",
      "Wintzingerode\n",
      "King of Prussia\n",
      "le Vicomte de Mortemart\n",
      "Montmorencys\n",
      "Rohans\n",
      "Abbe Morio\n",
      "the Emperor\n",
      "the prince\n",
      "Prince Vasili\n",
      "Dowager Empress Marya Fedorovna\n",
      "the baron\n",
      "Anna Pavlovna\n",
      "the Empress\n",
      "the Empress\n",
      "Anna Pavlovna's\n",
      "Her Majesty\n",
      "Baron\n",
      "Funke\n",
      "The prince\n",
      "Anna\n",
      "Pavlovna\n",
      "the Empress\n",
      "The prince\n",
      "Anatole\n",
      "the prince\n",
      "The prince\n",
      "Anna\n",
      "Pavlovna\n",
      "Anna Pavlovna\n"
     ]
    }
   ],
   "source": [
    "# 모든 초록색 단어 찾기 (findAll)\n",
    "green_texts_table = soup.find_all('span', {\"class\":\"green\"})\n",
    "for i in green_texts_table:\n",
    "    print(i.text)"
   ]
  },
  {
   "cell_type": "code",
   "execution_count": 12,
   "metadata": {},
   "outputs": [],
   "source": [
    "# 빨간색 단어를 추출해봅시다 \n",
    "\n"
   ]
  },
  {
   "cell_type": "code",
   "execution_count": 13,
   "metadata": {
    "scrolled": true
   },
   "outputs": [
    {
     "data": {
      "text/plain": [
       "[\"Well, Prince, so Genoa and Lucca are now just family estates of the\\nBuonapartes. But I warn you, if you don't tell me that this means war,\\nif you still try to defend the infamies and horrors perpetrated by\\nthat Antichrist- I really believe he is Antichrist- I will have\\nnothing more to do with you and you are no longer my friend, no longer\\nmy 'faithful slave,' as you call yourself! But how do you do? I see\\nI have frightened you- sit down and tell me all the news.\",\n",
       " 'If you have nothing better to do, Count [or Prince], and if the\\nprospect of spending an evening with a poor invalid is not too\\nterrible, I shall be very charmed to see you tonight between 7 and 10-\\nAnnette Scherer.',\n",
       " 'Heavens! what a virulent attack!',\n",
       " \"First of all, dear friend, tell me how you are. Set your friend's\\nmind at rest,\",\n",
       " 'Can one be well while suffering morally? Can one be calm in times\\nlike these if one has any feeling?',\n",
       " 'You are\\nstaying the whole evening, I hope?',\n",
       " \"And the fete at the English ambassador's? Today is Wednesday. I\\nmust put in an appearance there,\",\n",
       " 'My daughter is\\ncoming for me to take me there.',\n",
       " \"I thought today's fete had been canceled. I confess all these\\nfestivities and fireworks are becoming wearisome.\",\n",
       " 'If they had known that you wished it, the entertainment would\\nhave been put off,',\n",
       " \"Don't tease! Well, and what has been decided about Novosiltsev's\\ndispatch? You know everything.\",\n",
       " 'What can one say about it?',\n",
       " 'What has been decided? They have decided that\\nBuonaparte has burnt his boats, and I believe that we are ready to\\nburn ours.',\n",
       " \"Oh, don't speak to me of Austria. Perhaps I don't understand\\nthings, but Austria never has wished, and does not wish, for war.\\nShe is betraying us! Russia alone must save Europe. Our gracious\\nsovereign recognizes his high vocation and will be true to it. That is\\nthe one thing I have faith in! Our good and wonderful sovereign has to\\nperform the noblest role on earth, and he is so virtuous and noble\\nthat God will not forsake him. He will fulfill his vocation and\\ncrush the hydra of revolution, which has become more terrible than\\never in the person of this murderer and villain! We alone must\\navenge the blood of the just one.... Whom, I ask you, can we rely\\non?... England with her commercial spirit will not and cannot\\nunderstand the Emperor Alexander's loftiness of soul. She has\\nrefused to evacuate Malta. She wanted to find, and still seeks, some\\nsecret motive in our actions. What answer did Novosiltsev get? None.\\nThe English have not understood and cannot understand the\\nself-abnegation of our Emperor who wants nothing for himself, but only\\ndesires the good of mankind. And what have they promised? Nothing! And\\nwhat little they have promised they will not perform! Prussia has\\nalways declared that Buonaparte is invincible, and that all Europe\\nis powerless before him.... And I don't believe a word that Hardenburg\\nsays, or Haugwitz either. This famous Prussian neutrality is just a\\ntrap. I have faith only in God and the lofty destiny of our adored\\nmonarch. He will save Europe!\",\n",
       " 'I think,',\n",
       " \"that if you had been\\nsent instead of our dear Wintzingerode you would have captured the\\nKing of Prussia's consent by assault. You are so eloquent. Will you\\ngive me a cup of tea?\",\n",
       " 'In a moment. A propos,',\n",
       " 'I am\\nexpecting two very interesting men tonight, le Vicomte de Mortemart,\\nwho is connected with the Montmorencys through the Rohans, one of\\nthe best French families. He is one of the genuine emigres, the good\\nones. And also the Abbe Morio. Do you know that profound thinker? He\\nhas been received by the Emperor. Had you heard?',\n",
       " 'I shall be delighted to meet them,',\n",
       " 'But tell me,',\n",
       " 'is it true that the Dowager Empress wants Baron Funke\\nto be appointed first secretary at Vienna? The baron by all accounts\\nis a poor creature.',\n",
       " 'Baron Funke has been recommended to the Dowager Empress by her\\nsister,',\n",
       " 'Now about your family. Do you know that since your daughter came\\nout everyone has been enraptured by her? They say she is amazingly\\nbeautiful.',\n",
       " 'I often think,',\n",
       " \"I often think how unfairly sometimes the\\njoys of life are distributed. Why has fate given you two such splendid\\nchildren? I don't speak of Anatole, your youngest. I don't like\\nhim,\",\n",
       " \"Two such charming children. And really you appreciate\\nthem less than anyone, and so you don't deserve to have them.\",\n",
       " \"I can't help it,\",\n",
       " 'Lavater would have said I\\nlack the bump of paternity.',\n",
       " \"Don't joke; I mean to have a serious talk with you. Do you know I\\nam dissatisfied with your younger son? Between ourselves\",\n",
       " \"he was mentioned at Her\\nMajesty's and you were pitied....\",\n",
       " 'What would you have me do?',\n",
       " 'You know I did all\\na father could for their education, and they have both turned out\\nfools. Hippolyte is at least a quiet fool, but Anatole is an active\\none. That is the only difference between them.',\n",
       " 'And why are children born to such men as you? If you were not a\\nfather there would be nothing I could reproach you with,',\n",
       " \"I am your faithful slave and to you alone I can confess that my\\nchildren are the bane of my life. It is the cross I have to bear. That\\nis how I explain it to myself. It can't be helped!\"]"
      ]
     },
     "execution_count": 13,
     "metadata": {},
     "output_type": "execute_result"
    }
   ],
   "source": [
    "# <span> 태그에 존재하는 빨간색과 초록색 글씨를 모두 추출해봅시다\n",
    "greenred_texts_table = soup.findAll('span', {\"class\": \"green\",\"class\":\"red\"})\n",
    "[i.text for i in greenred_texts_table]"
   ]
  },
  {
   "cell_type": "code",
   "execution_count": 14,
   "metadata": {},
   "outputs": [],
   "source": [
    "# 복습: <p> 에 있는 내용을 모두 리스트에 저장해봅시다. \n",
    "\n"
   ]
  },
  {
   "cell_type": "markdown",
   "metadata": {},
   "source": [
    "#### 태그 안에 있는 URL 정보를 얻고 싶다면?"
   ]
  },
  {
   "cell_type": "code",
   "execution_count": 16,
   "metadata": {
    "scrolled": true
   },
   "outputs": [
    {
     "ename": "TypeError",
     "evalue": "'NoneType' object is not subscriptable",
     "output_type": "error",
     "traceback": [
      "\u001b[1;31m---------------------------------------------------------------------------\u001b[0m",
      "\u001b[1;31mTypeError\u001b[0m                                 Traceback (most recent call last)",
      "\u001b[1;32m<ipython-input-16-43c086376ee2>\u001b[0m in \u001b[0;36m<module>\u001b[1;34m\u001b[0m\n\u001b[0;32m      1\u001b[0m \u001b[1;31m# Find 문 이용시\u001b[0m\u001b[1;33m\u001b[0m\u001b[1;33m\u001b[0m\u001b[1;33m\u001b[0m\u001b[0m\n\u001b[1;32m----> 2\u001b[1;33m \u001b[0mprint\u001b[0m\u001b[1;33m(\u001b[0m\u001b[0msoup\u001b[0m\u001b[1;33m.\u001b[0m\u001b[0mfind\u001b[0m\u001b[1;33m(\u001b[0m\u001b[1;34m'img'\u001b[0m\u001b[1;33m)\u001b[0m\u001b[1;33m[\u001b[0m\u001b[1;34m'src'\u001b[0m\u001b[1;33m]\u001b[0m\u001b[1;33m)\u001b[0m\u001b[1;33m\u001b[0m\u001b[1;33m\u001b[0m\u001b[0m\n\u001b[0m\u001b[0;32m      3\u001b[0m \u001b[1;31m# FindALL 문 이용시\u001b[0m\u001b[1;33m\u001b[0m\u001b[1;33m\u001b[0m\u001b[1;33m\u001b[0m\u001b[0m\n\u001b[0;32m      4\u001b[0m \u001b[0mimg_table\u001b[0m \u001b[1;33m=\u001b[0m \u001b[0msoup\u001b[0m\u001b[1;33m.\u001b[0m\u001b[0mfindAll\u001b[0m\u001b[1;33m(\u001b[0m\u001b[1;34m'img'\u001b[0m\u001b[1;33m)\u001b[0m\u001b[1;33m\u001b[0m\u001b[1;33m\u001b[0m\u001b[0m\n\u001b[0;32m      5\u001b[0m \u001b[1;32mfor\u001b[0m \u001b[0mi\u001b[0m \u001b[1;32min\u001b[0m \u001b[0mimg_table\u001b[0m\u001b[1;33m:\u001b[0m\u001b[1;33m\u001b[0m\u001b[1;33m\u001b[0m\u001b[0m\n",
      "\u001b[1;31mTypeError\u001b[0m: 'NoneType' object is not subscriptable"
     ]
    }
   ],
   "source": [
    "# Find 문 이용시 \n",
    "print(soup.find('img')['src'])\n",
    "# FindALL 문 이용시 \n",
    "img_table = soup.findAll('img')\n",
    "for i in img_table:\n",
    "    print(i['src'])"
   ]
  },
  {
   "cell_type": "markdown",
   "metadata": {},
   "source": [
    "### 실제 사이트에 연습:"
   ]
  },
  {
   "cell_type": "code",
   "execution_count": 17,
   "metadata": {},
   "outputs": [],
   "source": [
    "url = 'http://www.daum.net'\n",
    "response = requests.get(url,headers=headers)\n",
    "\n",
    "# 탭버튼이 담긴 정보 찾기 \n",
    "soup = bs(response.text, 'lxml')\n",
    "tab_table = soup.find('span',class_='ir_wa')\n",
    "\n",
    "#findAll 도 해보기\n"
   ]
  },
  {
   "cell_type": "markdown",
   "metadata": {},
   "source": [
    "### Parent & Sibling 관계 이용하기"
   ]
  },
  {
   "cell_type": "code",
   "execution_count": 18,
   "metadata": {},
   "outputs": [],
   "source": [
    "url = \"http://pythonscraping.com/pages/page3.html\"\n",
    "response = requests.get(url)\n",
    "soup = bs(response.text)"
   ]
  },
  {
   "cell_type": "code",
   "execution_count": 19,
   "metadata": {},
   "outputs": [
    {
     "data": {
      "text/plain": [
       "'\\n$15.00\\n'"
      ]
     },
     "execution_count": 19,
     "metadata": {},
     "output_type": "execute_result"
    }
   ],
   "source": [
    "# 첫번째 이미지 찾기 \n",
    "first_image_table = soup.find('img',{\"src\": \"../img/gifts/img1.jpg\"})\n",
    "first_image_table.parent.previous_sibling.get_text()"
   ]
  },
  {
   "cell_type": "code",
   "execution_count": 20,
   "metadata": {},
   "outputs": [
    {
     "data": {
      "text/plain": [
       "'../img/gifts/img2.jpg'"
      ]
     },
     "execution_count": 20,
     "metadata": {},
     "output_type": "execute_result"
    }
   ],
   "source": [
    "# parent& sibling 관계를 이용하여\n",
    "# 다음 행에 있는 이미지 URL 구하기! \n",
    "\n",
    "second_table = first_image_table.parent.parent.next_sibling.next_sibling\n",
    "second_table.find('img')['src']"
   ]
  },
  {
   "cell_type": "code",
   "execution_count": 21,
   "metadata": {},
   "outputs": [],
   "source": [
    "# 복습: findAll 문을 이용하여 모든 이미지 URl 구하기\n"
   ]
  },
  {
   "cell_type": "code",
   "execution_count": null,
   "metadata": {},
   "outputs": [],
   "source": [
    "# 복습: CSS 문을 이용하여 볼드체 글씨를 모두 구하기"
   ]
  },
  {
   "cell_type": "markdown",
   "metadata": {},
   "source": [
    "### Regular Expression 이용하기"
   ]
  },
  {
   "cell_type": "code",
   "execution_count": 139,
   "metadata": {},
   "outputs": [
    {
     "data": {
      "text/plain": [
       "[<img src=\"../img/gifts/img1.jpg\"/>,\n",
       " <img src=\"../img/gifts/img2.jpg\"/>,\n",
       " <img src=\"../img/gifts/img3.jpg\"/>,\n",
       " <img src=\"../img/gifts/img4.jpg\"/>,\n",
       " <img src=\"../img/gifts/img6.jpg\"/>]"
      ]
     },
     "execution_count": 139,
     "metadata": {},
     "output_type": "execute_result"
    }
   ],
   "source": [
    "import re\n",
    "# 정규식을 활용하여 gift 이미지 URL만 구하기 \n",
    "gift_regex = re.compile('img\\d.jpg')\n",
    "soup.findAll(\"img\", {\"src\":gift_regex})"
   ]
  },
  {
   "cell_type": "code",
   "execution_count": 93,
   "metadata": {},
   "outputs": [],
   "source": [
    "my_url = \"https://www.daum.net\"\n",
    "# headers 꼭 추가하기 \n",
    "response = requests.get(my_url,headers=headers)"
   ]
  },
  {
   "cell_type": "markdown",
   "metadata": {},
   "source": [
    "# 실제 크롤링 연습:  다음 영화 "
   ]
  },
  {
   "cell_type": "code",
   "execution_count": 150,
   "metadata": {},
   "outputs": [],
   "source": [
    "def daum_movie_crawler(year):\n",
    "    headers = {'User-Agent': 'Mozilla/5.0 (Macintosh; InteSl Mac O X 10_10_1) AppleWebKit/537.36 (KHTML, like Gecko) Chrome/39.0.2171.95 Safari/537.36'}\n",
    "    main_url = 'https://movie.daum.net/boxoffice/yearly?year=' + str(year)\n",
    "    \n",
    "    # Initialize \n",
    "    data = []\n",
    "    cnt= 0 \n",
    "    \n",
    "    response = requests.get(main_url,headers=headers)\n",
    "    body_table = bs(response.text,'lxml')\n",
    "    poster_table = body_table.find_all('div',class_='wrap_movie')\n",
    "    \n",
    "    #포스터 테이블을 looping 하며 제목 찾기\n",
    "    # Trye-except 문을 이용하기 \n",
    "    for poster in poster_table:\n",
    "        try:\n",
    "            title = poster.find('a', class_='name_movie #title').text\n",
    "            #critic_grade_table = poster.find(\"span\",{\"class\":\"wrap_grade grade_critic\"})\n",
    "            #critic_grade = critic_grade_table.find(\"span\", {\"class\": re.compile(\"num_grade\")})\n",
    "            data.append([title, critic_grade.text])                                 \n",
    "                                                      \n",
    "        except Exception as e :\n",
    "            data.append([title,'NA'])\n",
    "            print(e,'Error at {} for {}'.format(cnt,title))\n",
    "\n",
    "    return data\n"
   ]
  },
  {
   "cell_type": "code",
   "execution_count": 153,
   "metadata": {},
   "outputs": [
    {
     "name": "stdout",
     "output_type": "stream",
     "text": [
      "'NoneType' object has no attribute 'find' Error at 0 for 몬스터 호텔 2\n",
      "'NoneType' object has no attribute 'find' Error at 0 for 내부자들: 디 오리지널\n",
      "'NoneType' object has no attribute 'find' Error at 0 for 라이트 아웃\n",
      "'NoneType' object has no attribute 'find' Error at 0 for 데드풀 2\n",
      "'NoneType' object has no attribute 'find' Error at 0 for 극한직업\n",
      "'NoneType' object has no attribute 'find' Error at 0 for 어벤져스: 엔드게임\n",
      "'NoneType' object has no attribute 'find' Error at 0 for 알라딘\n",
      "'NoneType' object has no attribute 'find' Error at 0 for 기생충\n",
      "'NoneType' object has no attribute 'find' Error at 0 for 스파이더맨: 파 프롬 홈\n",
      "'NoneType' object has no attribute 'find' Error at 0 for 엑시트\n",
      "'NoneType' object has no attribute 'find' Error at 0 for 캡틴 마블\n",
      "'NoneType' object has no attribute 'find' Error at 0 for 라이온 킹\n",
      "'NoneType' object has no attribute 'find' Error at 0 for 봉오동 전투\n",
      "'NoneType' object has no attribute 'find' Error at 0 for 토이 스토리 4\n",
      "'NoneType' object has no attribute 'find' Error at 0 for 돈\n",
      "'NoneType' object has no attribute 'find' Error at 0 for 악인전\n",
      "'NoneType' object has no attribute 'find' Error at 0 for 증인\n",
      "'NoneType' object has no attribute 'find' Error at 0 for 사바하\n",
      "'NoneType' object has no attribute 'find' Error at 0 for 분노의 질주: 홉스&쇼\n",
      "'NoneType' object has no attribute 'find' Error at 0 for 알리타: 배틀 엔젤\n",
      "'NoneType' object has no attribute 'find' Error at 0 for 뺑반\n",
      "'NoneType' object has no attribute 'find' Error at 0 for 주먹왕 랄프 2: 인터넷 속으로\n",
      "'NoneType' object has no attribute 'find' Error at 0 for 걸캅스\n",
      "'NoneType' object has no attribute 'find' Error at 0 for 사자\n",
      "'NoneType' object has no attribute 'find' Error at 0 for 드래곤 길들이기 3\n",
      "'NoneType' object has no attribute 'find' Error at 0 for 나의 특별한 형제\n",
      "'NoneType' object has no attribute 'find' Error at 0 for 어스\n",
      "'NoneType' object has no attribute 'find' Error at 0 for 생일\n",
      "'NoneType' object has no attribute 'find' Error at 0 for 항거:유관순 이야기\n",
      "'NoneType' object has no attribute 'find' Error at 0 for 롱 리브 더 킹: 목포 영웅\n",
      "'NoneType' object has no attribute 'find' Error at 0 for 마이펫의 이중생활 2\n",
      "'NoneType' object has no attribute 'find' Error at 0 for 존 윅 3: 파라벨룸\n",
      "'NoneType' object has no attribute 'find' Error at 0 for 나랏말싸미\n",
      "'NoneType' object has no attribute 'find' Error at 0 for 엑스맨: 다크 피닉스\n",
      "'NoneType' object has no attribute 'find' Error at 0 for 맨 인 블랙: 인터내셔널\n",
      "'NoneType' object has no attribute 'find' Error at 0 for 뽀로로 극장판 보물섬 대모험\n",
      "'NoneType' object has no attribute 'find' Error at 0 for 레드슈즈\n",
      "'NoneType' object has no attribute 'find' Error at 0 for 명탐정 피카츄\n",
      "'NoneType' object has no attribute 'find' Error at 0 for 샤잠!\n",
      "'NoneType' object has no attribute 'find' Error at 0 for 극장판 헬로카봇: 옴파로스 섬의 비밀\n",
      "'NoneType' object has no attribute 'find' Error at 0 for 이스케이프 룸\n",
      "'NoneType' object has no attribute 'find' Error at 0 for 애나벨 집으로\n",
      "'NoneType' object has no attribute 'find' Error at 0 for 글래스\n",
      "'NoneType' object has no attribute 'find' Error at 0 for 장난스런 키스\n",
      "'NoneType' object has no attribute 'find' Error at 0 for 해피 데스데이 2 유\n",
      "'NoneType' object has no attribute 'find' Error at 0 for 극장판 공룡메카드: 타이니소어의 섬\n",
      "'NoneType' object has no attribute 'find' Error at 0 for 고질라: 킹 오브 몬스터\n"
     ]
    }
   ],
   "source": [
    "#2009-2019년도 데이터 얻기 \n",
    "total_data = []\n",
    "for year in range(2009,2020):\n",
    "    total_data.append(daum_movie_crawler(year))"
   ]
  },
  {
   "cell_type": "markdown",
   "metadata": {},
   "source": [
    "# 예외/ 오류 처리"
   ]
  },
  {
   "cell_type": "code",
   "execution_count": 86,
   "metadata": {},
   "outputs": [],
   "source": [
    "try: \n",
    "    response = requests.get(my_url, headers=headers)\n",
    "except Exception as e:\n",
    "    print('Error occured while requesting')\n",
    "\n",
    "if response.status_code == 200:\n",
    "    soup = bs(response.text, 'html.parser')\n",
    "else:\n",
    "    print('Status code Error ')\n",
    "    "
   ]
  },
  {
   "cell_type": "code",
   "execution_count": 154,
   "metadata": {},
   "outputs": [
    {
     "data": {
      "text/plain": [
       "[[['해운대', '06'],\n",
       "  ['국가대표', '06'],\n",
       "  ['트랜스포머: 패자의 역습', '06'],\n",
       "  ['2012', '05'],\n",
       "  ['아바타', '09'],\n",
       "  ['터미네이터 : 미래전쟁의 시작', '06'],\n",
       "  ['7급 공무원', '06'],\n",
       "  ['과속스캔들', '06'],\n",
       "  ['쌍화점', '06'],\n",
       "  ['거북이 달린다', '06'],\n",
       "  ['마더', '08'],\n",
       "  ['해리 포터와 혼혈 왕자', '06'],\n",
       "  ['워낭소리', '06'],\n",
       "  ['적벽대전 2 : 최후의 결전', '06'],\n",
       "  ['지.아이.조 : 전쟁의 서막', '03'],\n",
       "  ['굿모닝 프레지던트', '05'],\n",
       "  ['전우치', '06'],\n",
       "  ['박쥐', '06'],\n",
       "  ['내 사랑 내 곁에', '05'],\n",
       "  ['박물관이 살아있다 2', '04'],\n",
       "  ['뉴 문', '04'],\n",
       "  ['천사와 악마', '06'],\n",
       "  ['애자', '06'],\n",
       "  ['그림자 살인', '05'],\n",
       "  ['작전명 발키리', '07'],\n",
       "  ['차우', '05'],\n",
       "  ['벤자민 버튼의 시간은 거꾸로 간다', '06'],\n",
       "  ['불꽃처럼 나비처럼', '04'],\n",
       "  ['유감스러운 도시', '02'],\n",
       "  ['작전', '06'],\n",
       "  ['닌자 어쌔신', '05'],\n",
       "  ['청담보살', '05'],\n",
       "  ['엑스맨 탄생: 울버린', '06'],\n",
       "  ['킹콩을 들다', '06'],\n",
       "  ['마다가스카 2', '04'],\n",
       "  ['인사동 스캔들', '05'],\n",
       "  ['셜록 홈즈', '05'],\n",
       "  ['슬럼독 밀리어네어', '07'],\n",
       "  ['스타 트렉: 더 비기닝', '07'],\n",
       "  ['노잉', '06'],\n",
       "  ['시크릿', '04'],\n",
       "  ['업', '08'],\n",
       "  ['백야행', '04'],\n",
       "  ['트랜스포터-라스트 미션', '05'],\n",
       "  ['그는 당신에게 반하지 않았다', '05'],\n",
       "  ['아이스 에이지 3: 공룡시대', '05'],\n",
       "  ['블랙', '07'],\n",
       "  ['디스트릭트 9', '07'],\n",
       "  ['마린보이', '05'],\n",
       "  ['모범시민', '05']],\n",
       " [['아바타', '09'],\n",
       "  ['아저씨', '06'],\n",
       "  ['인셉션', '07'],\n",
       "  ['의형제', '07'],\n",
       "  ['아이언맨 2', '04'],\n",
       "  ['전우치', '06'],\n",
       "  ['이끼', '05'],\n",
       "  ['포화속으로', '03'],\n",
       "  ['하모니', '04'],\n",
       "  ['방자전', '07'],\n",
       "  ['솔트', '05'],\n",
       "  ['부당거래', '07'],\n",
       "  ['시라노; 연애조작단', '06'],\n",
       "  ['타이탄', '05'],\n",
       "  ['드래곤 길들이기', '07'],\n",
       "  ['해리 포터와 죽음의 성물1', '06'],\n",
       "  ['하녀', '06'],\n",
       "  ['나잇&데이', '06'],\n",
       "  ['슈렉 포에버', '05'],\n",
       "  ['이상한 나라의 앨리스', '06'],\n",
       "  ['초능력자', '05'],\n",
       "  ['이클립스', '05'],\n",
       "  ['쩨쩨한 로맨스', '05'],\n",
       "  ['페르시아의 왕자: 시간의 모래', '05'],\n",
       "  ['퍼시 잭슨과 번개 도둑', '05'],\n",
       "  ['해결사', '05'],\n",
       "  ['악마를 보았다', '07'],\n",
       "  ['로빈 후드', '06'],\n",
       "  ['무적자', '04'],\n",
       "  ['황해', '06'],\n",
       "  ['토이 스토리 3', '07'],\n",
       "  ['구르믈 버서난 달처럼', '05'],\n",
       "  ['라스트 에어벤더', '04'],\n",
       "  ['헬로우 고스트', '04'],\n",
       "  ['육혈포 강도단', '05'],\n",
       "  ['심야의 F.M.', '04'],\n",
       "  ['레지던트 이블 4: 끝나지 않은 전쟁 3D', '06'],\n",
       "  ['나니아 연대기: 새벽 출정호의 항해', '05'],\n",
       "  ['용서는 없다', '04'],\n",
       "  ['베스트셀러', '05'],\n",
       "  ['김종욱 찾기', '05'],\n",
       "  ['마루 밑 아리에티', '07'],\n",
       "  ['셜록 홈즈', '05'],\n",
       "  ['슈퍼 배드', '06'],\n",
       "  ['파괴된 사나이', '04'],\n",
       "  ['셔터 아일랜드', '06'],\n",
       "  ['방가? 방가!', '05'],\n",
       "  ['평행이론', '03'],\n",
       "  ['투어리스트', '05'],\n",
       "  ['스카이 라인', '03']],\n",
       " [['트랜스포머 3', '05'],\n",
       "  ['최종병기 활', '06'],\n",
       "  ['써니', '06'],\n",
       "  ['완득이', '06'],\n",
       "  ['쿵푸팬더 2', '05'],\n",
       "  ['미션임파서블:고스트프로토콜', '07'],\n",
       "  ['조선명탐정 : 각시투구꽃의 비밀', '05'],\n",
       "  ['도가니', '06'],\n",
       "  ['해리포터와 죽음의 성물2', '08'],\n",
       "  ['리얼 스틸', '06'],\n",
       "  ['캐리비안의 해적: 낯선 조류', '05'],\n",
       "  ['퀵', '05'],\n",
       "  ['고지전', '07'],\n",
       "  ['오싹한 연애', '04'],\n",
       "  ['혹성탈출: 진화의 시작', '08'],\n",
       "  ['위험한 상견례', '05'],\n",
       "  ['엑스맨: 퍼스트 클래스', '07'],\n",
       "  ['의뢰인', '06'],\n",
       "  ['가문의 영광4 - 가문의 수난', '04'],\n",
       "  ['블라인드', '06'],\n",
       "  ['7광구', '04'],\n",
       "  ['마당을 나온 암탉', '07'],\n",
       "  ['라스트 갓파더', '04'],\n",
       "  ['글러브', '06'],\n",
       "  ['아이들...', '05'],\n",
       "  ['걸리버 여행기', '04'],\n",
       "  ['평양성', '05'],\n",
       "  ['토르: 천둥의 신', '06'],\n",
       "  ['헬로우 고스트', '04'],\n",
       "  ['그대를 사랑합니다', '06'],\n",
       "  ['블랙 스완', '07'],\n",
       "  ['분노의 질주: 언리미티드', '04'],\n",
       "  ['마이 웨이', '05'],\n",
       "  ['브레이킹 던 part1', '04'],\n",
       "  ['신들의 전쟁', '04'],\n",
       "  ['월드 인베이젼', '03'],\n",
       "  ['셜록홈즈 : 그림자 게임', '06'],\n",
       "  ['소스 코드', '07'],\n",
       "  ['특수본', '06'],\n",
       "  ['수상한 고객들', '05'],\n",
       "  ['오직 그대만', '04'],\n",
       "  ['개구쟁이 스머프', '04'],\n",
       "  ['라푼젤', '06'],\n",
       "  ['심장이 뛴다', '04'],\n",
       "  ['파퍼씨네 펭귄들', '06'],\n",
       "  ['메가마인드', '06'],\n",
       "  ['체포왕', '06'],\n",
       "  ['만추', '07'],\n",
       "  ['퍼펙트 게임', '06'],\n",
       "  ['킹스 스피치', '06']],\n",
       " [['도둑들', '06'],\n",
       "  ['광해, 왕이 된 남자', '07'],\n",
       "  ['어벤져스', '07'],\n",
       "  ['늑대소년', '06'],\n",
       "  ['다크 나이트 라이즈', '07'],\n",
       "  ['바람과 함께 사라지다', '05'],\n",
       "  ['어메이징 스파이더맨', '06'],\n",
       "  ['범죄와의 전쟁: 나쁜놈들 전성시대', '07'],\n",
       "  ['내 아내의 모든 것', '06'],\n",
       "  ['연가시', '05'],\n",
       "  ['건축학개론', '07'],\n",
       "  ['댄싱퀸', '06'],\n",
       "  ['부러진 화살', '07'],\n",
       "  ['맨 인 블랙 3', '05'],\n",
       "  ['레미제라블', '07'],\n",
       "  ['26년', '05'],\n",
       "  ['내가 살인범이다', '06'],\n",
       "  ['브레이킹 던 part2', '05'],\n",
       "  ['후궁 : 제왕의 첩', '05'],\n",
       "  ['호빗: 뜻밖의 여정', '07'],\n",
       "  ['미션임파서블:고스트프로토콜', '07'],\n",
       "  ['화차', '06'],\n",
       "  ['이웃사람', '05'],\n",
       "  ['007 스카이폴', '08'],\n",
       "  ['테이큰 2', '05'],\n",
       "  ['배틀쉽', '03'],\n",
       "  ['장화신은 고양이', '06'],\n",
       "  ['타워', '04'],\n",
       "  ['코리아', '04'],\n",
       "  ['나의 PS 파트너', '06'],\n",
       "  ['반창꼬', '05'],\n",
       "  ['러브픽션', '06'],\n",
       "  ['언터처블: 1%의 우정', '06'],\n",
       "  ['아이스 에이지 4: 대륙 이동설', '04'],\n",
       "  ['공모자들', '05'],\n",
       "  ['마다가스카3 : 이번엔 서커스다!', '06'],\n",
       "  ['하울링', '05'],\n",
       "  ['용의자X', '05'],\n",
       "  ['새미의 어드벤쳐 2', '05'],\n",
       "  ['차형사', '03'],\n",
       "  ['은교', '06'],\n",
       "  ['간첩', '04'],\n",
       "  ['간기남', '02'],\n",
       "  ['메리다와 마법의 숲', '05'],\n",
       "  ['토탈 리콜', '05'],\n",
       "  ['R2B: 리턴투베이스', '04'],\n",
       "  ['돈의 맛', '06'],\n",
       "  ['잃어버린 세계를 찾아서 2: 신비의 섬', '03'],\n",
       "  ['회사원', '05'],\n",
       "  ['가디언즈', '06']],\n",
       " [['7번방의 선물', '05'],\n",
       "  ['설국열차', '07'],\n",
       "  ['관상', '06'],\n",
       "  ['아이언맨 3', '07'],\n",
       "  ['베를린', '08'],\n",
       "  ['은밀하게 위대하게', '04'],\n",
       "  ['변호인', '07'],\n",
       "  ['숨바꼭질', '05'],\n",
       "  ['더 테러 라이브', '06'],\n",
       "  ['감시자들', '06'],\n",
       "  ['월드 워 Z', '06'],\n",
       "  ['신세계', '06'],\n",
       "  ['박수건달', '06'],\n",
       "  ['스파이', '04'],\n",
       "  ['그래비티', '08'],\n",
       "  ['타워', '04'],\n",
       "  ['감기', '06'],\n",
       "  ['토르: 다크 월드', '06'],\n",
       "  ['레드: 더 레전드', '05'],\n",
       "  ['친구 2', '04'],\n",
       "  ['어바웃 타임', '06'],\n",
       "  ['나우 유 씨 미 : 마술사기단', '06'],\n",
       "  ['소원', '07'],\n",
       "  ['레미제라블', '07'],\n",
       "  ['퍼시픽 림', '07'],\n",
       "  ['화이: 괴물을 삼킨 아이', '06'],\n",
       "  ['컨저링', '07'],\n",
       "  ['맨 오브 스틸', '05'],\n",
       "  ['용의자', '06'],\n",
       "  ['호빗: 스마우그의 폐허', '05'],\n",
       "  ['몽타주', '05'],\n",
       "  ['터보', '06'],\n",
       "  ['연애의 온도', '06'],\n",
       "  ['지.아이.조 2', '04'],\n",
       "  ['분노의 질주: 더 맥시멈', '06'],\n",
       "  ['공범', '04'],\n",
       "  ['집으로 가는 길', '06'],\n",
       "  ['전설의 주먹', '06'],\n",
       "  ['파파로티', '06'],\n",
       "  ['스타트렉 다크니스', '07'],\n",
       "  ['라이프 오브 파이', '08'],\n",
       "  ['오블리비언', '06'],\n",
       "  ['위대한 개츠비', '05'],\n",
       "  ['다이하드: 굿 데이 투 다이', '03'],\n",
       "  ['런닝맨', '05'],\n",
       "  ['미스터 고', '05'],\n",
       "  ['결혼전야', '06'],\n",
       "  ['깡철이', '04'],\n",
       "  ['엘리시움', '06'],\n",
       "  ['더 웹툰: 예고살인', '05']],\n",
       " [['명량', '06'],\n",
       "  ['겨울왕국', '07'],\n",
       "  ['인터스텔라', '07'],\n",
       "  ['해적: 바다로 간 산적', '05'],\n",
       "  ['수상한 그녀', '05'],\n",
       "  ['변호인', '07'],\n",
       "  ['국제시장', '05'],\n",
       "  ['트랜스포머: 사라진 시대', '04'],\n",
       "  ['군도: 민란의 시대', '07'],\n",
       "  ['엣지 오브 투모로우', '06'],\n",
       "  ['엑스맨: 데이즈 오브 퓨처 패스트', '07'],\n",
       "  ['어메이징 스파이더맨 2', '06'],\n",
       "  ['타짜-신의 손', '05'],\n",
       "  ['혹성탈출: 반격의 서막', '06'],\n",
       "  ['캡틴 아메리카: 윈터 솔져', '07'],\n",
       "  ['역린', '05'],\n",
       "  ['님아, 그 강을 건너지 마오', '06'],\n",
       "  ['신의 한 수', '05'],\n",
       "  ['끝까지 간다', '06'],\n",
       "  ['비긴 어게인', '05'],\n",
       "  ['드래곤 길들이기 2', '06'],\n",
       "  ['표적', '05'],\n",
       "  ['메이즈 러너', '05'],\n",
       "  ['호빗: 다섯 군대 전투', '05'],\n",
       "  ['나의 사랑 나의 신부', '05'],\n",
       "  ['논스톱', '05'],\n",
       "  ['인투 더 스톰', '04'],\n",
       "  ['노아', '07'],\n",
       "  ['남자가 사랑할 때', '04'],\n",
       "  ['루시', '04'],\n",
       "  ['용의자', '06'],\n",
       "  ['기술자들', '04'],\n",
       "  ['나를 찾아줘', '07'],\n",
       "  ['제보자', '06'],\n",
       "  ['피끓는 청춘', '05'],\n",
       "  ['두근두근 내 인생', '06'],\n",
       "  ['우아한 거짓말', '05'],\n",
       "  ['300: 제국의 부활', '04'],\n",
       "  ['엑소더스: 신들과 왕들', '06'],\n",
       "  ['해무(海霧)', '06'],\n",
       "  ['인간중독', '05'],\n",
       "  ['말레피센트', '06'],\n",
       "  ['폼페이: 최후의 날', '05'],\n",
       "  ['퓨리', '06'],\n",
       "  ['드라큘라: 전설의 시작', '05'],\n",
       "  ['가디언즈 오브 갤럭시', '08'],\n",
       "  ['찌라시: 위험한 소문', '06'],\n",
       "  ['빅매치', '04'],\n",
       "  ['슬로우 비디오', '06'],\n",
       "  ['방황하는 칼날', '05']],\n",
       " [['베테랑', '07'],\n",
       "  ['암살', '06'],\n",
       "  ['어벤져스: 에이지 오브 울트론', '06'],\n",
       "  ['국제시장', '05'],\n",
       "  ['내부자들', '06'],\n",
       "  ['사도', '06'],\n",
       "  ['킹스맨 : 시크릿 에이전트', '07'],\n",
       "  ['미션 임파서블: 로그네이션', '07'],\n",
       "  ['연평해전', '04'],\n",
       "  ['쥬라기 월드', '06'],\n",
       "  ['검은 사제들', '05'],\n",
       "  ['히말라야', '05'],\n",
       "  ['인사이드 아웃', '07'],\n",
       "  ['마션', '07'],\n",
       "  ['조선명탐정 : 사라진 놉의 딸', '05'],\n",
       "  ['매드 맥스: 분노의 도로', '08'],\n",
       "  ['인턴', '06'],\n",
       "  ['분노의 질주: 더 세븐', '07'],\n",
       "  ['터미네이터 제니시스', '05'],\n",
       "  ['스물', '04'],\n",
       "  ['극비수사', '06'],\n",
       "  ['앤트맨', '06'],\n",
       "  ['스타워즈: 깨어난 포스', '07'],\n",
       "  ['빅 히어로', '06'],\n",
       "  ['메이즈 러너: 스코치 트라이얼', '06'],\n",
       "  ['탐정 : 더 비기닝', '06'],\n",
       "  ['미니언즈', '05'],\n",
       "  ['스파이', '07'],\n",
       "  ['악의 연대기', '05'],\n",
       "  ['강남 1970', '05'],\n",
       "  ['뷰티 인사이드', '04'],\n",
       "  ['오늘의 연애', '03'],\n",
       "  ['테이큰 3', '03'],\n",
       "  ['007 스펙터', '05'],\n",
       "  ['이미테이션 게임', '07'],\n",
       "  ['샌 안드레아스', '04'],\n",
       "  ['쎄시봉', '06'],\n",
       "  ['더 폰', '05'],\n",
       "  ['위플래쉬', '08'],\n",
       "  ['대호', '06'],\n",
       "  ['마다가스카의 펭귄', '05'],\n",
       "  ['차이나타운', '05'],\n",
       "  ['장수상회', '06'],\n",
       "  ['성난 변호사', '06'],\n",
       "  ['간신', '04'],\n",
       "  ['박물관이 살아있다 : 비밀의 무덤', '05'],\n",
       "  ['그놈이다', '07'],\n",
       "  ['미쓰 와이프', '06'],\n",
       "  ['몬스터 호텔 2', 'NA'],\n",
       "  ['허삼관', '06']],\n",
       " [['부산행', '07'],\n",
       "  ['검사외전', '05'],\n",
       "  ['캡틴 아메리카: 시빌 워', '07'],\n",
       "  ['밀정', '07'],\n",
       "  ['터널', '06'],\n",
       "  ['인천상륙작전', '03'],\n",
       "  ['럭키', '05'],\n",
       "  ['곡성', '08'],\n",
       "  ['덕혜옹주', '05'],\n",
       "  ['닥터 스트레인지', '06'],\n",
       "  ['마스터', '05'],\n",
       "  ['주토피아', '07'],\n",
       "  ['신비한 동물사전', '06'],\n",
       "  ['판도라', '05'],\n",
       "  ['아가씨', '07'],\n",
       "  ['쿵푸팬더3', '05'],\n",
       "  ['귀향', '06'],\n",
       "  ['데드풀', '06'],\n",
       "  ['나우 유 씨 미 2', '04'],\n",
       "  ['형', '04'],\n",
       "  ['엑스맨: 아포칼립스', '07'],\n",
       "  ['미스 페레그린과 이상한 아이들의 집', '07'],\n",
       "  ['히말라야', '05'],\n",
       "  ['제이슨 본', '05'],\n",
       "  ['도리를 찾아서', '06'],\n",
       "  ['아수라', '06'],\n",
       "  ['정글북', '06'],\n",
       "  ['마이펫의 이중생활', '08'],\n",
       "  ['라라랜드', '08'],\n",
       "  ['배트맨 대 슈퍼맨: 저스티스의 시작', '05'],\n",
       "  ['굿바이 싱글', '05'],\n",
       "  ['봉이 김선달', '04'],\n",
       "  ['레버넌트: 죽음에서 돌아온 자', '06'],\n",
       "  ['컨저링 2', '06'],\n",
       "  ['내부자들: 디 오리지널', 'NA'],\n",
       "  ['수어사이드 스쿼드', '04'],\n",
       "  ['인디펜던스 데이 : 리써전스', '05'],\n",
       "  ['탐정 홍길동: 사라진 마을', '06'],\n",
       "  ['벤허', '03'],\n",
       "  ['굿 다이노', '06'],\n",
       "  ['셜록: 유령신부', '06'],\n",
       "  ['특별수사: 사형수의 편지', '05'],\n",
       "  ['시간이탈자', '04'],\n",
       "  ['동주', '07'],\n",
       "  ['워크래프트: 전쟁의 서막', '05'],\n",
       "  ['스타트렉 비욘드', '07'],\n",
       "  ['미씽: 사라진 여자', '06'],\n",
       "  ['당신, 거기 있어줄래요', '05'],\n",
       "  ['라이트 아웃', 'NA'],\n",
       "  ['오빠생각', '05']],\n",
       " [['택시운전사', '06'],\n",
       "  ['신과함께-죄와 벌', '06'],\n",
       "  ['공조', '05'],\n",
       "  ['스파이더맨: 홈 커밍', '07'],\n",
       "  ['범죄도시', '06'],\n",
       "  ['군함도', '06'],\n",
       "  ['청년경찰', '05'],\n",
       "  ['더 킹', '06'],\n",
       "  ['미녀와 야수', '06'],\n",
       "  ['킹스맨: 골든 서클', '05'],\n",
       "  ['토르: 라그나로크', '06'],\n",
       "  ['꾼', '04'],\n",
       "  ['강철비', '07'],\n",
       "  ['남한산성', '07'],\n",
       "  ['미이라', '05'],\n",
       "  ['분노의 질주: 더 익스트림', '05'],\n",
       "  ['너의 이름은.', '07'],\n",
       "  ['슈퍼배드 3', '05'],\n",
       "  ['아이 캔 스피크', '07'],\n",
       "  ['캐리비안의 해적: 죽은 자는 말이 없다', '05'],\n",
       "  ['프리즌', '05'],\n",
       "  ['덩케르크', '08'],\n",
       "  ['가디언즈 오브 갤럭시 VOL. 2', '06'],\n",
       "  ['살인자의 기억법', '05'],\n",
       "  ['트랜스포머: 최후의 기사', '03'],\n",
       "  ['보안관', '05'],\n",
       "  ['조작된 도시', '04'],\n",
       "  ['보스 베이비', '05'],\n",
       "  ['재심', '05'],\n",
       "  ['박열', '06'],\n",
       "  ['모아나', '07'],\n",
       "  ['마스터', '05'],\n",
       "  ['로건', '07'],\n",
       "  ['원더 우먼', '06'],\n",
       "  ['겟 아웃', '07'],\n",
       "  ['혹성탈출: 종의 전쟁', '07'],\n",
       "  ['1987', '07'],\n",
       "  ['애나벨 : 인형의 주인', '07'],\n",
       "  ['노무현입니다', '06'],\n",
       "  ['저스티스 리그', '05'],\n",
       "  ['킬러의 보디가드', '06'],\n",
       "  ['콩: 스컬 아일랜드', '06'],\n",
       "  ['23 아이덴티티', '06'],\n",
       "  ['임금님의 사건수첩', '05'],\n",
       "  ['부라더', '05'],\n",
       "  ['기억의 밤', '06'],\n",
       "  ['해피 데스데이', '06'],\n",
       "  ['브이아이피', '05'],\n",
       "  ['특별시민', '05'],\n",
       "  ['에이리언: 커버넌트', '07']],\n",
       " [['신과함께-인과 연', '06'],\n",
       "  ['어벤져스: 인피니티 워', '07'],\n",
       "  ['보헤미안 랩소디', '06'],\n",
       "  ['미션 임파서블: 폴아웃', '07'],\n",
       "  ['신과함께-죄와 벌', '06'],\n",
       "  ['쥬라기 월드: 폴른 킹덤', '06'],\n",
       "  ['앤트맨과 와스프', '06'],\n",
       "  ['안시성', '06'],\n",
       "  ['블랙 팬서', '06'],\n",
       "  ['완벽한 타인', '06'],\n",
       "  ['1987', '07'],\n",
       "  ['독전', '05'],\n",
       "  ['공작', '07'],\n",
       "  ['베놈', '04'],\n",
       "  ['암수살인', '07'],\n",
       "  ['데드풀 2', 'NA'],\n",
       "  ['국가부도의 날', '06'],\n",
       "  ['코코', '08'],\n",
       "  ['아쿠아맨', '07'],\n",
       "  ['그것만이 내 세상', '05'],\n",
       "  ['마녀', '05'],\n",
       "  ['탐정: 리턴즈', '05'],\n",
       "  ['인크레더블 2', '07'],\n",
       "  ['서치', '07'],\n",
       "  ['너의 결혼식', '05'],\n",
       "  ['곤지암', '06'],\n",
       "  ['지금 만나러 갑니다', '05'],\n",
       "  ['목격자', '05'],\n",
       "  ['조선명탐정: 흡혈괴마의 비밀', '05'],\n",
       "  ['신비한 동물들과 그린델왈드의 범죄', '05'],\n",
       "  ['메이즈 러너: 데스 큐어', '05'],\n",
       "  ['맘마미아!2', '06'],\n",
       "  ['레디 플레이어 원', '08'],\n",
       "  ['명당', '05'],\n",
       "  ['협상', '05'],\n",
       "  ['마약왕', '05'],\n",
       "  ['쥬만지: 새로운 세계', '05'],\n",
       "  ['창궐', '05'],\n",
       "  ['성난황소', '05'],\n",
       "  ['도어락', '06'],\n",
       "  ['리틀 포레스트', '06'],\n",
       "  ['골든슬럼버', '05'],\n",
       "  ['램페이지', '05'],\n",
       "  ['궁합', '04'],\n",
       "  ['오션스8', '05'],\n",
       "  ['사라진 밤', '05'],\n",
       "  ['스윙키즈', '06'],\n",
       "  ['바람 바람 바람', '05'],\n",
       "  ['PMC: 더 벙커', '06'],\n",
       "  ['범블비', '06']],\n",
       " [['극한직업', 'NA'],\n",
       "  ['어벤져스: 엔드게임', 'NA'],\n",
       "  ['알라딘', 'NA'],\n",
       "  ['기생충', 'NA'],\n",
       "  ['스파이더맨: 파 프롬 홈', 'NA'],\n",
       "  ['엑시트', 'NA'],\n",
       "  ['캡틴 마블', 'NA'],\n",
       "  ['라이온 킹', 'NA'],\n",
       "  ['봉오동 전투', 'NA'],\n",
       "  ['토이 스토리 4', 'NA'],\n",
       "  ['돈', 'NA'],\n",
       "  ['악인전', 'NA'],\n",
       "  ['말모이', '06'],\n",
       "  ['증인', 'NA'],\n",
       "  ['사바하', 'NA'],\n",
       "  ['분노의 질주: 홉스&쇼', 'NA'],\n",
       "  ['알리타: 배틀 엔젤', 'NA'],\n",
       "  ['내안의 그놈', '05'],\n",
       "  ['뺑반', 'NA'],\n",
       "  ['주먹왕 랄프 2: 인터넷 속으로', 'NA'],\n",
       "  ['걸캅스', 'NA'],\n",
       "  ['사자', 'NA'],\n",
       "  ['아쿠아맨', '07'],\n",
       "  ['드래곤 길들이기 3', 'NA'],\n",
       "  ['나의 특별한 형제', 'NA'],\n",
       "  ['어스', 'NA'],\n",
       "  ['생일', 'NA'],\n",
       "  ['항거:유관순 이야기', 'NA'],\n",
       "  ['롱 리브 더 킹: 목포 영웅', 'NA'],\n",
       "  ['마이펫의 이중생활 2', 'NA'],\n",
       "  ['존 윅 3: 파라벨룸', 'NA'],\n",
       "  ['나랏말싸미', 'NA'],\n",
       "  ['엑스맨: 다크 피닉스', 'NA'],\n",
       "  ['맨 인 블랙: 인터내셔널', 'NA'],\n",
       "  ['뽀로로 극장판 보물섬 대모험', 'NA'],\n",
       "  ['레드슈즈', 'NA'],\n",
       "  ['보헤미안 랩소디', '06'],\n",
       "  ['명탐정 피카츄', 'NA'],\n",
       "  ['샤잠!', 'NA'],\n",
       "  ['극장판 헬로카봇: 옴파로스 섬의 비밀', 'NA'],\n",
       "  ['이스케이프 룸', 'NA'],\n",
       "  ['PMC: 더 벙커', '06'],\n",
       "  ['애나벨 집으로', 'NA'],\n",
       "  ['글래스', 'NA'],\n",
       "  ['그린 북', '08'],\n",
       "  ['장난스런 키스', 'NA'],\n",
       "  ['해피 데스데이 2 유', 'NA'],\n",
       "  ['극장판 공룡메카드: 타이니소어의 섬', 'NA'],\n",
       "  ['범블비', '06'],\n",
       "  ['고질라: 킹 오브 몬스터', 'NA']]]"
      ]
     },
     "execution_count": 154,
     "metadata": {},
     "output_type": "execute_result"
    }
   ],
   "source": [
    "total_data"
   ]
  },
  {
   "cell_type": "markdown",
   "metadata": {},
   "source": [
    "# Selenium 실습"
   ]
  },
  {
   "cell_type": "code",
   "execution_count": 28,
   "metadata": {},
   "outputs": [],
   "source": [
    "import selenium \n",
    "from selenium import webdriver\n",
    "import random\n",
    "from time import sleep\n",
    "\n",
    "\n",
    "browser = webdriver.Chrome()\n"
   ]
  },
  {
   "cell_type": "code",
   "execution_count": null,
   "metadata": {},
   "outputs": [],
   "source": [
    "your_url = \"https://www.ncbi.nlm.nih.gov/pubmed/?term=wine\"\n",
    "browser = webdriver.Chrome()\n",
    "browser.get(your_url)"
   ]
  },
  {
   "cell_type": "code",
   "execution_count": 25,
   "metadata": {},
   "outputs": [],
   "source": [
    "# 다음으로 가기 버튼 xpath 를 이용해 찾기 \n",
    "next_button = browser.find_element_by_xpath('//*[@id=\"EntrezSystem2.PEntrez.PubMed.Pubmed_ResultsPanel.Pubmed_Pager.Page\"]')\n",
    "\n",
    "# 버튼 클릭 \n",
    "next_button.click()"
   ]
  },
  {
   "cell_type": "code",
   "execution_count": null,
   "metadata": {},
   "outputs": [],
   "source": [
    "#논문 태그 찾기 (class 이용)\n",
    "paper_tags = None\n",
    "browser.find_elements_by_class_name()"
   ]
  },
  {
   "cell_type": "code",
   "execution_count": null,
   "metadata": {},
   "outputs": [],
   "source": [
    "# 각 태그의 제목 (tag_name 이용)\n",
    "for paper in paper_tags :\n",
    "    print(paper.find_element_by_tag_name('a').text)"
   ]
  },
  {
   "cell_type": "code",
   "execution_count": null,
   "metadata": {},
   "outputs": [],
   "source": [
    "\"\"\"\n",
    "5 페이지동안 논문제목을 크롤링한뒤 \n",
    "논문제목이 담긴 리스트를 반환하는 함수를 구현해보세요 (다음 페이지로 넘어가기전에 0-1초간 휴식)\n",
    "\"\"\"\n",
    "\n",
    "\n",
    "browser = webdriver.Chrome()\n",
    "browser.get(your_url)\n",
    "\n",
    "for page in range(1,6):\n",
    "    print(\"Currently on page \", page)\n",
    " \n",
    "    # crawl\n",
    "    # next_button\n",
    "    \n",
    "    sleep(random.uniform(0,1))\n",
    "    "
   ]
  }
 ],
 "metadata": {
  "kernelspec": {
   "display_name": "Python 3",
   "language": "python",
   "name": "python3"
  },
  "language_info": {
   "codemirror_mode": {
    "name": "ipython",
    "version": 3
   },
   "file_extension": ".py",
   "mimetype": "text/x-python",
   "name": "python",
   "nbconvert_exporter": "python",
   "pygments_lexer": "ipython3",
   "version": "3.6.8"
  }
 },
 "nbformat": 4,
 "nbformat_minor": 4
}
