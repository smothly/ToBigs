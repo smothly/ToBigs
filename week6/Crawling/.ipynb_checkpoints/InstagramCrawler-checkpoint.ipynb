{
 "cells": [
  {
   "cell_type": "code",
   "execution_count": 5,
   "metadata": {},
   "outputs": [],
   "source": [
    "import selenium \n",
    "from selenium import webdriver\n",
    "import random\n",
    "from time import sleep\n",
    "from selenium.webdriver.common.keys import Keys"
   ]
  },
  {
   "cell_type": "code",
   "execution_count": 111,
   "metadata": {},
   "outputs": [],
   "source": [
    "# 데이터 담을 리스트 : 실제로 사용할거면 파일에다 저장해가면서 해야한다.\n",
    "instagram = []\n",
    "\n",
    "browser = webdriver.Chrome()\n",
    "\n",
    "# baseurl에 id만 붙여 새 url 만들어 살피기\n",
    "# id만 추가하면 더더욱 많은 게시물을 긁을 수 있다.\n",
    "baseUrl = \"https://www.instagram.com/\"\n",
    "IDList = [\"wooju1025\", \"parkbboyoung\"]\n",
    "\n",
    "errorList = []\n",
    "\n",
    "for ID in IDList:\n",
    "    url = baseUrl + ID    \n",
    "    browser.get(url)\n",
    "    \n",
    "    # scroll down 하여 게시글을 많이 로딩하기 \n",
    "    # 출처 : https://stackoverflow.com/questions/20986631/how-can-i-scroll-a-web-page-using-selenium-webdriver-in-python\n",
    "    SCROLL_PAUSE_TIME = 1.1\n",
    "    # Get scroll height\n",
    "    last_height = browser.execute_script(\"return document.body.scrollHeight\")\n",
    "    while True:\n",
    "        # Scroll down to bottom\n",
    "        browser.execute_script(\"window.scrollTo(0, document.body.scrollHeight);\")\n",
    "\n",
    "        # Wait to load page\n",
    "        sleep(SCROLL_PAUSE_TIME)\n",
    "\n",
    "        # Calculate new scroll height and compare with last scroll height\n",
    "        new_height = browser.execute_script(\"return document.body.scrollHeight\")\n",
    "        if new_height == last_height:\n",
    "            break\n",
    "        last_height = new_height    \n",
    "    \n",
    "    # a tag 홯용하여 게시글 링크 찾기\n",
    "    postURL = browser.find_elements_by_tag_name('a')\n",
    "    \n",
    "    # a 태그에 아무 내용 없는 것들이 게시글임을 확인하였다.\n",
    "    postList = [post for post in postURL if post.text == '']\n",
    "\n",
    "    for post in postList:\n",
    "        try:\n",
    "#             post.click() # 게시글 클릭\n",
    "            # 클릭이 안되는 문제가 생겨 다른 클릭방법을 찾아 추가하였다.\n",
    "            post.send_keys(Keys.ENTER)\n",
    "            sleep(random.uniform(2,4)) # 불러오는데 시간이 걸려 sleep을 주었다.\n",
    "            \n",
    "            # tagname 활용하여 시간에서 datetime속성만 가져오기\n",
    "            date = browser.find_element_by_tag_name(\"time\").get_attribute(\"datetime\")\n",
    "\n",
    "            # classname 을 활용하여 댓글을 담고있는 div를 찾아 list로 저장한다.\n",
    "            rippleList = [r.text for r in browser.find_elements_by_class_name(\"C4VMK\")]\n",
    "\n",
    "            # 0번째꺼는 제목을 담고있어 제목만 할당한다. \n",
    "            title = rippleList[0]\n",
    "            # 제목없앤 순수 댓글리스트\n",
    "            rippleList = rippleList[1:] \n",
    "\n",
    "            # key : 아이디, value : 댓글\n",
    "            rippleDict = {}\n",
    "            for ripple in rippleList:    \n",
    "                temp = ripple.split(\"\\n\") # 결과 : ['kkhkhj21', '혼자 영화 안 보는♡♡', '8시간답글 달기']\n",
    "                rippleDict[temp[0]] = temp[1] # 0은 아이디 1은 댓글내용\n",
    "        except Exception as e:\n",
    "            errorList.append([post, e])\n",
    "        sleep(random.uniform(1,3))\n",
    "        \n",
    "        instagram.append([title, date, rippleDict])"
   ]
  },
  {
   "cell_type": "code",
   "execution_count": 120,
   "metadata": {},
   "outputs": [
    {
     "name": "stdout",
     "output_type": "stream",
     "text": [
      "66 66\n",
      "['parkbboyoung\\n#박보영 #parkboyoung #셀카 #셀스타그램\\n4일', '2019-08-24T13:04:42.000Z', {'yjyang1_14': '那不是我的神奇宝贝吗', 'rianto_': 'Where is Pikachu', 'parkboseon': '나랑 같은 인형이 여러개 보이네요...🙄 인형뽑기 고수시군요!!🤔', 'freloich': '💕💕💕💕😍', 'beatrix.gonz': 'Baby pokemon soo cité', 'blue.scorpion06': 'way to go... i just got my snorlax and flareon 😅', 'tarina_ricci': 'Yeppeuda😍', 'ybmt_yhc': '진짜 좋아해요ㅠ❤️😆😆', 'shey_emily': 'Beautifull 🤗🙃', 'seolhyeog': '피카츄는 왕따~', 'chelleverzosa': 'tyou so beautiful', 'vygodtkah4110': '보영씨 보고싶어 지금 다시 오나귀 정주행중~ 휴무순삭중~~!!!아침부터 현재9회보는중~~😍😍'}]\n"
     ]
    }
   ],
   "source": [
    "print(len(instagram), len(errorList))\n",
    "#에러가 거의 절반에 속하는데, 클릭하는것에서 문제인지 posturl이 문제인지 잘모르겠다. 시간이없으므로 패스하겠다.. ㅠ\n",
    "print(instagram[0]) # 데이터는 이런식으로 저장하였다."
   ]
  },
  {
   "cell_type": "code",
   "execution_count": null,
   "metadata": {},
   "outputs": [],
   "source": []
  }
 ],
 "metadata": {
  "kernelspec": {
   "display_name": "Python 3",
   "language": "python",
   "name": "python3"
  },
  "language_info": {
   "codemirror_mode": {
    "name": "ipython",
    "version": 3
   },
   "file_extension": ".py",
   "mimetype": "text/x-python",
   "name": "python",
   "nbconvert_exporter": "python",
   "pygments_lexer": "ipython3",
   "version": "3.6.8"
  }
 },
 "nbformat": 4,
 "nbformat_minor": 4
}
