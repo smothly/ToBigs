{
 "cells": [
  {
   "cell_type": "code",
   "execution_count": 1,
   "metadata": {},
   "outputs": [],
   "source": [
    "import time\n",
    "from time import sleep\n",
    "import re\n",
    "from random import randint\n",
    "from selenium import webdriver\n",
    "import requests\n",
    "from bs4 import BeautifulSoup as bs\n",
    "from tqdm import tqdm_notebook\n",
    "import pandas as pd"
   ]
  },
  {
   "cell_type": "code",
   "execution_count": 2,
   "metadata": {},
   "outputs": [],
   "source": [
    "errorList = []\n",
    "\n",
    "def crawlStart(year):\n",
    "    url = 'https://movie.daum.net/boxoffice/yearly?year='+str(year)\n",
    "    browser = webdriver.Chrome()\n",
    "    # 브라우저 실행\n",
    "    browser.get(url)\n",
    "    \n",
    "    movieName, netScore, criScore, totalAudiance = movieInfo(browser)\n",
    "    \n",
    "    # 데이터프레임 만들기 (dict형식)\n",
    "    df = pd.DataFrame(\n",
    "        {\"title\": movieName,\n",
    "        \"netizenScore\": netScore,\n",
    "        \"criticalScore\": criScore,\n",
    "        \"totalAudiance\": totalAudiance})\n",
    "    \n",
    "    return df"
   ]
  },
  {
   "cell_type": "code",
   "execution_count": 3,
   "metadata": {},
   "outputs": [],
   "source": [
    "def movieInfo(browser):\n",
    "    # 제목 추출\n",
    "    movieList = browser.find_elements_by_class_name(\"name_movie\")\n",
    "    movieName = [movie.text for movie in movieList]\n",
    "\n",
    "    # 평점 리스트\n",
    "    scoreList = browser.find_elements_by_class_name(\"info_grade\")\n",
    "    scoreList = [score.text.split() for score in scoreList]\n",
    "\n",
    "    netScore = []\n",
    "    criScore = []\n",
    "    for score in scoreList:\n",
    "        # 네티즌 평점\n",
    "        netScore.append(float(score[2]) + float(score[4])/10)\n",
    "        # 기자/평론가 평점\n",
    "        try:\n",
    "            criScore.append(float(score[7]) + float(score[9])/10)\n",
    "        except Exception as e :\n",
    "            criScore.append(None)\n",
    "            errorList.append(e)\n",
    "    \n",
    "    totalAudiance = []\n",
    "    # movieID로 가져와서 movieList변경\n",
    "    movieList = [movie.get_attribute(\"href\").split(\"=\")[1] for movie in movieList]\n",
    "\n",
    "    for movieID in tqdm_notebook(movieList):\n",
    "        try:\n",
    "            browser.get(\"https://movie.daum.net/moviedb/main?movieId=\" + movieID)\n",
    "            totalAudiance.append(float(\"\".join(browser.find_element_by_id(\"totalAudience\").text[:-1].split(\",\"))))\n",
    "        except:\n",
    "            totalAudiance.append(None)\n",
    "        sleep(1)\n",
    "    return movieName, netScore, criScore, totalAudiance"
   ]
  },
  {
   "cell_type": "code",
   "execution_count": 11,
   "metadata": {},
   "outputs": [
    {
     "data": {
      "application/vnd.jupyter.widget-view+json": {
       "model_id": "40f4cf3907c84fc38c29bb6e564a24c6",
       "version_major": 2,
       "version_minor": 0
      },
      "text/plain": [
       "HBox(children=(IntProgress(value=0, max=50), HTML(value='')))"
      ]
     },
     "metadata": {},
     "output_type": "display_data"
    },
    {
     "name": "stdout",
     "output_type": "stream",
     "text": [
      "\n"
     ]
    },
    {
     "data": {
      "application/vnd.jupyter.widget-view+json": {
       "model_id": "b19ff1f93e584f579a25ca576fda313b",
       "version_major": 2,
       "version_minor": 0
      },
      "text/plain": [
       "HBox(children=(IntProgress(value=0, max=50), HTML(value='')))"
      ]
     },
     "metadata": {},
     "output_type": "display_data"
    },
    {
     "name": "stdout",
     "output_type": "stream",
     "text": [
      "\n"
     ]
    }
   ],
   "source": [
    "years = [2018, 2019]\n",
    "for year in years:\n",
    "    data = pd.concat([data, crawlStart(year)])"
   ]
  },
  {
   "cell_type": "code",
   "execution_count": 13,
   "metadata": {},
   "outputs": [],
   "source": [
    "data.to_csv(\"movieInfo.csv\")"
   ]
  },
  {
   "cell_type": "code",
   "execution_count": null,
   "metadata": {},
   "outputs": [],
   "source": []
  }
 ],
 "metadata": {
  "kernelspec": {
   "display_name": "Python 3",
   "language": "python",
   "name": "python3"
  },
  "language_info": {
   "codemirror_mode": {
    "name": "ipython",
    "version": 3
   },
   "file_extension": ".py",
   "mimetype": "text/x-python",
   "name": "python",
   "nbconvert_exporter": "python",
   "pygments_lexer": "ipython3",
   "version": "3.6.8"
  }
 },
 "nbformat": 4,
 "nbformat_minor": 4
}
