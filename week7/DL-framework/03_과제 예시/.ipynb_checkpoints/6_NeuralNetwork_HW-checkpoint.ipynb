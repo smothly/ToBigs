{
 "cells": [
  {
   "cell_type": "markdown",
   "metadata": {},
   "source": [
    "# Assignment 2 :\n",
    "- 6주차 NN 기초 강의 과제였던 6_NeuralNetwork_HW.ipynb를 프레임워크로 구현\n",
    "- PyTorch로 짠 예제 코드를 참고해주세요\n",
    "- Batch Normalization, Dropout 등 NN 심화에서 다뤘던 내용을 활용"
   ]
  },
  {
   "cell_type": "markdown",
   "metadata": {},
   "source": [
    "### Softmax - Cross Entropy Error미분  \n",
    "<img src=\"img/fig a-5.png\">"
   ]
  },
  {
   "cell_type": "markdown",
   "metadata": {},
   "source": [
    "### 데이터 Load  \n",
    "cifar-10 데이터를 불러옵니다.  \n",
    "프레임워크 내 자체적으로 데이터를 로드할 수 있지만, \n",
    "이렇게도 데이터 로드가 가능합니다!  \n",
    "32  32  3 차원의 데이터를 3072 차원으로 바뀌는 것 까지 드릴게요."
   ]
  },
  {
   "cell_type": "code",
   "execution_count": 1,
   "metadata": {},
   "outputs": [],
   "source": [
    "from load_cifar_10 import *\n",
    "import numpy as np\n",
    "from Model import TwoLayerNet"
   ]
  },
  {
   "cell_type": "code",
   "execution_count": 2,
   "metadata": {},
   "outputs": [],
   "source": [
    "cifar_10_dir = 'cifar-10-batches-py'\n",
    "\n",
    "train_data, train_filenames, train_labels, test_data, test_filenames, test_labels, label_names = \\\n",
    "load_cifar_10_data(cifar_10_dir)\n",
    "\n",
    "def Processing_data(train, test):\n",
    "    #change dtype\n",
    "    train = np.array(train, dtype=np.float64)\n",
    "    test = np.array(test, dtype=np.float64)\n",
    "    \n",
    "    #Reshaping\n",
    "    train = np.reshape(train, (train.shape[0], -1))\n",
    "    test = np.reshape(test, (test.shape[0], -1))\n",
    "    \n",
    "    #Normalizing\n",
    "    mean_image = np.mean(train, axis = 0)\n",
    "    #print(train.dtype)\n",
    "    train -= mean_image\n",
    "    test -= mean_image\n",
    "    \n",
    "    return train, test"
   ]
  },
  {
   "cell_type": "code",
   "execution_count": 3,
   "metadata": {},
   "outputs": [],
   "source": [
    "train_data, test_data = Processing_data(train_data, test_data)"
   ]
  },
  {
   "cell_type": "code",
   "execution_count": 4,
   "metadata": {},
   "outputs": [
    {
     "name": "stdout",
     "output_type": "stream",
     "text": [
      "(50000, 3072)\n",
      "(50000,)\n",
      "(10000, 3072)\n",
      "(10000,)\n"
     ]
    }
   ],
   "source": [
    "print(train_data.shape)\n",
    "print(train_labels.shape)\n",
    "print(test_data.shape)\n",
    "print(test_labels.shape)"
   ]
  },
  {
   "cell_type": "markdown",
   "metadata": {},
   "source": [
    "너무 많으니까 5000개, 1000개만 사용합시다!"
   ]
  },
  {
   "cell_type": "code",
   "execution_count": 5,
   "metadata": {},
   "outputs": [],
   "source": [
    "train_data = train_data[:5000]\n",
    "train_labels = train_labels[:5000]\n",
    "test_data = test_data[:1000]\n",
    "test_labels = test_labels[:1000]"
   ]
  },
  {
   "cell_type": "markdown",
   "metadata": {},
   "source": [
    "### 데이터 확인  \n",
    "실제 데이터가 어떻게 생겼는지는 한번 확인해보세요!"
   ]
  },
  {
   "cell_type": "code",
   "execution_count": 6,
   "metadata": {},
   "outputs": [
    {
     "data": {
      "text/plain": [
       "array([[ -71.71074,  -74.05614,  -69.5538 , ...,   -3.63908,  -33.8503 ,\n",
       "         -42.38186],\n",
       "       [  23.28926,   40.94386,   54.4462 , ...,   16.36092,    7.1497 ,\n",
       "          29.61814],\n",
       "       [ 124.28926,  118.94386,  122.4462 , ...,  -46.63908,  -39.8503 ,\n",
       "         -30.38186],\n",
       "       ...,\n",
       "       [  36.28926,   26.94386,   12.4462 , ...,  -84.63908,  -47.8503 ,\n",
       "         -30.38186],\n",
       "       [  23.28926,   15.94386,   -7.5538 , ...,   67.36092,  121.1497 ,\n",
       "          -0.38186],\n",
       "       [ -85.71074, -104.05614, -111.5538 , ...,   29.36092,   16.1497 ,\n",
       "         -14.38186]])"
      ]
     },
     "execution_count": 6,
     "metadata": {},
     "output_type": "execute_result"
    }
   ],
   "source": [
    "train_data"
   ]
  },
  {
   "cell_type": "markdown",
   "metadata": {},
   "source": [
    "### 하이퍼파라미터 설정  \n",
    "하이퍼파라미터를 설정하겠습니다.  \n",
    "hidden_size, epoch_size, batch_size, learning_rate 등은 전부 하이퍼 파라미터이니 바꿔서 해보세요."
   ]
  },
  {
   "cell_type": "code",
   "execution_count": 7,
   "metadata": {},
   "outputs": [],
   "source": [
    "input_size = 32 * 32 * 3\n",
    "hidden_size = 50\n",
    "output_size = 10\n",
    "epoch_size = 100\n",
    "batch_size = 100\n",
    "learning_rate = 0.0001\n",
    "N = train_data.shape[0]\n",
    "M = test_data.shape[0] # 새롭게 추가"
   ]
  },
  {
   "cell_type": "code",
   "execution_count": 8,
   "metadata": {},
   "outputs": [],
   "source": [
    "nn = TwoLayerNet(input_size=input_size, hidden_size=hidden_size, output_size=output_size)"
   ]
  },
  {
   "cell_type": "code",
   "execution_count": 9,
   "metadata": {},
   "outputs": [
    {
     "name": "stdout",
     "output_type": "stream",
     "text": [
      "0 test accuracy : 0.186\n",
      "0 test loss     : 2.301413614425737\n",
      "10 test accuracy : 0.283\n",
      "10 test loss     : 1.9794678494944236\n",
      "20 test accuracy : 0.34\n",
      "20 test loss     : 1.8521439616289608\n",
      "30 test accuracy : 0.361\n",
      "30 test loss     : 1.7940645581444155\n",
      "40 test accuracy : 0.374\n",
      "40 test loss     : 1.7644457531290145\n",
      "50 test accuracy : 0.385\n",
      "50 test loss     : 1.7606932944354894\n",
      "60 test accuracy : 0.369\n",
      "60 test loss     : 1.766812126551914\n",
      "70 test accuracy : 0.38\n",
      "70 test loss     : 1.764162730299659\n",
      "80 test accuracy : 0.368\n",
      "80 test loss     : 1.7757409774309054\n",
      "90 test accuracy : 0.364\n",
      "90 test loss     : 1.7925747109032693\n"
     ]
    }
   ],
   "source": [
    "history = {'val_acc': [],'val_loss': []} #기록해서 그림 그리자!\n",
    "\n",
    "#코드를 보며 epoch, batch에 대해서 이해해봅시다.\n",
    "for i in range(epoch_size):\n",
    "    for j in range(N//batch_size):\n",
    "        batch_mask = np.random.choice(N, batch_size) #이번 배치에서 쓸 데이터들 인덱스 추출\n",
    "        x_batch = train_data[batch_mask]\n",
    "        t_batch = train_labels[batch_mask]\n",
    "        \n",
    "        nn.backward(x_batch, t_batch) # 가중치 갱신\n",
    "    \n",
    "    #accuracy와 loss를 기록해둡시다.\n",
    "    history[\"val_acc\"].append(nn.accuracy(test_data, test_labels))\n",
    "    history[\"val_loss\"].append(nn.forward(test_data, test_labels))\n",
    "    \n",
    "    if i % 10 == 0:\n",
    "        print(i, \"test accuracy :\", nn.accuracy(test_data, test_labels))\n",
    "        print(i, \"test loss     :\", nn.forward(test_data, test_labels))"
   ]
  },
  {
   "cell_type": "markdown",
   "metadata": {},
   "source": [
    "### 그림 그리기"
   ]
  },
  {
   "cell_type": "code",
   "execution_count": 10,
   "metadata": {},
   "outputs": [
    {
     "data": {
      "image/png": "[encoded data removed]",
      "text/plain": [
       "<Figure size 432x288 with 2 Axes>"
      ]
     },
     "metadata": {
      "needs_background": "light"
     },
     "output_type": "display_data"
    }
   ],
   "source": [
    "fig = plt.figure()\n",
    "ax_acc = fig.add_subplot(111)\n",
    "\n",
    "ax_acc.plot(range(epoch_size), history['val_acc'], label='정확도(%)', color='darkred')\n",
    "#plt.text(3, 14.7, \"<----------------정확도(%)\", verticalalignment='top', horizontalalignment='right')\n",
    "plt.xlabel('epochs')\n",
    "plt.ylabel('Validation Accuracy(%)')\n",
    "ax_acc.grid(linestyle='--', color='lavender')\n",
    "ax_loss = ax_acc.twinx()\n",
    "ax_loss.plot(range(epoch_size), history['val_loss'], label='오차', color='darkblue')\n",
    "#plt.text(3, 2.2, \"<----------------오차\", verticalalignment='top', horizontalalignment='left')\n",
    "plt.ylabel('Validation Error')\n",
    "ax_loss.yaxis.tick_right()\n",
    "ax_loss.grid(linestyle='--', color='lavender')\n",
    "\n",
    "# 그래프 표시\n",
    "plt.show()"
   ]
  },
  {
   "cell_type": "markdown",
   "metadata": {},
   "source": [
    "---"
   ]
  },
  {
   "cell_type": "markdown",
   "metadata": {},
   "source": [
    "# PyTorch"
   ]
  },
  {
   "cell_type": "code",
   "execution_count": 11,
   "metadata": {},
   "outputs": [
    {
     "name": "stdout",
     "output_type": "stream",
     "text": [
      "Net(\n",
      "  (fc1): Linear(in_features=3072, out_features=50, bias=True)\n",
      "  (fc2): Linear(in_features=50, out_features=10, bias=True)\n",
      ")\n"
     ]
    }
   ],
   "source": [
    "import torch\n",
    "import torch.nn as nn\n",
    "import torch.nn.functional as F\n",
    "\n",
    "####################\n",
    "### Model \n",
    "###################\n",
    "class Net(nn.Module):\n",
    "    def __init__(self):\n",
    "        super(Net, self).__init__()\n",
    "        # an affine operation : y = Wx + b\n",
    "        self.fc1 = nn.Linear(input_size, hidden_size) # input, output\n",
    "        self.fc2 = nn.Linear(hidden_size, output_size)\n",
    "    \n",
    "    def forward(self, x):\n",
    "        x = x.view(-1, self.num_flat_features(x))\n",
    "        x = F.relu(self.fc1(x))\n",
    "        x = self.fc2(x)\n",
    "        return x\n",
    "    \n",
    "    def num_flat_features(self, x):\n",
    "        size = x.size()[1:]\n",
    "        num_features = 1\n",
    "        for s in size:\n",
    "            num_features *= s\n",
    "        return num_features\n",
    "\n",
    "net = Net()\n",
    "print(net)"
   ]
  },
  {
   "cell_type": "code",
   "execution_count": 12,
   "metadata": {},
   "outputs": [],
   "source": [
    "import torch.optim as optim\n",
    "net = Net()\n",
    "criterion = nn.CrossEntropyLoss()\n",
    "optimizer = optim.SGD(net.parameters(), lr=learning_rate)"
   ]
  },
  {
   "cell_type": "code",
   "execution_count": 16,
   "metadata": {},
   "outputs": [],
   "source": [
    "history = {'val_acc': [],'val_loss': [], 'train_acc':[], 'train_loss':[]} #기록해서 그림 그리자!\n",
    "\n",
    "#코드를 보며 epoch, batch에 대해서 이해해봅시다.\n",
    "def exe(epoch_size):\n",
    "    for i in range(epoch_size):\n",
    "        correct = 0\n",
    "        total = 0\n",
    "        running_loss = 0\n",
    "        for j in range(N//batch_size):\n",
    "            batch_mask = np.random.choice(N, batch_size) #이번 배치에서 쓸 데이터들 인덱스 추출\n",
    "            x_batch = torch.FloatTensor(train_data[batch_mask])\n",
    "            t_batch = torch.LongTensor(train_labels[batch_mask])\n",
    "\n",
    "            # Gradient buffer를 0으로 초기화\n",
    "            optimizer.zero_grad()\n",
    "\n",
    "            # Forward\n",
    "            outputs = net(x_batch)\n",
    "            # Backward\n",
    "            loss = criterion(outputs, t_batch)\n",
    "            loss.backward()\n",
    "            # Update the weights\n",
    "            optimizer.step()\n",
    "\n",
    "            # Statistics\n",
    "            _, predicted = torch.max(outputs.data, 1)\n",
    "            total += t_batch.size(0)\n",
    "            correct += (predicted == t_batch).sum().item()\n",
    "            running_loss += loss.item()\n",
    "\n",
    "        acc = 100*correct/total    \n",
    "        history['train_loss'].append(running_loss / 50)\n",
    "        history['train_acc'].append(acc)\n",
    "\n",
    "        if i % 10 == 9: # print every 10 epochs \n",
    "\n",
    "            print('[%d] loss: %.3f acc: %.3f ' %\n",
    "                  (i + 1, running_loss / 10, acc))\n",
    "            print('Accuracy of the network on the 50000 train images: %d %%' %  acc)\n",
    "            running_loss = 0.0\n",
    "\n",
    "        # Test\n",
    "        correct = 0\n",
    "        total = 0\n",
    "        val_loss = 0\n",
    "\n",
    "        with torch.no_grad():\n",
    "            for k in range(M//batch_size):\n",
    "                batch_mask = np.random.choice(M, batch_size) #이번 배치에서 쓸 데이터들 인덱스 추출\n",
    "                x_batch = torch.FloatTensor(test_data[batch_mask])\n",
    "                t_batch = torch.LongTensor(test_labels[batch_mask])\n",
    "\n",
    "                 # Forward\n",
    "                outputs = net(x_batch)\n",
    "\n",
    "                # loss\n",
    "                loss = criterion(outputs, t_batch)\n",
    "\n",
    "                # Statistics\n",
    "                _, predicted = torch.max(outputs.data, 1)\n",
    "                total += t_batch.size(0)\n",
    "                correct += (predicted == t_batch).sum().item()\n",
    "                val_loss += loss.item()\n",
    "\n",
    "            #accuracy와 loss를 기록해둡시다.\n",
    "            acc = 100*correct/total\n",
    "            history[\"val_acc\"].append(acc)\n",
    "            history[\"val_loss\"].append(val_loss / 10)\n",
    "\n",
    "            if i % 10 == 9: # print every 10 epochs\n",
    "                print('[%d] loss: %.3f acc: %.3f ' %\n",
    "                      (i + 1, val_loss / 10, acc))\n",
    "                print('Accuracy of the network on the 10000 test images: %d %%' % acc)\n",
    "                val_loss = 0.0\n"
   ]
  },
  {
   "cell_type": "code",
   "execution_count": 17,
   "metadata": {},
   "outputs": [
    {
     "name": "stdout",
     "output_type": "stream",
     "text": [
      "[10] loss: 0.631 acc: 98.880 \n",
      "Accuracy of the network on the 50000 train images: 98 %\n",
      "[10] loss: 4.859 acc: 30.600 \n",
      "Accuracy of the network on the 10000 test images: 30 %\n",
      "[20] loss: 0.526 acc: 99.360 \n",
      "Accuracy of the network on the 50000 train images: 99 %\n",
      "[20] loss: 4.804 acc: 31.500 \n",
      "Accuracy of the network on the 10000 test images: 31 %\n",
      "[30] loss: 0.493 acc: 99.520 \n",
      "Accuracy of the network on the 50000 train images: 99 %\n",
      "[30] loss: 4.671 acc: 32.800 \n",
      "Accuracy of the network on the 10000 test images: 32 %\n",
      "[40] loss: 0.428 acc: 99.780 \n",
      "Accuracy of the network on the 50000 train images: 99 %\n",
      "[40] loss: 5.026 acc: 31.000 \n",
      "Accuracy of the network on the 10000 test images: 31 %\n",
      "[50] loss: 0.377 acc: 99.780 \n",
      "Accuracy of the network on the 50000 train images: 99 %\n",
      "[50] loss: 4.578 acc: 35.600 \n",
      "Accuracy of the network on the 10000 test images: 35 %\n",
      "[60] loss: 0.375 acc: 99.760 \n",
      "Accuracy of the network on the 50000 train images: 99 %\n",
      "[60] loss: 4.840 acc: 31.200 \n",
      "Accuracy of the network on the 10000 test images: 31 %\n",
      "[70] loss: 0.302 acc: 99.980 \n",
      "Accuracy of the network on the 50000 train images: 99 %\n",
      "[70] loss: 5.148 acc: 31.400 \n",
      "Accuracy of the network on the 10000 test images: 31 %\n",
      "[80] loss: 0.293 acc: 99.920 \n",
      "Accuracy of the network on the 50000 train images: 99 %\n",
      "[80] loss: 5.146 acc: 30.700 \n",
      "Accuracy of the network on the 10000 test images: 30 %\n",
      "[90] loss: 0.269 acc: 99.980 \n",
      "Accuracy of the network on the 50000 train images: 99 %\n",
      "[90] loss: 5.047 acc: 32.000 \n",
      "Accuracy of the network on the 10000 test images: 32 %\n",
      "[100] loss: 0.253 acc: 99.940 \n",
      "Accuracy of the network on the 50000 train images: 99 %\n",
      "[100] loss: 5.295 acc: 28.600 \n",
      "Accuracy of the network on the 10000 test images: 28 %\n"
     ]
    }
   ],
   "source": [
    "exe(epoch_size)"
   ]
  },
  {
   "cell_type": "code",
   "execution_count": 14,
   "metadata": {},
   "outputs": [
    {
     "data": {
      "image/png": "[encoded data removed]",
      "text/plain": [
       "<Figure size 432x288 with 2 Axes>"
      ]
     },
     "metadata": {
      "needs_background": "light"
     },
     "output_type": "display_data"
    }
   ],
   "source": [
    "fig = plt.figure()\n",
    "ax_acc = fig.add_subplot(111)\n",
    "\n",
    "ax_acc.plot(range(epoch_size), history['val_acc'], label='정확도(%)', color='darkred')\n",
    "#plt.text(3, 14.7, \"<----------------정확도(%)\", verticalalignment='top', horizontalalignment='right')\n",
    "plt.xlabel('epochs')\n",
    "plt.ylabel('Validation Accuracy(%)')\n",
    "ax_acc.grid(linestyle='--', color='lavender')\n",
    "ax_loss = ax_acc.twinx()\n",
    "ax_loss.plot(range(epoch_size), history['val_loss'], label='오차', color='darkblue')\n",
    "#plt.text(3, 2.2, \"<----------------오차\", verticalalignment='top', horizontalalignment='left')\n",
    "plt.ylabel('Validation Error')\n",
    "ax_loss.yaxis.tick_right()\n",
    "ax_loss.grid(linestyle='--', color='lavender')\n",
    "\n",
    "# 그래프 표시\n",
    "plt.show()"
   ]
  },
  {
   "cell_type": "markdown",
   "metadata": {},
   "source": [
    "# 모델 변경시켜서 학습시켜 보기\n",
    "## 1. Opimization 변경 - 큰 변화가 없음을 볼 수 있다."
   ]
  },
  {
   "cell_type": "code",
   "execution_count": 20,
   "metadata": {},
   "outputs": [
    {
     "name": "stdout",
     "output_type": "stream",
     "text": [
      "[10] loss: 13.172 acc: 56.280 \n",
      "Accuracy of the network on the 50000 train images: 56 %\n",
      "[10] loss: 6.194 acc: 27.700 \n",
      "Accuracy of the network on the 10000 test images: 27 %\n",
      "[20] loss: 7.811 acc: 68.580 \n",
      "Accuracy of the network on the 50000 train images: 68 %\n",
      "[20] loss: 6.233 acc: 31.300 \n",
      "Accuracy of the network on the 10000 test images: 31 %\n",
      "[30] loss: 6.721 acc: 73.380 \n",
      "Accuracy of the network on the 50000 train images: 73 %\n",
      "[30] loss: 8.951 acc: 25.200 \n",
      "Accuracy of the network on the 10000 test images: 25 %\n",
      "[40] loss: 5.086 acc: 78.960 \n",
      "Accuracy of the network on the 50000 train images: 78 %\n",
      "[40] loss: 6.599 acc: 34.100 \n",
      "Accuracy of the network on the 10000 test images: 34 %\n",
      "[50] loss: 2.408 acc: 88.060 \n",
      "Accuracy of the network on the 50000 train images: 88 %\n",
      "[50] loss: 7.030 acc: 31.000 \n",
      "Accuracy of the network on the 10000 test images: 31 %\n",
      "[60] loss: 1.369 acc: 92.280 \n",
      "Accuracy of the network on the 50000 train images: 92 %\n",
      "[60] loss: 8.191 acc: 30.300 \n",
      "Accuracy of the network on the 10000 test images: 30 %\n",
      "[70] loss: 5.121 acc: 83.900 \n",
      "Accuracy of the network on the 50000 train images: 83 %\n",
      "[70] loss: 6.907 acc: 33.100 \n",
      "Accuracy of the network on the 10000 test images: 33 %\n",
      "[80] loss: 0.966 acc: 95.340 \n",
      "Accuracy of the network on the 50000 train images: 95 %\n",
      "[80] loss: 7.027 acc: 33.500 \n",
      "Accuracy of the network on the 10000 test images: 33 %\n",
      "[90] loss: 0.328 acc: 98.420 \n",
      "Accuracy of the network on the 50000 train images: 98 %\n",
      "[90] loss: 7.459 acc: 31.300 \n",
      "Accuracy of the network on the 10000 test images: 31 %\n",
      "[100] loss: 4.001 acc: 88.000 \n",
      "Accuracy of the network on the 50000 train images: 88 %\n",
      "[100] loss: 7.536 acc: 31.100 \n",
      "Accuracy of the network on the 10000 test images: 31 %\n"
     ]
    }
   ],
   "source": [
    "criterion = nn.CrossEntropyLoss()\n",
    "# adam : \n",
    "# momentum(기울기의 가속도가 있다고 판단) +\n",
    "# adagrad(지금까지 많이 변화하지 않은 변수들은 step size를 크게 하고, 지금까지 많이 변화했던 변수들은 step size를 작게 하자’) +\n",
    "# rmsprop(Gt 부분을 합이 아니라 지수평균으로 바꾸어서 대체한 방법 ada grad)\n",
    "\n",
    "# nag : momentum step을 먼저 이동했다고 생각한 후 그 자리에서의 gradient를 구해서 gradient step을 이동한다\n",
    "net = Net()\n",
    "criterion = nn.CrossEntropyLoss()\n",
    "optimizer = optim.RMSprop(net.parameters(), lr=learning_rate)\n",
    "exe(epoch_size)"
   ]
  },
  {
   "cell_type": "code",
   "execution_count": 19,
   "metadata": {},
   "outputs": [
    {
     "name": "stdout",
     "output_type": "stream",
     "text": [
      "[10] loss: 0.011 acc: 100.000 \n",
      "Accuracy of the network on the 50000 train images: 100 %\n",
      "[10] loss: 7.854 acc: 35.700 \n",
      "Accuracy of the network on the 10000 test images: 35 %\n",
      "[20] loss: 0.009 acc: 100.000 \n",
      "Accuracy of the network on the 50000 train images: 100 %\n",
      "[20] loss: 7.735 acc: 36.500 \n",
      "Accuracy of the network on the 10000 test images: 36 %\n",
      "[30] loss: 0.008 acc: 100.000 \n",
      "Accuracy of the network on the 50000 train images: 100 %\n",
      "[30] loss: 8.444 acc: 33.000 \n",
      "Accuracy of the network on the 10000 test images: 33 %\n",
      "[40] loss: 0.008 acc: 100.000 \n",
      "Accuracy of the network on the 50000 train images: 100 %\n",
      "[40] loss: 7.800 acc: 33.700 \n",
      "Accuracy of the network on the 10000 test images: 33 %\n",
      "[50] loss: 0.007 acc: 100.000 \n",
      "Accuracy of the network on the 50000 train images: 100 %\n",
      "[50] loss: 8.907 acc: 33.300 \n",
      "Accuracy of the network on the 10000 test images: 33 %\n",
      "[60] loss: 0.006 acc: 100.000 \n",
      "Accuracy of the network on the 50000 train images: 100 %\n",
      "[60] loss: 7.912 acc: 32.800 \n",
      "Accuracy of the network on the 10000 test images: 32 %\n",
      "[70] loss: 0.006 acc: 100.000 \n",
      "Accuracy of the network on the 50000 train images: 100 %\n",
      "[70] loss: 8.205 acc: 34.000 \n",
      "Accuracy of the network on the 10000 test images: 34 %\n",
      "[80] loss: 0.006 acc: 100.000 \n",
      "Accuracy of the network on the 50000 train images: 100 %\n",
      "[80] loss: 7.761 acc: 33.600 \n",
      "Accuracy of the network on the 10000 test images: 33 %\n",
      "[90] loss: 0.005 acc: 100.000 \n",
      "Accuracy of the network on the 50000 train images: 100 %\n",
      "[90] loss: 8.418 acc: 34.200 \n",
      "Accuracy of the network on the 10000 test images: 34 %\n",
      "[100] loss: 0.005 acc: 100.000 \n",
      "Accuracy of the network on the 50000 train images: 100 %\n",
      "[100] loss: 8.020 acc: 34.900 \n",
      "Accuracy of the network on the 10000 test images: 34 %\n"
     ]
    }
   ],
   "source": [
    "net = Net()\n",
    "criterion = nn.CrossEntropyLoss()\n",
    "optimizer = optim.Adagrad(net.parameters(), lr=learning_rate)\n",
    "exe(epoch_size)"
   ]
  },
  {
   "cell_type": "code",
   "execution_count": 21,
   "metadata": {},
   "outputs": [
    {
     "name": "stdout",
     "output_type": "stream",
     "text": [
      "[10] loss: 9.525 acc: 57.940 \n",
      "Accuracy of the network on the 50000 train images: 57 %\n",
      "[10] loss: 5.338 acc: 31.300 \n",
      "Accuracy of the network on the 10000 test images: 31 %\n",
      "[20] loss: 3.730 acc: 77.920 \n",
      "Accuracy of the network on the 50000 train images: 77 %\n",
      "[20] loss: 5.322 acc: 32.000 \n",
      "Accuracy of the network on the 10000 test images: 32 %\n",
      "[30] loss: 1.947 acc: 87.400 \n",
      "Accuracy of the network on the 50000 train images: 87 %\n",
      "[30] loss: 5.294 acc: 29.500 \n",
      "Accuracy of the network on the 10000 test images: 29 %\n",
      "[40] loss: 1.416 acc: 91.180 \n",
      "Accuracy of the network on the 50000 train images: 91 %\n",
      "[40] loss: 5.874 acc: 31.000 \n",
      "Accuracy of the network on the 10000 test images: 31 %\n",
      "[50] loss: 0.918 acc: 94.380 \n",
      "Accuracy of the network on the 50000 train images: 94 %\n",
      "[50] loss: 5.691 acc: 29.800 \n",
      "Accuracy of the network on the 10000 test images: 29 %\n",
      "[60] loss: 0.586 acc: 96.600 \n",
      "Accuracy of the network on the 50000 train images: 96 %\n",
      "[60] loss: 6.094 acc: 31.400 \n",
      "Accuracy of the network on the 10000 test images: 31 %\n",
      "[70] loss: 0.391 acc: 97.780 \n",
      "Accuracy of the network on the 50000 train images: 97 %\n",
      "[70] loss: 6.553 acc: 33.900 \n",
      "Accuracy of the network on the 10000 test images: 33 %\n",
      "[80] loss: 0.390 acc: 97.800 \n",
      "Accuracy of the network on the 50000 train images: 97 %\n",
      "[80] loss: 6.866 acc: 31.100 \n",
      "Accuracy of the network on the 10000 test images: 31 %\n",
      "[90] loss: 0.956 acc: 94.120 \n",
      "Accuracy of the network on the 50000 train images: 94 %\n",
      "[90] loss: 8.613 acc: 27.200 \n",
      "Accuracy of the network on the 10000 test images: 27 %\n",
      "[100] loss: 0.830 acc: 94.820 \n",
      "Accuracy of the network on the 50000 train images: 94 %\n",
      "[100] loss: 7.887 acc: 32.700 \n",
      "Accuracy of the network on the 10000 test images: 32 %\n"
     ]
    }
   ],
   "source": [
    "net = Net()\n",
    "criterion = nn.CrossEntropyLoss()\n",
    "optimizer = optim.Adam(net.parameters(), lr=learning_rate)\n",
    "exe(epoch_size)"
   ]
  },
  {
   "cell_type": "markdown",
   "metadata": {},
   "source": [
    "# normalization후 층(layer) 개수 늘리고 dropout 적용"
   ]
  },
  {
   "cell_type": "code",
   "execution_count": 26,
   "metadata": {},
   "outputs": [
    {
     "data": {
      "text/plain": [
       "(3072, 10, (5000, 3072), 50)"
      ]
     },
     "execution_count": 26,
     "metadata": {},
     "output_type": "execute_result"
    }
   ],
   "source": [
    "input_size, output_size, train_data.shape, hidden_size"
   ]
  },
  {
   "cell_type": "code",
   "execution_count": null,
   "metadata": {},
   "outputs": [],
   "source": [
    "class Net(nn.Module):\n",
    "    def __init__(self):\n",
    "        super(Net, self).__init__()\n",
    "        # an affine operation : y = Wx + b\n",
    "        self.fc1 = nn.Linear(input_size, 1536) # input, output\n",
    "        self.fc1_bn = torch.nn.BatchNorm1d(1536)\n",
    "        self.fc2 = nn.Linear(1536, 512) # input, output\n",
    "        self.fc3 = nn.Linear(512, 256) \n",
    "        self.fc4 = nn.Linear(256, output_size)\n",
    "    \n",
    "    def forward(self, x):\n",
    "        x = x.view(-1, self.num_flat_features(x))\n",
    "        x = self.fc1_bn(x)\n",
    "        x = F.relu(self.fc1(x))\n",
    "        x = self.fc2(x)\n",
    "        x = self.fc3(x)\n",
    "        x = F.dropout(x, training=self.training)\n",
    "        x = self.fc4(x)\n",
    "        return x\n",
    "    \n",
    "    def num_flat_features(self, x):\n",
    "        size = x.size()[1:]\n",
    "        num_features = 1\n",
    "        for s in size:\n",
    "            num_features *= s\n",
    "        return num_features"
   ]
  },
  {
   "cell_type": "code",
   "execution_count": null,
   "metadata": {},
   "outputs": [],
   "source": []
  },
  {
   "cell_type": "code",
   "execution_count": null,
   "metadata": {},
   "outputs": [],
   "source": []
  },
  {
   "cell_type": "code",
   "execution_count": null,
   "metadata": {},
   "outputs": [],
   "source": []
  },
  {
   "cell_type": "code",
   "execution_count": null,
   "metadata": {},
   "outputs": [],
   "source": []
  }
 ],
 "metadata": {
  "kernelspec": {
   "display_name": "Python 3",
   "language": "python",
   "name": "python3"
  },
  "language_info": {
   "codemirror_mode": {
    "name": "ipython",
    "version": 3
   },
   "file_extension": ".py",
   "mimetype": "text/x-python",
   "name": "python",
   "nbconvert_exporter": "python",
   "pygments_lexer": "ipython3",
   "version": "3.7.4"
  }
 },
 "nbformat": 4,
 "nbformat_minor": 4
}
