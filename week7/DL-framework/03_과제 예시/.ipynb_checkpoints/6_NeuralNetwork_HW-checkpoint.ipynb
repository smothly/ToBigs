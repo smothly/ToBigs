{
 "cells": [
  {
   "cell_type": "markdown",
   "metadata": {},
   "source": [
    "# Assignment 2 :\n",
    "- 6주차 NN 기초 강의 과제였던 6_NeuralNetwork_HW.ipynb를 프레임워크로 구현\n",
    "- PyTorch로 짠 예제 코드를 참고해주세요\n",
    "- Batch Normalization, Dropout 등 NN 심화에서 다뤘던 내용을 활용"
   ]
  },
  {
   "cell_type": "markdown",
   "metadata": {},
   "source": [
    "### Softmax - Cross Entropy Error미분  \n",
    "<img src=\"img/fig a-5.png\">"
   ]
  },
  {
   "cell_type": "markdown",
   "metadata": {},
   "source": [
    "### 데이터 Load  \n",
    "cifar-10 데이터를 불러옵니다.  \n",
    "프레임워크 내 자체적으로 데이터를 로드할 수 있지만, \n",
    "이렇게도 데이터 로드가 가능합니다!  \n",
    "32  32  3 차원의 데이터를 3072 차원으로 바뀌는 것 까지 드릴게요."
   ]
  },
  {
   "cell_type": "code",
   "execution_count": 2,
   "metadata": {},
   "outputs": [],
   "source": [
    "from load_cifar_10 import *\n",
    "import numpy as np\n",
    "from Model import TwoLayerNet"
   ]
  },
  {
   "cell_type": "code",
   "execution_count": 3,
   "metadata": {},
   "outputs": [],
   "source": [
    "cifar_10_dir = 'cifar-10-batches-py'\n",
    "\n",
    "train_data, train_filenames, train_labels, test_data, test_filenames, test_labels, label_names = \\\n",
    "load_cifar_10_data(cifar_10_dir)\n",
    "\n",
    "def Processing_data(train, test):\n",
    "    #change dtype\n",
    "    train = np.array(train, dtype=np.float64)\n",
    "    test = np.array(test, dtype=np.float64)\n",
    "    \n",
    "    #Reshaping\n",
    "    train = np.reshape(train, (train.shape[0], -1))\n",
    "    test = np.reshape(test, (test.shape[0], -1))\n",
    "    \n",
    "    #Normalizing\n",
    "    mean_image = np.mean(train, axis = 0)\n",
    "    #print(train.dtype)\n",
    "    train -= mean_image\n",
    "    test -= mean_image\n",
    "    \n",
    "    return train, test"
   ]
  },
  {
   "cell_type": "code",
   "execution_count": 4,
   "metadata": {},
   "outputs": [],
   "source": [
    "train_data, test_data = Processing_data(train_data, test_data)"
   ]
  },
  {
   "cell_type": "code",
   "execution_count": 5,
   "metadata": {},
   "outputs": [
    {
     "name": "stdout",
     "output_type": "stream",
     "text": [
      "(50000, 3072)\n",
      "(50000,)\n",
      "(10000, 3072)\n",
      "(10000,)\n"
     ]
    }
   ],
   "source": [
    "print(train_data.shape)\n",
    "print(train_labels.shape)\n",
    "print(test_data.shape)\n",
    "print(test_labels.shape)"
   ]
  },
  {
   "cell_type": "markdown",
   "metadata": {},
   "source": [
    "너무 많으니까 5000개, 1000개만 사용합시다!"
   ]
  },
  {
   "cell_type": "code",
   "execution_count": 6,
   "metadata": {},
   "outputs": [],
   "source": [
    "train_data = train_data[:5000]\n",
    "train_labels = train_labels[:5000]\n",
    "test_data = test_data[:1000]\n",
    "test_labels = test_labels[:1000]"
   ]
  },
  {
   "cell_type": "markdown",
   "metadata": {},
   "source": [
    "### 데이터 확인  \n",
    "실제 데이터가 어떻게 생겼는지는 한번 확인해보세요!"
   ]
  },
  {
   "cell_type": "code",
   "execution_count": 7,
   "metadata": {},
   "outputs": [
    {
     "data": {
      "text/plain": [
       "array([[ -71.71074,  -74.05614,  -69.5538 , ...,   -3.63908,  -33.8503 ,\n",
       "         -42.38186],\n",
       "       [  23.28926,   40.94386,   54.4462 , ...,   16.36092,    7.1497 ,\n",
       "          29.61814],\n",
       "       [ 124.28926,  118.94386,  122.4462 , ...,  -46.63908,  -39.8503 ,\n",
       "         -30.38186],\n",
       "       ...,\n",
       "       [  36.28926,   26.94386,   12.4462 , ...,  -84.63908,  -47.8503 ,\n",
       "         -30.38186],\n",
       "       [  23.28926,   15.94386,   -7.5538 , ...,   67.36092,  121.1497 ,\n",
       "          -0.38186],\n",
       "       [ -85.71074, -104.05614, -111.5538 , ...,   29.36092,   16.1497 ,\n",
       "         -14.38186]])"
      ]
     },
     "execution_count": 7,
     "metadata": {},
     "output_type": "execute_result"
    }
   ],
   "source": [
    "train_data"
   ]
  },
  {
   "cell_type": "markdown",
   "metadata": {},
   "source": [
    "### 하이퍼파라미터 설정  \n",
    "하이퍼파라미터를 설정하겠습니다.  \n",
    "hidden_size, epoch_size, batch_size, learning_rate 등은 전부 하이퍼 파라미터이니 바꿔서 해보세요."
   ]
  },
  {
   "cell_type": "code",
   "execution_count": 8,
   "metadata": {},
   "outputs": [],
   "source": [
    "input_size = 32 * 32 * 3\n",
    "hidden_size = 50\n",
    "output_size = 10\n",
    "epoch_size = 100\n",
    "batch_size = 100\n",
    "learning_rate = 0.0001\n",
    "N = train_data.shape[0]\n",
    "M = test_data.shape[0] # 새롭게 추가"
   ]
  },
  {
   "cell_type": "code",
   "execution_count": 9,
   "metadata": {},
   "outputs": [],
   "source": [
    "nn = TwoLayerNet(input_size=input_size, hidden_size=hidden_size, output_size=output_size)"
   ]
  },
  {
   "cell_type": "code",
   "execution_count": 10,
   "metadata": {},
   "outputs": [
    {
     "name": "stdout",
     "output_type": "stream",
     "text": [
      "0 test accuracy : 0.24\n",
      "0 test loss     : 2.300592167429571\n",
      "10 test accuracy : 0.291\n",
      "10 test loss     : 1.9699646128066108\n",
      "20 test accuracy : 0.343\n",
      "20 test loss     : 1.8454815474834878\n",
      "30 test accuracy : 0.366\n",
      "30 test loss     : 1.7899343935658334\n",
      "40 test accuracy : 0.368\n",
      "40 test loss     : 1.7790446620972271\n",
      "50 test accuracy : 0.373\n",
      "50 test loss     : 1.7709561175021038\n",
      "60 test accuracy : 0.374\n",
      "60 test loss     : 1.7766159824690144\n",
      "70 test accuracy : 0.368\n",
      "70 test loss     : 1.7828283219623282\n",
      "80 test accuracy : 0.367\n",
      "80 test loss     : 1.7977805566329217\n",
      "90 test accuracy : 0.366\n",
      "90 test loss     : 1.802120116383031\n"
     ]
    }
   ],
   "source": [
    "history = {'val_acc': [],'val_loss': []} #기록해서 그림 그리자!\n",
    "\n",
    "#코드를 보며 epoch, batch에 대해서 이해해봅시다.\n",
    "for i in range(epoch_size):\n",
    "    for j in range(N//batch_size):\n",
    "        batch_mask = np.random.choice(N, batch_size) #이번 배치에서 쓸 데이터들 인덱스 추출\n",
    "        x_batch = train_data[batch_mask]\n",
    "        t_batch = train_labels[batch_mask]\n",
    "        \n",
    "        nn.backward(x_batch, t_batch) # 가중치 갱신\n",
    "    \n",
    "    #accuracy와 loss를 기록해둡시다.\n",
    "    history[\"val_acc\"].append(nn.accuracy(test_data, test_labels))\n",
    "    history[\"val_loss\"].append(nn.forward(test_data, test_labels))\n",
    "    \n",
    "    if i % 10 == 0:\n",
    "        print(i, \"test accuracy :\", nn.accuracy(test_data, test_labels))\n",
    "        print(i, \"test loss     :\", nn.forward(test_data, test_labels))"
   ]
  },
  {
   "cell_type": "markdown",
   "metadata": {},
   "source": [
    "### 그림 그리기"
   ]
  },
  {
   "cell_type": "code",
   "execution_count": 11,
   "metadata": {},
   "outputs": [
    {
     "data": {
      "image/png": "[encoded data removed]",
      "text/plain": [
       "<Figure size 432x288 with 2 Axes>"
      ]
     },
     "metadata": {
      "needs_background": "light"
     },
     "output_type": "display_data"
    }
   ],
   "source": [
    "fig = plt.figure()\n",
    "ax_acc = fig.add_subplot(111)\n",
    "\n",
    "ax_acc.plot(range(epoch_size), history['val_acc'], label='정확도(%)', color='darkred')\n",
    "#plt.text(3, 14.7, \"<----------------정확도(%)\", verticalalignment='top', horizontalalignment='right')\n",
    "plt.xlabel('epochs')\n",
    "plt.ylabel('Validation Accuracy(%)')\n",
    "ax_acc.grid(linestyle='--', color='lavender')\n",
    "ax_loss = ax_acc.twinx()\n",
    "ax_loss.plot(range(epoch_size), history['val_loss'], label='오차', color='darkblue')\n",
    "#plt.text(3, 2.2, \"<----------------오차\", verticalalignment='top', horizontalalignment='left')\n",
    "plt.ylabel('Validation Error')\n",
    "ax_loss.yaxis.tick_right()\n",
    "ax_loss.grid(linestyle='--', color='lavender')\n",
    "\n",
    "# 그래프 표시\n",
    "plt.show()"
   ]
  },
  {
   "cell_type": "markdown",
   "metadata": {},
   "source": [
    "---"
   ]
  },
  {
   "cell_type": "markdown",
   "metadata": {},
   "source": [
    "# PyTorch"
   ]
  },
  {
   "cell_type": "code",
   "execution_count": 12,
   "metadata": {},
   "outputs": [
    {
     "name": "stdout",
     "output_type": "stream",
     "text": [
      "Net(\n",
      "  (fc1): Linear(in_features=3072, out_features=50, bias=True)\n",
      "  (fc2): Linear(in_features=50, out_features=10, bias=True)\n",
      ")\n"
     ]
    }
   ],
   "source": [
    "import torch\n",
    "import torch.nn as nn\n",
    "import torch.nn.functional as F\n",
    "\n",
    "####################\n",
    "### Model \n",
    "###################\n",
    "class Net(nn.Module):\n",
    "    def __init__(self):\n",
    "        super(Net, self).__init__()\n",
    "        # an affine operation : y = Wx + b\n",
    "        self.fc1 = nn.Linear(input_size, hidden_size) # input, output\n",
    "        self.fc2 = nn.Linear(hidden_size, output_size)\n",
    "    \n",
    "    def forward(self, x):\n",
    "        x = x.view(-1, self.num_flat_features(x))\n",
    "        x = F.relu(self.fc1(x))\n",
    "        x = self.fc2(x)\n",
    "        return x\n",
    "    \n",
    "    def num_flat_features(self, x):\n",
    "        size = x.size()[1:]\n",
    "        num_features = 1\n",
    "        for s in size:\n",
    "            num_features *= s\n",
    "        return num_features\n",
    "\n",
    "net = Net()\n",
    "print(net)"
   ]
  },
  {
   "cell_type": "code",
   "execution_count": 13,
   "metadata": {},
   "outputs": [],
   "source": [
    "import torch.optim as optim\n",
    "net = Net()\n",
    "criterion = nn.CrossEntropyLoss()\n",
    "optimizer = optim.SGD(net.parameters(), lr=learning_rate)"
   ]
  },
  {
   "cell_type": "code",
   "execution_count": 18,
   "metadata": {},
   "outputs": [],
   "source": [
    "history = {'val_acc': [],'val_loss': [], 'train_acc':[], 'train_loss':[]} #기록해서 그림 그리자!\n",
    "\n",
    "#코드를 보며 epoch, batch에 대해서 이해해봅시다.\n",
    "def exe(epoch_size):\n",
    "    \n",
    "    net.train()\n",
    "    \n",
    "    for i in range(epoch_size):\n",
    "        correct = 0\n",
    "        total = 0\n",
    "        running_loss = 0\n",
    "        for j in range(N//batch_size):\n",
    "            batch_mask = np.random.choice(N, batch_size) #이번 배치에서 쓸 데이터들 인덱스 추출\n",
    "            x_batch = torch.FloatTensor(train_data[batch_mask])\n",
    "            t_batch = torch.LongTensor(train_labels[batch_mask])\n",
    "\n",
    "            # Gradient buffer를 0으로 초기화\n",
    "            optimizer.zero_grad()\n",
    "\n",
    "            # Forward\n",
    "            outputs = net(x_batch)\n",
    "            # Backward\n",
    "            loss = criterion(outputs, t_batch)\n",
    "            loss.backward()\n",
    "            # Update the weights\n",
    "            optimizer.step()\n",
    "\n",
    "            # Statistics\n",
    "            _, predicted = torch.max(outputs.data, 1)\n",
    "            total += t_batch.size(0)\n",
    "            correct += (predicted == t_batch).sum().item()\n",
    "            running_loss += loss.item()\n",
    "\n",
    "        acc = 100*correct/total    \n",
    "        history['train_loss'].append(running_loss / 50)\n",
    "        history['train_acc'].append(acc)\n",
    "\n",
    "        \n",
    "\n",
    "        print('[%d] loss: %.3f acc: %.3f ' %\n",
    "              (i + 1, running_loss / 10, acc))\n",
    "        print('Accuracy of the network on the 50000 train images: %d %%' %  acc)\n",
    "        running_loss = 0.0\n",
    "\n",
    "        # Test\n",
    "        net.eval()\n",
    "        correct = 0\n",
    "        total = 0\n",
    "        val_loss = 0\n",
    "\n",
    "        with torch.no_grad():\n",
    "            for k in range(M//batch_size):\n",
    "                batch_mask = np.random.choice(M, batch_size) #이번 배치에서 쓸 데이터들 인덱스 추출\n",
    "                x_batch = torch.FloatTensor(test_data[batch_mask])\n",
    "                t_batch = torch.LongTensor(test_labels[batch_mask])\n",
    "\n",
    "                 # Forward\n",
    "                outputs = net(x_batch)\n",
    "\n",
    "                # loss\n",
    "                loss = criterion(outputs, t_batch)\n",
    "\n",
    "                # Statistics\n",
    "                _, predicted = torch.max(outputs.data, 1)\n",
    "                total += t_batch.size(0)\n",
    "                correct += (predicted == t_batch).sum().item()\n",
    "                val_loss += loss.item()\n",
    "\n",
    "            #accuracy와 loss를 기록해둡시다.\n",
    "            acc = 100*correct/total\n",
    "            history[\"val_acc\"].append(acc)\n",
    "            history[\"val_loss\"].append(val_loss / 10)\n",
    "\n",
    "            \n",
    "            print('[%d] loss: %.3f acc: %.3f ' %\n",
    "                  (i + 1, val_loss / 10, acc))\n",
    "            print('Accuracy of the network on the 10000 test images: %d %%' % acc)\n",
    "            val_loss = 0.0"
   ]
  },
  {
   "cell_type": "code",
   "execution_count": 15,
   "metadata": {},
   "outputs": [
    {
     "name": "stdout",
     "output_type": "stream",
     "text": [
      "[10] loss: 12.942 acc: 47.280 \n",
      "Accuracy of the network on the 50000 train images: 47 %\n",
      "[10] loss: 4.893 acc: 30.300 \n",
      "Accuracy of the network on the 10000 test images: 30 %\n",
      "[20] loss: 7.900 acc: 58.960 \n",
      "Accuracy of the network on the 50000 train images: 58 %\n",
      "[20] loss: 4.606 acc: 30.300 \n",
      "Accuracy of the network on the 10000 test images: 30 %\n",
      "[30] loss: 5.116 acc: 69.060 \n",
      "Accuracy of the network on the 50000 train images: 69 %\n",
      "[30] loss: 4.847 acc: 31.600 \n",
      "Accuracy of the network on the 10000 test images: 31 %\n",
      "[40] loss: 3.358 acc: 79.660 \n",
      "Accuracy of the network on the 50000 train images: 79 %\n",
      "[40] loss: 4.719 acc: 28.900 \n",
      "Accuracy of the network on the 10000 test images: 28 %\n",
      "[50] loss: 2.530 acc: 85.640 \n",
      "Accuracy of the network on the 50000 train images: 85 %\n",
      "[50] loss: 4.507 acc: 30.300 \n",
      "Accuracy of the network on the 10000 test images: 30 %\n",
      "[60] loss: 2.044 acc: 88.900 \n",
      "Accuracy of the network on the 50000 train images: 88 %\n",
      "[60] loss: 4.653 acc: 29.900 \n",
      "Accuracy of the network on the 10000 test images: 29 %\n",
      "[70] loss: 1.461 acc: 93.560 \n",
      "Accuracy of the network on the 50000 train images: 93 %\n",
      "[70] loss: 4.670 acc: 29.900 \n",
      "Accuracy of the network on the 10000 test images: 29 %\n",
      "[80] loss: 1.221 acc: 95.440 \n",
      "Accuracy of the network on the 50000 train images: 95 %\n",
      "[80] loss: 4.647 acc: 29.700 \n",
      "Accuracy of the network on the 10000 test images: 29 %\n",
      "[90] loss: 1.028 acc: 96.540 \n",
      "Accuracy of the network on the 50000 train images: 96 %\n",
      "[90] loss: 4.545 acc: 33.700 \n",
      "Accuracy of the network on the 10000 test images: 33 %\n",
      "[100] loss: 0.920 acc: 97.660 \n",
      "Accuracy of the network on the 50000 train images: 97 %\n",
      "[100] loss: 4.608 acc: 28.700 \n",
      "Accuracy of the network on the 10000 test images: 28 %\n"
     ]
    }
   ],
   "source": [
    "exe(epoch_size) # epoch 사이즈를 "
   ]
  },
  {
   "cell_type": "code",
   "execution_count": 16,
   "metadata": {},
   "outputs": [
    {
     "data": {
      "image/png": "[encoded data removed]",
      "text/plain": [
       "<Figure size 432x288 with 2 Axes>"
      ]
     },
     "metadata": {
      "needs_background": "light"
     },
     "output_type": "display_data"
    }
   ],
   "source": [
    "fig = plt.figure()\n",
    "ax_acc = fig.add_subplot(111)\n",
    "\n",
    "ax_acc.plot(range(epoch_size), history['val_acc'], label='정확도(%)', color='darkred')\n",
    "#plt.text(3, 14.7, \"<----------------정확도(%)\", verticalalignment='top', horizontalalignment='right')\n",
    "plt.xlabel('epochs')\n",
    "plt.ylabel('Validation Accuracy(%)')\n",
    "ax_acc.grid(linestyle='--', color='lavender')\n",
    "ax_loss = ax_acc.twinx()\n",
    "ax_loss.plot(range(epoch_size), history['val_loss'], label='오차', color='darkblue')\n",
    "#plt.text(3, 2.2, \"<----------------오차\", verticalalignment='top', horizontalalignment='left')\n",
    "plt.ylabel('Validation Error')\n",
    "ax_loss.yaxis.tick_right()\n",
    "ax_loss.grid(linestyle='--', color='lavender')\n",
    "\n",
    "# 그래프 표시\n",
    "plt.show()\n",
    "# epoch사이즈가 100까지 필요없다. 시간이 지날수록 오버피팅되어서 그래프상으로 보면 10정도가 적당해보인다."
   ]
  },
  {
   "cell_type": "markdown",
   "metadata": {},
   "source": [
    "# 모델 변경시켜서 학습시켜 보기\n",
    "## 1. Opimization 변경 - 큰 변화가 없음을 볼 수 있다."
   ]
  },
  {
   "cell_type": "code",
   "execution_count": 17,
   "metadata": {},
   "outputs": [],
   "source": [
    "epoch_size = 15 # epoch사이즈 변경"
   ]
  },
  {
   "cell_type": "code",
   "execution_count": 19,
   "metadata": {},
   "outputs": [
    {
     "name": "stdout",
     "output_type": "stream",
     "text": [
      "[1] loss: 72.913 acc: 26.380 \n",
      "Accuracy of the network on the 50000 train images: 26 %\n",
      "[1] loss: 9.433 acc: 28.000 \n",
      "Accuracy of the network on the 10000 test images: 28 %\n",
      "[2] loss: 34.279 acc: 35.920 \n",
      "Accuracy of the network on the 50000 train images: 35 %\n",
      "[2] loss: 7.918 acc: 27.800 \n",
      "Accuracy of the network on the 10000 test images: 27 %\n",
      "[3] loss: 26.884 acc: 40.360 \n",
      "Accuracy of the network on the 50000 train images: 40 %\n",
      "[3] loss: 7.337 acc: 30.100 \n",
      "Accuracy of the network on the 10000 test images: 30 %\n",
      "[4] loss: 23.090 acc: 41.800 \n",
      "Accuracy of the network on the 50000 train images: 41 %\n",
      "[4] loss: 7.733 acc: 28.800 \n",
      "Accuracy of the network on the 10000 test images: 28 %\n",
      "[5] loss: 20.266 acc: 45.480 \n",
      "Accuracy of the network on the 50000 train images: 45 %\n",
      "[5] loss: 6.456 acc: 28.900 \n",
      "Accuracy of the network on the 10000 test images: 28 %\n",
      "[6] loss: 19.278 acc: 46.740 \n",
      "Accuracy of the network on the 50000 train images: 46 %\n",
      "[6] loss: 7.072 acc: 26.300 \n",
      "Accuracy of the network on the 10000 test images: 26 %\n",
      "[7] loss: 17.325 acc: 49.060 \n",
      "Accuracy of the network on the 50000 train images: 49 %\n",
      "[7] loss: 6.450 acc: 29.100 \n",
      "Accuracy of the network on the 10000 test images: 29 %\n",
      "[8] loss: 16.527 acc: 48.700 \n",
      "Accuracy of the network on the 50000 train images: 48 %\n",
      "[8] loss: 6.106 acc: 31.500 \n",
      "Accuracy of the network on the 10000 test images: 31 %\n",
      "[9] loss: 14.392 acc: 52.800 \n",
      "Accuracy of the network on the 50000 train images: 52 %\n",
      "[9] loss: 5.904 acc: 26.800 \n",
      "Accuracy of the network on the 10000 test images: 26 %\n",
      "[10] loss: 13.590 acc: 54.600 \n",
      "Accuracy of the network on the 50000 train images: 54 %\n",
      "[10] loss: 6.224 acc: 29.800 \n",
      "Accuracy of the network on the 10000 test images: 29 %\n"
     ]
    }
   ],
   "source": [
    "criterion = nn.CrossEntropyLoss()\n",
    "# adam : \n",
    "# momentum(기울기의 가속도가 있다고 판단) +\n",
    "# adagrad(지금까지 많이 변화하지 않은 변수들은 step size를 크게 하고, 지금까지 많이 변화했던 변수들은 step size를 작게 하자’) +\n",
    "# rmsprop(Gt 부분을 합이 아니라 지수평균으로 바꾸어서 대체한 방법 ada grad)\n",
    "\n",
    "# nag : momentum step을 먼저 이동했다고 생각한 후 그 자리에서의 gradient를 구해서 gradient step을 이동한다\n",
    "net = Net()\n",
    "criterion = nn.CrossEntropyLoss()\n",
    "optimizer = optim.RMSprop(net.parameters(), lr=learning_rate)\n",
    "exe(epoch_size)"
   ]
  },
  {
   "cell_type": "code",
   "execution_count": 20,
   "metadata": {},
   "outputs": [
    {
     "name": "stdout",
     "output_type": "stream",
     "text": [
      "[1] loss: 51.024 acc: 20.420 \n",
      "Accuracy of the network on the 50000 train images: 20 %\n",
      "[1] loss: 9.082 acc: 19.000 \n",
      "Accuracy of the network on the 10000 test images: 19 %\n",
      "[2] loss: 39.740 acc: 24.000 \n",
      "Accuracy of the network on the 50000 train images: 24 %\n",
      "[2] loss: 8.701 acc: 21.300 \n",
      "Accuracy of the network on the 10000 test images: 21 %\n",
      "[3] loss: 34.746 acc: 26.640 \n",
      "Accuracy of the network on the 50000 train images: 26 %\n",
      "[3] loss: 7.832 acc: 21.000 \n",
      "Accuracy of the network on the 10000 test images: 21 %\n",
      "[4] loss: 32.110 acc: 27.480 \n",
      "Accuracy of the network on the 50000 train images: 27 %\n",
      "[4] loss: 7.365 acc: 23.300 \n",
      "Accuracy of the network on the 10000 test images: 23 %\n",
      "[5] loss: 31.684 acc: 28.240 \n",
      "Accuracy of the network on the 50000 train images: 28 %\n",
      "[5] loss: 7.458 acc: 21.700 \n",
      "Accuracy of the network on the 10000 test images: 21 %\n",
      "[6] loss: 28.573 acc: 30.400 \n",
      "Accuracy of the network on the 50000 train images: 30 %\n",
      "[6] loss: 7.463 acc: 22.700 \n",
      "Accuracy of the network on the 10000 test images: 22 %\n",
      "[7] loss: 28.619 acc: 29.220 \n",
      "Accuracy of the network on the 50000 train images: 29 %\n",
      "[7] loss: 7.242 acc: 24.300 \n",
      "Accuracy of the network on the 10000 test images: 24 %\n",
      "[8] loss: 26.374 acc: 31.760 \n",
      "Accuracy of the network on the 50000 train images: 31 %\n",
      "[8] loss: 6.898 acc: 22.400 \n",
      "Accuracy of the network on the 10000 test images: 22 %\n",
      "[9] loss: 25.670 acc: 31.720 \n",
      "Accuracy of the network on the 50000 train images: 31 %\n",
      "[9] loss: 6.310 acc: 26.200 \n",
      "Accuracy of the network on the 10000 test images: 26 %\n",
      "[10] loss: 25.321 acc: 31.700 \n",
      "Accuracy of the network on the 50000 train images: 31 %\n",
      "[10] loss: 6.716 acc: 25.600 \n",
      "Accuracy of the network on the 10000 test images: 25 %\n"
     ]
    }
   ],
   "source": [
    "net = Net()\n",
    "criterion = nn.CrossEntropyLoss()\n",
    "optimizer = optim.Adagrad(net.parameters(), lr=learning_rate)\n",
    "exe(epoch_size)"
   ]
  },
  {
   "cell_type": "code",
   "execution_count": 21,
   "metadata": {},
   "outputs": [
    {
     "name": "stdout",
     "output_type": "stream",
     "text": [
      "[1] loss: 52.986 acc: 22.540 \n",
      "Accuracy of the network on the 50000 train images: 22 %\n",
      "[1] loss: 8.091 acc: 26.100 \n",
      "Accuracy of the network on the 10000 test images: 26 %\n",
      "[2] loss: 31.133 acc: 32.900 \n",
      "Accuracy of the network on the 50000 train images: 32 %\n",
      "[2] loss: 7.158 acc: 23.300 \n",
      "Accuracy of the network on the 10000 test images: 23 %\n",
      "[3] loss: 25.009 acc: 34.840 \n",
      "Accuracy of the network on the 50000 train images: 34 %\n",
      "[3] loss: 6.677 acc: 29.500 \n",
      "Accuracy of the network on the 10000 test images: 29 %\n",
      "[4] loss: 20.543 acc: 40.060 \n",
      "Accuracy of the network on the 50000 train images: 40 %\n",
      "[4] loss: 6.077 acc: 28.200 \n",
      "Accuracy of the network on the 10000 test images: 28 %\n",
      "[5] loss: 17.286 acc: 44.680 \n",
      "Accuracy of the network on the 50000 train images: 44 %\n",
      "[5] loss: 6.097 acc: 30.900 \n",
      "Accuracy of the network on the 10000 test images: 30 %\n",
      "[6] loss: 14.799 acc: 48.220 \n",
      "Accuracy of the network on the 50000 train images: 48 %\n",
      "[6] loss: 5.705 acc: 29.800 \n",
      "Accuracy of the network on the 10000 test images: 29 %\n",
      "[7] loss: 13.164 acc: 50.740 \n",
      "Accuracy of the network on the 50000 train images: 50 %\n",
      "[7] loss: 5.937 acc: 29.700 \n",
      "Accuracy of the network on the 10000 test images: 29 %\n",
      "[8] loss: 11.848 acc: 53.300 \n",
      "Accuracy of the network on the 50000 train images: 53 %\n",
      "[8] loss: 5.611 acc: 29.800 \n",
      "Accuracy of the network on the 10000 test images: 29 %\n",
      "[9] loss: 9.879 acc: 57.100 \n",
      "Accuracy of the network on the 50000 train images: 57 %\n",
      "[9] loss: 5.503 acc: 25.900 \n",
      "Accuracy of the network on the 10000 test images: 25 %\n",
      "[10] loss: 8.761 acc: 59.680 \n",
      "Accuracy of the network on the 50000 train images: 59 %\n",
      "[10] loss: 5.818 acc: 26.400 \n",
      "Accuracy of the network on the 10000 test images: 26 %\n"
     ]
    }
   ],
   "source": [
    "net = Net()\n",
    "criterion = nn.CrossEntropyLoss()\n",
    "optimizer = optim.Adam(net.parameters(), lr=learning_rate)\n",
    "exe(epoch_size)"
   ]
  },
  {
   "cell_type": "markdown",
   "metadata": {},
   "source": [
    "# normalization후 층(layer) 개수 늘리고 dropout 적용"
   ]
  },
  {
   "cell_type": "code",
   "execution_count": 22,
   "metadata": {},
   "outputs": [
    {
     "data": {
      "text/plain": [
       "(3072, 10, (5000, 3072), 50)"
      ]
     },
     "execution_count": 22,
     "metadata": {},
     "output_type": "execute_result"
    }
   ],
   "source": [
    "input_size, output_size, train_data.shape, hidden_size"
   ]
  },
  {
   "cell_type": "code",
   "execution_count": 23,
   "metadata": {},
   "outputs": [],
   "source": [
    "class Net(nn.Module):\n",
    "    def __init__(self):\n",
    "        super(Net, self).__init__()\n",
    "        # an affine operation : y = Wx + b\n",
    "        self.fc1 = nn.Linear(input_size, 1536) # input, output\n",
    "        self.fc1_bn = torch.nn.BatchNorm1d(1536)\n",
    "        self.fc2 = nn.Linear(1536, 512) # input, output\n",
    "        self.fc3 = nn.Linear(512, 256)\n",
    "        self.fc3_bn = torch.nn.BatchNorm1d(256)\n",
    "        self.fc4 = nn.Linear(256, output_size)\n",
    "    \n",
    "    def forward(self, x):\n",
    "        x = x.view(-1, self.num_flat_features(x))\n",
    "        x = self.fc1(x)\n",
    "        x = self.fc1_bn(x)\n",
    "        x = F.relu(x)\n",
    "        x = self.fc2(x)\n",
    "        x = self.fc3(x)\n",
    "        x = self.fc3_bn(x)\n",
    "        x = F.dropout(x, training=self.training)\n",
    "        x = self.fc4(x)\n",
    "        return x\n",
    "    \n",
    "    def num_flat_features(self, x):\n",
    "        size = x.size()[1:]\n",
    "        num_features = 1\n",
    "        for s in size:\n",
    "            num_features *= s\n",
    "        return num_features"
   ]
  },
  {
   "cell_type": "code",
   "execution_count": 24,
   "metadata": {},
   "outputs": [
    {
     "name": "stdout",
     "output_type": "stream",
     "text": [
      "[1] loss: 9.282 acc: 35.380 \n",
      "Accuracy of the network on the 50000 train images: 35 %\n",
      "[1] loss: 1.781 acc: 39.300 \n",
      "Accuracy of the network on the 10000 test images: 39 %\n",
      "[2] loss: 7.740 acc: 47.020 \n",
      "Accuracy of the network on the 50000 train images: 47 %\n",
      "[2] loss: 1.715 acc: 37.600 \n",
      "Accuracy of the network on the 10000 test images: 37 %\n",
      "[3] loss: 6.995 acc: 51.620 \n",
      "Accuracy of the network on the 50000 train images: 51 %\n",
      "[3] loss: 1.659 acc: 43.000 \n",
      "Accuracy of the network on the 10000 test images: 43 %\n",
      "[4] loss: 6.250 acc: 57.720 \n",
      "Accuracy of the network on the 50000 train images: 57 %\n",
      "[4] loss: 1.719 acc: 41.200 \n",
      "Accuracy of the network on the 10000 test images: 41 %\n",
      "[5] loss: 5.588 acc: 63.240 \n",
      "Accuracy of the network on the 50000 train images: 63 %\n",
      "[5] loss: 1.715 acc: 40.200 \n",
      "Accuracy of the network on the 10000 test images: 40 %\n",
      "[6] loss: 4.924 acc: 67.680 \n",
      "Accuracy of the network on the 50000 train images: 67 %\n",
      "[6] loss: 1.857 acc: 40.300 \n",
      "Accuracy of the network on the 10000 test images: 40 %\n",
      "[7] loss: 4.260 acc: 72.520 \n",
      "Accuracy of the network on the 50000 train images: 72 %\n",
      "[7] loss: 1.709 acc: 44.000 \n",
      "Accuracy of the network on the 10000 test images: 44 %\n",
      "[8] loss: 3.491 acc: 78.700 \n",
      "Accuracy of the network on the 50000 train images: 78 %\n",
      "[8] loss: 1.765 acc: 41.800 \n",
      "Accuracy of the network on the 10000 test images: 41 %\n",
      "[9] loss: 3.246 acc: 79.860 \n",
      "Accuracy of the network on the 50000 train images: 79 %\n",
      "[9] loss: 1.801 acc: 45.100 \n",
      "Accuracy of the network on the 10000 test images: 45 %\n",
      "[10] loss: 2.666 acc: 83.240 \n",
      "Accuracy of the network on the 50000 train images: 83 %\n",
      "[10] loss: 1.975 acc: 42.700 \n",
      "Accuracy of the network on the 10000 test images: 42 %\n"
     ]
    },
    {
     "data": {
      "text/plain": [
       "'\\n시간은 확실히 오래걸리지만 normalization과 dropout을 적용하니 정확도가 더 높게 나옴을 볼 수 있다!\\n30대 -> 40대\\n'"
      ]
     },
     "execution_count": 24,
     "metadata": {},
     "output_type": "execute_result"
    }
   ],
   "source": [
    "net = Net()\n",
    "criterion = nn.CrossEntropyLoss()\n",
    "optimizer = optim.Adam(net.parameters(), lr=learning_rate)\n",
    "exe(epoch_size)\n",
    "\n",
    "'''\n",
    "시간은 확실히 오래걸리지만 normalization과 dropout을 적용하니 test 정확도가 더 높게 나옴을 볼 수 있다!\n",
    "30대 -> 40대\n",
    "'''"
   ]
  },
  {
   "cell_type": "code",
   "execution_count": null,
   "metadata": {},
   "outputs": [],
   "source": []
  },
  {
   "cell_type": "code",
   "execution_count": null,
   "metadata": {},
   "outputs": [],
   "source": []
  },
  {
   "cell_type": "code",
   "execution_count": null,
   "metadata": {},
   "outputs": [],
   "source": []
  }
 ],
 "metadata": {
  "kernelspec": {
   "display_name": "Python 3",
   "language": "python",
   "name": "python3"
  },
  "language_info": {
   "codemirror_mode": {
    "name": "ipython",
    "version": 3
   },
   "file_extension": ".py",
   "mimetype": "text/x-python",
   "name": "python",
   "nbconvert_exporter": "python",
   "pygments_lexer": "ipython3",
   "version": "3.6.8"
  }
 },
 "nbformat": 4,
 "nbformat_minor": 4
}
