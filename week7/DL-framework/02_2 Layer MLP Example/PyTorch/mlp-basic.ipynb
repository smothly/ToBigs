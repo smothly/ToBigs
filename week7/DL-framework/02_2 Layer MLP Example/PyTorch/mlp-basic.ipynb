{
 "cells": [
  {
   "cell_type": "markdown",
   "metadata": {},
   "source": [
    "Deep Learning Models -- A collection of various deep learning architectures, models, and tips for TensorFlow and PyTorch in Jupyter Notebooks.\n",
    "- Author: Sebastian Raschka\n",
    "- GitHub Repository: https://github.com/rasbt/deeplearning-models"
   ]
  },
  {
   "cell_type": "code",
   "execution_count": null,
   "metadata": {},
   "outputs": [],
   "source": [
    "%load_ext watermark\n",
    "%watermark -a 'Sebastian Raschka' -v -p torch"
   ]
  },
  {
   "cell_type": "markdown",
   "metadata": {},
   "source": [
    "- Runs on CPU or GPU (if available)"
   ]
  },
  {
   "cell_type": "markdown",
   "metadata": {},
   "source": [
    "# Model Zoo -- Multilayer Perceptron"
   ]
  },
  {
   "cell_type": "markdown",
   "metadata": {},
   "source": [
    "## Imports"
   ]
  },
  {
   "cell_type": "code",
   "execution_count": 5,
   "metadata": {},
   "outputs": [],
   "source": [
    "import time\n",
    "import numpy as np\n",
    "from torchvision import datasets\n",
    "from torchvision import transforms\n",
    "from torch.utils.data import DataLoader\n",
    "import torch.nn.functional as F\n",
    "import torch\n",
    "\n",
    "\n",
    "if torch.cuda.is_available():\n",
    "    torch.backends.cudnn.deterministic = True"
   ]
  },
  {
   "cell_type": "markdown",
   "metadata": {},
   "source": [
    "## Settings and Dataset"
   ]
  },
  {
   "cell_type": "code",
   "execution_count": 6,
   "metadata": {},
   "outputs": [
    {
     "name": "stderr",
     "output_type": "stream",
     "text": [
      "0it [00:00, ?it/s]"
     ]
    },
    {
     "name": "stdout",
     "output_type": "stream",
     "text": [
      "Downloading http://yann.lecun.com/exdb/mnist/train-images-idx3-ubyte.gz to data/MNIST/raw/train-images-idx3-ubyte.gz\n"
     ]
    },
    {
     "name": "stderr",
     "output_type": "stream",
     "text": [
      "9920512it [00:04, 2453925.58it/s]                             \n"
     ]
    },
    {
     "name": "stdout",
     "output_type": "stream",
     "text": [
      "Extracting data/MNIST/raw/train-images-idx3-ubyte.gz to data/MNIST/raw\n"
     ]
    },
    {
     "name": "stderr",
     "output_type": "stream",
     "text": [
      "0it [00:00, ?it/s]"
     ]
    },
    {
     "name": "stdout",
     "output_type": "stream",
     "text": [
      "Downloading http://yann.lecun.com/exdb/mnist/train-labels-idx1-ubyte.gz to data/MNIST/raw/train-labels-idx1-ubyte.gz\n"
     ]
    },
    {
     "name": "stderr",
     "output_type": "stream",
     "text": [
      "32768it [00:00, 52457.00it/s]                           \n",
      "0it [00:00, ?it/s]"
     ]
    },
    {
     "name": "stdout",
     "output_type": "stream",
     "text": [
      "Extracting data/MNIST/raw/train-labels-idx1-ubyte.gz to data/MNIST/raw\n",
      "Downloading http://yann.lecun.com/exdb/mnist/t10k-images-idx3-ubyte.gz to data/MNIST/raw/t10k-images-idx3-ubyte.gz\n"
     ]
    },
    {
     "name": "stderr",
     "output_type": "stream",
     "text": [
      "1654784it [00:01, 1144239.28it/s]                            \n",
      "0it [00:00, ?it/s]"
     ]
    },
    {
     "name": "stdout",
     "output_type": "stream",
     "text": [
      "Extracting data/MNIST/raw/t10k-images-idx3-ubyte.gz to data/MNIST/raw\n",
      "Downloading http://yann.lecun.com/exdb/mnist/t10k-labels-idx1-ubyte.gz to data/MNIST/raw/t10k-labels-idx1-ubyte.gz\n"
     ]
    },
    {
     "name": "stderr",
     "output_type": "stream",
     "text": [
      "8192it [00:00, 20182.06it/s]            "
     ]
    },
    {
     "name": "stdout",
     "output_type": "stream",
     "text": [
      "Extracting data/MNIST/raw/t10k-labels-idx1-ubyte.gz to data/MNIST/raw\n",
      "Processing...\n",
      "Done!\n",
      "Image batch dimensions: torch.Size([64, 1, 28, 28])\n",
      "Image label dimensions: torch.Size([64])\n"
     ]
    },
    {
     "name": "stderr",
     "output_type": "stream",
     "text": [
      "\n"
     ]
    }
   ],
   "source": [
    "##########################\n",
    "### SETTINGS\n",
    "##########################\n",
    "\n",
    "# Device\n",
    "device = torch.device(\"cuda:3\" if torch.cuda.is_available() else \"cpu\")\n",
    "\n",
    "# Hyperparameters\n",
    "random_seed = 1\n",
    "learning_rate = 0.1\n",
    "num_epochs = 10\n",
    "batch_size = 64\n",
    "\n",
    "# Architecture\n",
    "num_features = 784\n",
    "num_hidden_1 = 128\n",
    "num_hidden_2 = 256\n",
    "num_classes = 10\n",
    "\n",
    "\n",
    "##########################\n",
    "### MNIST DATASET\n",
    "##########################\n",
    "\n",
    "# Note transforms.ToTensor() scales input images\n",
    "# to 0-1 range\n",
    "train_dataset = datasets.MNIST(root='data', \n",
    "                               train=True, \n",
    "                               transform=transforms.ToTensor(),\n",
    "                               download=True)\n",
    "\n",
    "test_dataset = datasets.MNIST(root='data', \n",
    "                              train=False, \n",
    "                              transform=transforms.ToTensor())\n",
    "\n",
    "\n",
    "train_loader = DataLoader(dataset=train_dataset, \n",
    "                          batch_size=batch_size, \n",
    "                          shuffle=True)\n",
    "\n",
    "test_loader = DataLoader(dataset=test_dataset, \n",
    "                         batch_size=batch_size, \n",
    "                         shuffle=False)\n",
    "\n",
    "# Checking the dataset\n",
    "for images, labels in train_loader:  \n",
    "    print('Image batch dimensions:', images.shape)\n",
    "    print('Image label dimensions:', labels.shape)\n",
    "    break"
   ]
  },
  {
   "cell_type": "code",
   "execution_count": 7,
   "metadata": {},
   "outputs": [],
   "source": [
    "##########################\n",
    "### MODEL\n",
    "##########################\n",
    "\n",
    "class MultilayerPerceptron(torch.nn.Module):\n",
    "\n",
    "    def __init__(self, num_features, num_classes):\n",
    "        super(MultilayerPerceptron, self).__init__()\n",
    "        \n",
    "        ### 1st hidden layer\n",
    "        self.linear_1 = torch.nn.Linear(num_features, num_hidden_1)\n",
    "        # The following two lines are not necessary, \n",
    "        # but used here to demonstrate how to access the weights\n",
    "        # and use a different weight initialization.\n",
    "        # By default, PyTorch uses Xavier/Glorot initialization, which\n",
    "        # should usually be preferred.\n",
    "        self.linear_1.weight.detach().normal_(0.0, 0.1)\n",
    "        self.linear_1.bias.detach().zero_()\n",
    "        \n",
    "        ### 2nd hidden layer\n",
    "        self.linear_2 = torch.nn.Linear(num_hidden_1, num_hidden_2)\n",
    "        self.linear_2.weight.detach().normal_(0.0, 0.1)\n",
    "        self.linear_2.bias.detach().zero_()\n",
    "        \n",
    "        ### Output layer\n",
    "        self.linear_out = torch.nn.Linear(num_hidden_2, num_classes)\n",
    "        self.linear_out.weight.detach().normal_(0.0, 0.1)\n",
    "        self.linear_out.bias.detach().zero_()\n",
    "        \n",
    "    def forward(self, x):\n",
    "        out = self.linear_1(x)\n",
    "        out = F.relu(out)\n",
    "        out = self.linear_2(out)\n",
    "        out = F.relu(out)\n",
    "        logits = self.linear_out(out)\n",
    "        probas = F.log_softmax(logits, dim=1)\n",
    "        return logits, probas\n",
    "\n",
    "    \n",
    "torch.manual_seed(random_seed)\n",
    "model = MultilayerPerceptron(num_features=num_features,\n",
    "                             num_classes=num_classes)\n",
    "\n",
    "model = model.to(device)\n",
    "\n",
    "optimizer = torch.optim.SGD(model.parameters(), lr=learning_rate)  "
   ]
  },
  {
   "cell_type": "code",
   "execution_count": 8,
   "metadata": {},
   "outputs": [
    {
     "name": "stdout",
     "output_type": "stream",
     "text": [
      "Epoch: 001/010 | Batch 000/938 | Cost: 2.4231\n",
      "Epoch: 001/010 | Batch 050/938 | Cost: 0.7213\n",
      "Epoch: 001/010 | Batch 100/938 | Cost: 0.3137\n",
      "Epoch: 001/010 | Batch 150/938 | Cost: 0.4774\n",
      "Epoch: 001/010 | Batch 200/938 | Cost: 0.3311\n",
      "Epoch: 001/010 | Batch 250/938 | Cost: 0.3081\n",
      "Epoch: 001/010 | Batch 300/938 | Cost: 0.3944\n",
      "Epoch: 001/010 | Batch 350/938 | Cost: 0.2296\n",
      "Epoch: 001/010 | Batch 400/938 | Cost: 0.0828\n",
      "Epoch: 001/010 | Batch 450/938 | Cost: 0.2247\n",
      "Epoch: 001/010 | Batch 500/938 | Cost: 0.2467\n",
      "Epoch: 001/010 | Batch 550/938 | Cost: 0.1541\n",
      "Epoch: 001/010 | Batch 600/938 | Cost: 0.2409\n",
      "Epoch: 001/010 | Batch 650/938 | Cost: 0.4143\n",
      "Epoch: 001/010 | Batch 700/938 | Cost: 0.2905\n",
      "Epoch: 001/010 | Batch 750/938 | Cost: 0.3491\n",
      "Epoch: 001/010 | Batch 800/938 | Cost: 0.1403\n",
      "Epoch: 001/010 | Batch 850/938 | Cost: 0.0682\n",
      "Epoch: 001/010 | Batch 900/938 | Cost: 0.2784\n",
      "Epoch: 001/010 training accuracy: 94.88%\n",
      "Time elapsed: 0.15 min\n",
      "Epoch: 002/010 | Batch 000/938 | Cost: 0.3281\n",
      "Epoch: 002/010 | Batch 050/938 | Cost: 0.2818\n",
      "Epoch: 002/010 | Batch 100/938 | Cost: 0.0917\n",
      "Epoch: 002/010 | Batch 150/938 | Cost: 0.2293\n",
      "Epoch: 002/010 | Batch 200/938 | Cost: 0.2245\n",
      "Epoch: 002/010 | Batch 250/938 | Cost: 0.1602\n",
      "Epoch: 002/010 | Batch 300/938 | Cost: 0.0540\n",
      "Epoch: 002/010 | Batch 350/938 | Cost: 0.2372\n",
      "Epoch: 002/010 | Batch 400/938 | Cost: 0.0527\n",
      "Epoch: 002/010 | Batch 450/938 | Cost: 0.0971\n",
      "Epoch: 002/010 | Batch 500/938 | Cost: 0.2386\n",
      "Epoch: 002/010 | Batch 550/938 | Cost: 0.2063\n",
      "Epoch: 002/010 | Batch 600/938 | Cost: 0.1612\n",
      "Epoch: 002/010 | Batch 650/938 | Cost: 0.1723\n",
      "Epoch: 002/010 | Batch 700/938 | Cost: 0.1973\n",
      "Epoch: 002/010 | Batch 750/938 | Cost: 0.0877\n",
      "Epoch: 002/010 | Batch 800/938 | Cost: 0.1730\n",
      "Epoch: 002/010 | Batch 850/938 | Cost: 0.1080\n",
      "Epoch: 002/010 | Batch 900/938 | Cost: 0.1510\n",
      "Epoch: 002/010 training accuracy: 96.62%\n",
      "Time elapsed: 0.30 min\n",
      "Epoch: 003/010 | Batch 000/938 | Cost: 0.1086\n",
      "Epoch: 003/010 | Batch 050/938 | Cost: 0.0965\n",
      "Epoch: 003/010 | Batch 100/938 | Cost: 0.0785\n",
      "Epoch: 003/010 | Batch 150/938 | Cost: 0.1940\n",
      "Epoch: 003/010 | Batch 200/938 | Cost: 0.1192\n",
      "Epoch: 003/010 | Batch 250/938 | Cost: 0.2507\n",
      "Epoch: 003/010 | Batch 300/938 | Cost: 0.0632\n",
      "Epoch: 003/010 | Batch 350/938 | Cost: 0.1211\n",
      "Epoch: 003/010 | Batch 400/938 | Cost: 0.0825\n",
      "Epoch: 003/010 | Batch 450/938 | Cost: 0.0823\n",
      "Epoch: 003/010 | Batch 500/938 | Cost: 0.0697\n",
      "Epoch: 003/010 | Batch 550/938 | Cost: 0.0521\n",
      "Epoch: 003/010 | Batch 600/938 | Cost: 0.1988\n",
      "Epoch: 003/010 | Batch 650/938 | Cost: 0.1137\n",
      "Epoch: 003/010 | Batch 700/938 | Cost: 0.2025\n",
      "Epoch: 003/010 | Batch 750/938 | Cost: 0.0625\n",
      "Epoch: 003/010 | Batch 800/938 | Cost: 0.0189\n",
      "Epoch: 003/010 | Batch 850/938 | Cost: 0.0172\n",
      "Epoch: 003/010 | Batch 900/938 | Cost: 0.0627\n",
      "Epoch: 003/010 training accuracy: 97.69%\n",
      "Time elapsed: 0.45 min\n",
      "Epoch: 004/010 | Batch 000/938 | Cost: 0.0066\n",
      "Epoch: 004/010 | Batch 050/938 | Cost: 0.0336\n",
      "Epoch: 004/010 | Batch 100/938 | Cost: 0.1639\n",
      "Epoch: 004/010 | Batch 150/938 | Cost: 0.0560\n",
      "Epoch: 004/010 | Batch 200/938 | Cost: 0.0313\n",
      "Epoch: 004/010 | Batch 250/938 | Cost: 0.1533\n",
      "Epoch: 004/010 | Batch 300/938 | Cost: 0.2201\n",
      "Epoch: 004/010 | Batch 350/938 | Cost: 0.0215\n",
      "Epoch: 004/010 | Batch 400/938 | Cost: 0.1187\n",
      "Epoch: 004/010 | Batch 450/938 | Cost: 0.1829\n",
      "Epoch: 004/010 | Batch 500/938 | Cost: 0.1407\n",
      "Epoch: 004/010 | Batch 550/938 | Cost: 0.1145\n",
      "Epoch: 004/010 | Batch 600/938 | Cost: 0.0352\n",
      "Epoch: 004/010 | Batch 650/938 | Cost: 0.0547\n",
      "Epoch: 004/010 | Batch 700/938 | Cost: 0.1927\n",
      "Epoch: 004/010 | Batch 750/938 | Cost: 0.1592\n",
      "Epoch: 004/010 | Batch 800/938 | Cost: 0.0763\n",
      "Epoch: 004/010 | Batch 850/938 | Cost: 0.0488\n",
      "Epoch: 004/010 | Batch 900/938 | Cost: 0.1468\n",
      "Epoch: 004/010 training accuracy: 98.00%\n",
      "Time elapsed: 0.61 min\n",
      "Epoch: 005/010 | Batch 000/938 | Cost: 0.0223\n",
      "Epoch: 005/010 | Batch 050/938 | Cost: 0.0154\n",
      "Epoch: 005/010 | Batch 100/938 | Cost: 0.1209\n",
      "Epoch: 005/010 | Batch 150/938 | Cost: 0.0723\n",
      "Epoch: 005/010 | Batch 200/938 | Cost: 0.0436\n",
      "Epoch: 005/010 | Batch 250/938 | Cost: 0.0828\n",
      "Epoch: 005/010 | Batch 300/938 | Cost: 0.0693\n",
      "Epoch: 005/010 | Batch 350/938 | Cost: 0.0922\n",
      "Epoch: 005/010 | Batch 400/938 | Cost: 0.0385\n",
      "Epoch: 005/010 | Batch 450/938 | Cost: 0.0507\n",
      "Epoch: 005/010 | Batch 500/938 | Cost: 0.1340\n",
      "Epoch: 005/010 | Batch 550/938 | Cost: 0.1172\n",
      "Epoch: 005/010 | Batch 600/938 | Cost: 0.0698\n",
      "Epoch: 005/010 | Batch 650/938 | Cost: 0.0291\n",
      "Epoch: 005/010 | Batch 700/938 | Cost: 0.0553\n",
      "Epoch: 005/010 | Batch 750/938 | Cost: 0.0435\n",
      "Epoch: 005/010 | Batch 800/938 | Cost: 0.0438\n",
      "Epoch: 005/010 | Batch 850/938 | Cost: 0.1095\n",
      "Epoch: 005/010 | Batch 900/938 | Cost: 0.0320\n",
      "Epoch: 005/010 training accuracy: 98.59%\n",
      "Time elapsed: 0.76 min\n",
      "Epoch: 006/010 | Batch 000/938 | Cost: 0.1037\n",
      "Epoch: 006/010 | Batch 050/938 | Cost: 0.0890\n",
      "Epoch: 006/010 | Batch 100/938 | Cost: 0.0655\n",
      "Epoch: 006/010 | Batch 150/938 | Cost: 0.0312\n",
      "Epoch: 006/010 | Batch 200/938 | Cost: 0.0414\n",
      "Epoch: 006/010 | Batch 250/938 | Cost: 0.0754\n",
      "Epoch: 006/010 | Batch 300/938 | Cost: 0.0848\n",
      "Epoch: 006/010 | Batch 350/938 | Cost: 0.0602\n",
      "Epoch: 006/010 | Batch 400/938 | Cost: 0.1149\n",
      "Epoch: 006/010 | Batch 450/938 | Cost: 0.0494\n",
      "Epoch: 006/010 | Batch 500/938 | Cost: 0.0645\n",
      "Epoch: 006/010 | Batch 550/938 | Cost: 0.1635\n",
      "Epoch: 006/010 | Batch 600/938 | Cost: 0.0557\n",
      "Epoch: 006/010 | Batch 650/938 | Cost: 0.0296\n",
      "Epoch: 006/010 | Batch 700/938 | Cost: 0.0754\n",
      "Epoch: 006/010 | Batch 750/938 | Cost: 0.1170\n",
      "Epoch: 006/010 | Batch 800/938 | Cost: 0.0640\n",
      "Epoch: 006/010 | Batch 850/938 | Cost: 0.0756\n",
      "Epoch: 006/010 | Batch 900/938 | Cost: 0.1804\n",
      "Epoch: 006/010 training accuracy: 98.82%\n",
      "Time elapsed: 0.91 min\n",
      "Epoch: 007/010 | Batch 000/938 | Cost: 0.0046\n",
      "Epoch: 007/010 | Batch 050/938 | Cost: 0.0919\n",
      "Epoch: 007/010 | Batch 100/938 | Cost: 0.0351\n",
      "Epoch: 007/010 | Batch 150/938 | Cost: 0.1115\n",
      "Epoch: 007/010 | Batch 200/938 | Cost: 0.0262\n",
      "Epoch: 007/010 | Batch 250/938 | Cost: 0.0408\n",
      "Epoch: 007/010 | Batch 300/938 | Cost: 0.0679\n",
      "Epoch: 007/010 | Batch 350/938 | Cost: 0.0344\n",
      "Epoch: 007/010 | Batch 400/938 | Cost: 0.0261\n",
      "Epoch: 007/010 | Batch 450/938 | Cost: 0.0489\n",
      "Epoch: 007/010 | Batch 500/938 | Cost: 0.0171\n",
      "Epoch: 007/010 | Batch 550/938 | Cost: 0.0822\n",
      "Epoch: 007/010 | Batch 600/938 | Cost: 0.1116\n",
      "Epoch: 007/010 | Batch 650/938 | Cost: 0.0874\n",
      "Epoch: 007/010 | Batch 700/938 | Cost: 0.0284\n",
      "Epoch: 007/010 | Batch 750/938 | Cost: 0.0703\n",
      "Epoch: 007/010 | Batch 800/938 | Cost: 0.0111\n",
      "Epoch: 007/010 | Batch 850/938 | Cost: 0.0721\n",
      "Epoch: 007/010 | Batch 900/938 | Cost: 0.0580\n",
      "Epoch: 007/010 training accuracy: 99.00%\n",
      "Time elapsed: 1.06 min\n",
      "Epoch: 008/010 | Batch 000/938 | Cost: 0.0204\n",
      "Epoch: 008/010 | Batch 050/938 | Cost: 0.0181\n",
      "Epoch: 008/010 | Batch 100/938 | Cost: 0.0429\n",
      "Epoch: 008/010 | Batch 150/938 | Cost: 0.0319\n",
      "Epoch: 008/010 | Batch 200/938 | Cost: 0.0075\n",
      "Epoch: 008/010 | Batch 250/938 | Cost: 0.0525\n",
      "Epoch: 008/010 | Batch 300/938 | Cost: 0.0253\n",
      "Epoch: 008/010 | Batch 350/938 | Cost: 0.0275\n",
      "Epoch: 008/010 | Batch 400/938 | Cost: 0.0099\n",
      "Epoch: 008/010 | Batch 450/938 | Cost: 0.0048\n",
      "Epoch: 008/010 | Batch 500/938 | Cost: 0.0111\n",
      "Epoch: 008/010 | Batch 550/938 | Cost: 0.0050\n",
      "Epoch: 008/010 | Batch 600/938 | Cost: 0.0192\n",
      "Epoch: 008/010 | Batch 650/938 | Cost: 0.0344\n",
      "Epoch: 008/010 | Batch 700/938 | Cost: 0.0440\n",
      "Epoch: 008/010 | Batch 750/938 | Cost: 0.0144\n",
      "Epoch: 008/010 | Batch 800/938 | Cost: 0.0385\n",
      "Epoch: 008/010 | Batch 850/938 | Cost: 0.0056\n",
      "Epoch: 008/010 | Batch 900/938 | Cost: 0.0553\n",
      "Epoch: 008/010 training accuracy: 99.23%\n",
      "Time elapsed: 1.21 min\n",
      "Epoch: 009/010 | Batch 000/938 | Cost: 0.0383\n",
      "Epoch: 009/010 | Batch 050/938 | Cost: 0.0577\n",
      "Epoch: 009/010 | Batch 100/938 | Cost: 0.0132\n",
      "Epoch: 009/010 | Batch 150/938 | Cost: 0.0174\n",
      "Epoch: 009/010 | Batch 200/938 | Cost: 0.0793\n",
      "Epoch: 009/010 | Batch 250/938 | Cost: 0.0059\n",
      "Epoch: 009/010 | Batch 300/938 | Cost: 0.0075\n",
      "Epoch: 009/010 | Batch 350/938 | Cost: 0.0062\n",
      "Epoch: 009/010 | Batch 400/938 | Cost: 0.0454\n",
      "Epoch: 009/010 | Batch 450/938 | Cost: 0.0212\n",
      "Epoch: 009/010 | Batch 500/938 | Cost: 0.0259\n",
      "Epoch: 009/010 | Batch 550/938 | Cost: 0.0145\n",
      "Epoch: 009/010 | Batch 600/938 | Cost: 0.0803\n",
      "Epoch: 009/010 | Batch 650/938 | Cost: 0.0484\n",
      "Epoch: 009/010 | Batch 700/938 | Cost: 0.0194\n",
      "Epoch: 009/010 | Batch 750/938 | Cost: 0.0597\n",
      "Epoch: 009/010 | Batch 800/938 | Cost: 0.0063\n",
      "Epoch: 009/010 | Batch 850/938 | Cost: 0.1514\n",
      "Epoch: 009/010 | Batch 900/938 | Cost: 0.0031\n",
      "Epoch: 009/010 training accuracy: 99.30%\n",
      "Time elapsed: 1.36 min\n",
      "Epoch: 010/010 | Batch 000/938 | Cost: 0.0215\n",
      "Epoch: 010/010 | Batch 050/938 | Cost: 0.0169\n",
      "Epoch: 010/010 | Batch 100/938 | Cost: 0.0133\n",
      "Epoch: 010/010 | Batch 150/938 | Cost: 0.0110\n",
      "Epoch: 010/010 | Batch 200/938 | Cost: 0.0409\n",
      "Epoch: 010/010 | Batch 250/938 | Cost: 0.0302\n",
      "Epoch: 010/010 | Batch 300/938 | Cost: 0.0113\n",
      "Epoch: 010/010 | Batch 350/938 | Cost: 0.0170\n",
      "Epoch: 010/010 | Batch 400/938 | Cost: 0.0016\n",
      "Epoch: 010/010 | Batch 450/938 | Cost: 0.0095\n",
      "Epoch: 010/010 | Batch 500/938 | Cost: 0.0850\n",
      "Epoch: 010/010 | Batch 550/938 | Cost: 0.0106\n",
      "Epoch: 010/010 | Batch 600/938 | Cost: 0.0277\n",
      "Epoch: 010/010 | Batch 650/938 | Cost: 0.0550\n",
      "Epoch: 010/010 | Batch 700/938 | Cost: 0.0200\n",
      "Epoch: 010/010 | Batch 750/938 | Cost: 0.0091\n",
      "Epoch: 010/010 | Batch 800/938 | Cost: 0.0093\n",
      "Epoch: 010/010 | Batch 850/938 | Cost: 0.0117\n",
      "Epoch: 010/010 | Batch 900/938 | Cost: 0.0388\n",
      "Epoch: 010/010 training accuracy: 99.03%\n",
      "Time elapsed: 1.51 min\n",
      "Total Training Time: 1.51 min\n"
     ]
    }
   ],
   "source": [
    "def compute_accuracy(net, data_loader):\n",
    "    net.eval()\n",
    "    correct_pred, num_examples = 0, 0\n",
    "    with torch.no_grad():\n",
    "        for features, targets in data_loader:\n",
    "            features = features.view(-1, 28*28).to(device)\n",
    "            targets = targets.to(device)\n",
    "            logits, probas = net(features)\n",
    "            _, predicted_labels = torch.max(probas, 1)\n",
    "            num_examples += targets.size(0)\n",
    "            correct_pred += (predicted_labels == targets).sum()\n",
    "        return correct_pred.float()/num_examples * 100\n",
    "    \n",
    "\n",
    "start_time = time.time()\n",
    "for epoch in range(num_epochs):\n",
    "    model.train()#dropout이 켜진채로 학습이된다. test할땐 꺼지고\n",
    "    for batch_idx, (features, targets) in enumerate(train_loader):\n",
    "        \n",
    "        features = features.view(-1, 28*28).to(device)\n",
    "        targets = targets.to(device)\n",
    "            \n",
    "        ### FORWARD AND BACK PROP\n",
    "        logits, probas = model(features)\n",
    "        cost = F.cross_entropy(logits, targets)\n",
    "        optimizer.zero_grad()\n",
    "        \n",
    "        cost.backward()\n",
    "        \n",
    "        ### UPDATE MODEL PARAMETERS\n",
    "        optimizer.step()\n",
    "        \n",
    "        ### LOGGING\n",
    "        if not batch_idx % 50:\n",
    "            print ('Epoch: %03d/%03d | Batch %03d/%03d | Cost: %.4f' \n",
    "                   %(epoch+1, num_epochs, batch_idx, \n",
    "                     len(train_loader), cost))\n",
    "\n",
    "    with torch.set_grad_enabled(False):\n",
    "        print('Epoch: %03d/%03d training accuracy: %.2f%%' % (\n",
    "              epoch+1, num_epochs, \n",
    "              compute_accuracy(model, train_loader)))\n",
    "        \n",
    "    print('Time elapsed: %.2f min' % ((time.time() - start_time)/60))\n",
    "    \n",
    "print('Total Training Time: %.2f min' % ((time.time() - start_time)/60))"
   ]
  },
  {
   "cell_type": "code",
   "execution_count": 9,
   "metadata": {},
   "outputs": [
    {
     "name": "stdout",
     "output_type": "stream",
     "text": [
      "Test accuracy: 97.55%\n"
     ]
    }
   ],
   "source": [
    "print('Test accuracy: %.2f%%' % (compute_accuracy(model, test_loader)))"
   ]
  },
  {
   "cell_type": "code",
   "execution_count": 10,
   "metadata": {},
   "outputs": [
    {
     "name": "stderr",
     "output_type": "stream",
     "text": [
      "UsageError: Line magic function `%watermark` not found.\n"
     ]
    }
   ],
   "source": [
    "%watermark -iv"
   ]
  },
  {
   "cell_type": "code",
   "execution_count": null,
   "metadata": {},
   "outputs": [],
   "source": []
  }
 ],
 "metadata": {
  "kernelspec": {
   "display_name": "Python 3",
   "language": "python",
   "name": "python3"
  },
  "language_info": {
   "codemirror_mode": {
    "name": "ipython",
    "version": 3
   },
   "file_extension": ".py",
   "mimetype": "text/x-python",
   "name": "python",
   "nbconvert_exporter": "python",
   "pygments_lexer": "ipython3",
   "version": "3.7.4"
  },
  "toc": {
   "nav_menu": {},
   "number_sections": true,
   "sideBar": true,
   "skip_h1_title": false,
   "title_cell": "Table of Contents",
   "title_sidebar": "Contents",
   "toc_cell": false,
   "toc_position": {},
   "toc_section_display": true,
   "toc_window_display": false
  }
 },
 "nbformat": 4,
 "nbformat_minor": 4
}
