{
 "cells": [
  {
   "cell_type": "code",
   "execution_count": 1,
   "metadata": {},
   "outputs": [],
   "source": [
    "import numpy as np\n",
    "import pandas as pd\n",
    "from tqdm import trange \n",
    "import time\n",
    "import os"
   ]
  },
  {
   "cell_type": "code",
   "execution_count": 2,
   "metadata": {
    "scrolled": true
   },
   "outputs": [
    {
     "data": {
      "text/html": [
       "<div>\n",
       "<style scoped>\n",
       "    .dataframe tbody tr th:only-of-type {\n",
       "        vertical-align: middle;\n",
       "    }\n",
       "\n",
       "    .dataframe tbody tr th {\n",
       "        vertical-align: top;\n",
       "    }\n",
       "\n",
       "    .dataframe thead th {\n",
       "        text-align: right;\n",
       "    }\n",
       "</style>\n",
       "<table border=\"1\" class=\"dataframe\">\n",
       "  <thead>\n",
       "    <tr style=\"text-align: right;\">\n",
       "      <th></th>\n",
       "      <th>Unnamed: 0</th>\n",
       "      <th>study_start_day</th>\n",
       "      <th>study_start_time</th>\n",
       "      <th>study_end_day</th>\n",
       "      <th>study_end_time</th>\n",
       "      <th>hashed</th>\n",
       "    </tr>\n",
       "  </thead>\n",
       "  <tbody>\n",
       "    <tr>\n",
       "      <th>0</th>\n",
       "      <td>0</td>\n",
       "      <td>1</td>\n",
       "      <td>09:14:58.558</td>\n",
       "      <td>1</td>\n",
       "      <td>09:41:30.200</td>\n",
       "      <td>967393e81d99ce8e577ee130b7ce8e4fd45e3e9cecb560...</td>\n",
       "    </tr>\n",
       "    <tr>\n",
       "      <th>1</th>\n",
       "      <td>1</td>\n",
       "      <td>17</td>\n",
       "      <td>11:05:05.176</td>\n",
       "      <td>17</td>\n",
       "      <td>13:07:42.515</td>\n",
       "      <td>02181a0c962f34f019bc9d5b582fb0ec79b1441f96aa4d...</td>\n",
       "    </tr>\n",
       "    <tr>\n",
       "      <th>2</th>\n",
       "      <td>2</td>\n",
       "      <td>20</td>\n",
       "      <td>02:18:43.172</td>\n",
       "      <td>20</td>\n",
       "      <td>02:28:58.177</td>\n",
       "      <td>86022904c5cf72a54978479c94041f4256d6c3c2a1f71c...</td>\n",
       "    </tr>\n",
       "    <tr>\n",
       "      <th>3</th>\n",
       "      <td>3</td>\n",
       "      <td>22</td>\n",
       "      <td>09:22:01.936</td>\n",
       "      <td>22</td>\n",
       "      <td>09:47:40.192</td>\n",
       "      <td>aafb40d212fe18ff4eafb82fdcf3b53f2161cb3ce59de4...</td>\n",
       "    </tr>\n",
       "    <tr>\n",
       "      <th>4</th>\n",
       "      <td>4</td>\n",
       "      <td>26</td>\n",
       "      <td>06:29:21.182</td>\n",
       "      <td>26</td>\n",
       "      <td>06:50:55.004</td>\n",
       "      <td>c87c2fad141edf323f3787335b54be22945a02fe052448...</td>\n",
       "    </tr>\n",
       "  </tbody>\n",
       "</table>\n",
       "</div>"
      ],
      "text/plain": [
       "   Unnamed: 0  study_start_day study_start_time  study_end_day study_end_time  \\\n",
       "0           0                1     09:14:58.558              1   09:41:30.200   \n",
       "1           1               17     11:05:05.176             17   13:07:42.515   \n",
       "2           2               20     02:18:43.172             20   02:28:58.177   \n",
       "3           3               22     09:22:01.936             22   09:47:40.192   \n",
       "4           4               26     06:29:21.182             26   06:50:55.004   \n",
       "\n",
       "                                              hashed  \n",
       "0  967393e81d99ce8e577ee130b7ce8e4fd45e3e9cecb560...  \n",
       "1  02181a0c962f34f019bc9d5b582fb0ec79b1441f96aa4d...  \n",
       "2  86022904c5cf72a54978479c94041f4256d6c3c2a1f71c...  \n",
       "3  aafb40d212fe18ff4eafb82fdcf3b53f2161cb3ce59de4...  \n",
       "4  c87c2fad141edf323f3787335b54be22945a02fe052448...  "
      ]
     },
     "execution_count": 2,
     "metadata": {},
     "output_type": "execute_result"
    }
   ],
   "source": [
    "df = pd.read_csv('study_room_HMS.csv')\n",
    "df.head()"
   ]
  },
  {
   "cell_type": "code",
   "execution_count": 3,
   "metadata": {
    "scrolled": true
   },
   "outputs": [
    {
     "data": {
      "text/plain": [
       "'967393e81d99ce8e577ee130b7ce8e4fd45e3e9cecb560de427ede6ea49e024f,a0b6ecbec654b18fe36ebe6230e25a653fb12125733583d012741572134447f4,3193ab18168bcadbcb8342c06c4a35fa0d6e58d9619fe805fb811fc4e6562fef'"
      ]
     },
     "execution_count": 3,
     "metadata": {},
     "output_type": "execute_result"
    }
   ],
   "source": [
    "df['hashed'][0]"
   ]
  },
  {
   "cell_type": "code",
   "execution_count": 4,
   "metadata": {},
   "outputs": [],
   "source": [
    "#memory error\n",
    "#df['hashed'].apply(lambda x : x.split(','))"
   ]
  },
  {
   "cell_type": "code",
   "execution_count": null,
   "metadata": {},
   "outputs": [],
   "source": []
  }
 ],
 "metadata": {
  "kernelspec": {
   "display_name": "Python 3",
   "language": "python",
   "name": "python3"
  },
  "language_info": {
   "codemirror_mode": {
    "name": "ipython",
    "version": 3
   },
   "file_extension": ".py",
   "mimetype": "text/x-python",
   "name": "python",
   "nbconvert_exporter": "python",
   "pygments_lexer": "ipython3",
   "version": "3.6.8"
  }
 },
 "nbformat": 4,
 "nbformat_minor": 1
}
