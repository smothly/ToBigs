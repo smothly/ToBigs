{
 "cells": [
  {
   "cell_type": "markdown",
   "metadata": {},
   "source": [
    "# 정규식 표혼\n",
    "### . 모든문자\n",
    "### * 앞에있는 글자 반복 tomor*ow\n",
    "### + 앞에있는 글지 최소 1회이상 반복"
   ]
  },
  {
   "cell_type": "markdown",
   "metadata": {},
   "source": [
    "# ID 뽑기"
   ]
  },
  {
   "cell_type": "code",
   "execution_count": 2,
   "metadata": {},
   "outputs": [
    {
     "name": "stdout",
     "output_type": "stream",
     "text": [
      "b'<!DOCTYPE html>\\n<\n"
     ]
    }
   ],
   "source": [
    "import re\n",
    "import urllib.request\n",
    "\n",
    "url = \"http://goo.gl/U7mSQl\"\n",
    "html = urllib.request.urlopen(url)\n",
    "html_contents= str(html.read())\n",
    "print(html_contents[:20])"
   ]
  },
  {
   "cell_type": "code",
   "execution_count": 3,
   "metadata": {},
   "outputs": [
    {
     "data": {
      "text/plain": [
       "['codo***',\n",
       " 'outb7***',\n",
       " 'dubba4***',\n",
       " 'multicuspi***',\n",
       " 'crownm***',\n",
       " 'triformo***',\n",
       " 'spania***',\n",
       " 'magazin***',\n",
       " 'presby***',\n",
       " 'trophody***',\n",
       " 'nontr***',\n",
       " 'enranck***',\n",
       " 'canc***',\n",
       " 'uncanker***',\n",
       " 'wrymo***',\n",
       " 'non***',\n",
       " 'luminat***',\n",
       " 'oblig***',\n",
       " 'anna***',\n",
       " 'hyperth***',\n",
       " 'toplabl***',\n",
       " 'dolce0***',\n",
       " 'rudals2***',\n",
       " 'jjw980***',\n",
       " 'elvlz***',\n",
       " 'skmid***',\n",
       " 'qkep***',\n",
       " 'kisslov***',\n",
       " 'maskman***',\n",
       " 'sungt***']"
      ]
     },
     "execution_count": 3,
     "metadata": {},
     "output_type": "execute_result"
    }
   ],
   "source": [
    "id_results = re.findall(r\"([A-Za-z0-9]+\\*\\*\\*)\", html_contents)\n",
    "id_results"
   ]
  },
  {
   "cell_type": "markdown",
   "metadata": {},
   "source": [
    "# 홈페이지 주소 뽑기"
   ]
  },
  {
   "cell_type": "code",
   "execution_count": 4,
   "metadata": {},
   "outputs": [
    {
     "name": "stdout",
     "output_type": "stream",
     "text": [
      "<!DOCTYPE html>\n",
      "<htm\n"
     ]
    }
   ],
   "source": [
    "url = \"https://www.google.com/googlebooks/uspto-patents-grants-text.html\"\n",
    "html = urllib.request.urlopen(url)\n",
    "html_contents= str(html.read().decode('cp949'))\n",
    "print(html_contents[:20])"
   ]
  },
  {
   "cell_type": "code",
   "execution_count": 5,
   "metadata": {},
   "outputs": [
    {
     "name": "stdout",
     "output_type": "stream",
     "text": [
      "http://storage.googleapis.com/patents/grant_full_text/2015/ipg150106.zip\n",
      "http://storage.googleapis.com/patents/grant_full_text/2015/ipg150113.zip\n",
      "http://storage.googleapis.com/patents/grant_full_text/2015/ipg150120.zip\n",
      "http://storage.googleapis.com/patents/grant_full_text/2015/ipg150127.zip\n",
      "http://storage.googleapis.com/patents/grant_full_text/2015/ipg150203.zip\n",
      "http://storage.googleapis.com/patents/grant_full_text/2015/ipg150210.zip\n",
      "http://storage.googleapis.com/patents/grant_full_text/2015/ipg150217.zip\n",
      "http://storage.googleapis.com/patents/grant_full_text/2015/ipg150224.zip\n",
      "http://storage.googleapis.com/patents/grant_full_text/2015/ipg150303.zip\n",
      "http://storage.googleapis.com/patents/grant_full_text/2015/ipg150310.zip\n"
     ]
    }
   ],
   "source": [
    "url_list = re.findall(r\"(http)(.+)(zip)\", html_contents)\n",
    "for url in url_list[:10]:\n",
    "    print(\"\".join(url))"
   ]
  },
  {
   "cell_type": "code",
   "execution_count": null,
   "metadata": {},
   "outputs": [],
   "source": []
  },
  {
   "cell_type": "code",
   "execution_count": null,
   "metadata": {},
   "outputs": [],
   "source": []
  },
  {
   "cell_type": "code",
   "execution_count": null,
   "metadata": {},
   "outputs": [],
   "source": []
  },
  {
   "cell_type": "code",
   "execution_count": null,
   "metadata": {},
   "outputs": [],
   "source": []
  },
  {
   "cell_type": "code",
   "execution_count": null,
   "metadata": {},
   "outputs": [],
   "source": []
  }
 ],
 "metadata": {
  "kernelspec": {
   "display_name": "Python 3",
   "language": "python",
   "name": "python3"
  },
  "language_info": {
   "codemirror_mode": {
    "name": "ipython",
    "version": 3
   },
   "file_extension": ".py",
   "mimetype": "text/x-python",
   "name": "python",
   "nbconvert_exporter": "python",
   "pygments_lexer": "ipython3",
   "version": "3.6.6"
  }
 },
 "nbformat": 4,
 "nbformat_minor": 2
}
