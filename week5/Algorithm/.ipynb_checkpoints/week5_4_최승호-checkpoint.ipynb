{
 "cells": [
  {
   "cell_type": "code",
   "execution_count": null,
   "metadata": {},
   "outputs": [],
   "source": [
    "# 기윤이네 상추 오이 토마토 텃밭\n",
    "# 상추 -1, 오이 0, 토마토 1\n",
    "\n",
    "import numpy as np\n",
    "\n",
    "# 입력 받기\n",
    "C = input()\n",
    "garden = list()\n",
    "for i in range(C):\n",
    "    garden.append(input())\n",
    "    \n",
    "garden = np.array(garden)"
   ]
  },
  {
   "cell_type": "code",
   "execution_count": 12,
   "metadata": {},
   "outputs": [],
   "source": [
    "kinds = [-1, 0, 1]\n",
    "result = [0, 0, 0] # [-1, 0, 1] + 1 = [0, 1, 2] index로 0 1 2 로 활용할 예정 \n",
    "\n",
    "def CheckGarden(splitGarden, splitC):\n",
    "    \n",
    "    # 빈행렬이 오면 재귀함수를 종료\n",
    "    if splitC == 0:\n",
    "        return \n",
    "\n",
    "    # 종류와 맞는지 확인 -> 맞으면 해당종류 정답개수 증가시키고 함수 종료\n",
    "    for k in kinds:\n",
    "        if np.array_equal(splitGarden, np.full([splitC, splitC], k)) == True:\n",
    "            result[k+1] += 1\n",
    "            return\n",
    "    # 9개 구역으로 나눠서 한꺼번에 재귀적으로 함수 호출\n",
    "    index = int(splitC/3) # 만약 C length가 27이면 0,1,2를 곱하여 0 9 18 이런식으로 나누는 행렬의 시작인덱스가 나오게 한다.\n",
    "    _range = int(splitC/3) # 범위 C가 27이라면 9개 범위로 나누면 C = 9짜리인 행렬이 생긴다\n",
    "    \n",
    "    # 0:3 0:3, (0:3, 3:6), (0:3, 6:9) (3:3, 0:3) (3:3, 3:6) ... 9개 구역을 재귀적으로  호출\n",
    "    return (CheckGarden(splitGarden[index*0:index*0+_range, index*0:index*0+_range], _range),\n",
    "            CheckGarden(splitGarden[index*0:index*0+_range, index*1:index*1+_range], _range),\n",
    "            CheckGarden(splitGarden[index*0:index*0+_range, index*2:index*2+_range], _range),\n",
    "            CheckGarden(splitGarden[index*1:index*1+_range, index*0:index*0+_range], _range),\n",
    "            CheckGarden(splitGarden[index*1:index*1+_range, index*1:index*1+_range], _range),\n",
    "            CheckGarden(splitGarden[index*1:index*1+_range, index*2:index*2+_range], _range),\n",
    "            CheckGarden(splitGarden[index*2:index*2+_range, index*0:index*0+_range], _range),\n",
    "            CheckGarden(splitGarden[index*2:index*2+_range, index*1:index*1+_range], _range),\n",
    "            CheckGarden(splitGarden[index*2:index*2+_range, index*2:index*2+_range], _range))"
   ]
  },
  {
   "cell_type": "code",
   "execution_count": 13,
   "metadata": {},
   "outputs": [
    {
     "name": "stdout",
     "output_type": "stream",
     "text": [
      "[10, 12, 11]\n"
     ]
    }
   ],
   "source": [
    "CheckGarden(garden, 9)\n",
    "for r in result:\n",
    "    print(r)"
   ]
  },
  {
   "cell_type": "code",
   "execution_count": null,
   "metadata": {},
   "outputs": [],
   "source": []
  }
 ],
 "metadata": {
  "kernelspec": {
   "display_name": "Python 3",
   "language": "python",
   "name": "python3"
  },
  "language_info": {
   "codemirror_mode": {
    "name": "ipython",
    "version": 3
   },
   "file_extension": ".py",
   "mimetype": "text/x-python",
   "name": "python",
   "nbconvert_exporter": "python",
   "pygments_lexer": "ipython3",
   "version": "3.6.8"
  }
 },
 "nbformat": 4,
 "nbformat_minor": 4
}
