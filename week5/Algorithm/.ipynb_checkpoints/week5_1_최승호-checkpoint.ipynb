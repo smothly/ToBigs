{
 "cells": [
  {
   "cell_type": "code",
   "execution_count": 72,
   "metadata": {},
   "outputs": [],
   "source": [
    "string = input()"
   ]
  },
  {
   "cell_type": "code",
   "execution_count": 73,
   "metadata": {},
   "outputs": [],
   "source": [
    "def count_param(text):\n",
    "    parenthesis = [] # stack으로 사용될 list\n",
    "    comma = False    # comma 여부를 판단하는 기준\n",
    "    divide = -1      # comma가 위치한 인덱스\n",
    " \n",
    "    for idx, a in enumerate(text): # stack을 사용하여 괄호 짝 확인\n",
    "        if a == '(':\n",
    "            parenthesis.append(a)\n",
    "        elif a == ')':\n",
    "            parenthesis.pop()\n",
    "        elif len(parenthesis) == 0 and a == ',':\n",
    "            comma = True\n",
    "            divide = idx # 쉼표가 위치한 인덱스를 저장\n",
    "    \n",
    "    return [text[:divide], text[divide+1:]] if comma else [text]"
   ]
  },
  {
   "cell_type": "code",
   "execution_count": 74,
   "metadata": {},
   "outputs": [],
   "source": [
    "def check(string):\n",
    "    \n",
    "    # 재귀함수 종료 조건\n",
    "    if len(string) == 1:\n",
    "        return\n",
    "    \n",
    "    innerString = string[4:-1]\n",
    "\n",
    "    param = count_param(innerString) \n",
    "    \n",
    "    if string[:3] == \"one\":     # 각 함수(one, two)에 대한 parameter 개수 확인\n",
    "        if len(param) == 1:\n",
    "            check(innerString)\n",
    "        else:\n",
    "            return False\n",
    "    else:\n",
    "        if len(param) == 2:\n",
    "            check(param[0])\n",
    "            check(param[1])\n",
    "        else:\n",
    "            return False"
   ]
  },
  {
   "cell_type": "code",
   "execution_count": 76,
   "metadata": {},
   "outputs": [
    {
     "name": "stdout",
     "output_type": "stream",
     "text": [
      "No Error\n"
     ]
    }
   ],
   "source": [
    "if check(string) == False:\n",
    "    print(\"Syntax Error\")  \n",
    "else:\n",
    "    print(\"No Error\")\n",
    "    \n",
    "'''\n",
    "내 방식대로 코드를 구현하다가 도저히 성공하지 못하여\n",
    "우수코드 보고 조금씩만 수정하여 제출합니다 ㅠㅠ 죄송합니다\n",
    "나머지 문제는 제출오류여서 다시 수정하여 제출합니다.\n",
    "'''"
   ]
  },
  {
   "cell_type": "code",
   "execution_count": null,
   "metadata": {},
   "outputs": [],
   "source": []
  }
 ],
 "metadata": {
  "kernelspec": {
   "display_name": "Python 3",
   "language": "python",
   "name": "python3"
  },
  "language_info": {
   "codemirror_mode": {
    "name": "ipython",
    "version": 3
   },
   "file_extension": ".py",
   "mimetype": "text/x-python",
   "name": "python",
   "nbconvert_exporter": "python",
   "pygments_lexer": "ipython3",
   "version": "3.6.8"
  }
 },
 "nbformat": 4,
 "nbformat_minor": 4
}
