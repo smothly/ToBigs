{
 "cells": [
  {
   "cell_type": "code",
   "execution_count": 4,
   "metadata": {},
   "outputs": [
    {
     "name": "stdin",
     "output_type": "stream",
     "text": [
      " OOXXOOXXOO\n"
     ]
    },
    {
     "name": "stdout",
     "output_type": "stream",
     "text": [
      "9\n"
     ]
    }
   ],
   "source": [
    "# 2. 초콜릿 문제\n",
    "\n",
    "string = input() # 인풋받기\n",
    "result = 0 # 결과를 담을 변수\n",
    "temp = 0 # 임시로 누적될 값을 담을 변수\n",
    "for c in string:\n",
    "    if c == \"O\":\n",
    "        temp += 1\n",
    "        result += temp\n",
    "    # X인경우 임시변수 초기화\n",
    "    else:\n",
    "        temp = 0\n",
    "print(result)"
   ]
  },
  {
   "cell_type": "code",
   "execution_count": null,
   "metadata": {},
   "outputs": [],
   "source": []
  }
 ],
 "metadata": {
  "kernelspec": {
   "display_name": "Python 3",
   "language": "python",
   "name": "python3"
  },
  "language_info": {
   "codemirror_mode": {
    "name": "ipython",
    "version": 3
   },
   "file_extension": ".py",
   "mimetype": "text/x-python",
   "name": "python",
   "nbconvert_exporter": "python",
   "pygments_lexer": "ipython3",
   "version": "3.6.8"
  }
 },
 "nbformat": 4,
 "nbformat_minor": 4
}
