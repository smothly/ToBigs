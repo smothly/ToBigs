{
 "cells": [
  {
   "cell_type": "code",
   "execution_count": 21,
   "metadata": {},
   "outputs": [
    {
     "name": "stdin",
     "output_type": "stream",
     "text": [
      " 20\n",
      " 7\n",
      " 23\n",
      " 19\n",
      " 10\n",
      " 15\n",
      " 25\n",
      " 8\n",
      " 13\n"
     ]
    },
    {
     "name": "stdout",
     "output_type": "stream",
     "text": [
      "7\n",
      "8\n",
      "10\n",
      "13\n",
      "19\n",
      "20\n",
      "23\n"
     ]
    }
   ],
   "source": [
    "# 3. 손바닥 길이의 합 100!\n",
    "\n",
    "# 입력받기 int로 받기\n",
    "sonbadak = list()\n",
    "for i in range(9):\n",
    "    sonbadak.append(int(input()))\n",
    "\n",
    "# 9개중 7개 뽑는 조합을 사용하여\n",
    "# 조합의 합이 100일 때를 골라 출력\n",
    "from itertools import combinations\n",
    "for comb in combinations(sonbadak, 7):\n",
    "    if sum(comb) == 100:\n",
    "        comb = sorted(list(comb)) # 100이면 정렬\n",
    "        for num in comb: # 숫자 한개씩 출력\n",
    "            print(num)"
   ]
  },
  {
   "cell_type": "code",
   "execution_count": null,
   "metadata": {},
   "outputs": [],
   "source": []
  }
 ],
 "metadata": {
  "kernelspec": {
   "display_name": "Python 3",
   "language": "python",
   "name": "python3"
  },
  "language_info": {
   "codemirror_mode": {
    "name": "ipython",
    "version": 3
   },
   "file_extension": ".py",
   "mimetype": "text/x-python",
   "name": "python",
   "nbconvert_exporter": "python",
   "pygments_lexer": "ipython3",
   "version": "3.6.6"
  }
 },
 "nbformat": 4,
 "nbformat_minor": 2
}
