{
 "cells": [
  {
   "cell_type": "markdown",
   "metadata": {},
   "source": [
    "# 데이터 입력받기"
   ]
  },
  {
   "cell_type": "code",
   "execution_count": null,
   "metadata": {},
   "outputs": [],
   "source": [
    "import pandas as pd"
   ]
  },
  {
   "cell_type": "code",
   "execution_count": null,
   "metadata": {},
   "outputs": [],
   "source": [
    "data = pd.read_csv(\"train.csv\")"
   ]
  },
  {
   "cell_type": "code",
   "execution_count": null,
   "metadata": {},
   "outputs": [],
   "source": [
    "print(data.shape)\n",
    "data.head()"
   ]
  },
  {
   "cell_type": "code",
   "execution_count": null,
   "metadata": {},
   "outputs": [],
   "source": [
    "del data['ID_code']\n",
    "\n",
    "# scaling\n",
    "from sklearn.preprocessing import StandardScaler\n",
    "\n",
    "scaler = StandardScaler()\n",
    "scaler.fit_transform(data)"
   ]
  },
  {
   "cell_type": "markdown",
   "metadata": {},
   "source": [
    "# PCA(차원축소)"
   ]
  },
  {
   "cell_type": "code",
   "execution_count": null,
   "metadata": {},
   "outputs": [],
   "source": [
    "y = data.pop('target')\n",
    "X = data"
   ]
  },
  {
   "cell_type": "code",
   "execution_count": null,
   "metadata": {},
   "outputs": [],
   "source": [
    "#train / test split\n",
    "from sklearn.model_selection import train_test_split\n",
    "X_train, X_test, y_train, y_test = train_test_split(X, y, test_size=0.2, random_state=1)"
   ]
  },
  {
   "cell_type": "code",
   "execution_count": null,
   "metadata": {},
   "outputs": [],
   "source": [
    "from sklearn.decomposition import PCA\n",
    "\n",
    "# test set을 transform 할때는 train의 fit으로 !\n",
    "pca = PCA(n_components=10) # n_components는 feature의 개수이다.\n",
    "\n",
    "pca.fit(X_train)\n",
    "\n",
    "X_train_pca = pd.DataFrame(pca.transform(X_train))\n",
    "X_test_pca = pd.DataFrame(pca.transform(X_test))"
   ]
  },
  {
   "cell_type": "markdown",
   "metadata": {},
   "source": [
    "# SGDClassfier -전체 데이터를 작은 데이터셋으로 나눠서 학습하고 점점 업데이트를 시키는 방법\n",
    "### loss=\"hinge\"로 두면 svm을 적용할 수 있다."
   ]
  },
  {
   "cell_type": "code",
   "execution_count": null,
   "metadata": {},
   "outputs": [],
   "source": [
    "from sklearn.linear_model import SGDClassifier\n",
    "\n",
    "clf = SGDClassifier(loss=\"hinge\", penalty=\"l2\", max_iter=5)\n",
    "clf.fit(X_train_pca,y_train)"
   ]
  },
  {
   "cell_type": "code",
   "execution_count": null,
   "metadata": {},
   "outputs": [],
   "source": [
    "clf.score(X_test_pca, y_test) # scaler적용후 pca를 10으로 하고 기본 sgdclassfier를 쓸경우 accuracy가 0.82정도 나온다!"
   ]
  },
  {
   "cell_type": "markdown",
   "metadata": {},
   "source": [
    "# Grid Search를 통한 적절한 하이퍼파라미터 찾기"
   ]
  },
  {
   "cell_type": "code",
   "execution_count": null,
   "metadata": {},
   "outputs": [],
   "source": [
    "%%time\n",
    "\n",
    "from sklearn.pipeline import Pipeline\n",
    "from sklearn.model_selection import GridSearchCV\n",
    "import warnings\n",
    "warnings.filterwarnings('ignore')\n",
    "\n",
    "# pipe = Pipeline([\n",
    "#     ('scl', StandardScaler()), ('sgd', SGDClassifier())])\n",
    "\n",
    "params = {\n",
    "    \"max_iter\" : [10, 50, 100, 500, 1000],\n",
    "    \"n_iter\" : [1, 5, 10],\n",
    "    \"alpha\" : [0.0001, 0.001, 0.01, 0.1, 1, 10, 100],\n",
    "    \"penalty\": [\"none\", \"l1\", \"l2\"],\n",
    "}\n",
    "\n",
    "grid = GridSearchCV(estimator=SGDClassifier(), param_grid=params, scoring='accuracy', n_jobs=-1)\n",
    "grid.fit(X_train_pca, y_train)\n",
    "\n",
    "print(grid.best_params_)\n",
    "print(grid.best_score_)"
   ]
  },
  {
   "cell_type": "code",
   "execution_count": null,
   "metadata": {},
   "outputs": [],
   "source": [
    "clf = SGDClassifier(alpha=1, n_iter=1, penalty=\"l2\", max_iter=500)\n",
    "clf.fit(X_train_pca, y_train)"
   ]
  },
  {
   "cell_type": "code",
   "execution_count": null,
   "metadata": {},
   "outputs": [],
   "source": [
    "clf.score(X_test_pca, y_test) # sgd class fier만 "
   ]
  },
  {
   "cell_type": "code",
   "execution_count": null,
   "metadata": {},
   "outputs": [],
   "source": [
    "%%time\n",
    "\n",
    "best_params_with_PCA = dict()\n",
    "\n",
    "for i in range(4, 14):\n",
    "    pca = PCA(n_components=i) # n_components는 feature의 개수이다.\n",
    "\n",
    "    pca.fit(X_train)\n",
    "\n",
    "    X_train_pca = pd.DataFrame(pca.transform(X_train))\n",
    "    X_test_pca = pd.DataFrame(pca.transform(X_test))\n",
    "    \n",
    "    params = {\n",
    "        \"max_iter\" : [10, 50, 100, 500, 1000],\n",
    "        \"n_iter\" : [1, 5, 10],\n",
    "        \"alpha\" : [0.0001, 0.001, 0.01, 0.1, 1, 10, 100],\n",
    "        \"penalty\": [\"none\", \"l1\", \"l2\"],\n",
    "    }\n",
    "\n",
    "    grid = GridSearchCV(estimator=SGDClassifier(), param_grid=params, scoring='accuracy', n_jobs=-1)\n",
    "    grid.fit(X_train_pca, y_train)\n",
    "\n",
    "    best_params_with_PCA[i] = (grid.best_params_, grid.best_score_)"
   ]
  },
  {
   "cell_type": "code",
   "execution_count": null,
   "metadata": {},
   "outputs": [],
   "source": [
    "best_params_with_PCA"
   ]
  },
  {
   "cell_type": "code",
   "execution_count": null,
   "metadata": {},
   "outputs": [],
   "source": [
    "'''\n",
    "PCA의 차이는 그다지 유의미해보이지 않는다.\n",
    "10개의 feature말고 7개로 예측을 해보겠다.\n",
    "'''\n",
    "pca = PCA(n_components=7) # n_components는 feature의 개수이다.\n",
    "\n",
    "pca.fit(X_train)\n",
    "\n",
    "X_train_pca = pd.DataFrame(pca.transform(X_train))\n",
    "X_test_pca = pd.DataFrame(pca.transform(X_test))\n",
    "\n",
    "clf = SGDClassifier(alpha=1, max_iter=10, n_iter=10, penalty=\"l2\")\n",
    "clf.fit(X_train_pca, y_train)\n",
    "clf.score(X_test_pca, y_test) # 10개로 차원축소한 score와 비슷하다."
   ]
  },
  {
   "cell_type": "code",
   "execution_count": null,
   "metadata": {},
   "outputs": [],
   "source": []
  }
 ],
 "metadata": {
  "kernelspec": {
   "display_name": "Python 3",
   "language": "python",
   "name": "python3"
  },
  "language_info": {
   "codemirror_mode": {
    "name": "ipython",
    "version": 3
   },
   "file_extension": ".py",
   "mimetype": "text/x-python",
   "name": "python",
   "nbconvert_exporter": "python",
   "pygments_lexer": "ipython3",
   "version": "3.6.8"
  }
 },
 "nbformat": 4,
 "nbformat_minor": 4
}
