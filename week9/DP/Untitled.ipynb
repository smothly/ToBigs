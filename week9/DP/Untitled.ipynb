{
 "cells": [
  {
   "cell_type": "code",
   "execution_count": 1,
   "metadata": {},
   "outputs": [],
   "source": [
    "a = [6, 6, 10, 13, 9, 8, 1]"
   ]
  },
  {
   "cell_type": "code",
   "execution_count": null,
   "metadata": {},
   "outputs": [],
   "source": [
    "# 1.방을선택하면, 그방에있는금괴를모두가지고와야한다.\n",
    "# 2.연속된3개의방에모두들어갈수는없다."
   ]
  },
  {
   "cell_type": "code",
   "execution_count": 13,
   "metadata": {},
   "outputs": [
    {
     "name": "stdout",
     "output_type": "stream",
     "text": [
      "0\n",
      "6\n",
      "12\n",
      "35\n",
      "53\n",
      "67\n",
      "80\n"
     ]
    }
   ],
   "source": [
    "# 방을 계속 선택하는 경우\n",
    "# 3개를 연속하여 선택하려고 할 때 나눠지는 경우의 수 : 1 2 3 4 면 1,2,4 와 1, 3,4 중에 큰값을 끌고가야함\n",
    "\n",
    "result = 0\n",
    "tempLen = 1\n",
    "\n",
    "for index in range(len(a) - 1):\n",
    "    \n",
    "    print(result)\n",
    "    \n",
    "    if tempLen == 3:\n",
    "        \n",
    "        case1 = result + a[index+1]\n",
    "        case2 = result - a[index-1] + a[index-2] + a[index] + a[index+1]\n",
    "        \n",
    "        if case1 > case2:\n",
    "            result = case1\n",
    "            tempLen = 2\n",
    "        else:\n",
    "            result = case2\n",
    "            tempLen = 3\n",
    "    else:\n",
    "        result = result + a[index]\n",
    "        tempLen += 1\n",
    "\n",
    "print(result)"
   ]
  },
  {
   "cell_type": "code",
   "execution_count": null,
   "metadata": {},
   "outputs": [],
   "source": []
  }
 ],
 "metadata": {
  "kernelspec": {
   "display_name": "Python 3",
   "language": "python",
   "name": "python3"
  },
  "language_info": {
   "codemirror_mode": {
    "name": "ipython",
    "version": 3
   },
   "file_extension": ".py",
   "mimetype": "text/x-python",
   "name": "python",
   "nbconvert_exporter": "python",
   "pygments_lexer": "ipython3",
   "version": "3.6.8"
  }
 },
 "nbformat": 4,
 "nbformat_minor": 4
}
