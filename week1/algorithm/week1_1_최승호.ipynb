{
 "cells": [
  {
   "cell_type": "markdown",
   "metadata": {},
   "source": [
    "# 9를 제외한 숫자중 N번째 숫자를 제곱하기"
   ]
  },
  {
   "cell_type": "code",
   "execution_count": null,
   "metadata": {},
   "outputs": [],
   "source": [
    "# 3\n",
    "# 9 13 4 8 79 2 5\n",
    "# 64\n",
    "\n",
    "# 7\n",
    "# 1 99 89 321 198 4 5 12 77"
   ]
  },
  {
   "cell_type": "code",
   "execution_count": 1,
   "metadata": {},
   "outputs": [
    {
     "name": "stdout",
     "output_type": "stream",
     "text": [
      "3\n",
      "9\n"
     ]
    }
   ],
   "source": [
    "# 입력받아 리스트형태로 저장하기\n",
    "N = int(input())\n",
    "num_string = input()\n",
    "num_list = num_string.split(' ')"
   ]
  },
  {
   "cell_type": "code",
   "execution_count": 2,
   "metadata": {},
   "outputs": [],
   "source": [
    "# 9가 아닌 리스트 새로 생성\n",
    "not_9_list = [int(num) for num in num_list if '9' not in num]"
   ]
  },
  {
   "cell_type": "code",
   "execution_count": 3,
   "metadata": {},
   "outputs": [
    {
     "name": "stdout",
     "output_type": "stream",
     "text": [
      "999999999\n"
     ]
    }
   ],
   "source": [
    "# 잘못된 입력값일 경우 처리 (1 9가 없는 숫자가 없는 경우, 2. N번째 숫자가 없는 경우)\n",
    "if len(not_9_list) == 0 or len(not_9_list) < N:\n",
    "    print(999999999)\n",
    "else:\n",
    "    print(not_9_list[N-1] * not_9_list[N-1])"
   ]
  },
  {
   "cell_type": "code",
   "execution_count": null,
   "metadata": {},
   "outputs": [],
   "source": []
  }
 ],
 "metadata": {
  "kernelspec": {
   "display_name": "Python 3",
   "language": "python",
   "name": "python3"
  },
  "language_info": {
   "codemirror_mode": {
    "name": "ipython",
    "version": 3
   },
   "file_extension": ".py",
   "mimetype": "text/x-python",
   "name": "python",
   "nbconvert_exporter": "python",
   "pygments_lexer": "ipython3",
   "version": "3.6.6"
  }
 },
 "nbformat": 4,
 "nbformat_minor": 2
}
