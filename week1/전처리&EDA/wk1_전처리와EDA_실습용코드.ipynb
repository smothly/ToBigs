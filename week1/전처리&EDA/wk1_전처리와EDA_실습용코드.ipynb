{
 "cells": [
  {
   "cell_type": "markdown",
   "metadata": {},
   "source": [
    "# Reference"
   ]
  },
  {
   "cell_type": "markdown",
   "metadata": {},
   "source": [
    "https://www.kaggle.com/ash316/eda-to-prediction-dietanic\n",
    "\n",
    "\n",
    "모든 코드는 위 커널을 참고하였고, 필요한 부분만 정리하여 주석을 달았습니다.\n",
    "더욱 자세하게 보고싶으시다면 위 커널을 참고해주세요. "
   ]
  },
  {
   "cell_type": "markdown",
   "metadata": {},
   "source": [
    "# Part 1: Pre-processing\n",
    "## TODO: \n",
    "- 결측치 값 처리\n",
    "- Categorical Data 처리 \n"
   ]
  },
  {
   "cell_type": "markdown",
   "metadata": {},
   "source": [
    "### Import Module and Load Dataset"
   ]
  },
  {
   "cell_type": "code",
   "execution_count": 6,
   "metadata": {},
   "outputs": [],
   "source": [
    "import numpy as np \n",
    "import pandas as pd\n",
    "import matplotlib.pyplot as plt\n",
    "import seaborn as sns\n",
    "import warnings\n",
    "\n",
    "plt.style.use('seaborn')\n",
    "warnings.filterwarnings('ignore')\n",
    "%matplotlib inline"
   ]
  },
  {
   "cell_type": "code",
   "execution_count": 7,
   "metadata": {},
   "outputs": [
    {
     "data": {
      "text/html": [
       "<div>\n",
       "<style scoped>\n",
       "    .dataframe tbody tr th:only-of-type {\n",
       "        vertical-align: middle;\n",
       "    }\n",
       "\n",
       "    .dataframe tbody tr th {\n",
       "        vertical-align: top;\n",
       "    }\n",
       "\n",
       "    .dataframe thead th {\n",
       "        text-align: right;\n",
       "    }\n",
       "</style>\n",
       "<table border=\"1\" class=\"dataframe\">\n",
       "  <thead>\n",
       "    <tr style=\"text-align: right;\">\n",
       "      <th></th>\n",
       "      <th>PassengerId</th>\n",
       "      <th>Survived</th>\n",
       "      <th>Pclass</th>\n",
       "      <th>Name</th>\n",
       "      <th>Sex</th>\n",
       "      <th>Age</th>\n",
       "      <th>SibSp</th>\n",
       "      <th>Parch</th>\n",
       "      <th>Ticket</th>\n",
       "      <th>Fare</th>\n",
       "      <th>Cabin</th>\n",
       "      <th>Embarked</th>\n",
       "    </tr>\n",
       "  </thead>\n",
       "  <tbody>\n",
       "    <tr>\n",
       "      <th>0</th>\n",
       "      <td>1</td>\n",
       "      <td>0</td>\n",
       "      <td>3</td>\n",
       "      <td>Braund, Mr. Owen Harris</td>\n",
       "      <td>male</td>\n",
       "      <td>22.0</td>\n",
       "      <td>1</td>\n",
       "      <td>0</td>\n",
       "      <td>A/5 21171</td>\n",
       "      <td>7.2500</td>\n",
       "      <td>NaN</td>\n",
       "      <td>S</td>\n",
       "    </tr>\n",
       "    <tr>\n",
       "      <th>1</th>\n",
       "      <td>2</td>\n",
       "      <td>1</td>\n",
       "      <td>1</td>\n",
       "      <td>Cumings, Mrs. John Bradley (Florence Briggs Th...</td>\n",
       "      <td>female</td>\n",
       "      <td>38.0</td>\n",
       "      <td>1</td>\n",
       "      <td>0</td>\n",
       "      <td>PC 17599</td>\n",
       "      <td>71.2833</td>\n",
       "      <td>C85</td>\n",
       "      <td>C</td>\n",
       "    </tr>\n",
       "    <tr>\n",
       "      <th>2</th>\n",
       "      <td>3</td>\n",
       "      <td>1</td>\n",
       "      <td>3</td>\n",
       "      <td>Heikkinen, Miss. Laina</td>\n",
       "      <td>female</td>\n",
       "      <td>26.0</td>\n",
       "      <td>0</td>\n",
       "      <td>0</td>\n",
       "      <td>STON/O2. 3101282</td>\n",
       "      <td>7.9250</td>\n",
       "      <td>NaN</td>\n",
       "      <td>S</td>\n",
       "    </tr>\n",
       "    <tr>\n",
       "      <th>3</th>\n",
       "      <td>4</td>\n",
       "      <td>1</td>\n",
       "      <td>1</td>\n",
       "      <td>Futrelle, Mrs. Jacques Heath (Lily May Peel)</td>\n",
       "      <td>female</td>\n",
       "      <td>35.0</td>\n",
       "      <td>1</td>\n",
       "      <td>0</td>\n",
       "      <td>113803</td>\n",
       "      <td>53.1000</td>\n",
       "      <td>C123</td>\n",
       "      <td>S</td>\n",
       "    </tr>\n",
       "    <tr>\n",
       "      <th>4</th>\n",
       "      <td>5</td>\n",
       "      <td>0</td>\n",
       "      <td>3</td>\n",
       "      <td>Allen, Mr. William Henry</td>\n",
       "      <td>male</td>\n",
       "      <td>35.0</td>\n",
       "      <td>0</td>\n",
       "      <td>0</td>\n",
       "      <td>373450</td>\n",
       "      <td>8.0500</td>\n",
       "      <td>NaN</td>\n",
       "      <td>S</td>\n",
       "    </tr>\n",
       "  </tbody>\n",
       "</table>\n",
       "</div>"
      ],
      "text/plain": [
       "   PassengerId  Survived  Pclass  \\\n",
       "0            1         0       3   \n",
       "1            2         1       1   \n",
       "2            3         1       3   \n",
       "3            4         1       1   \n",
       "4            5         0       3   \n",
       "\n",
       "                                                Name     Sex   Age  SibSp  \\\n",
       "0                            Braund, Mr. Owen Harris    male  22.0      1   \n",
       "1  Cumings, Mrs. John Bradley (Florence Briggs Th...  female  38.0      1   \n",
       "2                             Heikkinen, Miss. Laina  female  26.0      0   \n",
       "3       Futrelle, Mrs. Jacques Heath (Lily May Peel)  female  35.0      1   \n",
       "4                           Allen, Mr. William Henry    male  35.0      0   \n",
       "\n",
       "   Parch            Ticket     Fare Cabin Embarked  \n",
       "0      0         A/5 21171   7.2500   NaN        S  \n",
       "1      0          PC 17599  71.2833   C85        C  \n",
       "2      0  STON/O2. 3101282   7.9250   NaN        S  \n",
       "3      0            113803  53.1000  C123        S  \n",
       "4      0            373450   8.0500   NaN        S  "
      ]
     },
     "execution_count": 7,
     "metadata": {},
     "output_type": "execute_result"
    }
   ],
   "source": [
    "# 경로 설정 (노트북 파일 기점으로 상대경로 혹은 절대경로)\n",
    "data = pd.read_csv('train.csv')\n",
    "#data = pd.read_csv(r'C:\\Users\\Ki_Yoon_Yoo\\Desktop\\ToBigs/train.csv')\n",
    "\n",
    "# Display first five rows \n",
    "data.head(5)"
   ]
  },
  {
   "cell_type": "markdown",
   "metadata": {},
   "source": [
    "### Data Exploration"
   ]
  },
  {
   "cell_type": "code",
   "execution_count": 8,
   "metadata": {
    "scrolled": true
   },
   "outputs": [
    {
     "name": "stdout",
     "output_type": "stream",
     "text": [
      "Types of Columns: \n",
      "['PassengerId' 'Survived' 'Pclass' 'Name' 'Sex' 'Age' 'SibSp' 'Parch'\n",
      " 'Ticket' 'Fare' 'Cabin' 'Embarked']\n"
     ]
    }
   ],
   "source": [
    "# 어떤 종류의 feature 가 있는지 살펴봅시다\n",
    "print('Types of Columns: ')\n",
    "print(data.columns.values)"
   ]
  },
  {
   "cell_type": "code",
   "execution_count": 9,
   "metadata": {},
   "outputs": [
    {
     "name": "stdout",
     "output_type": "stream",
     "text": [
      "       PassengerId    Survived      Pclass         Age       SibSp  \\\n",
      "count   891.000000  891.000000  891.000000  714.000000  891.000000   \n",
      "mean    446.000000    0.383838    2.308642   29.699118    0.523008   \n",
      "std     257.353842    0.486592    0.836071   14.526497    1.102743   \n",
      "min       1.000000    0.000000    1.000000    0.420000    0.000000   \n",
      "25%     223.500000    0.000000    2.000000   20.125000    0.000000   \n",
      "50%     446.000000    0.000000    3.000000   28.000000    0.000000   \n",
      "75%     668.500000    1.000000    3.000000   38.000000    1.000000   \n",
      "max     891.000000    1.000000    3.000000   80.000000    8.000000   \n",
      "\n",
      "            Parch        Fare  \n",
      "count  891.000000  891.000000  \n",
      "mean     0.381594   32.204208  \n",
      "std      0.806057   49.693429  \n",
      "min      0.000000    0.000000  \n",
      "25%      0.000000    7.910400  \n",
      "50%      0.000000   14.454200  \n",
      "75%      0.000000   31.000000  \n",
      "max      6.000000  512.329200  \n"
     ]
    },
    {
     "data": {
      "text/plain": [
       "'\\nSurvived,  PClass, SibSp, Parch 의 경우 연속변수처럼 취급하기 어려울 수도 있다? \\n'"
      ]
     },
     "execution_count": 9,
     "metadata": {},
     "output_type": "execute_result"
    }
   ],
   "source": [
    "# 연속 변수 통계치 확인 \n",
    "print(data.describe())\n",
    "\n",
    "\"\"\"\n",
    "Survived,  PClass, SibSp, Parch 의 경우 연속변수처럼 취급하기 어려울 수도 있다? \n",
    "\"\"\""
   ]
  },
  {
   "cell_type": "code",
   "execution_count": 12,
   "metadata": {
    "scrolled": true
   },
   "outputs": [
    {
     "name": "stdout",
     "output_type": "stream",
     "text": [
      "PassengerId      int64\n",
      "Survived         int64\n",
      "Pclass           int64\n",
      "Name            object\n",
      "Sex             object\n",
      "Age            float64\n",
      "SibSp            int64\n",
      "Parch            int64\n",
      "Ticket          object\n",
      "Fare           float64\n",
      "Cabin           object\n",
      "Embarked        object\n",
      "dtype: object\n"
     ]
    }
   ],
   "source": [
    "# 각 피쳐의 data type 을 살펴봅시다 \n",
    "\"\"\"\n",
    "\n",
    "- Survived : 생존 유무 (1,0)\n",
    "- PClass : 티켓 클라스 (1,2,3)\n",
    "- SibSp : 동승한 형제 명수  \n",
    "- Parch : 동승한 자녀/ 부모님 명수 \n",
    "\n",
    "# int : 정수\n",
    "# float : 소수점이 포함된 수\n",
    "# object : 객체 (텍스트, 결측치 포함)\n",
    "\"\"\"\n",
    "\n",
    "print(data.dtypes)"
   ]
  },
  {
   "cell_type": "markdown",
   "metadata": {},
   "source": [
    "### Null 값 처리 : Method 1 "
   ]
  },
  {
   "cell_type": "code",
   "execution_count": 13,
   "metadata": {},
   "outputs": [
    {
     "data": {
      "text/plain": [
       "PassengerId      0\n",
       "Survived         0\n",
       "Pclass           0\n",
       "Name             0\n",
       "Sex              0\n",
       "Age            177\n",
       "SibSp            0\n",
       "Parch            0\n",
       "Ticket           0\n",
       "Fare             0\n",
       "Cabin          687\n",
       "Embarked         2\n",
       "dtype: int64"
      ]
     },
     "execution_count": 13,
     "metadata": {},
     "output_type": "execute_result"
    }
   ],
   "source": [
    "# Null 값 개수 복습!\n",
    "data.isnull().sum()"
   ]
  },
  {
   "cell_type": "markdown",
   "metadata": {},
   "source": [
    "Age, Cabin, Embarked 세 가지 feuture 에서 결측치가 존재하네요. 특히, 'Cabin' 의 경우 대부분의 데이터가 누락되었습니다. 'Cabin' 은 Cabin Number 로 좌석 위치를 의미하는 것 같습니다. A석, B석, C석 .. F 석 따라서 생존율에 영향이 있었을 것으로 보입니다. 다만, 결측치가 너무 많기 때문에 이 feature 를 활용하기 어려워보이네요. "
   ]
  },
  {
   "cell_type": "code",
   "execution_count": 14,
   "metadata": {},
   "outputs": [
    {
     "name": "stdout",
     "output_type": "stream",
     "text": [
      "[nan 'C85' 'C123' 'E46' 'G6' 'C103' 'D56' 'A6' 'C23 C25 C27' 'B78' 'D33'\n",
      " 'B30' 'C52' 'B28' 'C83' 'F33' 'F G73' 'E31' 'A5' 'D10 D12' 'D26' 'C110'\n",
      " 'B58 B60' 'E101' 'F E69' 'D47' 'B86' 'F2' 'C2' 'E33' 'B19' 'A7' 'C49'\n",
      " 'F4' 'A32' 'B4' 'B80' 'A31' 'D36' 'D15' 'C93' 'C78' 'D35' 'C87' 'B77'\n",
      " 'E67' 'B94' 'C125' 'C99' 'C118' 'D7' 'A19' 'B49' 'D' 'C22 C26' 'C106'\n",
      " 'C65' 'E36' 'C54' 'B57 B59 B63 B66' 'C7' 'E34' 'C32' 'B18' 'C124' 'C91'\n",
      " 'E40' 'T' 'C128' 'D37' 'B35' 'E50' 'C82' 'B96 B98' 'E10' 'E44' 'A34'\n",
      " 'C104' 'C111' 'C92' 'E38' 'D21' 'E12' 'E63' 'A14' 'B37' 'C30' 'D20' 'B79'\n",
      " 'E25' 'D46' 'B73' 'C95' 'B38' 'B39' 'B22' 'C86' 'C70' 'A16' 'C101' 'C68'\n",
      " 'A10' 'E68' 'B41' 'A20' 'D19' 'D50' 'D9' 'A23' 'B50' 'A26' 'D48' 'E58'\n",
      " 'C126' 'B71' 'B51 B53 B55' 'D49' 'B5' 'B20' 'F G63' 'C62 C64' 'E24' 'C90'\n",
      " 'C45' 'E8' 'B101' 'D45' 'C46' 'D30' 'E121' 'D11' 'E77' 'F38' 'B3' 'D6'\n",
      " 'B82 B84' 'D17' 'A36' 'B102' 'B69' 'E49' 'C47' 'D28' 'E17' 'A24' 'C50'\n",
      " 'B42' 'C148']\n"
     ]
    }
   ],
   "source": [
    "print(data['Cabin'].unique())"
   ]
  },
  {
   "cell_type": "code",
   "execution_count": 15,
   "metadata": {},
   "outputs": [
    {
     "data": {
      "text/html": [
       "<div>\n",
       "<style scoped>\n",
       "    .dataframe tbody tr th:only-of-type {\n",
       "        vertical-align: middle;\n",
       "    }\n",
       "\n",
       "    .dataframe tbody tr th {\n",
       "        vertical-align: top;\n",
       "    }\n",
       "\n",
       "    .dataframe thead th {\n",
       "        text-align: right;\n",
       "    }\n",
       "</style>\n",
       "<table border=\"1\" class=\"dataframe\">\n",
       "  <thead>\n",
       "    <tr style=\"text-align: right;\">\n",
       "      <th></th>\n",
       "      <th>PassengerId</th>\n",
       "      <th>Survived</th>\n",
       "      <th>Pclass</th>\n",
       "      <th>Name</th>\n",
       "      <th>Sex</th>\n",
       "      <th>Age</th>\n",
       "      <th>SibSp</th>\n",
       "      <th>Parch</th>\n",
       "      <th>Ticket</th>\n",
       "      <th>Fare</th>\n",
       "      <th>Embarked</th>\n",
       "    </tr>\n",
       "  </thead>\n",
       "  <tbody>\n",
       "    <tr>\n",
       "      <th>0</th>\n",
       "      <td>1</td>\n",
       "      <td>0</td>\n",
       "      <td>3</td>\n",
       "      <td>Braund, Mr. Owen Harris</td>\n",
       "      <td>male</td>\n",
       "      <td>22.0</td>\n",
       "      <td>1</td>\n",
       "      <td>0</td>\n",
       "      <td>A/5 21171</td>\n",
       "      <td>7.2500</td>\n",
       "      <td>S</td>\n",
       "    </tr>\n",
       "    <tr>\n",
       "      <th>1</th>\n",
       "      <td>2</td>\n",
       "      <td>1</td>\n",
       "      <td>1</td>\n",
       "      <td>Cumings, Mrs. John Bradley (Florence Briggs Th...</td>\n",
       "      <td>female</td>\n",
       "      <td>38.0</td>\n",
       "      <td>1</td>\n",
       "      <td>0</td>\n",
       "      <td>PC 17599</td>\n",
       "      <td>71.2833</td>\n",
       "      <td>C</td>\n",
       "    </tr>\n",
       "    <tr>\n",
       "      <th>2</th>\n",
       "      <td>3</td>\n",
       "      <td>1</td>\n",
       "      <td>3</td>\n",
       "      <td>Heikkinen, Miss. Laina</td>\n",
       "      <td>female</td>\n",
       "      <td>26.0</td>\n",
       "      <td>0</td>\n",
       "      <td>0</td>\n",
       "      <td>STON/O2. 3101282</td>\n",
       "      <td>7.9250</td>\n",
       "      <td>S</td>\n",
       "    </tr>\n",
       "  </tbody>\n",
       "</table>\n",
       "</div>"
      ],
      "text/plain": [
       "   PassengerId  Survived  Pclass  \\\n",
       "0            1         0       3   \n",
       "1            2         1       1   \n",
       "2            3         1       3   \n",
       "\n",
       "                                                Name     Sex   Age  SibSp  \\\n",
       "0                            Braund, Mr. Owen Harris    male  22.0      1   \n",
       "1  Cumings, Mrs. John Bradley (Florence Briggs Th...  female  38.0      1   \n",
       "2                             Heikkinen, Miss. Laina  female  26.0      0   \n",
       "\n",
       "   Parch            Ticket     Fare Embarked  \n",
       "0      0         A/5 21171   7.2500        S  \n",
       "1      0          PC 17599  71.2833        C  \n",
       "2      0  STON/O2. 3101282   7.9250        S  "
      ]
     },
     "execution_count": 15,
     "metadata": {},
     "output_type": "execute_result"
    }
   ],
   "source": [
    "data.drop('Cabin',axis=1).head(3)"
   ]
  },
  {
   "cell_type": "markdown",
   "metadata": {},
   "source": [
    "### Null 값 처리 : Method 2 (통계치, 외부 정보 활용)  "
   ]
  },
  {
   "cell_type": "markdown",
   "metadata": {},
   "source": [
    "좌석 위치에 대한 직접적인 정보를 이용하기 보다는 'Null 값 여부' 정보를 이용해봅시다. "
   ]
  },
  {
   "cell_type": "code",
   "execution_count": 16,
   "metadata": {},
   "outputs": [
    {
     "name": "stdout",
     "output_type": "stream",
     "text": [
      "['NA' 'C85' 'C123' 'E46' 'G6' 'C103' 'D56' 'A6' 'C23 C25 C27' 'B78' 'D33'\n",
      " 'B30' 'C52' 'B28' 'C83' 'F33' 'F G73' 'E31' 'A5' 'D10 D12' 'D26' 'C110'\n",
      " 'B58 B60' 'E101' 'F E69' 'D47' 'B86' 'F2' 'C2' 'E33' 'B19' 'A7' 'C49'\n",
      " 'F4' 'A32' 'B4' 'B80' 'A31' 'D36' 'D15' 'C93' 'C78' 'D35' 'C87' 'B77'\n",
      " 'E67' 'B94' 'C125' 'C99' 'C118' 'D7' 'A19' 'B49' 'D' 'C22 C26' 'C106'\n",
      " 'C65' 'E36' 'C54' 'B57 B59 B63 B66' 'C7' 'E34' 'C32' 'B18' 'C124' 'C91'\n",
      " 'E40' 'T' 'C128' 'D37' 'B35' 'E50' 'C82' 'B96 B98' 'E10' 'E44' 'A34'\n",
      " 'C104' 'C111' 'C92' 'E38' 'D21' 'E12' 'E63' 'A14' 'B37' 'C30' 'D20' 'B79'\n",
      " 'E25' 'D46' 'B73' 'C95' 'B38' 'B39' 'B22' 'C86' 'C70' 'A16' 'C101' 'C68'\n",
      " 'A10' 'E68' 'B41' 'A20' 'D19' 'D50' 'D9' 'A23' 'B50' 'A26' 'D48' 'E58'\n",
      " 'C126' 'B71' 'B51 B53 B55' 'D49' 'B5' 'B20' 'F G63' 'C62 C64' 'E24' 'C90'\n",
      " 'C45' 'E8' 'B101' 'D45' 'C46' 'D30' 'E121' 'D11' 'E77' 'F38' 'B3' 'D6'\n",
      " 'B82 B84' 'D17' 'A36' 'B102' 'B69' 'E49' 'C47' 'D28' 'E17' 'A24' 'C50'\n",
      " 'B42' 'C148']\n"
     ]
    }
   ],
   "source": [
    "# Fill 'NA' into Null value \n",
    "data['Cabin'].fillna('NA', inplace=True)\n",
    "print(data['Cabin'].unique())"
   ]
  },
  {
   "cell_type": "code",
   "execution_count": 17,
   "metadata": {},
   "outputs": [],
   "source": [
    "# Conditional statement to fill 'Null' or 'Non_Null'\n",
    "data.loc[data['Cabin']=='NA','Cabin_Null'] = 'Null'\n",
    "data.loc[data['Cabin']!='NA','Cabin_Null'] = 'Non-Null'"
   ]
  },
  {
   "cell_type": "code",
   "execution_count": 18,
   "metadata": {},
   "outputs": [
    {
     "data": {
      "text/plain": [
       "0        Null\n",
       "1    Non-Null\n",
       "2        Null\n",
       "Name: Cabin_Null, dtype: object"
      ]
     },
     "execution_count": 18,
     "metadata": {},
     "output_type": "execute_result"
    }
   ],
   "source": [
    "data['Cabin_Null'].head(3)"
   ]
  },
  {
   "cell_type": "code",
   "execution_count": 19,
   "metadata": {},
   "outputs": [
    {
     "data": {
      "text/plain": [
       "<matplotlib.axes._subplots.AxesSubplot at 0x1aca79520f0>"
      ]
     },
     "execution_count": 19,
     "metadata": {},
     "output_type": "execute_result"
    },
    {
     "data": {
      "image/png": "[encoded data removed]",
      "text/plain": [
       "<Figure size 432x288 with 1 Axes>"
      ]
     },
     "metadata": {
      "needs_background": "light"
     },
     "output_type": "display_data"
    }
   ],
   "source": [
    "sns.countplot('Cabin_Null',hue='Survived',data=data)"
   ]
  },
  {
   "cell_type": "code",
   "execution_count": 20,
   "metadata": {},
   "outputs": [
    {
     "data": {
      "text/html": [
       "<div>\n",
       "<style scoped>\n",
       "    .dataframe tbody tr th:only-of-type {\n",
       "        vertical-align: middle;\n",
       "    }\n",
       "\n",
       "    .dataframe tbody tr th {\n",
       "        vertical-align: top;\n",
       "    }\n",
       "\n",
       "    .dataframe thead th {\n",
       "        text-align: right;\n",
       "    }\n",
       "</style>\n",
       "<table border=\"1\" class=\"dataframe\">\n",
       "  <thead>\n",
       "    <tr style=\"text-align: right;\">\n",
       "      <th></th>\n",
       "      <th>Survived</th>\n",
       "    </tr>\n",
       "    <tr>\n",
       "      <th>Cabin_Null</th>\n",
       "      <th></th>\n",
       "    </tr>\n",
       "  </thead>\n",
       "  <tbody>\n",
       "    <tr>\n",
       "      <th>Non-Null</th>\n",
       "      <td>204</td>\n",
       "    </tr>\n",
       "    <tr>\n",
       "      <th>Null</th>\n",
       "      <td>687</td>\n",
       "    </tr>\n",
       "  </tbody>\n",
       "</table>\n",
       "</div>"
      ],
      "text/plain": [
       "            Survived\n",
       "Cabin_Null          \n",
       "Non-Null         204\n",
       "Null             687"
      ]
     },
     "execution_count": 20,
     "metadata": {},
     "output_type": "execute_result"
    }
   ],
   "source": [
    "data[['Cabin_Null','Survived']].groupby(['Cabin_Null']).count()"
   ]
  },
  {
   "cell_type": "code",
   "execution_count": 21,
   "metadata": {},
   "outputs": [
    {
     "data": {
      "text/html": [
       "<div>\n",
       "<style scoped>\n",
       "    .dataframe tbody tr th:only-of-type {\n",
       "        vertical-align: middle;\n",
       "    }\n",
       "\n",
       "    .dataframe tbody tr th {\n",
       "        vertical-align: top;\n",
       "    }\n",
       "\n",
       "    .dataframe thead th {\n",
       "        text-align: right;\n",
       "    }\n",
       "</style>\n",
       "<table border=\"1\" class=\"dataframe\">\n",
       "  <thead>\n",
       "    <tr style=\"text-align: right;\">\n",
       "      <th></th>\n",
       "      <th>Survived</th>\n",
       "    </tr>\n",
       "    <tr>\n",
       "      <th>Cabin_Null</th>\n",
       "      <th></th>\n",
       "    </tr>\n",
       "  </thead>\n",
       "  <tbody>\n",
       "    <tr>\n",
       "      <th>Non-Null</th>\n",
       "      <td>0.666667</td>\n",
       "    </tr>\n",
       "    <tr>\n",
       "      <th>Null</th>\n",
       "      <td>0.299854</td>\n",
       "    </tr>\n",
       "  </tbody>\n",
       "</table>\n",
       "</div>"
      ],
      "text/plain": [
       "            Survived\n",
       "Cabin_Null          \n",
       "Non-Null    0.666667\n",
       "Null        0.299854"
      ]
     },
     "execution_count": 21,
     "metadata": {},
     "output_type": "execute_result"
    }
   ],
   "source": [
    "data[['Cabin_Null','Survived']].groupby(['Cabin_Null']).mean()"
   ]
  },
  {
   "cell_type": "markdown",
   "metadata": {},
   "source": [
    "- 좌석위치에 대한 정보가 있는 승객들의 생존율이 상대적으로 높습니다. \n",
    "- 이는 생존한 승객들이 추후에 정보를 제공할 기회가 있었다는 해석을 해볼 수 도 있겠네요. (물론, 뇌피셜입니다)\n",
    "- 다만, 두 가지 군들의 (좌석정보가 없는 군 , 좌석정보가 있는 군) 표본 수가 다르다는 점이 주의할 점입니다.\n",
    "    - n_1 = 687, n_2 = 204\n",
    "- 통계수업이였다면 t-test 를 활용하겠지만, 저희는 모델의 성능만 높이면 됩니다. 따라서 모델의 넣어보고 성능에 영향을 끼치는지를 확인합시다 (다음주)! "
   ]
  },
  {
   "cell_type": "markdown",
   "metadata": {},
   "source": [
    "#### Age"
   ]
  },
  {
   "cell_type": "code",
   "execution_count": 22,
   "metadata": {},
   "outputs": [
    {
     "data": {
      "text/plain": [
       "177"
      ]
     },
     "execution_count": 22,
     "metadata": {},
     "output_type": "execute_result"
    }
   ],
   "source": [
    "data['Age'].isnull().sum()\n",
    "# 177/891 = 19.2 % "
   ]
  },
  {
   "cell_type": "code",
   "execution_count": 23,
   "metadata": {},
   "outputs": [],
   "source": [
    "# 산술평균 이용\n",
    "data['Age'].fillna(data['Age'].mean(), inplace=True)"
   ]
  },
  {
   "cell_type": "code",
   "execution_count": 24,
   "metadata": {},
   "outputs": [],
   "source": [
    "# 중간값 이용 \n",
    "data['Age'].fillna(data['Age'].median(), inplace=True)"
   ]
  },
  {
   "cell_type": "markdown",
   "metadata": {},
   "source": [
    "- 통계치를 이용한 방법은 단순한 방법이지만, Feature 가 중요한 정보일수록 통계치를 통해 Null 값을 채워넣는 것은 모델 성능에 도움이 되지 않을수도 있겠네요.\n",
    "\n",
    "- 따라서 다른 방법으로 나이를 최대한 추정해봅시다. \n"
   ]
  },
  {
   "cell_type": "code",
   "execution_count": 25,
   "metadata": {},
   "outputs": [
    {
     "data": {
      "text/plain": [
       "0                              Braund, Mr. Owen Harris\n",
       "1    Cumings, Mrs. John Bradley (Florence Briggs Th...\n",
       "2                               Heikkinen, Miss. Laina\n",
       "3         Futrelle, Mrs. Jacques Heath (Lily May Peel)\n",
       "4                             Allen, Mr. William Henry\n",
       "Name: Name, dtype: object"
      ]
     },
     "execution_count": 25,
     "metadata": {},
     "output_type": "execute_result"
    }
   ],
   "source": [
    "# 탑승객의 이름은 다음과 같은 양식으로 기재되어있습니다. \n",
    "# Braund, Mr. Own Harris 의 Braund 는 first name / Owen Harris 는 last name 과 middle name 같군요\n",
    "data['Name'].head()"
   ]
  },
  {
   "cell_type": "code",
   "execution_count": 27,
   "metadata": {},
   "outputs": [],
   "source": [
    "for i in data:\n",
    "    data['Initial']=data['Name'].str.extract('([A-Za-z]+)\\.') # 온점(.) 뒤에 있는 이니셜 정보를 추출한뒤 저장합니다."
   ]
  },
  {
   "cell_type": "code",
   "execution_count": 30,
   "metadata": {},
   "outputs": [
    {
     "data": {
      "text/html": [
       "<style  type=\"text/css\" >\n",
       "    #T_90f0264c_a966_11e9_ba89_98838924cf6crow0_col0 {\n",
       "            background-color:  #ffff66;\n",
       "        }    #T_90f0264c_a966_11e9_ba89_98838924cf6crow0_col1 {\n",
       "            background-color:  #ffff66;\n",
       "        }    #T_90f0264c_a966_11e9_ba89_98838924cf6crow0_col2 {\n",
       "            background-color:  #008066;\n",
       "        }    #T_90f0264c_a966_11e9_ba89_98838924cf6crow0_col3 {\n",
       "            background-color:  #ffff66;\n",
       "        }    #T_90f0264c_a966_11e9_ba89_98838924cf6crow0_col4 {\n",
       "            background-color:  #ffff66;\n",
       "        }    #T_90f0264c_a966_11e9_ba89_98838924cf6crow0_col5 {\n",
       "            background-color:  #ffff66;\n",
       "        }    #T_90f0264c_a966_11e9_ba89_98838924cf6crow0_col6 {\n",
       "            background-color:  #008066;\n",
       "        }    #T_90f0264c_a966_11e9_ba89_98838924cf6crow0_col7 {\n",
       "            background-color:  #ffff66;\n",
       "        }    #T_90f0264c_a966_11e9_ba89_98838924cf6crow0_col8 {\n",
       "            background-color:  #ffff66;\n",
       "        }    #T_90f0264c_a966_11e9_ba89_98838924cf6crow0_col9 {\n",
       "            background-color:  #008066;\n",
       "        }    #T_90f0264c_a966_11e9_ba89_98838924cf6crow0_col10 {\n",
       "            background-color:  #008066;\n",
       "        }    #T_90f0264c_a966_11e9_ba89_98838924cf6crow0_col11 {\n",
       "            background-color:  #008066;\n",
       "        }    #T_90f0264c_a966_11e9_ba89_98838924cf6crow0_col12 {\n",
       "            background-color:  #ffff66;\n",
       "        }    #T_90f0264c_a966_11e9_ba89_98838924cf6crow0_col13 {\n",
       "            background-color:  #008066;\n",
       "        }    #T_90f0264c_a966_11e9_ba89_98838924cf6crow0_col14 {\n",
       "            background-color:  #008066;\n",
       "        }    #T_90f0264c_a966_11e9_ba89_98838924cf6crow0_col15 {\n",
       "            background-color:  #ffff66;\n",
       "        }    #T_90f0264c_a966_11e9_ba89_98838924cf6crow0_col16 {\n",
       "            background-color:  #ffff66;\n",
       "        }    #T_90f0264c_a966_11e9_ba89_98838924cf6crow1_col0 {\n",
       "            background-color:  #008066;\n",
       "        }    #T_90f0264c_a966_11e9_ba89_98838924cf6crow1_col1 {\n",
       "            background-color:  #008066;\n",
       "        }    #T_90f0264c_a966_11e9_ba89_98838924cf6crow1_col2 {\n",
       "            background-color:  #ffff66;\n",
       "        }    #T_90f0264c_a966_11e9_ba89_98838924cf6crow1_col3 {\n",
       "            background-color:  #008066;\n",
       "        }    #T_90f0264c_a966_11e9_ba89_98838924cf6crow1_col4 {\n",
       "            background-color:  #008066;\n",
       "        }    #T_90f0264c_a966_11e9_ba89_98838924cf6crow1_col5 {\n",
       "            background-color:  #008066;\n",
       "        }    #T_90f0264c_a966_11e9_ba89_98838924cf6crow1_col6 {\n",
       "            background-color:  #ffff66;\n",
       "        }    #T_90f0264c_a966_11e9_ba89_98838924cf6crow1_col7 {\n",
       "            background-color:  #008066;\n",
       "        }    #T_90f0264c_a966_11e9_ba89_98838924cf6crow1_col8 {\n",
       "            background-color:  #008066;\n",
       "        }    #T_90f0264c_a966_11e9_ba89_98838924cf6crow1_col9 {\n",
       "            background-color:  #ffff66;\n",
       "        }    #T_90f0264c_a966_11e9_ba89_98838924cf6crow1_col10 {\n",
       "            background-color:  #ffff66;\n",
       "        }    #T_90f0264c_a966_11e9_ba89_98838924cf6crow1_col11 {\n",
       "            background-color:  #ffff66;\n",
       "        }    #T_90f0264c_a966_11e9_ba89_98838924cf6crow1_col12 {\n",
       "            background-color:  #008066;\n",
       "        }    #T_90f0264c_a966_11e9_ba89_98838924cf6crow1_col13 {\n",
       "            background-color:  #ffff66;\n",
       "        }    #T_90f0264c_a966_11e9_ba89_98838924cf6crow1_col14 {\n",
       "            background-color:  #ffff66;\n",
       "        }    #T_90f0264c_a966_11e9_ba89_98838924cf6crow1_col15 {\n",
       "            background-color:  #008066;\n",
       "        }    #T_90f0264c_a966_11e9_ba89_98838924cf6crow1_col16 {\n",
       "            background-color:  #008066;\n",
       "        }</style>  \n",
       "<table id=\"T_90f0264c_a966_11e9_ba89_98838924cf6c\" > \n",
       "<thead>    <tr> \n",
       "        <th class=\"index_name level0\" >Initial</th> \n",
       "        <th class=\"col_heading level0 col0\" >Capt</th> \n",
       "        <th class=\"col_heading level0 col1\" >Col</th> \n",
       "        <th class=\"col_heading level0 col2\" >Countess</th> \n",
       "        <th class=\"col_heading level0 col3\" >Don</th> \n",
       "        <th class=\"col_heading level0 col4\" >Dr</th> \n",
       "        <th class=\"col_heading level0 col5\" >Jonkheer</th> \n",
       "        <th class=\"col_heading level0 col6\" >Lady</th> \n",
       "        <th class=\"col_heading level0 col7\" >Major</th> \n",
       "        <th class=\"col_heading level0 col8\" >Master</th> \n",
       "        <th class=\"col_heading level0 col9\" >Miss</th> \n",
       "        <th class=\"col_heading level0 col10\" >Mlle</th> \n",
       "        <th class=\"col_heading level0 col11\" >Mme</th> \n",
       "        <th class=\"col_heading level0 col12\" >Mr</th> \n",
       "        <th class=\"col_heading level0 col13\" >Mrs</th> \n",
       "        <th class=\"col_heading level0 col14\" >Ms</th> \n",
       "        <th class=\"col_heading level0 col15\" >Rev</th> \n",
       "        <th class=\"col_heading level0 col16\" >Sir</th> \n",
       "    </tr>    <tr> \n",
       "        <th class=\"index_name level0\" >Sex</th> \n",
       "        <th class=\"blank\" ></th> \n",
       "        <th class=\"blank\" ></th> \n",
       "        <th class=\"blank\" ></th> \n",
       "        <th class=\"blank\" ></th> \n",
       "        <th class=\"blank\" ></th> \n",
       "        <th class=\"blank\" ></th> \n",
       "        <th class=\"blank\" ></th> \n",
       "        <th class=\"blank\" ></th> \n",
       "        <th class=\"blank\" ></th> \n",
       "        <th class=\"blank\" ></th> \n",
       "        <th class=\"blank\" ></th> \n",
       "        <th class=\"blank\" ></th> \n",
       "        <th class=\"blank\" ></th> \n",
       "        <th class=\"blank\" ></th> \n",
       "        <th class=\"blank\" ></th> \n",
       "        <th class=\"blank\" ></th> \n",
       "        <th class=\"blank\" ></th> \n",
       "    </tr></thead> \n",
       "<tbody>    <tr> \n",
       "        <th id=\"T_90f0264c_a966_11e9_ba89_98838924cf6clevel0_row0\" class=\"row_heading level0 row0\" >female</th> \n",
       "        <td id=\"T_90f0264c_a966_11e9_ba89_98838924cf6crow0_col0\" class=\"data row0 col0\" >0</td> \n",
       "        <td id=\"T_90f0264c_a966_11e9_ba89_98838924cf6crow0_col1\" class=\"data row0 col1\" >0</td> \n",
       "        <td id=\"T_90f0264c_a966_11e9_ba89_98838924cf6crow0_col2\" class=\"data row0 col2\" >1</td> \n",
       "        <td id=\"T_90f0264c_a966_11e9_ba89_98838924cf6crow0_col3\" class=\"data row0 col3\" >0</td> \n",
       "        <td id=\"T_90f0264c_a966_11e9_ba89_98838924cf6crow0_col4\" class=\"data row0 col4\" >1</td> \n",
       "        <td id=\"T_90f0264c_a966_11e9_ba89_98838924cf6crow0_col5\" class=\"data row0 col5\" >0</td> \n",
       "        <td id=\"T_90f0264c_a966_11e9_ba89_98838924cf6crow0_col6\" class=\"data row0 col6\" >1</td> \n",
       "        <td id=\"T_90f0264c_a966_11e9_ba89_98838924cf6crow0_col7\" class=\"data row0 col7\" >0</td> \n",
       "        <td id=\"T_90f0264c_a966_11e9_ba89_98838924cf6crow0_col8\" class=\"data row0 col8\" >0</td> \n",
       "        <td id=\"T_90f0264c_a966_11e9_ba89_98838924cf6crow0_col9\" class=\"data row0 col9\" >182</td> \n",
       "        <td id=\"T_90f0264c_a966_11e9_ba89_98838924cf6crow0_col10\" class=\"data row0 col10\" >2</td> \n",
       "        <td id=\"T_90f0264c_a966_11e9_ba89_98838924cf6crow0_col11\" class=\"data row0 col11\" >1</td> \n",
       "        <td id=\"T_90f0264c_a966_11e9_ba89_98838924cf6crow0_col12\" class=\"data row0 col12\" >0</td> \n",
       "        <td id=\"T_90f0264c_a966_11e9_ba89_98838924cf6crow0_col13\" class=\"data row0 col13\" >125</td> \n",
       "        <td id=\"T_90f0264c_a966_11e9_ba89_98838924cf6crow0_col14\" class=\"data row0 col14\" >1</td> \n",
       "        <td id=\"T_90f0264c_a966_11e9_ba89_98838924cf6crow0_col15\" class=\"data row0 col15\" >0</td> \n",
       "        <td id=\"T_90f0264c_a966_11e9_ba89_98838924cf6crow0_col16\" class=\"data row0 col16\" >0</td> \n",
       "    </tr>    <tr> \n",
       "        <th id=\"T_90f0264c_a966_11e9_ba89_98838924cf6clevel0_row1\" class=\"row_heading level0 row1\" >male</th> \n",
       "        <td id=\"T_90f0264c_a966_11e9_ba89_98838924cf6crow1_col0\" class=\"data row1 col0\" >1</td> \n",
       "        <td id=\"T_90f0264c_a966_11e9_ba89_98838924cf6crow1_col1\" class=\"data row1 col1\" >2</td> \n",
       "        <td id=\"T_90f0264c_a966_11e9_ba89_98838924cf6crow1_col2\" class=\"data row1 col2\" >0</td> \n",
       "        <td id=\"T_90f0264c_a966_11e9_ba89_98838924cf6crow1_col3\" class=\"data row1 col3\" >1</td> \n",
       "        <td id=\"T_90f0264c_a966_11e9_ba89_98838924cf6crow1_col4\" class=\"data row1 col4\" >6</td> \n",
       "        <td id=\"T_90f0264c_a966_11e9_ba89_98838924cf6crow1_col5\" class=\"data row1 col5\" >1</td> \n",
       "        <td id=\"T_90f0264c_a966_11e9_ba89_98838924cf6crow1_col6\" class=\"data row1 col6\" >0</td> \n",
       "        <td id=\"T_90f0264c_a966_11e9_ba89_98838924cf6crow1_col7\" class=\"data row1 col7\" >2</td> \n",
       "        <td id=\"T_90f0264c_a966_11e9_ba89_98838924cf6crow1_col8\" class=\"data row1 col8\" >40</td> \n",
       "        <td id=\"T_90f0264c_a966_11e9_ba89_98838924cf6crow1_col9\" class=\"data row1 col9\" >0</td> \n",
       "        <td id=\"T_90f0264c_a966_11e9_ba89_98838924cf6crow1_col10\" class=\"data row1 col10\" >0</td> \n",
       "        <td id=\"T_90f0264c_a966_11e9_ba89_98838924cf6crow1_col11\" class=\"data row1 col11\" >0</td> \n",
       "        <td id=\"T_90f0264c_a966_11e9_ba89_98838924cf6crow1_col12\" class=\"data row1 col12\" >517</td> \n",
       "        <td id=\"T_90f0264c_a966_11e9_ba89_98838924cf6crow1_col13\" class=\"data row1 col13\" >0</td> \n",
       "        <td id=\"T_90f0264c_a966_11e9_ba89_98838924cf6crow1_col14\" class=\"data row1 col14\" >0</td> \n",
       "        <td id=\"T_90f0264c_a966_11e9_ba89_98838924cf6crow1_col15\" class=\"data row1 col15\" >6</td> \n",
       "        <td id=\"T_90f0264c_a966_11e9_ba89_98838924cf6crow1_col16\" class=\"data row1 col16\" >1</td> \n",
       "    </tr></tbody> \n",
       "</table> "
      ],
      "text/plain": [
       "<pandas.io.formats.style.Styler at 0x1aca8016d68>"
      ]
     },
     "execution_count": 30,
     "metadata": {},
     "output_type": "execute_result"
    }
   ],
   "source": [
    "pd.crosstab(data['Initial'],data['Sex']).T.style.background_gradient(cmap='summer_r') #이니셜을 성별에 대해서 정렬"
   ]
  },
  {
   "cell_type": "markdown",
   "metadata": {},
   "source": [
    "- 남성과 여성 중 가장 많은 이니셜을 Miss, Mrs, Mr 입니다. \n",
    "- 남성의 경우 40명이 \"Master\" 이라는 이니셜을 갖고 있네요. 단어만으로는 귀족의 느낌이 아는데 나이분포가 어떤지 살펴봅시다. "
   ]
  },
  {
   "cell_type": "code",
   "execution_count": 32,
   "metadata": {},
   "outputs": [
    {
     "data": {
      "text/plain": [
       "7       2.000000\n",
       "16      2.000000\n",
       "50      7.000000\n",
       "59     11.000000\n",
       "63      4.000000\n",
       "65     29.699118\n",
       "78      0.830000\n",
       "125    12.000000\n",
       "159    29.699118\n",
       "164     1.000000\n",
       "Name: Age, dtype: float64"
      ]
     },
     "execution_count": 32,
     "metadata": {},
     "output_type": "execute_result"
    }
   ],
   "source": [
    "data.loc[data['Initial'] == 'Master', 'Age'].head(10)\n",
    "# 대부분 어려보이는데 29살은 뭘까요??"
   ]
  },
  {
   "cell_type": "code",
   "execution_count": 33,
   "metadata": {},
   "outputs": [],
   "source": [
    "# 나머지는 이니셜을 모두 Mr. / Miss / Mrs 로 처리합시다. \n",
    "# 여성의 이니셜의 경우, 이니셜의 의미에 가장 부합하는 것 같은 카테고리 (Miss 혹은 Mrs)로 임의로 나눱습니다. \n",
    "# 귀족 이니셜은 'Other' 로 따로 묶었습니다\n",
    "data['Initial'].replace(['Mlle','Mme','Ms','Dr','Major','Lady','Countess','Jonkheer','Col','Rev','Capt','Sir','Don'],['Miss','Miss','Miss','Mr','Mr','Mrs','Mrs','Other','Other','Other','Other','Other','Other'],inplace=True)"
   ]
  },
  {
   "cell_type": "code",
   "execution_count": 36,
   "metadata": {},
   "outputs": [
    {
     "data": {
      "text/plain": [
       "array(['Mr', 'Mrs', 'Miss', 'Master', 'Other'], dtype=object)"
      ]
     },
     "execution_count": 36,
     "metadata": {},
     "output_type": "execute_result"
    }
   ],
   "source": [
    "# 이제 남은 것은 다음과 같은 이니셜 뿐입니다.\n",
    "data['Initial'].unique()"
   ]
  },
  {
   "cell_type": "code",
   "execution_count": 37,
   "metadata": {},
   "outputs": [],
   "source": [
    "data.loc[(data.Age.isnull())&(data.Initial=='Master'),'Age']= data.loc[data['Initial'] == 'Master', 'Age'].median()\n",
    "data.loc[(data.Age.isnull())&(data.Initial=='Mr'),'Age']= data.loc[data['Initial'] == 'Mr', 'Age'].median()\n",
    "data.loc[(data.Age.isnull())&(data.Initial=='Mrs'),'Age']= data.loc[data['Initial'] == 'Mrs', 'Age'].median()\n",
    "data.loc[(data.Age.isnull())&(data.Initial=='Miss'),'Age']= data.loc[data['Initial'] == 'Miss', 'Age'].median()\n",
    "data.loc[(data.Age.isnull())&(data.Initial=='Other'),'Age']= data.loc[data['Initial'] == 'Other', 'Age'].median()"
   ]
  },
  {
   "cell_type": "code",
   "execution_count": 38,
   "metadata": {
    "scrolled": true
   },
   "outputs": [
    {
     "name": "stdout",
     "output_type": "stream",
     "text": [
      "Median Age for Master :  4.0\n",
      "Median Age for Mr :  29.69911764705882\n",
      "Median Age for Mrs :  33.0\n",
      "Median Age for Miss :  24.0\n",
      "Median Age for Other :  50.0\n"
     ]
    }
   ],
   "source": [
    "print('Median Age for Master : ', data.loc[data['Initial'] == 'Master', 'Age'].median()) \n",
    "print('Median Age for Mr : ', data.loc[data['Initial'] == 'Mr', 'Age'].median()) \n",
    "print('Median Age for Mrs : ', data.loc[data['Initial'] == 'Mrs', 'Age'].median()) \n",
    "print('Median Age for Miss : ', data.loc[data['Initial'] == 'Miss', 'Age'].median()) \n",
    "print('Median Age for Other : ', data.loc[data['Initial'] == 'Other', 'Age'].median()) "
   ]
  },
  {
   "cell_type": "markdown",
   "metadata": {},
   "source": [
    "### Categorical Feature 처리 "
   ]
  },
  {
   "cell_type": "markdown",
   "metadata": {},
   "source": [
    "#### Nomial : 순서가 상관없는 Categorical"
   ]
  },
  {
   "cell_type": "code",
   "execution_count": 39,
   "metadata": {},
   "outputs": [
    {
     "data": {
      "text/html": [
       "<div>\n",
       "<style scoped>\n",
       "    .dataframe tbody tr th:only-of-type {\n",
       "        vertical-align: middle;\n",
       "    }\n",
       "\n",
       "    .dataframe tbody tr th {\n",
       "        vertical-align: top;\n",
       "    }\n",
       "\n",
       "    .dataframe thead th {\n",
       "        text-align: right;\n",
       "    }\n",
       "</style>\n",
       "<table border=\"1\" class=\"dataframe\">\n",
       "  <thead>\n",
       "    <tr style=\"text-align: right;\">\n",
       "      <th></th>\n",
       "      <th>Master</th>\n",
       "      <th>Miss</th>\n",
       "      <th>Mr</th>\n",
       "      <th>Mrs</th>\n",
       "      <th>Other</th>\n",
       "    </tr>\n",
       "  </thead>\n",
       "  <tbody>\n",
       "    <tr>\n",
       "      <th>0</th>\n",
       "      <td>0</td>\n",
       "      <td>0</td>\n",
       "      <td>1</td>\n",
       "      <td>0</td>\n",
       "      <td>0</td>\n",
       "    </tr>\n",
       "    <tr>\n",
       "      <th>1</th>\n",
       "      <td>0</td>\n",
       "      <td>0</td>\n",
       "      <td>0</td>\n",
       "      <td>1</td>\n",
       "      <td>0</td>\n",
       "    </tr>\n",
       "    <tr>\n",
       "      <th>2</th>\n",
       "      <td>0</td>\n",
       "      <td>1</td>\n",
       "      <td>0</td>\n",
       "      <td>0</td>\n",
       "      <td>0</td>\n",
       "    </tr>\n",
       "    <tr>\n",
       "      <th>3</th>\n",
       "      <td>0</td>\n",
       "      <td>0</td>\n",
       "      <td>0</td>\n",
       "      <td>1</td>\n",
       "      <td>0</td>\n",
       "    </tr>\n",
       "    <tr>\n",
       "      <th>4</th>\n",
       "      <td>0</td>\n",
       "      <td>0</td>\n",
       "      <td>1</td>\n",
       "      <td>0</td>\n",
       "      <td>0</td>\n",
       "    </tr>\n",
       "  </tbody>\n",
       "</table>\n",
       "</div>"
      ],
      "text/plain": [
       "   Master  Miss  Mr  Mrs  Other\n",
       "0       0     0   1    0      0\n",
       "1       0     0   0    1      0\n",
       "2       0     1   0    0      0\n",
       "3       0     0   0    1      0\n",
       "4       0     0   1    0      0"
      ]
     },
     "execution_count": 39,
     "metadata": {},
     "output_type": "execute_result"
    }
   ],
   "source": [
    "dummy_var = pd.get_dummies(data.Initial)\n",
    "pd.get_dummies(data.Initial).head()"
   ]
  },
  {
   "cell_type": "code",
   "execution_count": 40,
   "metadata": {},
   "outputs": [
    {
     "data": {
      "text/plain": [
       "\"\\ndata.drop(['Initial'], axis=1) : 기존에 존재하는 Initial column 제거된 Dataframe \\n\\npd.concat() 을 통해 병합 \\n\""
      ]
     },
     "execution_count": 40,
     "metadata": {},
     "output_type": "execute_result"
    }
   ],
   "source": [
    "\"\"\"\n",
    "data.drop(['Initial'], axis=1) : 기존에 존재하는 Initial column 제거된 Dataframe \n",
    "\n",
    "pd.concat() 을 통해 병합 \n",
    "\"\"\""
   ]
  },
  {
   "cell_type": "code",
   "execution_count": 41,
   "metadata": {},
   "outputs": [
    {
     "data": {
      "text/html": [
       "<div>\n",
       "<style scoped>\n",
       "    .dataframe tbody tr th:only-of-type {\n",
       "        vertical-align: middle;\n",
       "    }\n",
       "\n",
       "    .dataframe tbody tr th {\n",
       "        vertical-align: top;\n",
       "    }\n",
       "\n",
       "    .dataframe thead th {\n",
       "        text-align: right;\n",
       "    }\n",
       "</style>\n",
       "<table border=\"1\" class=\"dataframe\">\n",
       "  <thead>\n",
       "    <tr style=\"text-align: right;\">\n",
       "      <th></th>\n",
       "      <th>PassengerId</th>\n",
       "      <th>Survived</th>\n",
       "      <th>Pclass</th>\n",
       "      <th>Name</th>\n",
       "      <th>Sex</th>\n",
       "      <th>Age</th>\n",
       "      <th>SibSp</th>\n",
       "      <th>Parch</th>\n",
       "      <th>Ticket</th>\n",
       "      <th>Fare</th>\n",
       "      <th>Cabin</th>\n",
       "      <th>Embarked</th>\n",
       "      <th>Cabin_Null</th>\n",
       "      <th>Master</th>\n",
       "      <th>Miss</th>\n",
       "      <th>Mr</th>\n",
       "      <th>Mrs</th>\n",
       "      <th>Other</th>\n",
       "    </tr>\n",
       "  </thead>\n",
       "  <tbody>\n",
       "    <tr>\n",
       "      <th>0</th>\n",
       "      <td>1</td>\n",
       "      <td>0</td>\n",
       "      <td>3</td>\n",
       "      <td>Braund, Mr. Owen Harris</td>\n",
       "      <td>male</td>\n",
       "      <td>22.0</td>\n",
       "      <td>1</td>\n",
       "      <td>0</td>\n",
       "      <td>A/5 21171</td>\n",
       "      <td>7.2500</td>\n",
       "      <td>NA</td>\n",
       "      <td>S</td>\n",
       "      <td>Null</td>\n",
       "      <td>0</td>\n",
       "      <td>0</td>\n",
       "      <td>1</td>\n",
       "      <td>0</td>\n",
       "      <td>0</td>\n",
       "    </tr>\n",
       "    <tr>\n",
       "      <th>1</th>\n",
       "      <td>2</td>\n",
       "      <td>1</td>\n",
       "      <td>1</td>\n",
       "      <td>Cumings, Mrs. John Bradley (Florence Briggs Th...</td>\n",
       "      <td>female</td>\n",
       "      <td>38.0</td>\n",
       "      <td>1</td>\n",
       "      <td>0</td>\n",
       "      <td>PC 17599</td>\n",
       "      <td>71.2833</td>\n",
       "      <td>C85</td>\n",
       "      <td>C</td>\n",
       "      <td>Non-Null</td>\n",
       "      <td>0</td>\n",
       "      <td>0</td>\n",
       "      <td>0</td>\n",
       "      <td>1</td>\n",
       "      <td>0</td>\n",
       "    </tr>\n",
       "    <tr>\n",
       "      <th>2</th>\n",
       "      <td>3</td>\n",
       "      <td>1</td>\n",
       "      <td>3</td>\n",
       "      <td>Heikkinen, Miss. Laina</td>\n",
       "      <td>female</td>\n",
       "      <td>26.0</td>\n",
       "      <td>0</td>\n",
       "      <td>0</td>\n",
       "      <td>STON/O2. 3101282</td>\n",
       "      <td>7.9250</td>\n",
       "      <td>NA</td>\n",
       "      <td>S</td>\n",
       "      <td>Null</td>\n",
       "      <td>0</td>\n",
       "      <td>1</td>\n",
       "      <td>0</td>\n",
       "      <td>0</td>\n",
       "      <td>0</td>\n",
       "    </tr>\n",
       "    <tr>\n",
       "      <th>3</th>\n",
       "      <td>4</td>\n",
       "      <td>1</td>\n",
       "      <td>1</td>\n",
       "      <td>Futrelle, Mrs. Jacques Heath (Lily May Peel)</td>\n",
       "      <td>female</td>\n",
       "      <td>35.0</td>\n",
       "      <td>1</td>\n",
       "      <td>0</td>\n",
       "      <td>113803</td>\n",
       "      <td>53.1000</td>\n",
       "      <td>C123</td>\n",
       "      <td>S</td>\n",
       "      <td>Non-Null</td>\n",
       "      <td>0</td>\n",
       "      <td>0</td>\n",
       "      <td>0</td>\n",
       "      <td>1</td>\n",
       "      <td>0</td>\n",
       "    </tr>\n",
       "    <tr>\n",
       "      <th>4</th>\n",
       "      <td>5</td>\n",
       "      <td>0</td>\n",
       "      <td>3</td>\n",
       "      <td>Allen, Mr. William Henry</td>\n",
       "      <td>male</td>\n",
       "      <td>35.0</td>\n",
       "      <td>0</td>\n",
       "      <td>0</td>\n",
       "      <td>373450</td>\n",
       "      <td>8.0500</td>\n",
       "      <td>NA</td>\n",
       "      <td>S</td>\n",
       "      <td>Null</td>\n",
       "      <td>0</td>\n",
       "      <td>0</td>\n",
       "      <td>1</td>\n",
       "      <td>0</td>\n",
       "      <td>0</td>\n",
       "    </tr>\n",
       "  </tbody>\n",
       "</table>\n",
       "</div>"
      ],
      "text/plain": [
       "   PassengerId  Survived  Pclass  \\\n",
       "0            1         0       3   \n",
       "1            2         1       1   \n",
       "2            3         1       3   \n",
       "3            4         1       1   \n",
       "4            5         0       3   \n",
       "\n",
       "                                                Name     Sex   Age  SibSp  \\\n",
       "0                            Braund, Mr. Owen Harris    male  22.0      1   \n",
       "1  Cumings, Mrs. John Bradley (Florence Briggs Th...  female  38.0      1   \n",
       "2                             Heikkinen, Miss. Laina  female  26.0      0   \n",
       "3       Futrelle, Mrs. Jacques Heath (Lily May Peel)  female  35.0      1   \n",
       "4                           Allen, Mr. William Henry    male  35.0      0   \n",
       "\n",
       "   Parch            Ticket     Fare Cabin Embarked Cabin_Null  Master  Miss  \\\n",
       "0      0         A/5 21171   7.2500    NA        S       Null       0     0   \n",
       "1      0          PC 17599  71.2833   C85        C   Non-Null       0     0   \n",
       "2      0  STON/O2. 3101282   7.9250    NA        S       Null       0     1   \n",
       "3      0            113803  53.1000  C123        S   Non-Null       0     0   \n",
       "4      0            373450   8.0500    NA        S       Null       0     0   \n",
       "\n",
       "   Mr  Mrs  Other  \n",
       "0   1    0      0  \n",
       "1   0    1      0  \n",
       "2   0    0      0  \n",
       "3   0    1      0  \n",
       "4   1    0      0  "
      ]
     },
     "execution_count": 41,
     "metadata": {},
     "output_type": "execute_result"
    }
   ],
   "source": [
    "pd.concat([data.drop(['Initial'], axis=1),dummy_var], axis=1).head()"
   ]
  },
  {
   "cell_type": "markdown",
   "metadata": {},
   "source": [
    "#### Ordinal : 순서가 상관 있는 Categorical"
   ]
  },
  {
   "cell_type": "code",
   "execution_count": 42,
   "metadata": {},
   "outputs": [],
   "source": [
    "def transform_to_string(x):\n",
    "    if x==1:\n",
    "        return 'class1'\n",
    "    elif x==2:\n",
    "        return 'class2'\n",
    "    else:\n",
    "        return 'class3'"
   ]
  },
  {
   "cell_type": "code",
   "execution_count": 43,
   "metadata": {},
   "outputs": [
    {
     "data": {
      "text/plain": [
       "0    class3\n",
       "1    class1\n",
       "2    class3\n",
       "3    class1\n",
       "4    class3\n",
       "5    class3\n",
       "6    class1\n",
       "7    class3\n",
       "8    class3\n",
       "9    class2\n",
       "Name: Pclass, dtype: object"
      ]
     },
     "execution_count": 43,
     "metadata": {},
     "output_type": "execute_result"
    }
   ],
   "source": [
    "data['Pclass'] = data['Pclass'].apply(transform_to_string)\n",
    "data['Pclass'].head(10)"
   ]
  },
  {
   "cell_type": "code",
   "execution_count": 44,
   "metadata": {},
   "outputs": [
    {
     "data": {
      "text/plain": [
       "OrdinalEncoder(categories='auto', dtype=<class 'numpy.float64'>)"
      ]
     },
     "execution_count": 44,
     "metadata": {},
     "output_type": "execute_result"
    }
   ],
   "source": [
    "from sklearn.preprocessing import OrdinalEncoder\n",
    "ordinal_encoder = OrdinalEncoder()\n",
    "mapper = [['class3',],['class2',],['class1',]]\n",
    "ordinal_encoder.fit(mapper)"
   ]
  },
  {
   "cell_type": "code",
   "execution_count": 46,
   "metadata": {},
   "outputs": [
    {
     "data": {
      "text/plain": [
       "array([[2.],\n",
       "       [0.],\n",
       "       [2.],\n",
       "       [0.],\n",
       "       [2.],\n",
       "       [2.],\n",
       "       [0.],\n",
       "       [2.],\n",
       "       [2.],\n",
       "       [1.]])"
      ]
     },
     "execution_count": 46,
     "metadata": {},
     "output_type": "execute_result"
    }
   ],
   "source": [
    "ordinal_encoder.transform(np.array(data['Pclass']).reshape(-1,1))[:10]"
   ]
  },
  {
   "cell_type": "markdown",
   "metadata": {},
   "source": [
    "## 과제 1:\n",
    "#### Target Encoding: 각 피쳐 값의 target variable 평균으로 인코딩\n"
   ]
  },
  {
   "cell_type": "markdown",
   "metadata": {},
   "source": [
    "TODO : \n",
    " - 개선된 'Initial' Feature 에 target encoding 을 적용하세요.\n",
    " - ['Mr', 'Mrs', 'Miss', 'Master', 'Other'] 총 5가지의 값이 0-1 사이의 값으로 변환되어야 합니다.\n",
    " - 인코딩된 feature 는 'Initial_encoded' 에 저장해주세요."
   ]
  },
  {
   "cell_type": "code",
   "execution_count": 47,
   "metadata": {},
   "outputs": [],
   "source": [
    "data = pd.concat([data, dummy_var], axis=1)"
   ]
  },
  {
   "cell_type": "markdown",
   "metadata": {},
   "source": [
    "#### Mean 값 찾기"
   ]
  },
  {
   "cell_type": "code",
   "execution_count": 55,
   "metadata": {},
   "outputs": [],
   "source": [
    "data['Initial_encoded'] = 0 \n",
    "\n",
    "# 각 값들 ('Mr','Mrs',...) 에 대해서 생존율 평균값 찾기 \n",
    "\n",
    "Mr_mean = data.groupby('Initial')['Survived'].mean()['Mr']\n",
    "Mrs_mean = data.groupby('Initial')['Survived'].mean()['Mrs']\n",
    "Miss_mean = data.groupby('Initial')['Survived'].mean()['Miss']\n",
    "Master_mean = data.groupby('Initial')['Survived'].mean()['Master']\n",
    "Other_mean = data.groupby('Initial')['Survived'].mean()['Other']"
   ]
  },
  {
   "cell_type": "markdown",
   "metadata": {},
   "source": [
    "#### DataFrame 에 저장"
   ]
  },
  {
   "cell_type": "code",
   "execution_count": 66,
   "metadata": {},
   "outputs": [],
   "source": [
    "#Option 1 : for 문 사용 \n",
    "## 너무 오래걸려요ㅠㅠㅠ\n",
    "for index, row in data.iterrows():\n",
    "    if row['Initial_encoded'] == 'Mr':\n",
    "        data.loc[index]['Initial_encoded'] = Mr_mean\n",
    "    elif row['Initial_encoded'] == 'Mrs':\n",
    "        data.loc[index]['Initial_encoded'] = Mrs_mean\n",
    "    elif row['Initial_encoded'] == 'Miss':\n",
    "        data.loc[index]['Initial_encoded'] = Miss_mean\n",
    "    elif row['Initial_encoded'] == 'Master':\n",
    "        data.loc[index]['Initial_encoded'] = Master_mean\n",
    "    else:\n",
    "        data.loc[index]['Initial_encoded'] = Other_mean\n",
    "        \n",
    "#Option 2 : .loc 함수 사용 \n",
    "data.loc[(data.Initial == 'Mr'), 'Initial_encoded'] = Mr_mean\n",
    "data.loc[(data.Initial == 'Mrs'), 'Initial_encoded'] = Mrs_mean\n",
    "data.loc[(data.Initial == 'Miss'), 'Initial_encoded'] = Miss_mean\n",
    "data.loc[(data.Initial == 'Master'), 'Initial_encoded'] = Master_mean\n",
    "data.loc[(data.Initial == 'Other'), 'Initial_encoded'] = Other_mean"
   ]
  },
  {
   "cell_type": "code",
   "execution_count": 81,
   "metadata": {},
   "outputs": [
    {
     "data": {
      "text/html": [
       "<div>\n",
       "<style scoped>\n",
       "    .dataframe tbody tr th:only-of-type {\n",
       "        vertical-align: middle;\n",
       "    }\n",
       "\n",
       "    .dataframe tbody tr th {\n",
       "        vertical-align: top;\n",
       "    }\n",
       "\n",
       "    .dataframe thead th {\n",
       "        text-align: right;\n",
       "    }\n",
       "</style>\n",
       "<table border=\"1\" class=\"dataframe\">\n",
       "  <thead>\n",
       "    <tr style=\"text-align: right;\">\n",
       "      <th></th>\n",
       "      <th>PassengerId</th>\n",
       "      <th>Survived</th>\n",
       "      <th>Pclass</th>\n",
       "      <th>Name</th>\n",
       "      <th>Sex</th>\n",
       "      <th>Age</th>\n",
       "      <th>SibSp</th>\n",
       "      <th>Parch</th>\n",
       "      <th>Ticket</th>\n",
       "      <th>Fare</th>\n",
       "      <th>Cabin</th>\n",
       "      <th>Embarked</th>\n",
       "      <th>Cabin_Null</th>\n",
       "      <th>Initial</th>\n",
       "      <th>Master</th>\n",
       "      <th>Miss</th>\n",
       "      <th>Mr</th>\n",
       "      <th>Mrs</th>\n",
       "      <th>Other</th>\n",
       "      <th>Initial_encoded</th>\n",
       "    </tr>\n",
       "  </thead>\n",
       "  <tbody>\n",
       "    <tr>\n",
       "      <th>0</th>\n",
       "      <td>1</td>\n",
       "      <td>0</td>\n",
       "      <td>class3</td>\n",
       "      <td>Braund, Mr. Owen Harris</td>\n",
       "      <td>male</td>\n",
       "      <td>22.0</td>\n",
       "      <td>1</td>\n",
       "      <td>0</td>\n",
       "      <td>A/5 21171</td>\n",
       "      <td>7.2500</td>\n",
       "      <td>NA</td>\n",
       "      <td>S</td>\n",
       "      <td>Null</td>\n",
       "      <td>Mr</td>\n",
       "      <td>0</td>\n",
       "      <td>0</td>\n",
       "      <td>1</td>\n",
       "      <td>0</td>\n",
       "      <td>0</td>\n",
       "      <td>0.161597</td>\n",
       "    </tr>\n",
       "    <tr>\n",
       "      <th>1</th>\n",
       "      <td>2</td>\n",
       "      <td>1</td>\n",
       "      <td>class1</td>\n",
       "      <td>Cumings, Mrs. John Bradley (Florence Briggs Th...</td>\n",
       "      <td>female</td>\n",
       "      <td>38.0</td>\n",
       "      <td>1</td>\n",
       "      <td>0</td>\n",
       "      <td>PC 17599</td>\n",
       "      <td>71.2833</td>\n",
       "      <td>C85</td>\n",
       "      <td>C</td>\n",
       "      <td>Non-Null</td>\n",
       "      <td>Mrs</td>\n",
       "      <td>0</td>\n",
       "      <td>0</td>\n",
       "      <td>0</td>\n",
       "      <td>1</td>\n",
       "      <td>0</td>\n",
       "      <td>0.795276</td>\n",
       "    </tr>\n",
       "    <tr>\n",
       "      <th>2</th>\n",
       "      <td>3</td>\n",
       "      <td>1</td>\n",
       "      <td>class3</td>\n",
       "      <td>Heikkinen, Miss. Laina</td>\n",
       "      <td>female</td>\n",
       "      <td>26.0</td>\n",
       "      <td>0</td>\n",
       "      <td>0</td>\n",
       "      <td>STON/O2. 3101282</td>\n",
       "      <td>7.9250</td>\n",
       "      <td>NA</td>\n",
       "      <td>S</td>\n",
       "      <td>Null</td>\n",
       "      <td>Miss</td>\n",
       "      <td>0</td>\n",
       "      <td>1</td>\n",
       "      <td>0</td>\n",
       "      <td>0</td>\n",
       "      <td>0</td>\n",
       "      <td>0.704301</td>\n",
       "    </tr>\n",
       "    <tr>\n",
       "      <th>3</th>\n",
       "      <td>4</td>\n",
       "      <td>1</td>\n",
       "      <td>class1</td>\n",
       "      <td>Futrelle, Mrs. Jacques Heath (Lily May Peel)</td>\n",
       "      <td>female</td>\n",
       "      <td>35.0</td>\n",
       "      <td>1</td>\n",
       "      <td>0</td>\n",
       "      <td>113803</td>\n",
       "      <td>53.1000</td>\n",
       "      <td>C123</td>\n",
       "      <td>S</td>\n",
       "      <td>Non-Null</td>\n",
       "      <td>Mrs</td>\n",
       "      <td>0</td>\n",
       "      <td>0</td>\n",
       "      <td>0</td>\n",
       "      <td>1</td>\n",
       "      <td>0</td>\n",
       "      <td>0.795276</td>\n",
       "    </tr>\n",
       "    <tr>\n",
       "      <th>4</th>\n",
       "      <td>5</td>\n",
       "      <td>0</td>\n",
       "      <td>class3</td>\n",
       "      <td>Allen, Mr. William Henry</td>\n",
       "      <td>male</td>\n",
       "      <td>35.0</td>\n",
       "      <td>0</td>\n",
       "      <td>0</td>\n",
       "      <td>373450</td>\n",
       "      <td>8.0500</td>\n",
       "      <td>NA</td>\n",
       "      <td>S</td>\n",
       "      <td>Null</td>\n",
       "      <td>Mr</td>\n",
       "      <td>0</td>\n",
       "      <td>0</td>\n",
       "      <td>1</td>\n",
       "      <td>0</td>\n",
       "      <td>0</td>\n",
       "      <td>0.161597</td>\n",
       "    </tr>\n",
       "  </tbody>\n",
       "</table>\n",
       "</div>"
      ],
      "text/plain": [
       "   PassengerId  Survived  Pclass  \\\n",
       "0            1         0  class3   \n",
       "1            2         1  class1   \n",
       "2            3         1  class3   \n",
       "3            4         1  class1   \n",
       "4            5         0  class3   \n",
       "\n",
       "                                                Name     Sex   Age  SibSp  \\\n",
       "0                            Braund, Mr. Owen Harris    male  22.0      1   \n",
       "1  Cumings, Mrs. John Bradley (Florence Briggs Th...  female  38.0      1   \n",
       "2                             Heikkinen, Miss. Laina  female  26.0      0   \n",
       "3       Futrelle, Mrs. Jacques Heath (Lily May Peel)  female  35.0      1   \n",
       "4                           Allen, Mr. William Henry    male  35.0      0   \n",
       "\n",
       "   Parch            Ticket     Fare Cabin Embarked Cabin_Null Initial  Master  \\\n",
       "0      0         A/5 21171   7.2500    NA        S       Null      Mr       0   \n",
       "1      0          PC 17599  71.2833   C85        C   Non-Null     Mrs       0   \n",
       "2      0  STON/O2. 3101282   7.9250    NA        S       Null    Miss       0   \n",
       "3      0            113803  53.1000  C123        S   Non-Null     Mrs       0   \n",
       "4      0            373450   8.0500    NA        S       Null      Mr       0   \n",
       "\n",
       "   Miss  Mr  Mrs  Other  Initial_encoded  \n",
       "0     0   1    0      0         0.161597  \n",
       "1     0   0    1      0         0.795276  \n",
       "2     1   0    0      0         0.704301  \n",
       "3     0   0    1      0         0.795276  \n",
       "4     0   1    0      0         0.161597  "
      ]
     },
     "execution_count": 81,
     "metadata": {},
     "output_type": "execute_result"
    }
   ],
   "source": [
    "data.head()"
   ]
  },
  {
   "cell_type": "markdown",
   "metadata": {},
   "source": [
    "# Part 2: Expoloratory Data Analysis (EDA)"
   ]
  },
  {
   "cell_type": "markdown",
   "metadata": {},
   "source": [
    "### Visualization"
   ]
  },
  {
   "cell_type": "code",
   "execution_count": 82,
   "metadata": {},
   "outputs": [],
   "source": [
    "plt.rc('font', size=20)\n",
    "plt.rc('axes', titlesize=22, labelsize=18)\n",
    "plt.rc('axes', labelsize=18)\n",
    "plt.rc('axes', titlesize=22, labelsize=18)\n",
    "plt.rc('ytick',labelsize=12)"
   ]
  },
  {
   "cell_type": "markdown",
   "metadata": {},
   "source": [
    "#### Survivial Rate"
   ]
  },
  {
   "cell_type": "code",
   "execution_count": 83,
   "metadata": {},
   "outputs": [
    {
     "data": {
      "image/png": "[encoded data removed]",
      "text/plain": [
       "<Figure size 1080x360 with 2 Axes>"
      ]
     },
     "metadata": {
      "needs_background": "light"
     },
     "output_type": "display_data"
    }
   ],
   "source": [
    "f, ax = plt.subplots(1,2,figsize=(15,5)) # (1,2) subplot 생성 \n",
    "data['Survived'].value_counts().plot.pie(explode=[0,0.1],autopct='%1.1f%%',ax=ax[0],shadow=True)\n",
    "\"\"\"\n",
    "explode : 부채꼴간 거리 \n",
    "autopct : 소수점 표시 방식\n",
    "ax : 어느 ax 에 표시 할 것인지 명시\n",
    "\"\"\"\n",
    "ax[0].set_title('Survived')\n",
    "\n",
    "sns.countplot('Survived',data=data,ax=ax[1])\n",
    "ax[1].set_title('Survived')\n",
    "plt.show()\n",
    "\n",
    "#약 38 % 만 생존했음을 확인했습니다."
   ]
  },
  {
   "cell_type": "markdown",
   "metadata": {},
   "source": [
    "####  생존여부 vs. 성별 "
   ]
  },
  {
   "cell_type": "code",
   "execution_count": 84,
   "metadata": {},
   "outputs": [
    {
     "data": {
      "text/html": [
       "<div>\n",
       "<style scoped>\n",
       "    .dataframe tbody tr th:only-of-type {\n",
       "        vertical-align: middle;\n",
       "    }\n",
       "\n",
       "    .dataframe tbody tr th {\n",
       "        vertical-align: top;\n",
       "    }\n",
       "\n",
       "    .dataframe thead th {\n",
       "        text-align: right;\n",
       "    }\n",
       "</style>\n",
       "<table border=\"1\" class=\"dataframe\">\n",
       "  <thead>\n",
       "    <tr style=\"text-align: right;\">\n",
       "      <th></th>\n",
       "      <th>Survived</th>\n",
       "    </tr>\n",
       "    <tr>\n",
       "      <th>Sex</th>\n",
       "      <th></th>\n",
       "    </tr>\n",
       "  </thead>\n",
       "  <tbody>\n",
       "    <tr>\n",
       "      <th>female</th>\n",
       "      <td>314</td>\n",
       "    </tr>\n",
       "    <tr>\n",
       "      <th>male</th>\n",
       "      <td>577</td>\n",
       "    </tr>\n",
       "  </tbody>\n",
       "</table>\n",
       "</div>"
      ],
      "text/plain": [
       "        Survived\n",
       "Sex             \n",
       "female       314\n",
       "male         577"
      ]
     },
     "execution_count": 84,
     "metadata": {},
     "output_type": "execute_result"
    }
   ],
   "source": [
    "data[['Sex','Survived']].groupby(['Sex']).count()"
   ]
  },
  {
   "cell_type": "code",
   "execution_count": 85,
   "metadata": {},
   "outputs": [
    {
     "data": {
      "text/html": [
       "<div>\n",
       "<style scoped>\n",
       "    .dataframe tbody tr th:only-of-type {\n",
       "        vertical-align: middle;\n",
       "    }\n",
       "\n",
       "    .dataframe tbody tr th {\n",
       "        vertical-align: top;\n",
       "    }\n",
       "\n",
       "    .dataframe thead th {\n",
       "        text-align: right;\n",
       "    }\n",
       "</style>\n",
       "<table border=\"1\" class=\"dataframe\">\n",
       "  <thead>\n",
       "    <tr style=\"text-align: right;\">\n",
       "      <th></th>\n",
       "      <th>Survived</th>\n",
       "    </tr>\n",
       "    <tr>\n",
       "      <th>Sex</th>\n",
       "      <th></th>\n",
       "    </tr>\n",
       "  </thead>\n",
       "  <tbody>\n",
       "    <tr>\n",
       "      <th>female</th>\n",
       "      <td>0.742038</td>\n",
       "    </tr>\n",
       "    <tr>\n",
       "      <th>male</th>\n",
       "      <td>0.188908</td>\n",
       "    </tr>\n",
       "  </tbody>\n",
       "</table>\n",
       "</div>"
      ],
      "text/plain": [
       "        Survived\n",
       "Sex             \n",
       "female  0.742038\n",
       "male    0.188908"
      ]
     },
     "execution_count": 85,
     "metadata": {},
     "output_type": "execute_result"
    }
   ],
   "source": [
    "data[['Sex','Survived']].groupby(['Sex']).mean()"
   ]
  },
  {
   "cell_type": "code",
   "execution_count": 86,
   "metadata": {},
   "outputs": [
    {
     "data": {
      "image/png": "[encoded data removed]",
      "text/plain": [
       "<Figure size 1296x576 with 2 Axes>"
      ]
     },
     "metadata": {
      "needs_background": "light"
     },
     "output_type": "display_data"
    }
   ],
   "source": [
    "f,ax=plt.subplots(1,2,figsize=(18,8))\n",
    "data[['Sex','Survived']].groupby(['Sex']).mean().plot.bar(ax=ax[0], fontsize=15)\n",
    "ax[0].set_title('Survived vs Sex')\n",
    "sns.countplot('Sex',hue='Survived',data=data,ax=ax[1])\n",
    "ax[1].set_title('Sex:Survived vs Dead')\n",
    "plt.show()"
   ]
  },
  {
   "cell_type": "markdown",
   "metadata": {},
   "source": [
    "#### 생존여부 vs. Pclass"
   ]
  },
  {
   "cell_type": "code",
   "execution_count": 89,
   "metadata": {},
   "outputs": [
    {
     "data": {
      "text/html": [
       "<style  type=\"text/css\" >\n",
       "    #T_1ff36768_a96b_11e9_9c62_98838924cf6crow0_col0 {\n",
       "            background-color:  #8000ff;\n",
       "        }    #T_1ff36768_a96b_11e9_9c62_98838924cf6crow0_col1 {\n",
       "            background-color:  #1e91f3;\n",
       "        }    #T_1ff36768_a96b_11e9_9c62_98838924cf6crow0_col2 {\n",
       "            background-color:  #6a22fe;\n",
       "        }    #T_1ff36768_a96b_11e9_9c62_98838924cf6crow1_col0 {\n",
       "            background-color:  #6e1cff;\n",
       "        }    #T_1ff36768_a96b_11e9_9c62_98838924cf6crow1_col1 {\n",
       "            background-color:  #8000ff;\n",
       "        }    #T_1ff36768_a96b_11e9_9c62_98838924cf6crow1_col2 {\n",
       "            background-color:  #8000ff;\n",
       "        }    #T_1ff36768_a96b_11e9_9c62_98838924cf6crow2_col0 {\n",
       "            background-color:  #beec8e;\n",
       "        }    #T_1ff36768_a96b_11e9_9c62_98838924cf6crow2_col1 {\n",
       "            background-color:  #4062fa;\n",
       "        }    #T_1ff36768_a96b_11e9_9c62_98838924cf6crow2_col2 {\n",
       "            background-color:  #5efac6;\n",
       "        }    #T_1ff36768_a96b_11e9_9c62_98838924cf6crow3_col0 {\n",
       "            background-color:  #ff0000;\n",
       "        }    #T_1ff36768_a96b_11e9_9c62_98838924cf6crow3_col1 {\n",
       "            background-color:  #ff0000;\n",
       "        }    #T_1ff36768_a96b_11e9_9c62_98838924cf6crow3_col2 {\n",
       "            background-color:  #ff0000;\n",
       "        }</style>  \n",
       "<table id=\"T_1ff36768_a96b_11e9_9c62_98838924cf6c\" > \n",
       "<thead>    <tr> \n",
       "        <th class=\"index_name level0\" >Survived</th> \n",
       "        <th class=\"col_heading level0 col0\" >0</th> \n",
       "        <th class=\"col_heading level0 col1\" >1</th> \n",
       "        <th class=\"col_heading level0 col2\" >All</th> \n",
       "    </tr>    <tr> \n",
       "        <th class=\"index_name level0\" >Pclass</th> \n",
       "        <th class=\"blank\" ></th> \n",
       "        <th class=\"blank\" ></th> \n",
       "        <th class=\"blank\" ></th> \n",
       "    </tr></thead> \n",
       "<tbody>    <tr> \n",
       "        <th id=\"T_1ff36768_a96b_11e9_9c62_98838924cf6clevel0_row0\" class=\"row_heading level0 row0\" >class1</th> \n",
       "        <td id=\"T_1ff36768_a96b_11e9_9c62_98838924cf6crow0_col0\" class=\"data row0 col0\" >80</td> \n",
       "        <td id=\"T_1ff36768_a96b_11e9_9c62_98838924cf6crow0_col1\" class=\"data row0 col1\" >136</td> \n",
       "        <td id=\"T_1ff36768_a96b_11e9_9c62_98838924cf6crow0_col2\" class=\"data row0 col2\" >216</td> \n",
       "    </tr>    <tr> \n",
       "        <th id=\"T_1ff36768_a96b_11e9_9c62_98838924cf6clevel0_row1\" class=\"row_heading level0 row1\" >class2</th> \n",
       "        <td id=\"T_1ff36768_a96b_11e9_9c62_98838924cf6crow1_col0\" class=\"data row1 col0\" >97</td> \n",
       "        <td id=\"T_1ff36768_a96b_11e9_9c62_98838924cf6crow1_col1\" class=\"data row1 col1\" >87</td> \n",
       "        <td id=\"T_1ff36768_a96b_11e9_9c62_98838924cf6crow1_col2\" class=\"data row1 col2\" >184</td> \n",
       "    </tr>    <tr> \n",
       "        <th id=\"T_1ff36768_a96b_11e9_9c62_98838924cf6clevel0_row2\" class=\"row_heading level0 row2\" >class3</th> \n",
       "        <td id=\"T_1ff36768_a96b_11e9_9c62_98838924cf6crow2_col0\" class=\"data row2 col0\" >372</td> \n",
       "        <td id=\"T_1ff36768_a96b_11e9_9c62_98838924cf6crow2_col1\" class=\"data row2 col1\" >119</td> \n",
       "        <td id=\"T_1ff36768_a96b_11e9_9c62_98838924cf6crow2_col2\" class=\"data row2 col2\" >491</td> \n",
       "    </tr>    <tr> \n",
       "        <th id=\"T_1ff36768_a96b_11e9_9c62_98838924cf6clevel0_row3\" class=\"row_heading level0 row3\" >All</th> \n",
       "        <td id=\"T_1ff36768_a96b_11e9_9c62_98838924cf6crow3_col0\" class=\"data row3 col0\" >549</td> \n",
       "        <td id=\"T_1ff36768_a96b_11e9_9c62_98838924cf6crow3_col1\" class=\"data row3 col1\" >342</td> \n",
       "        <td id=\"T_1ff36768_a96b_11e9_9c62_98838924cf6crow3_col2\" class=\"data row3 col2\" >891</td> \n",
       "    </tr></tbody> \n",
       "</table> "
      ],
      "text/plain": [
       "<pandas.io.formats.style.Styler at 0x1aca8a3ee48>"
      ]
     },
     "execution_count": 89,
     "metadata": {},
     "output_type": "execute_result"
    }
   ],
   "source": [
    "pd.crosstab(data['Pclass'],data['Survived'],margins=True).style.background_gradient(cmap='rainbow')"
   ]
  },
  {
   "cell_type": "code",
   "execution_count": 90,
   "metadata": {},
   "outputs": [
    {
     "data": {
      "text/html": [
       "<div>\n",
       "<style scoped>\n",
       "    .dataframe tbody tr th:only-of-type {\n",
       "        vertical-align: middle;\n",
       "    }\n",
       "\n",
       "    .dataframe tbody tr th {\n",
       "        vertical-align: top;\n",
       "    }\n",
       "\n",
       "    .dataframe thead th {\n",
       "        text-align: right;\n",
       "    }\n",
       "</style>\n",
       "<table border=\"1\" class=\"dataframe\">\n",
       "  <thead>\n",
       "    <tr style=\"text-align: right;\">\n",
       "      <th></th>\n",
       "      <th>Survived</th>\n",
       "    </tr>\n",
       "    <tr>\n",
       "      <th>Pclass</th>\n",
       "      <th></th>\n",
       "    </tr>\n",
       "  </thead>\n",
       "  <tbody>\n",
       "    <tr>\n",
       "      <th>class1</th>\n",
       "      <td>0.629630</td>\n",
       "    </tr>\n",
       "    <tr>\n",
       "      <th>class2</th>\n",
       "      <td>0.472826</td>\n",
       "    </tr>\n",
       "    <tr>\n",
       "      <th>class3</th>\n",
       "      <td>0.242363</td>\n",
       "    </tr>\n",
       "  </tbody>\n",
       "</table>\n",
       "</div>"
      ],
      "text/plain": [
       "        Survived\n",
       "Pclass          \n",
       "class1  0.629630\n",
       "class2  0.472826\n",
       "class3  0.242363"
      ]
     },
     "execution_count": 90,
     "metadata": {},
     "output_type": "execute_result"
    }
   ],
   "source": [
    "data[['Pclass','Survived']].groupby('Pclass').mean()"
   ]
  },
  {
   "cell_type": "code",
   "execution_count": 91,
   "metadata": {
    "scrolled": true
   },
   "outputs": [
    {
     "data": {
      "image/png": "[encoded data removed]",
      "text/plain": [
       "<Figure size 1296x576 with 2 Axes>"
      ]
     },
     "metadata": {
      "needs_background": "light"
     },
     "output_type": "display_data"
    }
   ],
   "source": [
    "f,ax=plt.subplots(1,2,figsize=(18,8))\n",
    "data['Pclass'].value_counts().plot.bar(ax=ax[0],fontsize=14)\n",
    "ax[0].set_title('Number Of Passengers By Pclass')\n",
    "ax[0].set_ylabel('Count')\n",
    "\n",
    "sns.countplot('Pclass',hue='Survived',data=data,ax=ax[1])\n",
    "ax[1].set_title('Pclass:Survived vs Dead')\n",
    "plt.show()"
   ]
  },
  {
   "cell_type": "code",
   "execution_count": 92,
   "metadata": {},
   "outputs": [
    {
     "data": {
      "text/plain": [
       "'\\n1등석 약 60%\\n2등석 약 50% \\n3등석 약 20%\\n'"
      ]
     },
     "execution_count": 92,
     "metadata": {},
     "output_type": "execute_result"
    },
    {
     "data": {
      "image/png": "[encoded data removed]",
      "text/plain": [
       "<Figure size 432x288 with 1 Axes>"
      ]
     },
     "metadata": {
      "needs_background": "light"
     },
     "output_type": "display_data"
    }
   ],
   "source": [
    "df = data[['Pclass','Survived']].groupby('Pclass').mean()\n",
    "sns.barplot(x=df.index, y='Survived',data=df)\n",
    "\"\"\"\n",
    "1등석 약 60%\n",
    "2등석 약 50% \n",
    "3등석 약 20%\n",
    "\"\"\""
   ]
  },
  {
   "cell_type": "markdown",
   "metadata": {},
   "source": [
    "#### Age"
   ]
  },
  {
   "cell_type": "code",
   "execution_count": 93,
   "metadata": {},
   "outputs": [
    {
     "data": {
      "text/plain": [
       "count    891.000000\n",
       "mean      29.699118\n",
       "std       13.002015\n",
       "min        0.420000\n",
       "25%       22.000000\n",
       "50%       29.699118\n",
       "75%       35.000000\n",
       "max       80.000000\n",
       "Name: Age, dtype: float64"
      ]
     },
     "execution_count": 93,
     "metadata": {},
     "output_type": "execute_result"
    }
   ],
   "source": [
    "data['Age'].describe()"
   ]
  },
  {
   "cell_type": "markdown",
   "metadata": {},
   "source": [
    "### 3차원 정보 "
   ]
  },
  {
   "cell_type": "code",
   "execution_count": 94,
   "metadata": {},
   "outputs": [
    {
     "data": {
      "image/png": "[encoded data removed]",
      "text/plain": [
       "<Figure size 1296x576 with 2 Axes>"
      ]
     },
     "metadata": {
      "needs_background": "light"
     },
     "output_type": "display_data"
    }
   ],
   "source": [
    "f,ax=plt.subplots(1,2,figsize=(18,8))\n",
    "sns.violinplot(\"Pclass\",\"Age\", hue=\"Survived\", data=data,split=True,ax=ax[0])\n",
    "ax[0].set_title('Survived vs. Pclass && Age')\n",
    "ax[0].set_yticks(range(0,110,10))\n",
    "sns.violinplot(\"Sex\",\"Age\", hue=\"Survived\", data=data,split=True,ax=ax[1])\n",
    "ax[1].set_title('Survived vs. Gender && Age')\n",
    "ax[1].set_yticks(range(0,110,10))\n",
    "plt.show()"
   ]
  },
  {
   "cell_type": "markdown",
   "metadata": {},
   "source": [
    "- 아주 어린 탑승객 (10세 이하) 들의 생존율은 PClass 의 관계없이 높아보입니다. \n",
    "\n",
    "-  2등석과 3등석에 탔다면 나이가 적은 것이 생존율에 큰 영향을 주엇을 것 같네요. 다만, 1등석은 이 경향이 덜 합니다.\n",
    "\n",
    "-  남성의 경우, 나이가 어릴 수록 생존율 높아지는 경향이 있습니다. "
   ]
  },
  {
   "cell_type": "code",
   "execution_count": 95,
   "metadata": {
    "scrolled": false
   },
   "outputs": [
    {
     "data": {
      "image/png": "[encoded data removed]",
      "text/plain": [
       "<Figure size 426.125x360 with 1 Axes>"
      ]
     },
     "metadata": {
      "needs_background": "light"
     },
     "output_type": "display_data"
    }
   ],
   "source": [
    "sns.factorplot('Pclass','Survived',hue='Sex',data=data)\n",
    "plt.show()"
   ]
  },
  {
   "cell_type": "markdown",
   "metadata": {},
   "source": [
    "- 모든 좌석에서 여성이 생존율이 높은 것을 볼 수 있고, 또한 두 성별 모두 비싼 자리일수록 생존율이 높다는 것을 확인할 수 있습니다."
   ]
  },
  {
   "cell_type": "markdown",
   "metadata": {},
   "source": [
    "#### Correlation  "
   ]
  },
  {
   "cell_type": "code",
   "execution_count": 96,
   "metadata": {},
   "outputs": [],
   "source": [
    "numerical_features = list(data.columns)[:-1]"
   ]
  },
  {
   "cell_type": "code",
   "execution_count": 97,
   "metadata": {},
   "outputs": [
    {
     "data": {
      "text/html": [
       "<div>\n",
       "<style scoped>\n",
       "    .dataframe tbody tr th:only-of-type {\n",
       "        vertical-align: middle;\n",
       "    }\n",
       "\n",
       "    .dataframe tbody tr th {\n",
       "        vertical-align: top;\n",
       "    }\n",
       "\n",
       "    .dataframe thead th {\n",
       "        text-align: right;\n",
       "    }\n",
       "</style>\n",
       "<table border=\"1\" class=\"dataframe\">\n",
       "  <thead>\n",
       "    <tr style=\"text-align: right;\">\n",
       "      <th></th>\n",
       "      <th>PassengerId</th>\n",
       "      <th>Survived</th>\n",
       "      <th>Age</th>\n",
       "      <th>SibSp</th>\n",
       "      <th>Parch</th>\n",
       "      <th>Fare</th>\n",
       "      <th>Master</th>\n",
       "      <th>Miss</th>\n",
       "      <th>Mr</th>\n",
       "      <th>Mrs</th>\n",
       "      <th>Other</th>\n",
       "    </tr>\n",
       "  </thead>\n",
       "  <tbody>\n",
       "    <tr>\n",
       "      <th>PassengerId</th>\n",
       "      <td>1.000000</td>\n",
       "      <td>-0.005007</td>\n",
       "      <td>0.033207</td>\n",
       "      <td>-0.057527</td>\n",
       "      <td>-0.001652</td>\n",
       "      <td>0.012658</td>\n",
       "      <td>-0.026151</td>\n",
       "      <td>-0.068413</td>\n",
       "      <td>0.046033</td>\n",
       "      <td>0.016475</td>\n",
       "      <td>0.041830</td>\n",
       "    </tr>\n",
       "    <tr>\n",
       "      <th>Survived</th>\n",
       "      <td>-0.005007</td>\n",
       "      <td>1.000000</td>\n",
       "      <td>-0.069809</td>\n",
       "      <td>-0.035322</td>\n",
       "      <td>0.081629</td>\n",
       "      <td>0.257307</td>\n",
       "      <td>0.085221</td>\n",
       "      <td>0.338468</td>\n",
       "      <td>-0.548593</td>\n",
       "      <td>0.344935</td>\n",
       "      <td>-0.052177</td>\n",
       "    </tr>\n",
       "    <tr>\n",
       "      <th>Age</th>\n",
       "      <td>0.033207</td>\n",
       "      <td>-0.069809</td>\n",
       "      <td>1.000000</td>\n",
       "      <td>-0.232625</td>\n",
       "      <td>-0.179191</td>\n",
       "      <td>0.091566</td>\n",
       "      <td>-0.377265</td>\n",
       "      <td>-0.249885</td>\n",
       "      <td>0.206127</td>\n",
       "      <td>0.170735</td>\n",
       "      <td>0.161554</td>\n",
       "    </tr>\n",
       "    <tr>\n",
       "      <th>SibSp</th>\n",
       "      <td>-0.057527</td>\n",
       "      <td>-0.035322</td>\n",
       "      <td>-0.232625</td>\n",
       "      <td>1.000000</td>\n",
       "      <td>0.414838</td>\n",
       "      <td>0.159651</td>\n",
       "      <td>0.349559</td>\n",
       "      <td>0.081986</td>\n",
       "      <td>-0.252844</td>\n",
       "      <td>0.062854</td>\n",
       "      <td>-0.028943</td>\n",
       "    </tr>\n",
       "    <tr>\n",
       "      <th>Parch</th>\n",
       "      <td>-0.001652</td>\n",
       "      <td>0.081629</td>\n",
       "      <td>-0.179191</td>\n",
       "      <td>0.414838</td>\n",
       "      <td>1.000000</td>\n",
       "      <td>0.216225</td>\n",
       "      <td>0.267344</td>\n",
       "      <td>0.099490</td>\n",
       "      <td>-0.344822</td>\n",
       "      <td>0.221318</td>\n",
       "      <td>-0.031172</td>\n",
       "    </tr>\n",
       "    <tr>\n",
       "      <th>Fare</th>\n",
       "      <td>0.012658</td>\n",
       "      <td>0.257307</td>\n",
       "      <td>0.091566</td>\n",
       "      <td>0.159651</td>\n",
       "      <td>0.216225</td>\n",
       "      <td>1.000000</td>\n",
       "      <td>0.010908</td>\n",
       "      <td>0.121343</td>\n",
       "      <td>-0.179300</td>\n",
       "      <td>0.108496</td>\n",
       "      <td>-0.011542</td>\n",
       "    </tr>\n",
       "    <tr>\n",
       "      <th>Master</th>\n",
       "      <td>-0.026151</td>\n",
       "      <td>0.085221</td>\n",
       "      <td>-0.377265</td>\n",
       "      <td>0.349559</td>\n",
       "      <td>0.267344</td>\n",
       "      <td>0.010908</td>\n",
       "      <td>1.000000</td>\n",
       "      <td>-0.111359</td>\n",
       "      <td>-0.260263</td>\n",
       "      <td>-0.088394</td>\n",
       "      <td>-0.025332</td>\n",
       "    </tr>\n",
       "    <tr>\n",
       "      <th>Miss</th>\n",
       "      <td>-0.068413</td>\n",
       "      <td>0.338468</td>\n",
       "      <td>-0.249885</td>\n",
       "      <td>0.081986</td>\n",
       "      <td>0.099490</td>\n",
       "      <td>0.121343</td>\n",
       "      <td>-0.111359</td>\n",
       "      <td>1.000000</td>\n",
       "      <td>-0.616607</td>\n",
       "      <td>-0.209419</td>\n",
       "      <td>-0.060015</td>\n",
       "    </tr>\n",
       "    <tr>\n",
       "      <th>Mr</th>\n",
       "      <td>0.046033</td>\n",
       "      <td>-0.548593</td>\n",
       "      <td>0.206127</td>\n",
       "      <td>-0.252844</td>\n",
       "      <td>-0.344822</td>\n",
       "      <td>-0.179300</td>\n",
       "      <td>-0.260263</td>\n",
       "      <td>-0.616607</td>\n",
       "      <td>1.000000</td>\n",
       "      <td>-0.489442</td>\n",
       "      <td>-0.140263</td>\n",
       "    </tr>\n",
       "    <tr>\n",
       "      <th>Mrs</th>\n",
       "      <td>0.016475</td>\n",
       "      <td>0.344935</td>\n",
       "      <td>0.170735</td>\n",
       "      <td>0.062854</td>\n",
       "      <td>0.221318</td>\n",
       "      <td>0.108496</td>\n",
       "      <td>-0.088394</td>\n",
       "      <td>-0.209419</td>\n",
       "      <td>-0.489442</td>\n",
       "      <td>1.000000</td>\n",
       "      <td>-0.047638</td>\n",
       "    </tr>\n",
       "    <tr>\n",
       "      <th>Other</th>\n",
       "      <td>0.041830</td>\n",
       "      <td>-0.052177</td>\n",
       "      <td>0.161554</td>\n",
       "      <td>-0.028943</td>\n",
       "      <td>-0.031172</td>\n",
       "      <td>-0.011542</td>\n",
       "      <td>-0.025332</td>\n",
       "      <td>-0.060015</td>\n",
       "      <td>-0.140263</td>\n",
       "      <td>-0.047638</td>\n",
       "      <td>1.000000</td>\n",
       "    </tr>\n",
       "  </tbody>\n",
       "</table>\n",
       "</div>"
      ],
      "text/plain": [
       "             PassengerId  Survived       Age     SibSp     Parch      Fare  \\\n",
       "PassengerId     1.000000 -0.005007  0.033207 -0.057527 -0.001652  0.012658   \n",
       "Survived       -0.005007  1.000000 -0.069809 -0.035322  0.081629  0.257307   \n",
       "Age             0.033207 -0.069809  1.000000 -0.232625 -0.179191  0.091566   \n",
       "SibSp          -0.057527 -0.035322 -0.232625  1.000000  0.414838  0.159651   \n",
       "Parch          -0.001652  0.081629 -0.179191  0.414838  1.000000  0.216225   \n",
       "Fare            0.012658  0.257307  0.091566  0.159651  0.216225  1.000000   \n",
       "Master         -0.026151  0.085221 -0.377265  0.349559  0.267344  0.010908   \n",
       "Miss           -0.068413  0.338468 -0.249885  0.081986  0.099490  0.121343   \n",
       "Mr              0.046033 -0.548593  0.206127 -0.252844 -0.344822 -0.179300   \n",
       "Mrs             0.016475  0.344935  0.170735  0.062854  0.221318  0.108496   \n",
       "Other           0.041830 -0.052177  0.161554 -0.028943 -0.031172 -0.011542   \n",
       "\n",
       "               Master      Miss        Mr       Mrs     Other  \n",
       "PassengerId -0.026151 -0.068413  0.046033  0.016475  0.041830  \n",
       "Survived     0.085221  0.338468 -0.548593  0.344935 -0.052177  \n",
       "Age         -0.377265 -0.249885  0.206127  0.170735  0.161554  \n",
       "SibSp        0.349559  0.081986 -0.252844  0.062854 -0.028943  \n",
       "Parch        0.267344  0.099490 -0.344822  0.221318 -0.031172  \n",
       "Fare         0.010908  0.121343 -0.179300  0.108496 -0.011542  \n",
       "Master       1.000000 -0.111359 -0.260263 -0.088394 -0.025332  \n",
       "Miss        -0.111359  1.000000 -0.616607 -0.209419 -0.060015  \n",
       "Mr          -0.260263 -0.616607  1.000000 -0.489442 -0.140263  \n",
       "Mrs         -0.088394 -0.209419 -0.489442  1.000000 -0.047638  \n",
       "Other       -0.025332 -0.060015 -0.140263 -0.047638  1.000000  "
      ]
     },
     "execution_count": 97,
     "metadata": {},
     "output_type": "execute_result"
    }
   ],
   "source": [
    "data[numerical_features].corr()"
   ]
  },
  {
   "cell_type": "code",
   "execution_count": 98,
   "metadata": {},
   "outputs": [
    {
     "data": {
      "image/png": "[encoded data removed]",
      "text/plain": [
       "<Figure size 720x576 with 2 Axes>"
      ]
     },
     "metadata": {
      "needs_background": "light"
     },
     "output_type": "display_data"
    }
   ],
   "source": [
    "sns.heatmap(data[numerical_features].corr(),annot=True,linewidths=0.2) \n",
    "fig=plt.gcf()\n",
    "fig.set_size_inches(10,8)\n",
    "plt.show()"
   ]
  },
  {
   "cell_type": "markdown",
   "metadata": {},
   "source": [
    "- corr() method 를 통해 연속형 변수간 correlation matrix 를 쉽게 구성했습니다.\n",
    "- 양의 값은 양의 상관관계, 음의 값은 음의 상관관계가 있음을 의미합니다.\n",
    "- 가장 큰 상관관계는 PClass 와 Fare 에서 보이며 -0.55 의 을 갖고있네요. \n",
    "- 선형회귀, 로지스틱 등 다중공산성 (multicollinearity) 에 취약한 모델을 사용할때 유의해야겠네요..! "
   ]
  },
  {
   "cell_type": "code",
   "execution_count": null,
   "metadata": {},
   "outputs": [],
   "source": []
  }
 ],
 "metadata": {
  "kernelspec": {
   "display_name": "Python 3",
   "language": "python",
   "name": "python3"
  },
  "language_info": {
   "codemirror_mode": {
    "name": "ipython",
    "version": 3
   },
   "file_extension": ".py",
   "mimetype": "text/x-python",
   "name": "python",
   "nbconvert_exporter": "python",
   "pygments_lexer": "ipython3",
   "version": "3.6.6"
  }
 },
 "nbformat": 4,
 "nbformat_minor": 2
}
