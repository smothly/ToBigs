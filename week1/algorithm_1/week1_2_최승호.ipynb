{
 "cells": [
  {
   "cell_type": "code",
   "execution_count": null,
   "metadata": {},
   "outputs": [],
   "source": [
    "# 5\n",
    "# mpwf xzvcf\n",
    "# krvz cv\n",
    "# j vzcqru\n",
    "# zpv dfda\n",
    "# tfcxa good\n",
    "# vzcqru xzvcf dfda\n",
    "\n",
    "# 출력\n",
    "# i love you\n",
    "\n",
    "# 6\n",
    "# hp fly\n",
    "# avcr vvcj\n",
    "# mfu you\n",
    "# czxcve vfgqd\n",
    "# zsaqw hello\n",
    "# ju can\n",
    "# you can fly\n",
    "\n",
    "# 출력\n",
    "# let it go"
   ]
  },
  {
   "cell_type": "code",
   "execution_count": null,
   "metadata": {},
   "outputs": [],
   "source": [
    "# input 받기 P와 C는 password dict에 저장\n",
    "N = int(input())\n",
    "password = dict()\n",
    "for i in range(N):\n",
    "    key_value = input().split(' ')\n",
    "    password[key_value[1]] = key_value[0]\n",
    "\n",
    "input_string = input()"
   ]
  },
  {
   "cell_type": "code",
   "execution_count": null,
   "metadata": {},
   "outputs": [],
   "source": [
    "# input_string 스플릿 하여 리스트 형태로 저장\n",
    "input_string = input_string.split()"
   ]
  },
  {
   "cell_type": "code",
   "execution_count": null,
   "metadata": {},
   "outputs": [],
   "source": [
    "# password 활용하여 한칸씩 땡겨줄 단어 리스트 만들기\n",
    "new_string = list()\n",
    "for word in input_string:\n",
    "    new_string.append(password[word])"
   ]
  },
  {
   "cell_type": "code",
   "execution_count": null,
   "metadata": {},
   "outputs": [],
   "source": [
    "# 알파벳을 한칸씩 앞으로하여 저장하기\n",
    "result = list()\n",
    "\n",
    "for word in new_string:\n",
    "    P = list()\n",
    "    for char in word:\n",
    "        if char == \"a\":\n",
    "            P.append('z')\n",
    "        else:\n",
    "            P.append(chr(ord(char) - 1))            \n",
    "    result.append(''.join(P))"
   ]
  },
  {
   "cell_type": "code",
   "execution_count": null,
   "metadata": {},
   "outputs": [],
   "source": [
    "# 리스트를 스트링으로 출력\n",
    "print(' '.join(result))"
   ]
  }
 ],
 "metadata": {
  "kernelspec": {
   "display_name": "Python 3",
   "language": "python",
   "name": "python3"
  },
  "language_info": {
   "codemirror_mode": {
    "name": "ipython",
    "version": 3
   },
   "file_extension": ".py",
   "mimetype": "text/x-python",
   "name": "python",
   "nbconvert_exporter": "python",
   "pygments_lexer": "ipython3",
   "version": "3.6.6"
  }
 },
 "nbformat": 4,
 "nbformat_minor": 2
}
